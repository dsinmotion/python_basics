{
 "metadata": {
  "name": "",
  "signature": "sha256:60fd191bac979970eb3368935e8206439240c06773baf162869da6105ff78422"
 },
 "nbformat": 3,
 "nbformat_minor": 0,
 "worksheets": [
  {
   "cells": [
    {
     "cell_type": "heading",
     "level": 1,
     "metadata": {},
     "source": [
      "Python Data Analysis - Numpy"
     ]
    },
    {
     "cell_type": "markdown",
     "metadata": {},
     "source": [
      "* **Reference:**\n",
      " * Numpy Reference http://docs.scipy.org/doc/numpy-dev/reference/\n",
      " \n",
      "> While the Python language is an excellent tool for general-purpose programming, with a highly readable syntax, rich and powerful data types (strings, lists, sets, dictionaries, arbitrary length integers, etc) and a very comprehensive standard library, it was not designed specifically for mathematical and scientific computing.  ***Neither the language nor its standard library have facilities for the efficient representation of multidimensional datasets, tools for linear algebra and general matrix manipulations *** (an essential building block of virtually all technical computing), nor any data visualization facilities.\n",
      "\n",
      "> In particular, Python lists are very flexible containers that can be nested arbitrarily deep and which can hold any Python object in them, but they are poorly suited to represent efficiently common mathematical constructs like vectors and matrices.  In contrast, much of our modern heritage of scientific computing has been built on top of libraries written in the Fortran language, which has native support for vectors and matrices as well as a library of mathematical functions that can efficiently operate on entire arrays at once."
     ]
    },
    {
     "cell_type": "markdown",
     "metadata": {},
     "source": [
      "### Table of Contents\n",
      "* 1 - Numpy Array Objects\n",
      "  * 1.1 Array Objects\n",
      "  * 1.2 Array Creation (Instantiation)\n",
      "  * 1.3 Array Attributes\n",
      "  * 1.4 Manipulating Arrays - Slicing, Indexing, Iteration\n",
      "  * 1.5 Array Operations - Universal Function \"unfuc\"\n",
      "  * 1.6 Basic Array Methods\n",
      "* 2 - Numpy Routines\n",
      "  * 2.1 Array Manipulation\n",
      "  * 2.2 Binary Operations\n",
      "  * 2.3 Stirng Operations\n",
      "  * 2.4 Datetime\n",
      "  * 2.5 Linear Algebra\n",
      "  * 2.6 Math\n",
      "  * 2.7 Statistics\n",
      "  * 2.8 Sorting/Searching/Counting\n",
      "  * 2.9 Input/Output\n"
     ]
    },
    {
     "cell_type": "markdown",
     "metadata": {},
     "source": [
      "***"
     ]
    },
    {
     "cell_type": "markdown",
     "metadata": {},
     "source": [
      "# +++ 1 - Numpy Array Objects +++"
     ]
    },
    {
     "cell_type": "markdown",
     "metadata": {},
     "source": [
      ">   * 1.1 Array Objects\n",
      "  * 1.2 Array Creation (Instantiation)\n",
      "  * 1.3 Array Attributes\n",
      "  * 1.4 Manipulating Arrays - Slicing, Indexing, Iteration\n",
      "  * 1.5 Array Operations - Universal Function \"unfuc\"\n",
      "  * 1.6 Basic Array Methods"
     ]
    },
    {
     "cell_type": "code",
     "collapsed": false,
     "input": [
      "import numpy as np"
     ],
     "language": "python",
     "metadata": {},
     "outputs": [],
     "prompt_number": 1
    },
    {
     "cell_type": "markdown",
     "metadata": {},
     "source": [
      "## 1.1 Array Objects\n",
      ">* The primary building block of the numpy module is the class \"ndarray\" - a powerful array \n",
      "* A ndarray object represents a multidimensional, **homogeneous** array of **fixed-sized** items. An associated date-type object describes the format of each element in the array. \n",
      "* An ndarray object is (almost) **never instantiated directly**, but *instead using a method that returns an instance of the class*."
     ]
    },
    {
     "cell_type": "markdown",
     "metadata": {},
     "source": [
      "![Alt text](./images/dtype.png)"
     ]
    },
    {
     "cell_type": "markdown",
     "metadata": {},
     "source": [
      "### Numpy Array vs. Python List\n",
      "> - (**memory efficenciency**) Numpy's arrays are more compact than lists \n",
      "- (**convenience**) Array is more convenient. It allows you to work with vector and matrix operations more efficiently \n",
      "- (**speed**) Numpy array operation is much faster than list\n",
      "- (**functionality**) Numpy array has a lot of built-in functions to work with fast searching, basic stats, linear algebra, histogram etc."
     ]
    },
    {
     "cell_type": "markdown",
     "metadata": {},
     "source": [
      "----"
     ]
    },
    {
     "cell_type": "markdown",
     "metadata": {},
     "source": [
      "## 1.2 Array creation (Instantiation)\n",
      "> To create an array, you almost never call ndarray directly, but instead use a method that returns an array"
     ]
    },
    {
     "cell_type": "markdown",
     "metadata": {},
     "source": [
      "### 1.2.1 *np.array([ ])*"
     ]
    },
    {
     "cell_type": "code",
     "collapsed": false,
     "input": [
      "# instantiate array 1 - np.array([])\n",
      "a = np.array([1,2,3])\n",
      "print \"type of a is: \", type(a)\n",
      "print \"a: \", a\n",
      "print \"a[0]: \", a[0]"
     ],
     "language": "python",
     "metadata": {},
     "outputs": [
      {
       "output_type": "stream",
       "stream": "stdout",
       "text": [
        "type of a is:  <type 'numpy.ndarray'>\n",
        "a:  [1 2 3]\n",
        "a[0]:  1\n"
       ]
      }
     ],
     "prompt_number": 50
    },
    {
     "cell_type": "markdown",
     "metadata": {},
     "source": [
      "### 1.2.2 *np.array([[ ],[ ]])* -- multi-dimensional array"
     ]
    },
    {
     "cell_type": "code",
     "collapsed": false,
     "input": [
      "# instantiate array 2 - np.array([[],[]])\n",
      "b = np.array([[1,2],[2,3]])\n",
      "print b\n",
      "print \"b[0]: \", b[0]\n",
      "print \"b[1][2]: \", b[1][1]\n",
      "print b[0,0], b[0,1], b[1,0], b[1,1]\n",
      "print b[0][0]"
     ],
     "language": "python",
     "metadata": {},
     "outputs": [
      {
       "output_type": "stream",
       "stream": "stdout",
       "text": [
        "[[1 2]\n",
        " [2 3]]\n",
        "b[0]:  [1 2]\n",
        "b[1][2]:  3\n",
        "1 2 2 3\n",
        "1\n"
       ]
      }
     ],
     "prompt_number": 19
    },
    {
     "cell_type": "markdown",
     "metadata": {},
     "source": [
      "### 1.2.3 *np.ones() np.zeros()*"
     ]
    },
    {
     "cell_type": "code",
     "collapsed": false,
     "input": [
      "# instantiate array 3 - ones() and zeros()\n",
      "one = np.ones((3,2))\n",
      "zero = np.zeros((1,3), int)\n",
      "print \"array one: \"\n",
      "print one\n",
      "print \"array zero: \"\n",
      "print zero"
     ],
     "language": "python",
     "metadata": {},
     "outputs": [
      {
       "output_type": "stream",
       "stream": "stdout",
       "text": [
        "array one: \n",
        "[[ 1.  1.]\n",
        " [ 1.  1.]\n",
        " [ 1.  1.]]\n",
        "array zero: \n",
        "[[0 0 0]]\n"
       ]
      }
     ],
     "prompt_number": 10
    },
    {
     "cell_type": "markdown",
     "metadata": {},
     "source": [
      "### 1.2.4 *np.linspace()*"
     ]
    },
    {
     "cell_type": "code",
     "collapsed": false,
     "input": [
      "# instantiate array 4 - linspace()\n",
      "# create 1-D array running from arg1 to arg2 (with length arg3)\n",
      "d = np.linspace(1,5,50)\n",
      "print d"
     ],
     "language": "python",
     "metadata": {},
     "outputs": [
      {
       "output_type": "stream",
       "stream": "stdout",
       "text": [
        "[ 1.          1.08163265  1.16326531  1.24489796  1.32653061  1.40816327\n",
        "  1.48979592  1.57142857  1.65306122  1.73469388  1.81632653  1.89795918\n",
        "  1.97959184  2.06122449  2.14285714  2.2244898   2.30612245  2.3877551\n",
        "  2.46938776  2.55102041  2.63265306  2.71428571  2.79591837  2.87755102\n",
        "  2.95918367  3.04081633  3.12244898  3.20408163  3.28571429  3.36734694\n",
        "  3.44897959  3.53061224  3.6122449   3.69387755  3.7755102   3.85714286\n",
        "  3.93877551  4.02040816  4.10204082  4.18367347  4.26530612  4.34693878\n",
        "  4.42857143  4.51020408  4.59183673  4.67346939  4.75510204  4.83673469\n",
        "  4.91836735  5.        ]\n"
       ]
      }
     ],
     "prompt_number": 1
    },
    {
     "cell_type": "markdown",
     "metadata": {},
     "source": [
      "### 1.2.5 *np.arange()*"
     ]
    },
    {
     "cell_type": "code",
     "collapsed": false,
     "input": [
      "# instantiate array - arange()\n",
      "a = np.arange(10)\n",
      "b = np.arange(10,20,3,float)\n",
      "print a\n",
      "print b"
     ],
     "language": "python",
     "metadata": {},
     "outputs": [
      {
       "output_type": "stream",
       "stream": "stdout",
       "text": [
        "[0 1 2 3 4 5 6 7 8 9]\n",
        "[ 10.  13.  16.  19.]\n"
       ]
      }
     ],
     "prompt_number": 58
    },
    {
     "cell_type": "markdown",
     "metadata": {},
     "source": [
      "### 1.2.6 *np.random()*"
     ]
    },
    {
     "cell_type": "code",
     "collapsed": false,
     "input": [
      "# instantiate array - random matrix\n",
      "a = np.random.random((10,10))\n",
      "a"
     ],
     "language": "python",
     "metadata": {},
     "outputs": [
      {
       "metadata": {},
       "output_type": "pyout",
       "prompt_number": 45,
       "text": [
        "array([[ 0.91208062,  0.29014657,  0.3593493 ,  0.233905  ,  0.93182538,\n",
        "         0.55136583,  0.42744697,  0.38874489,  0.30223146,  0.99848861],\n",
        "       [ 0.41232607,  0.81815699,  0.70483398,  0.60833061,  0.60582676,\n",
        "         0.97886033,  0.5497361 ,  0.80907071,  0.94331373,  0.83078193],\n",
        "       [ 0.24194069,  0.83934433,  0.38528145,  0.14660115,  0.11950341,\n",
        "         0.94984541,  0.94791939,  0.53971549,  0.50712196,  0.03323282],\n",
        "       [ 0.79192506,  0.37907271,  0.01382046,  0.09218531,  0.57886231,\n",
        "         0.90753267,  0.13339116,  0.75106464,  0.02828389,  0.75036227],\n",
        "       [ 0.23132269,  0.49430316,  0.01692454,  0.97546514,  0.12265432,\n",
        "         0.99195402,  0.20456981,  0.51782071,  0.85769727,  0.13923228],\n",
        "       [ 0.74634572,  0.30640703,  0.85589376,  0.73235031,  0.54971891,\n",
        "         0.58170026,  0.8014685 ,  0.27812265,  0.84472834,  0.21796519],\n",
        "       [ 0.50105461,  0.91092277,  0.10592152,  0.94470921,  0.1982176 ,\n",
        "         0.17677686,  0.05236414,  0.39847354,  0.94759351,  0.90035579],\n",
        "       [ 0.21819404,  0.13028508,  0.21428272,  0.61319085,  0.57177651,\n",
        "         0.06866408,  0.63960083,  0.16312086,  0.52350067,  0.524308  ],\n",
        "       [ 0.67220199,  0.40082864,  0.50495654,  0.47777768,  0.15385126,\n",
        "         0.72492085,  0.57465868,  0.6861433 ,  0.67648652,  0.61316239],\n",
        "       [ 0.14331261,  0.17071857,  0.62066122,  0.52299951,  0.21941536,\n",
        "         0.9671139 ,  0.55869162,  0.85824639,  0.76106595,  0.58278091]])"
       ]
      }
     ],
     "prompt_number": 45
    },
    {
     "cell_type": "markdown",
     "metadata": {},
     "source": [
      "### 1.2.8 Array element value assignment"
     ]
    },
    {
     "cell_type": "code",
     "collapsed": false,
     "input": [
      "a = np.zeros((2, 512*512), dtype=np.float32)\n",
      "print a\n",
      "a[0,:] = 1.0\n",
      "print a\n",
      "a[1,:] = 0.1\n",
      "print a\n",
      "\n",
      "print np.count_nonzero(a[1:])\n",
      "print a[1:].size"
     ],
     "language": "python",
     "metadata": {},
     "outputs": [
      {
       "output_type": "stream",
       "stream": "stdout",
       "text": [
        "[[ 0.  0.  0. ...,  0.  0.  0.]\n",
        " [ 0.  0.  0. ...,  0.  0.  0.]]\n",
        "[[ 1.  1.  1. ...,  1.  1.  1.]\n",
        " [ 0.  0.  0. ...,  0.  0.  0.]]\n",
        "[[ 1.   1.   1.  ...,  1.   1.   1. ]\n",
        " [ 0.1  0.1  0.1 ...,  0.1  0.1  0.1]]\n",
        "262144\n",
        "262144\n"
       ]
      }
     ],
     "prompt_number": 17
    },
    {
     "cell_type": "markdown",
     "metadata": {},
     "source": [
      "### 1.2.9 Loading data into np array\n",
      "> numpy provides a variety of methods to read and write data to disk (binary, ascii, fits, csv, etc.).  These include \"loadtxt\" and \"tofile\". "
     ]
    },
    {
     "cell_type": "code",
     "collapsed": false,
     "input": [
      "from StringIO import StringIO   # StringIO behaves like a file object\n",
      "c = StringIO(\"0 1\\n2 3\")\n",
      "print np.loadtxt(c)"
     ],
     "language": "python",
     "metadata": {},
     "outputs": [
      {
       "output_type": "stream",
       "stream": "stdout",
       "text": [
        "[[ 0.  1.]\n",
        " [ 2.  3.]]\n"
       ]
      }
     ],
     "prompt_number": 56
    },
    {
     "cell_type": "code",
     "collapsed": false,
     "input": [
      "d = StringIO(\"M 21 72\\nF 35 58\")\n",
      "np.loadtxt(d, dtype={'names': ('gender', 'age', 'weight'),\n",
      "                     'formats': ('S1', 'i4', 'f4')})\n"
     ],
     "language": "python",
     "metadata": {},
     "outputs": [
      {
       "metadata": {},
       "output_type": "pyout",
       "prompt_number": 58,
       "text": [
        "array([('M', 21, 72.0), ('F', 35, 58.0)], \n",
        "      dtype=[('gender', 'S1'), ('age', '<i4'), ('weight', '<f4')])"
       ]
      }
     ],
     "prompt_number": 58
    },
    {
     "cell_type": "code",
     "collapsed": false,
     "input": [
      "c = StringIO(\"1,0,2\\n3,0,4\")\n",
      "x, y = np.loadtxt(c, delimiter=',', usecols=(0, 2), unpack=True)\n",
      "print x\n",
      "print y"
     ],
     "language": "python",
     "metadata": {},
     "outputs": [
      {
       "output_type": "stream",
       "stream": "stdout",
       "text": [
        "[ 1.  3.]\n",
        "[ 2.  4.]\n"
       ]
      }
     ],
     "prompt_number": 60
    },
    {
     "cell_type": "markdown",
     "metadata": {},
     "source": [
      "----"
     ]
    },
    {
     "cell_type": "markdown",
     "metadata": {},
     "source": [
      "## 1.3. Array Attributes"
     ]
    },
    {
     "cell_type": "markdown",
     "metadata": {},
     "source": [
      "The following provide basic information about the size, shape and data in the array:"
     ]
    },
    {
     "cell_type": "code",
     "collapsed": false,
     "input": [
      "arr = np.arange(8).reshape(2,4)\n",
      "arr"
     ],
     "language": "python",
     "metadata": {},
     "outputs": [
      {
       "metadata": {},
       "output_type": "pyout",
       "prompt_number": 4,
       "text": [
        "array([[0, 1, 2, 3],\n",
        "       [4, 5, 6, 7]])"
       ]
      }
     ],
     "prompt_number": 4
    },
    {
     "cell_type": "code",
     "collapsed": false,
     "input": [
      "## display basic info of an array\n",
      "\n",
      "print 'Data type                :', arr.dtype\n",
      "print 'Total number of elements :', arr.size\n",
      "print 'Number of dimensions     :', arr.ndim\n",
      "print 'Shape (dimensionality)   :', arr.shape\n",
      "print 'Memory used (in bytes)   :', arr.nbytes\n"
     ],
     "language": "python",
     "metadata": {},
     "outputs": [
      {
       "output_type": "stream",
       "stream": "stdout",
       "text": [
        "Data type                : int64\n",
        "Total number of elements : 8\n",
        "Number of dimensions     : 2\n",
        "Shape (dimensionality)   : (2, 4)\n",
        "Memory used (in bytes)   : 64\n"
       ]
      }
     ],
     "prompt_number": 26
    },
    {
     "cell_type": "markdown",
     "metadata": {},
     "source": [
      "### 1.3.1 Shape"
     ]
    },
    {
     "cell_type": "code",
     "collapsed": false,
     "input": [
      "# shape of an array\n",
      "one = np.ones((3,2))\n",
      "zero = np.zeros((1,3), int)\n",
      "print \"Array one's shape is: \", one.shape\n",
      "print \"Array zero's shape is: \", zero.shape"
     ],
     "language": "python",
     "metadata": {},
     "outputs": [
      {
       "output_type": "stream",
       "stream": "stdout",
       "text": [
        "Array one's shape is:  (3, 2)\n",
        "Array zero's shape is:  (1, 3)\n"
       ]
      }
     ],
     "prompt_number": 49
    },
    {
     "cell_type": "markdown",
     "metadata": {},
     "source": [
      "### 1.3.2 Array Data Type"
     ]
    },
    {
     "cell_type": "markdown",
     "metadata": {},
     "source": [
      "> Arrays can hold (almost) any type of data, as long as ** each individual element is identical** (i.e., requires the same amount of memory). The format of the ndarray can be specified with the \"dtype\" attribute. Individual elements may be \"named\" in a structured array."
     ]
    },
    {
     "cell_type": "code",
     "collapsed": false,
     "input": [
      "# type of an array element\n",
      "zero = np.zeros((1,3), int)\n",
      "print \"zero: \", zero\n",
      "print \"object type is: \", type(zero)\n",
      "print \"Array zero's shape is: \", zero.shape\n",
      "print \"Array zero's data type is: \", zero.dtype"
     ],
     "language": "python",
     "metadata": {},
     "outputs": [
      {
       "output_type": "stream",
       "stream": "stdout",
       "text": [
        "zero:  [[0 0 0]]\n",
        "object type is:  <type 'numpy.ndarray'>\n",
        "Array zero's shape is:  (1, 3)\n",
        "Array zero's data type is:  int64\n"
       ]
      }
     ],
     "prompt_number": 90
    },
    {
     "cell_type": "code",
     "collapsed": false,
     "input": [
      "# Structured array\n",
      "x = np.zeros((3,),dtype=('i4,f4,a10'))\n",
      "print \"x: \", x   # element of this 1-D array is tuple\n",
      "print \"x[0]: \", x[0]\n",
      "print \"x[1]: \", x[1]\n",
      "print \"field 1 of array x\"\n",
      "print x['f1']\n",
      "print \"field 2 of array x\"\n",
      "print x['f2']\n",
      "print \"field 0 of array x\"\n",
      "print x['f0']\n",
      "\n",
      "# \n",
      "y = x['f1']\n",
      "print \"y: \", y\n",
      "y += np.array([1.2,5.5,3.7])\n",
      "print \"y: \", y"
     ],
     "language": "python",
     "metadata": {},
     "outputs": [
      {
       "output_type": "stream",
       "stream": "stdout",
       "text": [
        "x:  [(0, 0.0, '') (0, 0.0, '') (0, 0.0, '')]\n",
        "x[0]:  (0, 0.0, '')\n",
        "x[1]:  (0, 0.0, '')\n",
        "field 1 of array x\n",
        "[ 0.  0.  0.]\n",
        "field 2 of array x\n",
        "['' '' '']\n",
        "field 0 of array x\n",
        "[0 0 0]\n",
        "y:  [ 0.  0.  0.]\n",
        "y:  [ 1.20000005  5.5         3.70000005]\n"
       ]
      }
     ],
     "prompt_number": 54
    },
    {
     "cell_type": "code",
     "collapsed": false,
     "input": [
      "x = np.zeros((3,4,),dtype=('i4,f4,a10'))\n",
      "x\n"
     ],
     "language": "python",
     "metadata": {},
     "outputs": [
      {
       "metadata": {},
       "output_type": "pyout",
       "prompt_number": 80,
       "text": [
        "array([[(0, 0.0, ''), (0, 0.0, ''), (0, 0.0, ''), (0, 0.0, '')],\n",
        "       [(0, 0.0, ''), (0, 0.0, ''), (0, 0.0, ''), (0, 0.0, '')],\n",
        "       [(0, 0.0, ''), (0, 0.0, ''), (0, 0.0, ''), (0, 0.0, '')]], \n",
        "      dtype=[('f0', '<i4'), ('f1', '<f4'), ('f2', 'S10')])"
       ]
      }
     ],
     "prompt_number": 80
    },
    {
     "cell_type": "markdown",
     "metadata": {},
     "source": [
      "----"
     ]
    },
    {
     "cell_type": "markdown",
     "metadata": {},
     "source": [
      "## 1.4 Manipulating Arrays - Slicing, Indexing, Iteration\n",
      "> * ndarray objects can be indexed, sliced, and iterated over much like **lists**"
     ]
    },
    {
     "cell_type": "markdown",
     "metadata": {},
     "source": [
      "### 1.4.1 - Simple Array Slicing and Indexing"
     ]
    },
    {
     "cell_type": "code",
     "collapsed": false,
     "input": [
      "# Array slicing\n",
      "a = np.arange(10)\n",
      "print a\n",
      "print \"a[2]--> \", a[2]\n",
      "print \"a[2:5]--> \", a[2:5]\n",
      "\n",
      "\n",
      "print a[::-1]\n",
      "print\n",
      "print a[:2:-2]\n",
      "print a[2:-2]\n",
      "print a[2::-2]"
     ],
     "language": "python",
     "metadata": {},
     "outputs": [
      {
       "output_type": "stream",
       "stream": "stdout",
       "text": [
        "[0 1 2 3 4 5 6 7 8 9]\n",
        "a[2]-->  2\n",
        "a[2:5]-->  [2 3 4]\n",
        "[9 8 7 6 5 4 3 2 1 0]\n",
        "\n",
        "[9 7 5 3]\n",
        "[2 3 4 5 6 7]\n",
        "[2 0]\n"
       ]
      }
     ],
     "prompt_number": 76
    },
    {
     "cell_type": "markdown",
     "metadata": {},
     "source": [
      "### 1.4.2 - Modify array elements"
     ]
    },
    {
     "cell_type": "code",
     "collapsed": false,
     "input": [
      "# Modify array elements\n",
      "a = np.arange(10)\n",
      "a[:6:2] = -1000    # from [0,6) with step size of 2\n",
      "print \"Modifying value of elements 0, 2, 4: \"\n",
      "print a\n",
      "print\n",
      "\n",
      "# print array in reverse order\n",
      "print a[::-1]\n",
      "print\n",
      "\n",
      "# print array in the middle\n",
      "print a[2:-2]\n",
      "\n",
      "# \n",
      "print a[:2:-2]\n",
      "print a[2::-2]"
     ],
     "language": "python",
     "metadata": {},
     "outputs": [
      {
       "output_type": "stream",
       "stream": "stdout",
       "text": [
        "Modifying value of elements 0, 2, 4: \n",
        "[-1000     1 -1000     3 -1000     5     6     7     8     9]\n",
        "\n",
        "[    9     8     7     6     5 -1000     3 -1000     1 -1000]\n",
        "\n",
        "[-1000     3 -1000     5     6     7]\n",
        "[9 7 5 3]\n",
        "[-1000 -1000]\n"
       ]
      }
     ],
     "prompt_number": 77
    },
    {
     "cell_type": "markdown",
     "metadata": {},
     "source": [
      "### 1.4.3 - Indexing with other arrays"
     ]
    },
    {
     "cell_type": "markdown",
     "metadata": {},
     "source": [
      "Above we saw how to index arrays with single numbers and slices, just like Python lists.  But arrays allow for a more sophisticated kind of indexing which is very powerful: you can index an array with another array, and in particular with an array of boolean values.  This is particluarly useful to extract information from an array that matches a certain condition.\n",
      "\n",
      "Consider for example that in the array `norm10` we want to replace all values above 9 with the value 0.  We can do so by first finding the *mask* that indicates where this condition is true or false:"
     ]
    },
    {
     "cell_type": "code",
     "collapsed": false,
     "input": [
      "norm10 = np.random.normal(10, 3, 5)\n",
      "print norm10"
     ],
     "language": "python",
     "metadata": {},
     "outputs": [
      {
       "output_type": "stream",
       "stream": "stdout",
       "text": [
        "[ 11.54088107   8.70996764   8.58715966  11.98360308   9.24091353]\n"
       ]
      }
     ],
     "prompt_number": 23
    },
    {
     "cell_type": "code",
     "collapsed": false,
     "input": [
      "mask = norm10 > 9\n",
      "print 'Values above 9:', norm10[mask]"
     ],
     "language": "python",
     "metadata": {},
     "outputs": [
      {
       "output_type": "stream",
       "stream": "stdout",
       "text": [
        "Values above 9: [ 11.54088107  11.98360308   9.24091353]\n"
       ]
      }
     ],
     "prompt_number": 24
    },
    {
     "cell_type": "code",
     "collapsed": false,
     "input": [
      "print 'Resetting all values above 9 to 0...'\n",
      "norm10[mask] = 0\n",
      "print norm10"
     ],
     "language": "python",
     "metadata": {},
     "outputs": [
      {
       "output_type": "stream",
       "stream": "stdout",
       "text": [
        "Resetting all values above 9 to 0...\n",
        "[ 0.          8.70996764  8.58715966  0.          0.        ]\n"
       ]
      }
     ],
     "prompt_number": 25
    },
    {
     "cell_type": "markdown",
     "metadata": {},
     "source": [
      "----"
     ]
    },
    {
     "cell_type": "markdown",
     "metadata": {},
     "source": [
      "## 1.5. Array Operations - Universal Function \"unfuc\""
     ]
    },
    {
     "cell_type": "markdown",
     "metadata": {},
     "source": [
      "> A universal function (or **\"ufunc\"** for short) is a function that operates on ndarrays in an **_element-by-element_** fashion, supporting array broadcasting, type casting, and several other standard features. That is, a ufunc is a **\u201cvectorized\u201d wrapper** for a function that takes a fixed number of scalar inputs and produces a fixed number of scalar outputs. \n",
      "\n",
      "> > **_Universal functions run much faster than for loops, which should be avoided whenever possible._**\n",
      "\n",
      "* Examples include:\n",
      "  * add\n",
      "  * subtract\n",
      "  * multiply\n",
      "  * exp\n",
      "  * log\n",
      "  * power\n",
      "  * **dot product**"
     ]
    },
    {
     "cell_type": "markdown",
     "metadata": {},
     "source": [
      "### 1.5.1 array operations - unfunc"
     ]
    },
    {
     "cell_type": "code",
     "collapsed": false,
     "input": [
      "a = np.array([[1, 2], [3, 4]])\n",
      "b = np.array([[2, 3], [4, 5]])\n",
      "\n",
      "# add\n",
      "a + b\n",
      "print \"add: \"\n",
      "print a+b\n",
      "\n",
      "# mulitply  --> NOTE: multiply is not matrix multiplication!!\n",
      "np.multiply(a,b)\n",
      "print \"multiply: \"\n",
      "print np.multiply(a,b)\n",
      "\n",
      "# exp\n",
      "print \"power: \"\n",
      "print a**b"
     ],
     "language": "python",
     "metadata": {},
     "outputs": [
      {
       "output_type": "stream",
       "stream": "stdout",
       "text": [
        "add: \n",
        "[[3 5]\n",
        " [7 9]]\n",
        "multiply: \n",
        "[[ 2  6]\n",
        " [12 20]]\n",
        "power: \n",
        "[[   1    8]\n",
        " [  81 1024]]\n"
       ]
      }
     ],
     "prompt_number": 112
    },
    {
     "cell_type": "markdown",
     "metadata": {},
     "source": [
      "> **_Universal functions run much faster than for loops, which should be avoided whenever possible._**"
     ]
    },
    {
     "cell_type": "markdown",
     "metadata": {},
     "source": [
      "### 1.5.2 dot product"
     ]
    },
    {
     "cell_type": "code",
     "collapsed": false,
     "input": [
      "a = np.array([[1, 2], [3, 4]])\n",
      "b = np.array([[2, 3], [4, 5]])\n",
      "\n",
      "# dot product\n",
      "np.dot(a,b)"
     ],
     "language": "python",
     "metadata": {},
     "outputs": [
      {
       "metadata": {},
       "output_type": "pyout",
       "prompt_number": 113,
       "text": [
        "array([[10, 13],\n",
        "       [22, 29]])"
       ]
      }
     ],
     "prompt_number": 113
    },
    {
     "cell_type": "markdown",
     "metadata": {},
     "source": [
      "### 1.5.3 matrix multiplication"
     ]
    },
    {
     "cell_type": "code",
     "collapsed": false,
     "input": [
      "# matrix mulitplication\n",
      "a = np.random.random((5000,5000))\n",
      "b = np.random.random((5000,5000))\n",
      "\n",
      "# matrix multiplication using universal function\n",
      "def mult1(a,b):\n",
      "    return a * b\n",
      "\n",
      "# matrix multiplication using loops -  !!!should always avoid for loops!!\n",
      "def multloop(a,b):\n",
      "    c = np.empty(a.shape)\n",
      "    for i in range(a.shape[0]):\n",
      "        for j in range(a.shape[1]):\n",
      "            c[i,j] = a[i,j] * b [i,j]\n",
      "    return c"
     ],
     "language": "python",
     "metadata": {},
     "outputs": [],
     "prompt_number": 96
    },
    {
     "cell_type": "code",
     "collapsed": false,
     "input": [
      "timeit mult1(a,b)"
     ],
     "language": "python",
     "metadata": {},
     "outputs": [
      {
       "output_type": "stream",
       "stream": "stdout",
       "text": [
        "10 loops, best of 3: 98.3 ms per loop\n"
       ]
      }
     ],
     "prompt_number": 97
    },
    {
     "cell_type": "code",
     "collapsed": false,
     "input": [
      "timeit multloop(a,b)"
     ],
     "language": "python",
     "metadata": {},
     "outputs": [
      {
       "output_type": "stream",
       "stream": "stdout",
       "text": [
        "1 loops, best of 3: 9.07 s per loop\n"
       ]
      }
     ],
     "prompt_number": 98
    },
    {
     "cell_type": "markdown",
     "metadata": {},
     "source": [
      "### 1.5.4 ***Broadcasting***\n",
      "* numpy will (usually) intelligently deal with arrays of different sizes. \n",
      "* The smaller array is broadcast across the larger array so that they have compatible shapes. Note that the rules for broadcasting are not always intuitive, so be careful!"
     ]
    },
    {
     "cell_type": "markdown",
     "metadata": {},
     "source": [
      "#### Visual illustration of broadcasting\n",
      "  \n",
      "<center>\n",
      "<img src=\"images/numpy_broadcasting.svg\" width=80%>\n",
      "</center>\n",
      "\n",
      "**Broadcasting Rules**\n",
      "> In this case, numpy looked at both operands and saw that the first (`arr1`) was a one-dimensional array of length 4 and the second was a scalar, considered a zero-dimensional object. The broadcasting rules allow numpy to:\n",
      "\n",
      "> * *create* new dimensions of length 1 (since this doesn't change the size of the array)\n",
      "* 'stretch' a dimension of length 1 that needs to be matched to a dimension of a different size.\n",
      "\n",
      "> So in the above example, the scalar 1.5 is effectively:\n",
      "\n",
      "> * first 'promoted' to a 1-dimensional array of length 1\n",
      "* then, this array is 'stretched' to length 4 to match the dimension of `arr1`.\n",
      "\n",
      "> After these two operations are complete, the addition can proceed as now both operands are one-dimensional arrays of length 4.\n",
      "\n",
      "> This broadcasting behavior is in practice enormously powerful, especially because when numpy broadcasts to create new dimensions or to 'stretch' existing ones, it doesn't actually replicate the data.  In the example above the operation is carried *as if* the 1.5 was a 1-d array with 1.5 in all of its entries, but no actual array was ever created.  This can save lots of memory in cases when the arrays in question are large and can have significant performance implications.\n",
      "\n",
      "> The general rule is: when operating on two arrays, NumPy compares their shapes element-wise. It starts with the trailing dimensions, and works its way forward, creating dimensions of length 1 as needed. Two dimensions are considered compatible when\n",
      "\n",
      "> * they are equal to begin with, or\n",
      "* one of them is 1; in this case numpy will do the 'stretching' to make them equal.\n",
      "\n",
      "> If these conditions are not met, a `ValueError: frames are not aligned` exception is thrown, indicating that the arrays have incompatible shapes. The size of the resulting array is the maximum size along each dimension of the input arrays."
     ]
    },
    {
     "cell_type": "markdown",
     "metadata": {},
     "source": [
      "#### broadcasting example 1"
     ]
    },
    {
     "cell_type": "code",
     "collapsed": false,
     "input": [
      "a = np.array([1,2,3.])\n",
      "b = np.array([10,20,30.,40])\n",
      "print \"a+2 broadcast: \", a + 2\n"
     ],
     "language": "python",
     "metadata": {},
     "outputs": [
      {
       "output_type": "stream",
       "stream": "stdout",
       "text": [
        "a+2 broadcast:  [ 3.  4.  5.]\n"
       ]
      }
     ],
     "prompt_number": 103
    },
    {
     "cell_type": "markdown",
     "metadata": {},
     "source": [
      "#### broadcasting example 2"
     ]
    },
    {
     "cell_type": "code",
     "collapsed": false,
     "input": [
      "# matrix multiplication that gives error\n",
      "print a.shape\n",
      "print b.shape\n",
      "print \"a*b broadcast: \", a * b"
     ],
     "language": "python",
     "metadata": {},
     "outputs": [
      {
       "output_type": "stream",
       "stream": "stdout",
       "text": [
        "(3,)\n",
        "(4, 1)\n",
        "a*b broadcast:  [[  10.   20.   30.]\n",
        " [  20.   40.   60.]\n",
        " [  30.   60.   90.]\n",
        " [  40.   80.  120.]]\n"
       ]
      }
     ],
     "prompt_number": 102
    },
    {
     "cell_type": "markdown",
     "metadata": {},
     "source": [
      "#### broadcasting example 3"
     ]
    },
    {
     "cell_type": "code",
     "collapsed": false,
     "input": [
      "a = np.array([1,2,3.])\n",
      "b = np.array([10,20,30.,40])\n",
      "\n",
      "a = a.reshape(3,1)\n",
      "c = a * b\n",
      "\n",
      "print \"Shape of a: \", a.shape\n",
      "print \"Shape of b: \", b.shape\n",
      "print \"Shape of c: \", c.shape\n",
      "print a * b"
     ],
     "language": "python",
     "metadata": {},
     "outputs": [
      {
       "output_type": "stream",
       "stream": "stdout",
       "text": [
        "Shape of a:  (3, 1)\n",
        "Shape of b:  (4,)\n",
        "Shape of c:  (3, 4)\n",
        "[[  10.   20.   30.   40.]\n",
        " [  20.   40.   60.   80.]\n",
        " [  30.   60.   90.  120.]]\n"
       ]
      }
     ],
     "prompt_number": 162
    },
    {
     "cell_type": "markdown",
     "metadata": {},
     "source": [
      "#### broadcasting example 4"
     ]
    },
    {
     "cell_type": "code",
     "collapsed": false,
     "input": [
      "a = np.array([0,10,20,30]).reshape(4,1)\n",
      "a"
     ],
     "language": "python",
     "metadata": {},
     "outputs": [
      {
       "metadata": {},
       "output_type": "pyout",
       "prompt_number": 37,
       "text": [
        "array([[ 0],\n",
        "       [10],\n",
        "       [20],\n",
        "       [30]])"
       ]
      }
     ],
     "prompt_number": 37
    },
    {
     "cell_type": "code",
     "collapsed": false,
     "input": [
      "b = np.array([0,1,2])\n",
      "b"
     ],
     "language": "python",
     "metadata": {},
     "outputs": [
      {
       "metadata": {},
       "output_type": "pyout",
       "prompt_number": 39,
       "text": [
        "array([0, 1, 2])"
       ]
      }
     ],
     "prompt_number": 39
    },
    {
     "cell_type": "code",
     "collapsed": false,
     "input": [
      "c = a * b\n",
      "c"
     ],
     "language": "python",
     "metadata": {},
     "outputs": [
      {
       "metadata": {},
       "output_type": "pyout",
       "prompt_number": 40,
       "text": [
        "array([[ 0,  0,  0],\n",
        "       [ 0, 10, 20],\n",
        "       [ 0, 20, 40],\n",
        "       [ 0, 30, 60]])"
       ]
      }
     ],
     "prompt_number": 40
    },
    {
     "cell_type": "markdown",
     "metadata": {},
     "source": [
      "### 1.5.5 Numpy Element-wise Comparison\n",
      "* Universal functions make it nearly trivial to compare arrays on an **_element-by-element_** basis.\n"
     ]
    },
    {
     "cell_type": "code",
     "collapsed": false,
     "input": [
      "a = np.array([1, 3, 0], float)\n",
      "b = np.array([0, 3, 2], float)\n",
      "\n",
      "print \"a: \", a \n",
      "print \"b: \", b\n"
     ],
     "language": "python",
     "metadata": {},
     "outputs": [
      {
       "output_type": "stream",
       "stream": "stdout",
       "text": [
        "a:  [ 1.  3.  0.]\n",
        "b:  [ 0.  3.  2.]\n"
       ]
      }
     ],
     "prompt_number": 170
    },
    {
     "cell_type": "code",
     "collapsed": false,
     "input": [
      "a > b "
     ],
     "language": "python",
     "metadata": {},
     "outputs": [
      {
       "metadata": {},
       "output_type": "pyout",
       "prompt_number": 171,
       "text": [
        "array([ True, False, False], dtype=bool)"
       ]
      }
     ],
     "prompt_number": 171
    },
    {
     "cell_type": "code",
     "collapsed": false,
     "input": [
      "a == b"
     ],
     "language": "python",
     "metadata": {},
     "outputs": [
      {
       "metadata": {},
       "output_type": "pyout",
       "prompt_number": 172,
       "text": [
        "array([False,  True, False], dtype=bool)"
       ]
      }
     ],
     "prompt_number": 172
    },
    {
     "cell_type": "code",
     "collapsed": false,
     "input": [
      "c = a<=b\n",
      "c"
     ],
     "language": "python",
     "metadata": {},
     "outputs": [
      {
       "metadata": {},
       "output_type": "pyout",
       "prompt_number": 174,
       "text": [
        "array([False,  True,  True], dtype=bool)"
       ]
      }
     ],
     "prompt_number": 174
    },
    {
     "cell_type": "code",
     "collapsed": false,
     "input": [
      "# logical AND\n",
      "np.logical_and(a > 0, a < 3)"
     ],
     "language": "python",
     "metadata": {},
     "outputs": [
      {
       "metadata": {},
       "output_type": "pyout",
       "prompt_number": 175,
       "text": [
        "array([ True, False, False], dtype=bool)"
       ]
      }
     ],
     "prompt_number": 175
    },
    {
     "cell_type": "code",
     "collapsed": false,
     "input": [
      "# logical OR\n",
      "np.logical_or(a,b)"
     ],
     "language": "python",
     "metadata": {},
     "outputs": [
      {
       "metadata": {},
       "output_type": "pyout",
       "prompt_number": 176,
       "text": [
        "array([ True,  True,  True], dtype=bool)"
       ]
      }
     ],
     "prompt_number": 176
    },
    {
     "cell_type": "markdown",
     "metadata": {},
     "source": [
      "### 1.5.6 Numpy WHERE method for filtering array elements\n",
      "> The where method provides a fast way to **search (and extract) individual elements of an array**. When called with a single (conditional) argument, the method **returns an array of indicies** where the conditional is met. If two additional arguments are added, more complex returns are possible."
     ]
    },
    {
     "cell_type": "code",
     "collapsed": false,
     "input": [
      "np.where?"
     ],
     "language": "python",
     "metadata": {},
     "outputs": [],
     "prompt_number": 111
    },
    {
     "cell_type": "code",
     "collapsed": false,
     "input": [
      "# return an array of indices\n",
      "a = np.array([1, 3, 0, -5, 0], float)\n",
      "print a\n",
      "print np.where(a != 0)\n",
      "\n"
     ],
     "language": "python",
     "metadata": {},
     "outputs": [
      {
       "output_type": "stream",
       "stream": "stdout",
       "text": [
        "[ 1.  3.  0. -5.  0.]\n",
        "(array([0, 1, 3]),)\n"
       ]
      }
     ],
     "prompt_number": 148
    },
    {
     "cell_type": "code",
     "collapsed": false,
     "input": [
      "# return array elements that meet condition in an array\n",
      "a = np.arange(9.).reshape(3,3)\n",
      "print \"a ------------> \"\n",
      "print a\n",
      "print \n",
      "\n",
      "print \"a > 4.0 ---------->\"\n",
      "print a > 4.0\n",
      "print a[a > 4.0]\n",
      "print\n",
      "\n",
      "# where condition is True, do somthing; else do something else\n",
      "print \"if a>4, then return a, else return -1 --->\"\n",
      "print np.where(a > 4.0, a, -1) # if a>4, then return a, else return -1\n",
      "print\n",
      "\n",
      "\n",
      "print np.where(a > 4.0)\n",
      "c = a[np.where(a > 2.0)]\n",
      "print c\n"
     ],
     "language": "python",
     "metadata": {},
     "outputs": [
      {
       "output_type": "stream",
       "stream": "stdout",
       "text": [
        "a ------------> \n",
        "[[ 0.  1.  2.]\n",
        " [ 3.  4.  5.]\n",
        " [ 6.  7.  8.]]\n",
        "\n",
        "a > 4.0 ---------->\n",
        "[[False False False]\n",
        " [False False  True]\n",
        " [ True  True  True]]\n",
        "[ 5.  6.  7.  8.]\n",
        "\n",
        "if a>4, then return a, else return -1 --->\n",
        "[[-1. -1. -1.]\n",
        " [-1. -1.  5.]\n",
        " [ 6.  7.  8.]]\n",
        "\n",
        "(array([1, 2, 2, 2]), array([2, 0, 1, 2]))\n",
        "[ 3.  4.  5.  6.  7.  8.]\n"
       ]
      }
     ],
     "prompt_number": 149
    },
    {
     "cell_type": "code",
     "collapsed": false,
     "input": [
      "x = np.random.random((3,3,3))\n",
      "print x\n",
      "print np.where(x>0.5) # if 3-D then return 3 arrays with indices"
     ],
     "language": "python",
     "metadata": {},
     "outputs": [
      {
       "output_type": "stream",
       "stream": "stdout",
       "text": [
        "[[[ 0.97812997  0.33905418  0.47095739]\n",
        "  [ 0.14552081  0.17253865  0.72371413]\n",
        "  [ 0.81333004  0.7829174   0.88847093]]\n",
        "\n",
        " [[ 0.26727055  0.8140174   0.78264216]\n",
        "  [ 0.45629038  0.10203065  0.03186082]\n",
        "  [ 0.95601128  0.58165171  0.1397809 ]]\n",
        "\n",
        " [[ 0.93777902  0.98072824  0.73336348]\n",
        "  [ 0.03871196  0.13244799  0.72004882]\n",
        "  [ 0.84343939  0.39905122  0.56682249]]]\n",
        "(array([0, 0, 0, 0, 0, 1, 1, 1, 1, 2, 2, 2, 2, 2, 2]), array([0, 1, 2, 2, 2, 0, 0, 2, 2, 0, 0, 0, 1, 2, 2]), array([0, 2, 0, 1, 2, 1, 2, 0, 1, 0, 1, 2, 2, 0, 2]))\n"
       ]
      }
     ],
     "prompt_number": 158
    },
    {
     "cell_type": "markdown",
     "metadata": {},
     "source": [
      "----"
     ]
    },
    {
     "cell_type": "markdown",
     "metadata": {},
     "source": [
      "## 1.6. Numpy Array Basic Methods"
     ]
    },
    {
     "cell_type": "markdown",
     "metadata": {},
     "source": [
      "* 1.6.0 - Basic Stats\n",
      "* 1.6.1 - numpy.mean()\n",
      "* 1.6.2 - numpy.average()\n",
      "* 1.6.3 - numpy.random()"
     ]
    },
    {
     "cell_type": "markdown",
     "metadata": {},
     "source": [
      "#### *List of avaiable numpy array methods*\n",
      "    arr.T             arr.copy          arr.getfield      arr.put           arr.squeeze\n",
      "    arr.all           arr.ctypes        arr.imag          arr.ravel         arr.std\n",
      "    arr.any           arr.cumprod       arr.item          arr.real          arr.strides\n",
      "    arr.argmax        arr.cumsum        arr.itemset       arr.repeat        arr.sum\n",
      "    arr.argmin        arr.data          arr.itemsize      arr.reshape       arr.swapaxes\n",
      "    arr.argsort       arr.diagonal      arr.max           arr.resize        arr.take\n",
      "    arr.astype        arr.dot           arr.mean          arr.round         arr.tofile\n",
      "    arr.base          arr.dtype         arr.min           arr.searchsorted  arr.tolist\n",
      "    arr.byteswap      arr.dump          arr.nbytes        arr.setasflat     arr.tostring\n",
      "    arr.choose        arr.dumps         arr.ndim          arr.setfield      arr.trace\n",
      "    arr.clip          arr.fill          arr.newbyteorder  arr.setflags      arr.transpose\n",
      "    arr.compress      arr.flags         arr.nonzero       arr.shape         arr.var\n",
      "    arr.conj          arr.flat          arr.prod          arr.size          arr.view\n",
      "    arr.conjugate     arr.flatten       arr.ptp           arr.sort   "
     ]
    },
    {
     "cell_type": "markdown",
     "metadata": {},
     "source": [
      "### 1.6.0 - Basic Stats"
     ]
    },
    {
     "cell_type": "code",
     "collapsed": false,
     "input": [
      "arr = np.arange(8).reshape(2,4)\n",
      "arr"
     ],
     "language": "python",
     "metadata": {},
     "outputs": [
      {
       "metadata": {},
       "output_type": "pyout",
       "prompt_number": 5,
       "text": [
        "array([[0, 1, 2, 3],\n",
        "       [4, 5, 6, 7]])"
       ]
      }
     ],
     "prompt_number": 5
    },
    {
     "cell_type": "code",
     "collapsed": false,
     "input": [
      "print 'Minimum and maximum             :', arr.min(), arr.max()\n",
      "print 'Sum and product of all elements :', arr.sum(), arr.prod()\n",
      "print 'Mean and standard deviation     :', arr.mean(), arr.std()"
     ],
     "language": "python",
     "metadata": {},
     "outputs": [
      {
       "output_type": "stream",
       "stream": "stdout",
       "text": [
        "Minimum and maximum             : 0 7\n",
        "Sum and product of all elements : 28 0\n",
        "Mean and standard deviation     : 3.5 2.29128784748\n"
       ]
      }
     ],
     "prompt_number": 29
    },
    {
     "cell_type": "markdown",
     "metadata": {},
     "source": [
      "For these methods, the above operations area all computed on all the elements of the array. But for a multidimensional array, it's possible to do the computation along a single dimension, by passing the axis parameter; for example:"
     ]
    },
    {
     "cell_type": "code",
     "collapsed": false,
     "input": [
      "print 'For the following array:\\n', arr\n",
      "print 'The sum of elements along the rows is    :', arr.sum(axis=1)\n",
      "print 'The sum of elements along the columns is :', arr.sum(axis=0)"
     ],
     "language": "python",
     "metadata": {},
     "outputs": [
      {
       "output_type": "stream",
       "stream": "stdout",
       "text": [
        "For the following array:\n",
        "[[0 1 2 3]\n",
        " [4 5 6 7]]\n",
        "The sum of elements along the rows is    : [ 6 22]\n",
        "The sum of elements along the columns is : [ 4  6  8 10]\n"
       ]
      }
     ],
     "prompt_number": 30
    },
    {
     "cell_type": "markdown",
     "metadata": {},
     "source": [
      "### 1.6.1 numpy.mean()?\n",
      "* Compute the **arithmetic mean** along the specified axis.\n",
      "* Returns the average of the array elements.  The average is taken over\n",
      "the *flattened array by default*, otherwise over the specified axis.\n",
      "* The arithmetic mean is the sum of the elements along the axis divided\n",
      "by the number of elements."
     ]
    },
    {
     "cell_type": "code",
     "collapsed": false,
     "input": [
      "a = np.array([[1, 2], [3, 4]])\n",
      "a"
     ],
     "language": "python",
     "metadata": {},
     "outputs": [],
     "prompt_number": 7
    },
    {
     "cell_type": "code",
     "collapsed": false,
     "input": [
      "a = np.array([[1, 2], [3, 4]])\n",
      "print np.mean(a)\n",
      "print np.mean(a, axis=0)  ## average along y-axis\n",
      "print np.mean(a, axis=1)  ## average along x-axis\n",
      "print a.mean()"
     ],
     "language": "python",
     "metadata": {},
     "outputs": [
      {
       "output_type": "stream",
       "stream": "stdout",
       "text": [
        "2.5\n",
        "[ 2.  3.]\n",
        "[ 1.5  3.5]\n"
       ]
      }
     ],
     "prompt_number": 207
    },
    {
     "cell_type": "code",
     "collapsed": false,
     "input": [
      "# Arithmetic average precision\n",
      "a = np.zeros((2, 512*512), dtype=np.float32)\n",
      "print a\n",
      "print \n",
      "\n",
      "a[0,:] = 1.0\n",
      "print a\n",
      "print \n",
      "\n",
      "a[1,:] = 0.1\n",
      "print a\n",
      "print\n",
      "\n",
      "print \"float32 mean: \", np.mean(a)                      # In single precision, mean can be inaccurate\n",
      "print \"float64 mean: \", np.mean(a, dtype=np.float64)    # Compute mean in float64 is more accurate"
     ],
     "language": "python",
     "metadata": {},
     "outputs": [
      {
       "output_type": "stream",
       "stream": "stdout",
       "text": [
        "[[ 0.  0.  0. ...,  0.  0.  0.]\n",
        " [ 0.  0.  0. ...,  0.  0.  0.]]\n",
        "\n",
        "[[ 1.  1.  1. ...,  1.  1.  1.]\n",
        " [ 0.  0.  0. ...,  0.  0.  0.]]\n",
        "\n",
        "[[ 1.   1.   1.  ...,  1.   1.   1. ]\n",
        " [ 0.1  0.1  0.1 ...,  0.1  0.1  0.1]]\n",
        "\n",
        "float32 mean:  0.549999\n",
        "float64 mean:  0.550000000745\n"
       ]
      }
     ],
     "prompt_number": 159
    },
    {
     "cell_type": "markdown",
     "metadata": {},
     "source": [
      "### 1.6.2 numpy.average()\n"
     ]
    },
    {
     "cell_type": "code",
     "collapsed": false,
     "input": [
      "a = np.array([[1, 2], [3, 4]])\n",
      "print np.average(a)\n",
      "print np.mean(a)\n"
     ],
     "language": "python",
     "metadata": {},
     "outputs": [
      {
       "output_type": "stream",
       "stream": "stdout",
       "text": [
        "2.5\n",
        "2.5\n",
        "Object `np.count` not found.\n"
       ]
      }
     ],
     "prompt_number": 12
    },
    {
     "cell_type": "code",
     "collapsed": false,
     "input": [
      "# weighted average\n",
      "a = np.arange(1,11)\n",
      "w_avg = np.average(a, weights=range(10,0,-1))\n",
      "print w_avg"
     ],
     "language": "python",
     "metadata": {},
     "outputs": [
      {
       "output_type": "stream",
       "stream": "stdout",
       "text": [
        "4.0\n"
       ]
      }
     ],
     "prompt_number": 170
    },
    {
     "cell_type": "markdown",
     "metadata": {},
     "source": [
      "### 1.6.3 numpy.random() \n",
      "> ***basic probability distribution functions***\n",
      "> > The *random* module contains basic random number generation, as well as a few common probability distribution functions.  Many more (complex) pdfs are available within scipy.\n",
      "\n",
      "> *reference: \"numpy random sampling\"*\n",
      ">> http://docs.scipy.org/doc/numpy/reference/routines.random.html"
     ]
    },
    {
     "cell_type": "code",
     "collapsed": false,
     "input": [
      "# random n-element array with values uniformly distributed between (0,1)\n",
      "# given a shape\n",
      "\n",
      "print np.random.rand(5)\n",
      "print\n",
      "print np.random.rand(3,2)"
     ],
     "language": "python",
     "metadata": {},
     "outputs": [
      {
       "output_type": "stream",
       "stream": "stdout",
       "text": [
        "[ 0.60595031  0.36169925  0.15206308  0.95603903  0.58869692]\n",
        "\n",
        "[[ 0.54019497  0.82026872]\n",
        " [ 0.01119089  0.26599182]\n",
        " [ 0.35107453  0.58937868]]\n"
       ]
      }
     ],
     "prompt_number": 178
    },
    {
     "cell_type": "code",
     "collapsed": false,
     "input": [
      "# return a random integer between [low,high)\n",
      "print np.random.randint(5,10)\n",
      "\n",
      "print np.random.randint(1,5,size=(2,3))\n",
      "\n",
      "print np.random.randint(4, size=(10))"
     ],
     "language": "python",
     "metadata": {},
     "outputs": [
      {
       "output_type": "stream",
       "stream": "stdout",
       "text": [
        "6\n",
        "[[4 1 1]\n",
        " [2 3 2]]\n",
        "[3 0 2 1 3 2 3 3 0 1]\n"
       ]
      }
     ],
     "prompt_number": 181
    },
    {
     "cell_type": "markdown",
     "metadata": {},
     "source": [
      "#### *Gaussian Random Distribution\n",
      "> normal([loc, scale, size])\n",
      ">> loc : Mean (\u201ccentre\u201d) of the distribution.\n",
      "\n",
      ">> scale : Standaard deviation"
     ]
    },
    {
     "cell_type": "code",
     "collapsed": false,
     "input": [
      "mu, sigma = 0, 0.1 # mean and standard deviation\n",
      "dist = np.random.normal(mu, sigma, 100)"
     ],
     "language": "python",
     "metadata": {},
     "outputs": [],
     "prompt_number": 187
    },
    {
     "cell_type": "markdown",
     "metadata": {},
     "source": [
      "![test](http://docs.scipy.org/doc/numpy/_images/math/2f8a02ce155191ed5a4ea8d776aa15fcaef26e1f.png \"text\")"
     ]
    },
    {
     "cell_type": "code",
     "collapsed": false,
     "input": [
      "import matplotlib.pylab as plt\n",
      "count, bins, ignored = plt.hist(dist, 30, normed=True)\n",
      "plt.plot(bins, 1/(sigma * np.sqrt(2 * np.pi)) * \n",
      "         np.exp( - (bins - mu)**2 / (2 * sigma**2)), \n",
      "         linewidth=2, color='r')\n",
      "plt.show()\n"
     ],
     "language": "python",
     "metadata": {},
     "outputs": [
      {
       "metadata": {},
       "output_type": "display_data",
       "png": "[encoded data removed]",
       "text": [
        "<matplotlib.figure.Figure at 0x10992e290>"
       ]
      }
     ],
     "prompt_number": 202
    },
    {
     "cell_type": "code",
     "collapsed": false,
     "input": [],
     "language": "python",
     "metadata": {},
     "outputs": [],
     "prompt_number": 202
    },
    {
     "cell_type": "markdown",
     "metadata": {},
     "source": [
      "----"
     ]
    },
    {
     "cell_type": "markdown",
     "metadata": {},
     "source": [
      "# +++ 2 - Numpy Routines +++"
     ]
    },
    {
     "cell_type": "markdown",
     "metadata": {},
     "source": [
      "> \n",
      "  * 2.1 Array Manipulation\n",
      "  * 2.2 Binary Operations\n",
      "  * 2.3 Stirng Operations\n",
      "  * 2.4 Datetime\n",
      "  * 2.5 Linear Algebra\n",
      "  * 2.6 Math\n",
      "  * 2.7 Statistics\n",
      "  * 2.8 Sorting/Searching/Counting\n",
      "  * 2.9 Input/Output\n",
      "\n"
     ]
    },
    {
     "cell_type": "markdown",
     "metadata": {},
     "source": [
      "## 2.1. Array Manipulation"
     ]
    },
    {
     "cell_type": "markdown",
     "metadata": {},
     "source": [
      "----"
     ]
    },
    {
     "cell_type": "markdown",
     "metadata": {},
     "source": [
      "## 2.5. Linear Algebra"
     ]
    },
    {
     "cell_type": "markdown",
     "metadata": {},
     "source": [
      "Numpy ships with a basic linear algebra library, and all arrays have a `dot` method whose behavior is that of the scalar dot product when its arguments are vectors (one-dimensional arrays) and the traditional matrix multiplication when one or both of its arguments are two-dimensional arrays:"
     ]
    },
    {
     "cell_type": "code",
     "collapsed": false,
     "input": [
      "v1 = np.array([2, 3, 4])\n",
      "v2 = np.array([1, 0, 1])\n",
      "print v1, '.', v2, '=', v1.dot(v2)"
     ],
     "language": "python",
     "metadata": {},
     "outputs": [
      {
       "output_type": "stream",
       "stream": "stdout",
       "text": [
        "[2 3 4] . [1 0 1] = 6\n"
       ]
      }
     ],
     "prompt_number": 42
    },
    {
     "cell_type": "markdown",
     "metadata": {},
     "source": [
      "Here is a regular matrix-vector multiplication, note that the array `v1` should be viewed as a *column* vector in traditional linear algebra notation; numpy makes no distinction between row and column vectors and simply verifies that the dimensions match the required rules of matrix multiplication, in this case we have a $2 \\times 3$ matrix multiplied by a 3-vector, which produces a 2-vector:"
     ]
    },
    {
     "cell_type": "code",
     "collapsed": false,
     "input": [
      "A = np.arange(6).reshape(2, 3)\n",
      "print A, 'x', v1, '=', A.dot(v1)"
     ],
     "language": "python",
     "metadata": {},
     "outputs": [
      {
       "output_type": "stream",
       "stream": "stdout",
       "text": [
        "[[0 1 2]\n",
        " [3 4 5]] x [2 3 4] = [11 38]\n"
       ]
      }
     ],
     "prompt_number": 44
    },
    {
     "cell_type": "markdown",
     "metadata": {},
     "source": [
      "For matrix-matrix multiplication, the same dimension-matching rules must be satisfied, e.g. consider the difference between $A \\times A^T$:"
     ]
    },
    {
     "cell_type": "code",
     "collapsed": false,
     "input": [
      "print A.dot(A.T)"
     ],
     "language": "python",
     "metadata": {},
     "outputs": [
      {
       "output_type": "stream",
       "stream": "stdout",
       "text": [
        "[[ 5 14]\n",
        " [14 50]]\n"
       ]
      }
     ],
     "prompt_number": 46
    },
    {
     "cell_type": "code",
     "collapsed": false,
     "input": [
      "print A.T.dot(A)"
     ],
     "language": "python",
     "metadata": {},
     "outputs": [
      {
       "output_type": "stream",
       "stream": "stdout",
       "text": [
        "[[ 9 12 15]\n",
        " [12 17 22]\n",
        " [15 22 29]]\n"
       ]
      }
     ],
     "prompt_number": 47
    },
    {
     "cell_type": "markdown",
     "metadata": {},
     "source": [
      "Furthermore, the `numpy.linalg` module includes additional functionality such as determinants, matrix norms, Cholesky, eigenvalue and singular value decompositions, etc.  For even more linear algebra tools, `scipy.linalg` contains the majority of the tools in the classic LAPACK libraries as well as functions to operate on sparse matrices.  We refer the reader to the Numpy and Scipy documentations for additional details on these."
     ]
    },
    {
     "cell_type": "code",
     "collapsed": false,
     "input": [],
     "language": "python",
     "metadata": {},
     "outputs": []
    },
    {
     "cell_type": "code",
     "collapsed": false,
     "input": [],
     "language": "python",
     "metadata": {},
     "outputs": []
    },
    {
     "cell_type": "code",
     "collapsed": false,
     "input": [],
     "language": "python",
     "metadata": {},
     "outputs": []
    },
    {
     "cell_type": "code",
     "collapsed": false,
     "input": [],
     "language": "python",
     "metadata": {},
     "outputs": []
    },
    {
     "cell_type": "markdown",
     "metadata": {},
     "source": [
      "----"
     ]
    },
    {
     "cell_type": "markdown",
     "metadata": {},
     "source": [
      "## 2.9. Numpy Array Input/Output"
     ]
    },
    {
     "cell_type": "markdown",
     "metadata": {},
     "source": [
      "Numpy lets you read and write arrays into files in a number of ways.  In order to use these tools well, it is critical to understand the difference between a *text* and a *binary* file containing numerical data.  In a text file, the number $\\pi$ could be written as \"3.141592653589793\", for example: a string of digits that a human can read, with in this case 15 decimal digits.  In contrast, that same number written to a binary file would be encoded as 8 characters (bytes) that are not readable by a human but which contain the exact same data that the variable `pi` had in the computer's memory.  \n",
      "\n",
      "The tradeoffs between the two modes are thus:\n",
      "\n",
      "* **`Text mode`**: occupies more space, precision can be lost (if not all digits are written to disk), but is readable and editable by hand with a text editor.  Can *only* be used for one- and two-dimensional arrays.\n",
      "\n",
      "* **`Binary mode`**: compact and exact representation of the data in memory, can't be read or edited by hand.  Arrays of any size and dimensionality can be saved and read without loss of information.\n",
      "\n",
      "First, let's see how to read and write arrays in text mode.  The `np.savetxt` function saves an array to a text file, with options to control the precision, separators and even adding a header:"
     ]
    },
    {
     "cell_type": "markdown",
     "metadata": {},
     "source": [
      "### 2.9.1 - IO Text Mode"
     ]
    },
    {
     "cell_type": "code",
     "collapsed": false,
     "input": [
      "arr = np.arange(10).reshape(2, 5)\n",
      "np.savetxt('tmp/test.out', arr, fmt='%.2e', header=\"My dataset\")\n",
      "!cat tmp/test.out"
     ],
     "language": "python",
     "metadata": {},
     "outputs": [
      {
       "output_type": "stream",
       "stream": "stdout",
       "text": [
        "# My dataset\r\n",
        "0.00e+00 1.00e+00 2.00e+00 3.00e+00 4.00e+00\r\n",
        "5.00e+00 6.00e+00 7.00e+00 8.00e+00 9.00e+00\r\n"
       ]
      }
     ],
     "prompt_number": 51
    },
    {
     "cell_type": "code",
     "collapsed": false,
     "input": [
      "arr2 = np.loadtxt('tmp/test.out')\n",
      "print arr2"
     ],
     "language": "python",
     "metadata": {},
     "outputs": [
      {
       "output_type": "stream",
       "stream": "stdout",
       "text": [
        "[[ 0.  1.  2.  3.  4.]\n",
        " [ 5.  6.  7.  8.  9.]]\n"
       ]
      }
     ],
     "prompt_number": 53
    },
    {
     "cell_type": "markdown",
     "metadata": {},
     "source": [
      "### 2.9.2 - IO Binary Mode"
     ]
    },
    {
     "cell_type": "markdown",
     "metadata": {},
     "source": [
      "For **`binary`** data, Numpy provides the np.save and np.savez routines. The first saves a single array to a file with .npy extension, while the latter can be used to save a group of arrays into a single file with .npz extension. The files created with these routines can then be read with the np.load function.\n",
      "\n",
      "Let us first see how to use the simpler np.save function to save a single array:"
     ]
    },
    {
     "cell_type": "code",
     "collapsed": false,
     "input": [
      "np.save('test.npy', arr2)\n",
      "# Now we read this back\n",
      "arr2n = np.load('test.npy')\n",
      "# Let's see if any element is non-zero in the difference.\n",
      "# A value of True would be a problem.\n",
      "print 'Any differences?', np.any(arr2-arr2n)"
     ],
     "language": "python",
     "metadata": {},
     "outputs": [
      {
       "output_type": "stream",
       "stream": "stdout",
       "text": [
        "Any differences? False\n"
       ]
      }
     ],
     "prompt_number": 55
    },
    {
     "cell_type": "markdown",
     "metadata": {},
     "source": [
      "Now let us see how the `np.savez` function works.  You give it a filename and either a sequence of arrays or a set of keywords.  In the first mode, the function will auotmatically name the saved arrays in the archive as `arr_0`, `arr_1`, etc:"
     ]
    },
    {
     "cell_type": "code",
     "collapsed": false,
     "input": [
      "np.savez('test.npz', arr, arr2)\n",
      "arrays = np.load('test.npz')\n",
      "arrays.files"
     ],
     "language": "python",
     "metadata": {},
     "outputs": [
      {
       "metadata": {},
       "output_type": "pyout",
       "prompt_number": 56,
       "text": [
        "['arr_1', 'arr_0']"
       ]
      }
     ],
     "prompt_number": 56
    },
    {
     "cell_type": "markdown",
     "metadata": {},
     "source": [
      "Alternatively, we can explicitly choose how to name the arrays we save:"
     ]
    },
    {
     "cell_type": "code",
     "collapsed": false,
     "input": [
      "arrays = np.load('test.npz')\n",
      "arrays.files"
     ],
     "language": "python",
     "metadata": {},
     "outputs": [
      {
       "metadata": {},
       "output_type": "pyout",
       "prompt_number": 60,
       "text": [
        "['array2', 'array1']"
       ]
      }
     ],
     "prompt_number": 60
    },
    {
     "cell_type": "markdown",
     "metadata": {},
     "source": [
      "The object returned by `np.load` from an `.npz` file works like a dictionary, though you can also access its constituent files by attribute using its special `.f` field; this is best illustrated with an example with the `arrays` object from above:"
     ]
    },
    {
     "cell_type": "code",
     "collapsed": false,
     "input": [
      "print 'First row of first array:', arrays['array1'][0]\n",
      "# This is an equivalent way to get the same field\n",
      "print 'First row of first array:', arrays.f.array1[0]"
     ],
     "language": "python",
     "metadata": {},
     "outputs": [
      {
       "output_type": "stream",
       "stream": "stdout",
       "text": [
        "First row of first array: [0 1 2 3 4]\n",
        "First row of first array: [0 1 2 3 4]\n"
       ]
      }
     ],
     "prompt_number": 62
    },
    {
     "cell_type": "markdown",
     "metadata": {},
     "source": [
      "This .npz format is a very convenient way to package compactly and without loss of information, into a single file, a group of related arrays that pertain to a specific problem. At some point, however, the complexity of your dataset may be such that the optimal approach is to use one of the standard formats in scientific data processing that have been designed to handle complex datasets, such as NetCDF or HDF5.\n",
      "Fortunately, there are tools for manipulating these formats in Python, and for storing data in other ways such as databases. A complete discussion of the possibilities is beyond the scope of this discussion, but of particular interest for scientific users we at least mention the following:\n",
      "The scipy.io module contains routines to read and write Matlab files in .mat format and files in the NetCDF format that is widely used in certain scientific disciplines.\n",
      "For manipulating files in the HDF5 format, there are two excellent options in Python: The PyTables project offers a high-level, object oriented approach to manipulating HDF5 datasets, while the h5py project offers a more direct mapping to the standard HDF5 library interface. Both are excellent tools; if you need to work with HDF5 datasets you should read some of their documentation and examples and decide which approach is a better match for your needs."
     ]
    },
    {
     "cell_type": "code",
     "collapsed": false,
     "input": [],
     "language": "python",
     "metadata": {},
     "outputs": []
    }
   ],
   "metadata": {}
  }
 ]
}