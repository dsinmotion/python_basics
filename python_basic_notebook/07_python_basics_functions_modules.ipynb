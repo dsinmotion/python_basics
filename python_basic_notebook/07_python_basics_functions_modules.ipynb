{
 "cells": [
  {
   "cell_type": "markdown",
   "metadata": {},
   "source": [
    "# +++ Python Functions and Modules +++"
   ]
  },
  {
   "cell_type": "markdown",
   "metadata": {},
   "source": [
    "* Python can be both `procedural` (using functions) and `object oriented` (using classes)"
   ]
  },
  {
   "cell_type": "markdown",
   "metadata": {},
   "source": [
    "***"
   ]
  },
  {
   "cell_type": "markdown",
   "metadata": {},
   "source": [
    "# 1. Python Functions"
   ]
  },
  {
   "cell_type": "markdown",
   "metadata": {},
   "source": [
    "- you can name a function anything you want as long as it:\n",
    "  * contains only numbers, letters, underscore\n",
    "  * does not start with a number\n",
    "  * is not the same name as a `buit-in` function (like print)\n",
    " \n",
    "- Function looks like\n",
    "> `def function_name(arg1,arg2,...,kw1=v1,kw2=v2,kw3=v3...)`\n",
    "  * argx is required\n",
    "  * kwx is optional"
   ]
  },
  {
   "cell_type": "markdown",
   "metadata": {},
   "source": [
    "## # 1.1 Function example"
   ]
  },
  {
   "cell_type": "code",
   "execution_count": 10,
   "metadata": {
    "collapsed": false
   },
   "outputs": [
    {
     "name": "stdout",
     "output_type": "stream",
     "text": [
      "5\n",
      "34.3\n",
      "aaabbb\n",
      "aaa222333\n",
      "<type 'function'>\n"
     ]
    }
   ],
   "source": [
    "# simple function example\n",
    "def addnums(x,y):\n",
    "    return x + y\n",
    "\n",
    "print addnums(2,3)\n",
    "print addnums(0x1f, 3.3)\n",
    "print addnums('aaa','bbb')\n",
    "print addnums('aaa',str(222333))\n",
    "\n",
    "addnums   # returns memory address of the function\n",
    "\n",
    "print type(addnums)"
   ]
  },
  {
   "cell_type": "markdown",
   "metadata": {},
   "source": [
    "## # 1.2 Python function doesn't allow declaration of variable types"
   ]
  },
  {
   "cell_type": "code",
   "execution_count": 8,
   "metadata": {
    "collapsed": false
   },
   "outputs": [
    {
     "name": "stdout",
     "output_type": "stream",
     "text": [
      "5.0\n",
      "I cannot add these types (<type 'int'>,<type 'str'>)\n",
      "None\n"
     ]
    }
   ],
   "source": [
    "# Unlike in C, we cannot declare what type of variables are required by the function. \n",
    "# If you really want to just add numbers, no strings...\n",
    "\n",
    "def addnums(x,y):\n",
    "    if (not (isinstance(x,float) or isinstance(x,int) or isinstance(x,long))) or \\\n",
    "        (not (isinstance(y,float) or isinstance(y,int) or isinstance(y,long))):\n",
    "        print \"I cannot add these types (\" + str(type(x)) + \",\" + str(type(y)) + \")\"\n",
    "        return\n",
    "    return x + y\n",
    "\n",
    "print addnums(2,3.0)\n",
    "print addnums(1,\"a\")"
   ]
  },
  {
   "cell_type": "markdown",
   "metadata": {},
   "source": [
    "## # 1.3 Scope \n",
    "### Global vs Local Variables"
   ]
  },
  {
   "cell_type": "markdown",
   "metadata": {},
   "source": [
    "Python has it's own local variables list. x is not modified globally"
   ]
  },
  {
   "cell_type": "code",
   "execution_count": 11,
   "metadata": {
    "collapsed": false
   },
   "outputs": [
    {
     "name": "stdout",
     "output_type": "stream",
     "text": [
      "6.14\n",
      "1\n"
     ]
    }
   ],
   "source": [
    "def numop(x,y):\n",
    "    x *= 3.14\n",
    "    return x + y   # local x  \n",
    "x = 1              # global x\n",
    "print numop(x,3)   # local\n",
    "print x            # global"
   ]
  },
  {
   "cell_type": "code",
   "execution_count": 12,
   "metadata": {
    "collapsed": false
   },
   "outputs": [
    {
     "name": "stdout",
     "output_type": "stream",
     "text": [
      "(4.140000000000001, 2)\n",
      "(4.140000000000001, 3)\n"
     ]
    }
   ],
   "source": [
    "# specify global variable in function\n",
    "def numop(x,y):\n",
    "    x *= 3.14\n",
    "    global a\n",
    "    a += 1\n",
    "    return x + y, a\n",
    "a = 1\n",
    "print numop(1,1)\n",
    "print numop(1,1)"
   ]
  },
  {
   "cell_type": "markdown",
   "metadata": {},
   "source": [
    "## # 1.4 Keyword Arguments"
   ]
  },
  {
   "cell_type": "markdown",
   "metadata": {},
   "source": [
    "> keywords are a natural way to grow new functionality without \"breaking\" old code"
   ]
  },
  {
   "cell_type": "code",
   "execution_count": 14,
   "metadata": {
    "collapsed": false
   },
   "outputs": [
    {
     "name": "stdout",
     "output_type": "stream",
     "text": [
      "Thank you for your inquiry.\n",
      "2.0\n",
      "-1.0\n"
     ]
    }
   ],
   "source": [
    "def numop1(x,y,multiplier=1.0,greetings=\"Thank you for your inquiry.\"):\n",
    "    if greetings is not None:\n",
    "        print greetings\n",
    "    return (x+y)*multiplier\n",
    "\n",
    "print numop1(1,1)\n",
    "print numop1(1,1, multiplier=-0.5, greetings=None)\n",
    "\n"
   ]
  },
  {
   "cell_type": "markdown",
   "metadata": {},
   "source": [
    "### 1.4.1 Using an mutable type in a keyword argument (and modifying it inside the function body)"
   ]
  },
  {
   "cell_type": "code",
   "execution_count": 1,
   "metadata": {
    "collapsed": false
   },
   "outputs": [],
   "source": [
    "def add_to_dict(args={'a': 1, 'b': 2}):\n",
    "    for i in args.keys():\n",
    "        args[i] += 1\n",
    "    print args"
   ]
  },
  {
   "cell_type": "code",
   "execution_count": 2,
   "metadata": {
    "collapsed": false
   },
   "outputs": [
    {
     "data": {
      "text/plain": [
       "<function __main__.add_to_dict>"
      ]
     },
     "execution_count": 2,
     "metadata": {},
     "output_type": "execute_result"
    }
   ],
   "source": [
    "add_to_dict"
   ]
  },
  {
   "cell_type": "code",
   "execution_count": 3,
   "metadata": {
    "collapsed": false
   },
   "outputs": [
    {
     "name": "stdout",
     "output_type": "stream",
     "text": [
      "{'a': 2, 'b': 3}\n",
      "None\n",
      "{'a': 3, 'b': 4}\n",
      "None\n",
      "{'a': 4, 'b': 5}\n",
      "None\n",
      "{'a': 5, 'b': 6}\n",
      "None\n"
     ]
    }
   ],
   "source": [
    "print add_to_dict()\n",
    "print add_to_dict()\n",
    "print add_to_dict()\n",
    "print add_to_dict()"
   ]
  },
  {
   "cell_type": "markdown",
   "metadata": {},
   "source": [
    "## # 1.5 Unspecified args and keywords\n",
    "http://docs.python.org/tutorial/controlflow.html#keyword-arguments\n",
    "> The ***args** and ****kwargs** is a common idiom to allow arbitrary number of arguments to functions as described in the section more on defining functions in the Python documentation.\n",
    "\n",
    "> - The **args* will give you all function parameters as a tuple:\n",
    "> - The ***kwargs* will give you all keyword arguments as a dictionary."
   ]
  },
  {
   "cell_type": "code",
   "execution_count": 4,
   "metadata": {
    "collapsed": false
   },
   "outputs": [],
   "source": [
    "def cheeseshop(kind, *arguments, **keywords): \n",
    "    print \"-- Do you have any\", kind, \"?\"\n",
    "    print \"-- I'm sorry, we're all out of\", kind \n",
    "    for arg in arguments: \n",
    "        print arg\n",
    "    print \"-\" * 40\n",
    "    keys = keywords.keys()\n",
    "    keys.sort()\n",
    "    for kw in keys: \n",
    "        print kw, \":\", keywords[kw]"
   ]
  },
  {
   "cell_type": "code",
   "execution_count": 5,
   "metadata": {
    "collapsed": false
   },
   "outputs": [
    {
     "name": "stdout",
     "output_type": "stream",
     "text": [
      "-- Do you have any Limburger ?\n",
      "-- I'm sorry, we're all out of Limburger\n",
      "It's very runny, sir.\n",
      "It's really very, VERY runny, sir.\n",
      "----------------------------------------\n",
      "client : John Cleese\n",
      "shopkeeper : Michael Palin\n",
      "sketch : Cheese Shop Sketch\n"
     ]
    }
   ],
   "source": [
    "cheeseshop(\"Limburger\", \"It's very runny, sir.\", \"It's really very, VERY runny, sir.\",\n",
    "           shopkeeper='Michael Palin',\n",
    "           client=\"John Cleese\",\n",
    "           sketch=\"Cheese Shop Sketch\")"
   ]
  },
  {
   "cell_type": "markdown",
   "metadata": {},
   "source": [
    "## # 1.6 Dicstrings - Function Documentation\n",
    "> Just the right thing to do!"
   ]
  },
  {
   "cell_type": "code",
   "execution_count": 20,
   "metadata": {
    "collapsed": false
   },
   "outputs": [],
   "source": [
    "def numop1(x,y,multiplier=1.0,greetings=\"Thank you for your inquiry.\"): \n",
    "    \"\"\" numop1 -- this does a simple operation on two numbers.\n",
    "     We expect x,y are numbers and return x + y times the multiplier\n",
    "     multiplier is also a number (a float is preferred) and is optional.\n",
    "    It defaults to 1.0.\n",
    "     You can also specify a small greeting as a string. \n",
    "     \"\"\"\n",
    "\n",
    "    if greetings is not None: \n",
    "        print greetings \n",
    "    return (x + y)*multiplier\n",
    "\n"
   ]
  },
  {
   "cell_type": "code",
   "execution_count": 21,
   "metadata": {
    "collapsed": false
   },
   "outputs": [
    {
     "name": "stdout",
     "output_type": "stream",
     "text": [
      "Help on function numop1 in module __main__:\n",
      "\n",
      "numop1(x, y, multiplier=1.0, greetings='Thank you for your inquiry.')\n",
      "    numop1 -- this does a simple operation on two numbers.\n",
      "     We expect x,y are numbers and return x + y times the multiplier\n",
      "     multiplier is also a number (a float is preferred) and is optional.\n",
      "    It defaults to 1.0.\n",
      "     You can also specify a small greeting as a string.\n",
      "\n"
     ]
    }
   ],
   "source": [
    "help(numop1)"
   ]
  },
  {
   "cell_type": "code",
   "execution_count": 25,
   "metadata": {
    "collapsed": false
   },
   "outputs": [],
   "source": [
    "numop1?"
   ]
  },
  {
   "cell_type": "markdown",
   "metadata": {},
   "source": [
    "### # 1.6.1 - Create HTML version of documentation"
   ]
  },
  {
   "cell_type": "code",
   "execution_count": 27,
   "metadata": {
    "collapsed": false
   },
   "outputs": [
    {
     "name": "stdout",
     "output_type": "stream",
     "text": [
      "Writing numop1.py\n"
     ]
    }
   ],
   "source": [
    "%%file numop1.py\n",
    "def numop1(x,y,multiplier=1.0,greetings=\"Thank you for your inquiry.\"): \n",
    "    \"\"\" numop1 -- this does a simple operation on two numbers.\n",
    "     We expect x,y are numbers and return x + y times the multiplier\n",
    "     multiplier is also a number (a float is preferred) and is optional.\n",
    "    It defaults to 1.0.\n",
    "     You can also specify a small greeting as a string. \n",
    "     \"\"\"\n",
    "\n",
    "    if greetings is not None: \n",
    "        print greetings \n",
    "    return (x + y)*multiplier"
   ]
  },
  {
   "cell_type": "code",
   "execution_count": 29,
   "metadata": {
    "collapsed": false
   },
   "outputs": [
    {
     "name": "stdout",
     "output_type": "stream",
     "text": [
      "wrote numop1.html\n"
     ]
    }
   ],
   "source": [
    "%%bash\n",
    "pydoc -w numop1"
   ]
  },
  {
   "cell_type": "code",
   "execution_count": 1,
   "metadata": {
    "collapsed": false
   },
   "outputs": [
    {
     "data": {
      "text/html": [
       "<iframe src=./numop1.html width=700 height=350>"
      ],
      "text/plain": [
       "<IPython.core.display.HTML at 0x1081a6650>"
      ]
     },
     "execution_count": 1,
     "metadata": {},
     "output_type": "execute_result"
    }
   ],
   "source": [
    "from IPython.core.display import HTML\n",
    "\n",
    "HTML('<iframe src=./numop1.html width=700 height=350>')"
   ]
  },
  {
   "cell_type": "code",
   "execution_count": 33,
   "metadata": {
    "collapsed": false
   },
   "outputs": [],
   "source": [
    "%rm numop1.*"
   ]
  },
  {
   "cell_type": "markdown",
   "metadata": {},
   "source": [
    "***\n",
    "***"
   ]
  },
  {
   "cell_type": "markdown",
   "metadata": {},
   "source": [
    "# 2. Python Modules"
   ]
  },
  {
   "cell_type": "markdown",
   "metadata": {},
   "source": [
    "> **`Modules`** are organized unites (written as files) which contain functions, statements and other definitions\n",
    "- Any file ending in .py is treated as a module\n",
    "\n",
    "> If we want to write larger and better organized programs (compared to simple scripts), where some objects are defined, (variables, functions, classes) and that we want to reuse several times, we have to create our own modules.\n",
    "\n",
    "\n",
    "### Scripts or Modules? \n",
    "> Sets of instructions that are called several times should be written inside functions for better code reusability.\n",
    "\n",
    "> Functions (or other bits of code) that are called from several scripts should be written inside a module, so that only the module is imported in the different scripts (do not copy-and-paste your functions in the different scripts!).\n",
    "\n"
   ]
  },
  {
   "cell_type": "markdown",
   "metadata": {},
   "source": [
    "## # 2.1 Module Demo"
   ]
  },
  {
   "cell_type": "code",
   "execution_count": 21,
   "metadata": {
    "collapsed": false
   },
   "outputs": [
    {
     "name": "stdout",
     "output_type": "stream",
     "text": [
      "Writing moduledemo.py\n"
     ]
    }
   ],
   "source": [
    "%%file moduledemo.py\n",
    "\n",
    "\"\"\"\n",
    "small demo of modules\n",
    "\"\"\"\n",
    "\n",
    "print \"numfun2 in the house\" \n",
    "x=2\n",
    "s = \"spamm\"\n",
    "\n",
    "def numop1(x,y,multiplier=1.0,greetings=\"Thank you for your inquiry.\"): \n",
    "    \"\"\"\n",
    "Purpose: does a simple operation on two numbers.\n",
    "Input: We expect x,y are numbers\n",
    "       multiplier is also a number (a float is preferred) and is optional.\n",
    "       It defaults to 1.0. You can also specify a small greeting as a string.\n",
    "Output: return x + y times the multiplier\n",
    "    \"\"\"\n",
    "    if greetings is not None:\n",
    "        print greetings\n",
    "    return (x + y)*multiplier"
   ]
  },
  {
   "cell_type": "code",
   "execution_count": 7,
   "metadata": {
    "collapsed": false
   },
   "outputs": [
    {
     "name": "stdout",
     "output_type": "stream",
     "text": [
      "Thank you for your inquiry.\n",
      "2 spamm\n",
      "eggs spamm\n",
      "eggs eggs\n"
     ]
    }
   ],
   "source": [
    "import moduledemo\n",
    "\n",
    "numop1(1,1)\n",
    "\n",
    "print moduledemo.x, moduledemo.s\n",
    "s = \"eggs\";\n",
    "print s, moduledemo.s\n",
    "\n",
    "moduledemo.s = s\n",
    "print s, moduledemo.s\n",
    "\n",
    "#exit()  \n",
    "#%rm moduledemo*\n",
    "#%rm numop*"
   ]
  },
  {
   "cell_type": "code",
   "execution_count": 8,
   "metadata": {
    "collapsed": false
   },
   "outputs": [
    {
     "name": "stdout",
     "output_type": "stream",
     "text": [
      "numfun2 in the house\n"
     ]
    },
    {
     "data": {
      "text/plain": [
       "<module 'moduledemo' from 'moduledemo.py'>"
      ]
     },
     "execution_count": 8,
     "metadata": {},
     "output_type": "execute_result"
    }
   ],
   "source": [
    "reload(moduledemo)"
   ]
  },
  {
   "cell_type": "markdown",
   "metadata": {},
   "source": [
    "## # 2.2 Import a module's functions"
   ]
  },
  {
   "cell_type": "markdown",
   "metadata": {},
   "source": [
    "> from module_name import `function_name`\n",
    "\n",
    "> from module_name import `variable`"
   ]
  },
  {
   "cell_type": "code",
   "execution_count": 9,
   "metadata": {
    "collapsed": false
   },
   "outputs": [
    {
     "name": "stdout",
     "output_type": "stream",
     "text": [
      "2\n"
     ]
    },
    {
     "data": {
      "text/plain": [
       "10"
      ]
     },
     "execution_count": 9,
     "metadata": {},
     "output_type": "execute_result"
    }
   ],
   "source": [
    "from moduledemo import x, numop1\n",
    "\n",
    "print x\n",
    "numop1(2,3,2,greetings=None)\n",
    "\n"
   ]
  },
  {
   "cell_type": "code",
   "execution_count": 10,
   "metadata": {
    "collapsed": false
   },
   "outputs": [
    {
     "name": "stdout",
     "output_type": "stream",
     "text": [
      "numfun2 in the house\n"
     ]
    },
    {
     "data": {
      "text/plain": [
       "<module 'moduledemo' from 'moduledemo.pyc'>"
      ]
     },
     "execution_count": 10,
     "metadata": {},
     "output_type": "execute_result"
    }
   ],
   "source": [
    "reload(moduledemo)"
   ]
  },
  {
   "cell_type": "code",
   "execution_count": 11,
   "metadata": {
    "collapsed": false
   },
   "outputs": [
    {
     "name": "stdout",
     "output_type": "stream",
     "text": [
      "2\n"
     ]
    },
    {
     "data": {
      "text/plain": [
       "10"
      ]
     },
     "execution_count": 11,
     "metadata": {},
     "output_type": "execute_result"
    }
   ],
   "source": [
    "from moduledemo import x as y, numop1 as myfunction\n",
    "\n",
    "print y\n",
    "myfunction(2,3,2,greetings=None)"
   ]
  },
  {
   "cell_type": "markdown",
   "metadata": {},
   "source": [
    "## # 2.3 Built-in Functions\n",
    "\n",
    "http://www.python.org/doc/2.7.3/lib/module-sys.html"
   ]
  },
  {
   "cell_type": "markdown",
   "metadata": {},
   "source": [
    "***\n",
    "***"
   ]
  },
  {
   "cell_type": "markdown",
   "metadata": {},
   "source": [
    "\n",
    "## # 3.3 Making Script/Module Executable\n",
    "> When a script/module is run from the command line, a special variable called `__name__` is set to `\"__main__\"`\n",
    "\n",
    "> On the first line of a script, say what to run the script with (as with Perl):"
   ]
  },
  {
   "cell_type": "code",
   "execution_count": 12,
   "metadata": {
    "collapsed": false
   },
   "outputs": [
    {
     "name": "stdout",
     "output_type": "stream",
     "text": [
      "Writing moduledemo.py\n"
     ]
    }
   ],
   "source": [
    "%%file moduledemo.py\n",
    "\n",
    "#!/usr/bin/env python\n",
    "\n",
    "\"\"\"\n",
    "small demo of modules\n",
    "\"\"\"\n",
    "\n",
    "print \"numfun2 in the house\" \n",
    "\n",
    "def numop1(x,y,multiplier=1.0,greetings=\"Thank you for your inquiry.\"): \n",
    "    \"\"\"\n",
    "Purpose: does a simple operation on two numbers.\n",
    "Input: We expect x,y are numbers\n",
    "       multiplier is also a number (a float is preferred) and is optional.\n",
    "       It defaults to 1.0. You can also specify a small greeting as a string.\n",
    "Output: return x + y times the multiplier\n",
    "    \"\"\"\n",
    "    if greetings is not None:\n",
    "        print greetings\n",
    "    return (x + y)*multiplier\n",
    "\n",
    "if __name__ == \"__main__\":\n",
    "    \"\"\"only executed if this module is called from the command line\"\"\"\n",
    "    print \"I was called from the command line!\"\n",
    "    print numop1(2,3)"
   ]
  },
  {
   "cell_type": "code",
   "execution_count": 13,
   "metadata": {
    "collapsed": false
   },
   "outputs": [],
   "source": [
    "%load moduledemo.py"
   ]
  },
  {
   "cell_type": "code",
   "execution_count": null,
   "metadata": {
    "collapsed": false
   },
   "outputs": [],
   "source": [
    "\n",
    "#!/usr/bin/env python\n",
    "\n",
    "\"\"\"\n",
    "small demo of modules\n",
    "\"\"\"\n",
    "\n",
    "print \"numfun2 in the house\" \n",
    "\n",
    "def numop1(x,y,multiplier=1.0,greetings=\"Thank you for your inquiry.\"): \n",
    "    \"\"\"\n",
    "Purpose: does a simple operation on two numbers.\n",
    "Input: We expect x,y are numbers\n",
    "       multiplier is also a number (a float is preferred) and is optional.\n",
    "       It defaults to 1.0. You can also specify a small greeting as a string.\n",
    "Output: return x + y times the multiplier\n",
    "    \"\"\"\n",
    "    if greetings is not None:\n",
    "        print greetings\n",
    "    return (x + y)*multiplier\n",
    "\n",
    "if __name__ == \"__main__\":\n",
    "    \"\"\"only executed if this module is called from the command line\"\"\"\n",
    "    print \"I was called from the command line!\"\n",
    "    print numop1(2,3)"
   ]
  },
  {
   "cell_type": "code",
   "execution_count": 14,
   "metadata": {
    "collapsed": false
   },
   "outputs": [
    {
     "name": "stdout",
     "output_type": "stream",
     "text": [
      "numfun2 in the house\n",
      "I was called from the command line!\n",
      "Thank you for your inquiry.\n",
      "Your answer is: 5.0\n"
     ]
    }
   ],
   "source": [
    "\n",
    "#!/usr/bin/env python\n",
    "\n",
    "\"\"\"\n",
    "small demo of modules\n",
    "\"\"\"\n",
    "\n",
    "print \"numfun2 in the house\" \n",
    "\n",
    "def numop1(x,y,multiplier=1.0,greetings=\"Thank you for your inquiry.\"): \n",
    "    \"\"\"\n",
    "Purpose: does a simple operation on two numbers.\n",
    "Input: We expect x,y are numbers\n",
    "       multiplier is also a number (a float is preferred) and is optional.\n",
    "       It defaults to 1.0. You can also specify a small greeting as a string.\n",
    "Output: return x + y times the multiplier\n",
    "    \"\"\"\n",
    "    if greetings is not None:\n",
    "        print greetings\n",
    "    return 'Your answer is: ' + str((x + y)*multiplier)\n",
    "\n",
    "if __name__ == \"__main__\":\n",
    "    \"\"\"only executed if this module is called from the command line\"\"\"\n",
    "    print \"I was called from the command line!\"\n",
    "    print numop1(2,3)"
   ]
  },
  {
   "cell_type": "code",
   "execution_count": 15,
   "metadata": {
    "collapsed": false
   },
   "outputs": [
    {
     "name": "stdout",
     "output_type": "stream",
     "text": [
      "numfun2 in the house\n",
      "I was called from the command line!\n",
      "Thank you for your inquiry.\n",
      "5.0\n"
     ]
    }
   ],
   "source": [
    "run moduledemo.py"
   ]
  },
  {
   "cell_type": "code",
   "execution_count": 16,
   "metadata": {
    "collapsed": false
   },
   "outputs": [],
   "source": [
    "%rm moduledemo*"
   ]
  },
  {
   "cell_type": "markdown",
   "metadata": {},
   "source": [
    "----"
   ]
  },
  {
   "cell_type": "markdown",
   "metadata": {},
   "source": [
    "# 3. Python Packages"
   ]
  },
  {
   "cell_type": "markdown",
   "metadata": {},
   "source": [
    "> A directory that contains many modules is called a package. A package is a module with submodules (which can have submodules themselves, etc.). A special file called `__init__`.py (which may be empty) tells Python that the directory is a Python package, from which modules can be imported."
   ]
  },
  {
   "cell_type": "code",
   "execution_count": 10,
   "metadata": {
    "collapsed": false
   },
   "outputs": [],
   "source": [
    "import scipy"
   ]
  },
  {
   "cell_type": "code",
   "execution_count": 11,
   "metadata": {
    "collapsed": false
   },
   "outputs": [
    {
     "data": {
      "text/plain": [
       "'/Library/anaconda/lib/python2.7/site-packages/scipy/__init__.pyc'"
      ]
     },
     "execution_count": 11,
     "metadata": {},
     "output_type": "execute_result"
    }
   ],
   "source": [
    "scipy.__file__"
   ]
  },
  {
   "cell_type": "code",
   "execution_count": 12,
   "metadata": {
    "collapsed": false
   },
   "outputs": [],
   "source": [
    "import scipy.version"
   ]
  },
  {
   "cell_type": "code",
   "execution_count": 13,
   "metadata": {
    "collapsed": false
   },
   "outputs": [
    {
     "data": {
      "text/plain": [
       "'0.14.0'"
      ]
     },
     "execution_count": 13,
     "metadata": {},
     "output_type": "execute_result"
    }
   ],
   "source": [
    "scipy.version.version"
   ]
  },
  {
   "cell_type": "code",
   "execution_count": 14,
   "metadata": {
    "collapsed": false
   },
   "outputs": [],
   "source": [
    "import scipy.ndimage.morphology"
   ]
  },
  {
   "cell_type": "code",
   "execution_count": 15,
   "metadata": {
    "collapsed": false
   },
   "outputs": [],
   "source": [
    "from scipy.ndimage import morphology\n"
   ]
  },
  {
   "cell_type": "code",
   "execution_count": null,
   "metadata": {
    "collapsed": false
   },
   "outputs": [],
   "source": []
  }
 ],
 "metadata": {
  "kernelspec": {
   "display_name": "Python 2",
   "language": "python",
   "name": "python2"
  },
  "language_info": {
   "codemirror_mode": {
    "name": "ipython",
    "version": 2
   },
   "file_extension": ".py",
   "mimetype": "text/x-python",
   "name": "python",
   "nbconvert_exporter": "python",
   "pygments_lexer": "ipython2",
   "version": "2.7.9"
  }
 },
 "nbformat": 4,
 "nbformat_minor": 0
}
