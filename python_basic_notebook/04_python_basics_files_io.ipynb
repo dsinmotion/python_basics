{
 "metadata": {
  "name": "",
  "signature": "sha256:0184a05f567efd0739c1adca5946145b21f99bdc8045b95e10e08f801642682a"
 },
 "nbformat": 3,
 "nbformat_minor": 0,
 "worksheets": [
  {
   "cells": [
    {
     "cell_type": "heading",
     "level": 1,
     "metadata": {},
     "source": [
      "+++ Python File I/O +++"
     ]
    },
    {
     "cell_type": "markdown",
     "metadata": {},
     "source": [
      "* The open() function opens and returns a file handle that can be used to read or write a file in the usual way. \n",
      "* The code f = open('name', 'r') opens the file into the variable f, ready for reading operations, and use f.close() when finished. \n",
      "* 'r' when the file will only be read\n",
      "* 'w' for only writing (an existing file with the same name will be erased)\n",
      "* 'a' opens the file for appending; any data written to the file is automatically added to the end. \n",
      "* 'r+' opens the file for both reading and writing.\n",
      "* 'b' binary mode\n",
      "* The special mode 'rU' is the \"Universal\" option for text files where it's smart about converting different line-endings so they always come through as a simple '\\n'. "
     ]
    },
    {
     "cell_type": "markdown",
     "metadata": {},
     "source": [
      "----"
     ]
    },
    {
     "cell_type": "markdown",
     "metadata": {},
     "source": [
      "##Read File One Line At a Time\n",
      "* will never run out of memory"
     ]
    },
    {
     "cell_type": "code",
     "collapsed": false,
     "input": [
      "# Read File One Line At a Time\n",
      "\n",
      "import sys\n",
      "\n",
      "path = './data/text.txt'\n",
      "\n",
      "def cat(filename):\n",
      "    f = open(filename, 'rU')     \n",
      "    for line in f:               # read into memory one line at a time\n",
      "                                 # will never run out of memory!!!\n",
      "        print line\n",
      "    f.close()\n",
      "    \n",
      "def main():\n",
      "    cat(path)\n",
      "    \n",
      "if __name__ == '__main__':\n",
      "    main()"
     ],
     "language": "python",
     "metadata": {},
     "outputs": [
      {
       "output_type": "stream",
       "stream": "stdout",
       "text": [
        "xxxx\n",
        "\n",
        "yyyy\n",
        "\n",
        "zzzz\n",
        "\n"
       ]
      }
     ],
     "prompt_number": 14
    },
    {
     "cell_type": "markdown",
     "metadata": {},
     "source": [
      "----"
     ]
    },
    {
     "cell_type": "markdown",
     "metadata": {},
     "source": [
      "## Read File into Memory as a List\n",
      "* the lines are read into memory as a list"
     ]
    },
    {
     "cell_type": "code",
     "collapsed": false,
     "input": [
      "# Read File Into Memory First\n",
      "import sys\n",
      "\n",
      "path = './data/text.txt'\n",
      "\n",
      "def cat(filename):\n",
      "    f = open(filename, 'rU')     \n",
      "    lines = f.readlines()      # In this case, the lines are read into memory as a list\n",
      "    print lines\n",
      "    f.close()\n",
      "    \n",
      "def main():\n",
      "    cat(path)\n",
      "    \n",
      "if __name__ == '__main__':\n",
      "    main()"
     ],
     "language": "python",
     "metadata": {},
     "outputs": [
      {
       "output_type": "stream",
       "stream": "stdout",
       "text": [
        "['xxxx\\n', 'yyyy\\n', 'zzzz\\n']\n"
       ]
      }
     ],
     "prompt_number": 12
    },
    {
     "cell_type": "markdown",
     "metadata": {},
     "source": [
      "----"
     ]
    },
    {
     "cell_type": "markdown",
     "metadata": {},
     "source": [
      "## Read File into Memory as a String!!!\n",
      "* Convenient when you want to do some string operations on the entire file"
     ]
    },
    {
     "cell_type": "code",
     "collapsed": false,
     "input": [
      "# Read File into RAM as a String\n",
      "import sys\n",
      "\n",
      "path = './data/text.txt'\n",
      "\n",
      "def cat(filename):\n",
      "    f = open(filename, 'rU')     \n",
      "    text = f.read()      # In this case, the lines are read into memory as a string\n",
      "    print text\n",
      "    f.close()\n",
      "    \n",
      "def main():\n",
      "    cat(path)\n",
      "    \n",
      "if __name__ == '__main__':\n",
      "    main()"
     ],
     "language": "python",
     "metadata": {},
     "outputs": [
      {
       "output_type": "stream",
       "stream": "stdout",
       "text": [
        "xxxx\n",
        "yyyy\n",
        "zzzz\n",
        "\n"
       ]
      }
     ],
     "prompt_number": 13
    },
    {
     "cell_type": "markdown",
     "metadata": {},
     "source": [
      "----"
     ]
    },
    {
     "cell_type": "markdown",
     "metadata": {},
     "source": [
      "## Write\n",
      "\n"
     ]
    },
    {
     "cell_type": "code",
     "collapsed": false,
     "input": [
      "# Write file\n",
      "import sys\n",
      "\n",
      "path = './data/text.txt'\n",
      "\n",
      "def writefile(filename):\n",
      "    f = open(filename, 'w')     \n",
      "    text = f.write('aaa\\n')      \n",
      "    text = f.write('bbb\\n')\n",
      "    text = f.write('ccc\\n')\n",
      "    f.close()\n",
      "    \n",
      "def main():\n",
      "    writefile(path)\n",
      "    \n",
      "if __name__ == '__main__':\n",
      "    main()"
     ],
     "language": "python",
     "metadata": {},
     "outputs": [],
     "prompt_number": 1
    },
    {
     "cell_type": "code",
     "collapsed": false,
     "input": [
      "!cat ./data/text.txt"
     ],
     "language": "python",
     "metadata": {},
     "outputs": [
      {
       "output_type": "stream",
       "stream": "stdout",
       "text": [
        "aaa\r\n",
        "bbb\r\n",
        "ccc\r\n"
       ]
      }
     ],
     "prompt_number": 2
    },
    {
     "cell_type": "markdown",
     "metadata": {},
     "source": [
      "----"
     ]
    },
    {
     "cell_type": "markdown",
     "metadata": {},
     "source": [
      "## Append"
     ]
    },
    {
     "cell_type": "code",
     "collapsed": false,
     "input": [
      "import sys\n",
      "f = open('./data/text.txt', 'a')     \n",
      "text = f.write('xxx\\n')      \n",
      "text = f.write('yyy\\n')\n",
      "text = f.write('zzz\\n')\n",
      "f.close()"
     ],
     "language": "python",
     "metadata": {},
     "outputs": [],
     "prompt_number": 4
    },
    {
     "cell_type": "code",
     "collapsed": false,
     "input": [
      "!cat ./data/text.txt"
     ],
     "language": "python",
     "metadata": {},
     "outputs": [
      {
       "output_type": "stream",
       "stream": "stdout",
       "text": [
        "aaa\r\n",
        "bbb\r\n",
        "ccc\r\n",
        "xxx\r\n",
        "yyy\r\n",
        "zzz\r\n"
       ]
      }
     ],
     "prompt_number": 5
    },
    {
     "cell_type": "code",
     "collapsed": false,
     "input": [],
     "language": "python",
     "metadata": {},
     "outputs": []
    }
   ],
   "metadata": {}
  }
 ]
}