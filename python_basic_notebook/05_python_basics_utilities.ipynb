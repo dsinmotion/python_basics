{
 "cells": [
  {
   "cell_type": "markdown",
   "metadata": {},
   "source": [
    "# Python Popular Utilities Modules"
   ]
  },
  {
   "cell_type": "markdown",
   "metadata": {},
   "source": [
    "### 1 - File System - os, os.path, shutil, commands\n",
    "* 1.1 **os**\n",
    "  * filenames = os.listdir(dir) -- list of filenames in that directory path (not including . and ..). The filenames are just the names in the directory, not their absolute paths.\n",
    "  * os.path.join(dir, filename) -- given a filename from the above list, use this to put the dir and filename together to make a path\n",
    "  * os.path.abspath(path) -- given a path, return an absolute form, e.g. /home/nick/foo/bar.html\n",
    "  * os.path.dirname(path), os.path.basename(path) -- given dir/foo/bar.html, return the dirname \"dir/foo\" and basename \"bar.html\"\n",
    "  * os.path.exists(path) -- true if it exists\n",
    "  * os.mkdir(dir_path) -- makes one dir, os.makedirs(dir_path) makes all the needed dirs in this path\n",
    "* 1.2 **shutil.copy**(source-path, dest-path) -- copy a file (dest path directories should exist)\n",
    "* 1.3 **commands** -- runs shell commands\n",
    "* 1.4 **glob**\n",
    "* 1.5 **sys**\n",
    "* 1.6 **pickle**\n",
    "\n",
    "### 2 -  HTTP - urlib, urlparse\n",
    "* ufile = urllib.urlopen(url) -- returns a file like object for that url\n",
    "* text = ufile.read() -- can read from it, like a file (readlines() etc. also work)\n",
    "* info = ufile.info() -- the meta info for that request. info.gettype() is the mime time, e.g. 'text/html'\n",
    "* baseurl = ufile.geturl() -- gets the \"base\" url for the request, which may be different from the original because of redirects\n",
    "* urllib.urlretrieve(url, filename) -- downloads the url data to the given file path\n",
    "* urlparse.urljoin(baseurl, url) -- given a url that may or may not be full, and the baseurl of the page it comes from, return a full url. Use geturl() above to provide the base url.\n",
    "\n",
    "### 3 -  DATETIME - datetime module\n",
    "* get system datetime\n",
    "\n",
    "### 4 - argparse\n"
   ]
  },
  {
   "cell_type": "markdown",
   "metadata": {},
   "source": [
    "----"
   ]
  },
  {
   "cell_type": "markdown",
   "metadata": {},
   "source": [
    "# 1 - File System - Standard Library\n",
    "> **`os`** module\n",
    "\n",
    "> **`shutil`**: high-level file operations\n",
    "\n",
    "> **`commands`** module\n",
    "\n",
    "> **`glob`**: pattern matching on files\n",
    "\n",
    "> **`sys`** module: system-specific information\n",
    "\n",
    "> **`pickle`**: easy persistence"
   ]
  },
  {
   "cell_type": "markdown",
   "metadata": {},
   "source": [
    "## 1.1 - `os` module"
   ]
  },
  {
   "cell_type": "code",
   "execution_count": 1,
   "metadata": {
    "collapsed": false
   },
   "outputs": [],
   "source": [
    "import os\n",
    "# dir(os)"
   ]
  },
  {
   "cell_type": "markdown",
   "metadata": {},
   "source": [
    "### # 1.1.1 directory and file manipulation"
   ]
  },
  {
   "cell_type": "code",
   "execution_count": 2,
   "metadata": {
    "collapsed": false
   },
   "outputs": [
    {
     "data": {
      "text/plain": [
       "['.DS_Store', 'python_basic_notebook', 'python_data_analysis_notebook']"
      ]
     },
     "execution_count": 2,
     "metadata": {},
     "output_type": "execute_result"
    }
   ],
   "source": [
    "# list directory\n",
    "os.listdir('../')"
   ]
  },
  {
   "cell_type": "code",
   "execution_count": 2,
   "metadata": {
    "collapsed": false
   },
   "outputs": [
    {
     "data": {
      "text/plain": [
       "'/Users/DSinmotion/Dropbox/DataScience/Github/datascience/python/python_basics/python_basic_notebook'"
      ]
     },
     "execution_count": 2,
     "metadata": {},
     "output_type": "execute_result"
    }
   ],
   "source": [
    "# current working directory\n",
    "os.getcwd()"
   ]
  },
  {
   "cell_type": "code",
   "execution_count": 3,
   "metadata": {
    "collapsed": false
   },
   "outputs": [
    {
     "data": {
      "text/plain": [
       "True"
      ]
     },
     "execution_count": 3,
     "metadata": {},
     "output_type": "execute_result"
    }
   ],
   "source": [
    "# make a directory\n",
    "os.mkdir('tmpdir')\n",
    "'tmpdir' in os.listdir(os.curdir)"
   ]
  },
  {
   "cell_type": "code",
   "execution_count": 4,
   "metadata": {
    "collapsed": false
   },
   "outputs": [
    {
     "data": {
      "text/plain": [
       "True"
      ]
     },
     "execution_count": 4,
     "metadata": {},
     "output_type": "execute_result"
    }
   ],
   "source": [
    "# rename the directory\n",
    "os.rename('tmpdir', 'tmpdir1')\n",
    "'tmpdir1' in os.listdir(os.curdir)"
   ]
  },
  {
   "cell_type": "code",
   "execution_count": 5,
   "metadata": {
    "collapsed": false
   },
   "outputs": [
    {
     "data": {
      "text/plain": [
       "False"
      ]
     },
     "execution_count": 5,
     "metadata": {},
     "output_type": "execute_result"
    }
   ],
   "source": [
    "# delete a file/dir\n",
    "os.rmdir('tmpdir1')\n",
    "'tmpdir' in os.listdir(os.curdir)"
   ]
  },
  {
   "cell_type": "code",
   "execution_count": 7,
   "metadata": {
    "collapsed": false
   },
   "outputs": [
    {
     "name": "stdout",
     "output_type": "stream",
     "text": [
      "True\n",
      "False\n"
     ]
    }
   ],
   "source": [
    "# delete a file\n",
    "fp = open('junk.txt', 'w')\n",
    "fp.close()\n",
    "print 'junk.txt' in os.listdir(os.curdir)\n",
    "\n",
    "os.remove('junk.txt')\n",
    "print 'junk.txt' in os.listdir(os.curdir)"
   ]
  },
  {
   "cell_type": "code",
   "execution_count": 3,
   "metadata": {
    "collapsed": false
   },
   "outputs": [
    {
     "name": "stdout",
     "output_type": "stream",
     "text": [
      "['.DS_Store', 'python_basic_notebook', 'python_data_analysis_notebook']\n"
     ]
    }
   ],
   "source": [
    "# list directory as a list\n",
    "import os\n",
    "\n",
    "def List(dir):\n",
    "    files = os.listdir(dir)\n",
    "    print files\n",
    "    \n",
    "def main():\n",
    "    List('../')\n",
    "    \n",
    "if __name__ == '__main__':\n",
    "    main()"
   ]
  },
  {
   "cell_type": "markdown",
   "metadata": {},
   "source": [
    "### # 1.1.2 `os.path` Path Manipulations"
   ]
  },
  {
   "cell_type": "code",
   "execution_count": 8,
   "metadata": {
    "collapsed": false
   },
   "outputs": [
    {
     "data": {
      "text/plain": [
       "'/Users/DSinmotion/Dropbox/DataScience/Github/datascience/python/python_basics/python_basic_notebook/junk.txt'"
      ]
     },
     "execution_count": 8,
     "metadata": {},
     "output_type": "execute_result"
    }
   ],
   "source": [
    "fp = open('junk.txt', 'w')\n",
    "fp.close()\n",
    "\n",
    "a = os.path.abspath('junk.txt')\n",
    "a"
   ]
  },
  {
   "cell_type": "code",
   "execution_count": 9,
   "metadata": {
    "collapsed": false
   },
   "outputs": [
    {
     "data": {
      "text/plain": [
       "('/Users/DSinmotion/Dropbox/DataScience/Github/datascience/python/python_basics/python_basic_notebook',\n",
       " 'junk.txt')"
      ]
     },
     "execution_count": 9,
     "metadata": {},
     "output_type": "execute_result"
    }
   ],
   "source": [
    "os.path.split(a)"
   ]
  },
  {
   "cell_type": "code",
   "execution_count": 10,
   "metadata": {
    "collapsed": false
   },
   "outputs": [
    {
     "data": {
      "text/plain": [
       "'/Users/DSinmotion/Dropbox/DataScience/Github/datascience/python/python_basics/python_basic_notebook'"
      ]
     },
     "execution_count": 10,
     "metadata": {},
     "output_type": "execute_result"
    }
   ],
   "source": [
    "os.path.dirname(a)"
   ]
  },
  {
   "cell_type": "code",
   "execution_count": 11,
   "metadata": {
    "collapsed": false
   },
   "outputs": [
    {
     "data": {
      "text/plain": [
       "'junk.txt'"
      ]
     },
     "execution_count": 11,
     "metadata": {},
     "output_type": "execute_result"
    }
   ],
   "source": [
    "os.path.basename(a)"
   ]
  },
  {
   "cell_type": "code",
   "execution_count": 12,
   "metadata": {
    "collapsed": false
   },
   "outputs": [
    {
     "data": {
      "text/plain": [
       "('junk', '.txt')"
      ]
     },
     "execution_count": 12,
     "metadata": {},
     "output_type": "execute_result"
    }
   ],
   "source": [
    "os.path.splitext(os.path.basename(a))"
   ]
  },
  {
   "cell_type": "code",
   "execution_count": 13,
   "metadata": {
    "collapsed": false
   },
   "outputs": [
    {
     "data": {
      "text/plain": [
       "True"
      ]
     },
     "execution_count": 13,
     "metadata": {},
     "output_type": "execute_result"
    }
   ],
   "source": [
    "os.path.exists('junk.txt')"
   ]
  },
  {
   "cell_type": "code",
   "execution_count": 14,
   "metadata": {
    "collapsed": false
   },
   "outputs": [
    {
     "data": {
      "text/plain": [
       "True"
      ]
     },
     "execution_count": 14,
     "metadata": {},
     "output_type": "execute_result"
    }
   ],
   "source": [
    "os.path.isfile('junk.txt')"
   ]
  },
  {
   "cell_type": "code",
   "execution_count": 15,
   "metadata": {
    "collapsed": false
   },
   "outputs": [
    {
     "data": {
      "text/plain": [
       "False"
      ]
     },
     "execution_count": 15,
     "metadata": {},
     "output_type": "execute_result"
    }
   ],
   "source": [
    "os.path.isdir('junk.txt')"
   ]
  },
  {
   "cell_type": "code",
   "execution_count": 17,
   "metadata": {
    "collapsed": false
   },
   "outputs": [
    {
     "data": {
      "text/plain": [
       "'/Users/DSinmotion/Dropbox/DataScience/Github/datascience/python/python_basics/python_basic_notebook/ttt/kkk'"
      ]
     },
     "execution_count": 17,
     "metadata": {},
     "output_type": "execute_result"
    }
   ],
   "source": [
    "os.path.join(os.path.dirname(a), 'ttt','kkk')"
   ]
  },
  {
   "cell_type": "markdown",
   "metadata": {},
   "source": [
    "#### filenames, absolute path, relative path "
   ]
  },
  {
   "cell_type": "code",
   "execution_count": 18,
   "metadata": {
    "collapsed": false
   },
   "outputs": [
    {
     "name": "stdout",
     "output_type": "stream",
     "text": [
      ".DS_Store\n",
      "../.DS_Store\n",
      "/Users/DSinmotion/Dropbox/DataScience/Github/datascience/python/python_basics/.DS_Store\n",
      "python_basic_notebook\n",
      "../python_basic_notebook\n",
      "/Users/DSinmotion/Dropbox/DataScience/Github/datascience/python/python_basics/python_basic_notebook\n",
      "python_data_analysis_notebook\n",
      "../python_data_analysis_notebook\n",
      "/Users/DSinmotion/Dropbox/DataScience/Github/datascience/python/python_basics/python_data_analysis_notebook\n",
      "training_material_original\n",
      "../training_material_original\n",
      "/Users/DSinmotion/Dropbox/DataScience/Github/datascience/python/python_basics/training_material_original\n"
     ]
    }
   ],
   "source": [
    "## Example pulls filenames from a dir, prints their relative and absolute paths\n",
    "def printdir(dir):\n",
    "  filenames = os.listdir(dir)\n",
    "  for filename in filenames:\n",
    "    print filename  ## foo.txt\n",
    "    print os.path.join(dir, filename) ## dir/foo.txt (relative to current dir)\n",
    "    print os.path.abspath(os.path.join(dir, filename)) ## /home/nick/dir/foo.txt\n",
    "    \n",
    "def main():\n",
    "    printdir('../')\n",
    "    \n",
    "if __name__ == '__main__':\n",
    "    main()"
   ]
  },
  {
   "cell_type": "markdown",
   "metadata": {},
   "source": [
    "####check file existence"
   ]
  },
  {
   "cell_type": "code",
   "execution_count": 2,
   "metadata": {
    "collapsed": false
   },
   "outputs": [
    {
     "data": {
      "text/plain": [
       "True"
      ]
     },
     "execution_count": 2,
     "metadata": {},
     "output_type": "execute_result"
    }
   ],
   "source": [
    "import os\n",
    "os.path.exists('../python_data_analysis_notebook')"
   ]
  },
  {
   "cell_type": "markdown",
   "metadata": {},
   "source": [
    "#### Walking a directory"
   ]
  },
  {
   "cell_type": "code",
   "execution_count": 5,
   "metadata": {
    "collapsed": false
   },
   "outputs": [
    {
     "name": "stdout",
     "output_type": "stream",
     "text": [
      "/Users/szhang/Dropbox/datascience/Github/datascience/python/python_basics/python_basic_notebook/.project\n",
      "/Users/szhang/Dropbox/datascience/Github/datascience/python/python_basics/python_basic_notebook/.pydevproject\n",
      "/Users/szhang/Dropbox/datascience/Github/datascience/python/python_basics/python_basic_notebook/00_python_basics_ipython_tutorial.ipynb\n",
      "/Users/szhang/Dropbox/datascience/Github/datascience/python/python_basics/python_basic_notebook/01_python_basics_intro.ipynb\n",
      "/Users/szhang/Dropbox/datascience/Github/datascience/python/python_basics/python_basic_notebook/02_python_basics_data_structure.ipynb\n",
      "/Users/szhang/Dropbox/datascience/Github/datascience/python/python_basics/python_basic_notebook/03_python_basics_exception.ipynb\n",
      "/Users/szhang/Dropbox/datascience/Github/datascience/python/python_basics/python_basic_notebook/04_python_basics_files_io.ipynb\n",
      "/Users/szhang/Dropbox/datascience/Github/datascience/python/python_basics/python_basic_notebook/05_python_basics_utilities.ipynb\n",
      "/Users/szhang/Dropbox/datascience/Github/datascience/python/python_basics/python_basic_notebook/06_python_basics_regex.ipynb\n",
      "/Users/szhang/Dropbox/datascience/Github/datascience/python/python_basics/python_basic_notebook/07_python_basics_functions_modules.ipynb\n",
      "/Users/szhang/Dropbox/datascience/Github/datascience/python/python_basics/python_basic_notebook/08_advanced_interactions.ipynb\n",
      "/Users/szhang/Dropbox/datascience/Github/datascience/python/python_basics/python_basic_notebook/09_OOP.ipynb\n",
      "/Users/szhang/Dropbox/datascience/Github/datascience/python/python_basics/python_basic_notebook/10_python_speed_and_performance_tips.ipynb\n",
      "/Users/szhang/Dropbox/datascience/Github/datascience/python/python_basics/python_basic_notebook/bear.log\n",
      "/Users/szhang/Dropbox/datascience/Github/datascience/python/python_basics/python_basic_notebook/bear.py\n",
      "/Users/szhang/Dropbox/datascience/Github/datascience/python/python_basics/python_basic_notebook/bear1.py\n",
      "/Users/szhang/Dropbox/datascience/Github/datascience/python/python_basics/python_basic_notebook/bear1.pyc\n",
      "/Users/szhang/Dropbox/datascience/Github/datascience/python/python_basics/python_basic_notebook/bear2.py\n",
      "/Users/szhang/Dropbox/datascience/Github/datascience/python/python_basics/python_basic_notebook/bear2.pyc\n",
      "/Users/szhang/Dropbox/datascience/Github/datascience/python/python_basics/python_basic_notebook/catcherr.py\n",
      "/Users/szhang/Dropbox/datascience/Github/datascience/python/python_basics/python_basic_notebook/downgradenb.py\n",
      "/Users/szhang/Dropbox/datascience/Github/datascience/python/python_basics/python_basic_notebook/hello.py\n",
      "/Users/szhang/Dropbox/datascience/Github/datascience/python/python_basics/python_basic_notebook/junk.txt\n",
      "/Users/szhang/Dropbox/datascience/Github/datascience/python/python_basics/python_basic_notebook/mod.py\n",
      "/Users/szhang/Dropbox/datascience/Github/datascience/python/python_basics/python_basic_notebook/mod.pyc\n",
      "/Users/szhang/Dropbox/datascience/Github/datascience/python/python_basics/python_basic_notebook/moduledemo.py\n",
      "/Users/szhang/Dropbox/datascience/Github/datascience/python/python_basics/python_basic_notebook/Python_Environment_README\n",
      "/Users/szhang/Dropbox/datascience/Github/datascience/python/python_basics/python_basic_notebook/scicomp2.ipynb\n",
      "/Users/szhang/Dropbox/datascience/Github/datascience/python/python_basics/python_basic_notebook/subclass.py\n",
      "/Users/szhang/Dropbox/datascience/Github/datascience/python/python_basics/python_basic_notebook/test.txt\n",
      "/Users/szhang/Dropbox/datascience/Github/datascience/python/python_basics/python_basic_notebook/test_1.py\n",
      "/Users/szhang/Dropbox/datascience/Github/datascience/python/python_basics/python_basic_notebook/00_python_basics_ipython_tutorial-checkpoint.ipynb\n",
      "/Users/szhang/Dropbox/datascience/Github/datascience/python/python_basics/python_basic_notebook/01_python_basics_intro-checkpoint.ipynb\n",
      "/Users/szhang/Dropbox/datascience/Github/datascience/python/python_basics/python_basic_notebook/02_python_basics_data_structure-checkpoint.ipynb\n",
      "/Users/szhang/Dropbox/datascience/Github/datascience/python/python_basics/python_basic_notebook/03_python_basics_exception-checkpoint.ipynb\n",
      "/Users/szhang/Dropbox/datascience/Github/datascience/python/python_basics/python_basic_notebook/04_python_basics_files_io-checkpoint.ipynb\n",
      "/Users/szhang/Dropbox/datascience/Github/datascience/python/python_basics/python_basic_notebook/05_python_basics_utilities-checkpoint.ipynb\n",
      "/Users/szhang/Dropbox/datascience/Github/datascience/python/python_basics/python_basic_notebook/06_python_basics_regex-checkpoint.ipynb\n",
      "/Users/szhang/Dropbox/datascience/Github/datascience/python/python_basics/python_basic_notebook/07_python_basics_functions_modules-checkpoint.ipynb\n",
      "/Users/szhang/Dropbox/datascience/Github/datascience/python/python_basics/python_basic_notebook/08_advanced_interactions-checkpoint.ipynb\n",
      "/Users/szhang/Dropbox/datascience/Github/datascience/python/python_basics/python_basic_notebook/09_OOP-checkpoint.ipynb\n",
      "/Users/szhang/Dropbox/datascience/Github/datascience/python/python_basics/python_basic_notebook/10_python_speed_and_performance_tips-checkpoint.ipynb\n",
      "/Users/szhang/Dropbox/datascience/Github/datascience/python/python_basics/python_basic_notebook/C.mat\n",
      "/Users/szhang/Dropbox/datascience/Github/datascience/python/python_basics/python_basic_notebook/derby.log\n",
      "/Users/szhang/Dropbox/datascience/Github/datascience/python/python_basics/python_basic_notebook/example.f90\n",
      "/Users/szhang/Dropbox/datascience/Github/datascience/python/python_basics/python_basic_notebook/SP1_P2_data.txt\n",
      "/Users/szhang/Dropbox/datascience/Github/datascience/python/python_basics/python_basic_notebook/SP1_P3_data.txt\n",
      "/Users/szhang/Dropbox/datascience/Github/datascience/python/python_basics/python_basic_notebook/test.pkl\n",
      "/Users/szhang/Dropbox/datascience/Github/datascience/python/python_basics/python_basic_notebook/testbox.mat\n",
      "/Users/szhang/Dropbox/datascience/Github/datascience/python/python_basics/python_basic_notebook/text.txt\n",
      "/Users/szhang/Dropbox/datascience/Github/datascience/python/python_basics/python_basic_notebook/wiggleZ_DR1_z.dat\n",
      "/Users/szhang/Dropbox/datascience/Github/datascience/python/python_basics/python_basic_notebook/db.lck\n",
      "/Users/szhang/Dropbox/datascience/Github/datascience/python/python_basics/python_basic_notebook/dbex.lck\n",
      "/Users/szhang/Dropbox/datascience/Github/datascience/python/python_basics/python_basic_notebook/README_DO_NOT_TOUCH_FILES.txt\n",
      "/Users/szhang/Dropbox/datascience/Github/datascience/python/python_basics/python_basic_notebook/service.properties\n",
      "/Users/szhang/Dropbox/datascience/Github/datascience/python/python_basics/python_basic_notebook/log.ctrl\n",
      "/Users/szhang/Dropbox/datascience/Github/datascience/python/python_basics/python_basic_notebook/log1.dat\n",
      "/Users/szhang/Dropbox/datascience/Github/datascience/python/python_basics/python_basic_notebook/logmirror.ctrl\n",
      "/Users/szhang/Dropbox/datascience/Github/datascience/python/python_basics/python_basic_notebook/README_DO_NOT_TOUCH_FILES.txt\n",
      "/Users/szhang/Dropbox/datascience/Github/datascience/python/python_basics/python_basic_notebook/c10.dat\n",
      "/Users/szhang/Dropbox/datascience/Github/datascience/python/python_basics/python_basic_notebook/c101.dat\n",
      "/Users/szhang/Dropbox/datascience/Github/datascience/python/python_basics/python_basic_notebook/c111.dat\n",
      "/Users/szhang/Dropbox/datascience/Github/datascience/python/python_basics/python_basic_notebook/c121.dat\n",
      "/Users/szhang/Dropbox/datascience/Github/datascience/python/python_basics/python_basic_notebook/c130.dat\n",
      "/Users/szhang/Dropbox/datascience/Github/datascience/python/python_basics/python_basic_notebook/c141.dat\n",
      "/Users/szhang/Dropbox/datascience/Github/datascience/python/python_basics/python_basic_notebook/c150.dat\n",
      "/Users/szhang/Dropbox/datascience/Github/datascience/python/python_basics/python_basic_notebook/c161.dat\n",
      "/Users/szhang/Dropbox/datascience/Github/datascience/python/python_basics/python_basic_notebook/c171.dat\n",
      "/Users/szhang/Dropbox/datascience/Github/datascience/python/python_basics/python_basic_notebook/c180.dat\n",
      "/Users/szhang/Dropbox/datascience/Github/datascience/python/python_basics/python_basic_notebook/c191.dat\n",
      "/Users/szhang/Dropbox/datascience/Github/datascience/python/python_basics/python_basic_notebook/c1a1.dat\n",
      "/Users/szhang/Dropbox/datascience/Github/datascience/python/python_basics/python_basic_notebook/c1b1.dat\n",
      "/Users/szhang/Dropbox/datascience/Github/datascience/python/python_basics/python_basic_notebook/c1c0.dat\n",
      "/Users/szhang/Dropbox/datascience/Github/datascience/python/python_basics/python_basic_notebook/c1d1.dat\n",
      "/Users/szhang/Dropbox/datascience/Github/datascience/python/python_basics/python_basic_notebook/c1e0.dat\n",
      "/Users/szhang/Dropbox/datascience/Github/datascience/python/python_basics/python_basic_notebook/c1f1.dat\n",
      "/Users/szhang/Dropbox/datascience/Github/datascience/python/python_basics/python_basic_notebook/c20.dat\n",
      "/Users/szhang/Dropbox/datascience/Github/datascience/python/python_basics/python_basic_notebook/c200.dat\n",
      "/Users/szhang/Dropbox/datascience/Github/datascience/python/python_basics/python_basic_notebook/c211.dat\n",
      "/Users/szhang/Dropbox/datascience/Github/datascience/python/python_basics/python_basic_notebook/c221.dat\n",
      "/Users/szhang/Dropbox/datascience/Github/datascience/python/python_basics/python_basic_notebook/c230.dat\n",
      "/Users/szhang/Dropbox/datascience/Github/datascience/python/python_basics/python_basic_notebook/c241.dat\n",
      "/Users/szhang/Dropbox/datascience/Github/datascience/python/python_basics/python_basic_notebook/c251.dat\n",
      "/Users/szhang/Dropbox/datascience/Github/datascience/python/python_basics/python_basic_notebook/c260.dat\n",
      "/Users/szhang/Dropbox/datascience/Github/datascience/python/python_basics/python_basic_notebook/c271.dat\n",
      "/Users/szhang/Dropbox/datascience/Github/datascience/python/python_basics/python_basic_notebook/c281.dat\n",
      "/Users/szhang/Dropbox/datascience/Github/datascience/python/python_basics/python_basic_notebook/c290.dat\n",
      "/Users/szhang/Dropbox/datascience/Github/datascience/python/python_basics/python_basic_notebook/c2a1.dat\n",
      "/Users/szhang/Dropbox/datascience/Github/datascience/python/python_basics/python_basic_notebook/c2b1.dat\n",
      "/Users/szhang/Dropbox/datascience/Github/datascience/python/python_basics/python_basic_notebook/c2c1.dat\n",
      "/Users/szhang/Dropbox/datascience/Github/datascience/python/python_basics/python_basic_notebook/c2d0.dat\n",
      "/Users/szhang/Dropbox/datascience/Github/datascience/python/python_basics/python_basic_notebook/c2e1.dat\n",
      "/Users/szhang/Dropbox/datascience/Github/datascience/python/python_basics/python_basic_notebook/c2f0.dat\n",
      "/Users/szhang/Dropbox/datascience/Github/datascience/python/python_basics/python_basic_notebook/c300.dat\n",
      "/Users/szhang/Dropbox/datascience/Github/datascience/python/python_basics/python_basic_notebook/c31.dat\n",
      "/Users/szhang/Dropbox/datascience/Github/datascience/python/python_basics/python_basic_notebook/c311.dat\n",
      "/Users/szhang/Dropbox/datascience/Github/datascience/python/python_basics/python_basic_notebook/c321.dat\n",
      "/Users/szhang/Dropbox/datascience/Github/datascience/python/python_basics/python_basic_notebook/c331.dat\n",
      "/Users/szhang/Dropbox/datascience/Github/datascience/python/python_basics/python_basic_notebook/c340.dat\n",
      "/Users/szhang/Dropbox/datascience/Github/datascience/python/python_basics/python_basic_notebook/c351.dat\n",
      "/Users/szhang/Dropbox/datascience/Github/datascience/python/python_basics/python_basic_notebook/c361.dat\n",
      "/Users/szhang/Dropbox/datascience/Github/datascience/python/python_basics/python_basic_notebook/c371.dat\n",
      "/Users/szhang/Dropbox/datascience/Github/datascience/python/python_basics/python_basic_notebook/c380.dat\n",
      "/Users/szhang/Dropbox/datascience/Github/datascience/python/python_basics/python_basic_notebook/c391.dat\n",
      "/Users/szhang/Dropbox/datascience/Github/datascience/python/python_basics/python_basic_notebook/c3a1.dat\n",
      "/Users/szhang/Dropbox/datascience/Github/datascience/python/python_basics/python_basic_notebook/c3b1.dat\n",
      "/Users/szhang/Dropbox/datascience/Github/datascience/python/python_basics/python_basic_notebook/c3c0.dat\n",
      "/Users/szhang/Dropbox/datascience/Github/datascience/python/python_basics/python_basic_notebook/c3d1.dat\n",
      "/Users/szhang/Dropbox/datascience/Github/datascience/python/python_basics/python_basic_notebook/c3e1.dat\n",
      "/Users/szhang/Dropbox/datascience/Github/datascience/python/python_basics/python_basic_notebook/c3f1.dat\n",
      "/Users/szhang/Dropbox/datascience/Github/datascience/python/python_basics/python_basic_notebook/c400.dat\n",
      "/Users/szhang/Dropbox/datascience/Github/datascience/python/python_basics/python_basic_notebook/c41.dat\n",
      "/Users/szhang/Dropbox/datascience/Github/datascience/python/python_basics/python_basic_notebook/c411.dat\n",
      "/Users/szhang/Dropbox/datascience/Github/datascience/python/python_basics/python_basic_notebook/c421.dat\n",
      "/Users/szhang/Dropbox/datascience/Github/datascience/python/python_basics/python_basic_notebook/c430.dat\n",
      "/Users/szhang/Dropbox/datascience/Github/datascience/python/python_basics/python_basic_notebook/c441.dat\n",
      "/Users/szhang/Dropbox/datascience/Github/datascience/python/python_basics/python_basic_notebook/c451.dat\n",
      "/Users/szhang/Dropbox/datascience/Github/datascience/python/python_basics/python_basic_notebook/c461.dat\n",
      "/Users/szhang/Dropbox/datascience/Github/datascience/python/python_basics/python_basic_notebook/c470.dat\n",
      "/Users/szhang/Dropbox/datascience/Github/datascience/python/python_basics/python_basic_notebook/c481.dat\n",
      "/Users/szhang/Dropbox/datascience/Github/datascience/python/python_basics/python_basic_notebook/c490.dat\n",
      "/Users/szhang/Dropbox/datascience/Github/datascience/python/python_basics/python_basic_notebook/c4a1.dat\n",
      "/Users/szhang/Dropbox/datascience/Github/datascience/python/python_basics/python_basic_notebook/c4b0.dat\n",
      "/Users/szhang/Dropbox/datascience/Github/datascience/python/python_basics/python_basic_notebook/c4c1.dat\n",
      "/Users/szhang/Dropbox/datascience/Github/datascience/python/python_basics/python_basic_notebook/c4d1.dat\n",
      "/Users/szhang/Dropbox/datascience/Github/datascience/python/python_basics/python_basic_notebook/c4e1.dat\n",
      "/Users/szhang/Dropbox/datascience/Github/datascience/python/python_basics/python_basic_notebook/c4f0.dat\n",
      "/Users/szhang/Dropbox/datascience/Github/datascience/python/python_basics/python_basic_notebook/c501.dat\n",
      "/Users/szhang/Dropbox/datascience/Github/datascience/python/python_basics/python_basic_notebook/c51.dat\n",
      "/Users/szhang/Dropbox/datascience/Github/datascience/python/python_basics/python_basic_notebook/c510.dat\n",
      "/Users/szhang/Dropbox/datascience/Github/datascience/python/python_basics/python_basic_notebook/c521.dat\n",
      "/Users/szhang/Dropbox/datascience/Github/datascience/python/python_basics/python_basic_notebook/c530.dat\n",
      "/Users/szhang/Dropbox/datascience/Github/datascience/python/python_basics/python_basic_notebook/c541.dat\n",
      "/Users/szhang/Dropbox/datascience/Github/datascience/python/python_basics/python_basic_notebook/c550.dat\n",
      "/Users/szhang/Dropbox/datascience/Github/datascience/python/python_basics/python_basic_notebook/c561.dat\n",
      "/Users/szhang/Dropbox/datascience/Github/datascience/python/python_basics/python_basic_notebook/c570.dat\n",
      "/Users/szhang/Dropbox/datascience/Github/datascience/python/python_basics/python_basic_notebook/c581.dat\n",
      "/Users/szhang/Dropbox/datascience/Github/datascience/python/python_basics/python_basic_notebook/c590.dat\n",
      "/Users/szhang/Dropbox/datascience/Github/datascience/python/python_basics/python_basic_notebook/c5a1.dat\n",
      "/Users/szhang/Dropbox/datascience/Github/datascience/python/python_basics/python_basic_notebook/c5b0.dat\n",
      "/Users/szhang/Dropbox/datascience/Github/datascience/python/python_basics/python_basic_notebook/c5c1.dat\n",
      "/Users/szhang/Dropbox/datascience/Github/datascience/python/python_basics/python_basic_notebook/c5d0.dat\n",
      "/Users/szhang/Dropbox/datascience/Github/datascience/python/python_basics/python_basic_notebook/c5e1.dat\n",
      "/Users/szhang/Dropbox/datascience/Github/datascience/python/python_basics/python_basic_notebook/c5f0.dat\n",
      "/Users/szhang/Dropbox/datascience/Github/datascience/python/python_basics/python_basic_notebook/c60.dat\n",
      "/Users/szhang/Dropbox/datascience/Github/datascience/python/python_basics/python_basic_notebook/c601.dat\n",
      "/Users/szhang/Dropbox/datascience/Github/datascience/python/python_basics/python_basic_notebook/c610.dat\n",
      "/Users/szhang/Dropbox/datascience/Github/datascience/python/python_basics/python_basic_notebook/c621.dat\n",
      "/Users/szhang/Dropbox/datascience/Github/datascience/python/python_basics/python_basic_notebook/c630.dat\n",
      "/Users/szhang/Dropbox/datascience/Github/datascience/python/python_basics/python_basic_notebook/c641.dat\n",
      "/Users/szhang/Dropbox/datascience/Github/datascience/python/python_basics/python_basic_notebook/c650.dat\n",
      "/Users/szhang/Dropbox/datascience/Github/datascience/python/python_basics/python_basic_notebook/c661.dat\n",
      "/Users/szhang/Dropbox/datascience/Github/datascience/python/python_basics/python_basic_notebook/c670.dat\n",
      "/Users/szhang/Dropbox/datascience/Github/datascience/python/python_basics/python_basic_notebook/c681.dat\n",
      "/Users/szhang/Dropbox/datascience/Github/datascience/python/python_basics/python_basic_notebook/c690.dat\n",
      "/Users/szhang/Dropbox/datascience/Github/datascience/python/python_basics/python_basic_notebook/c6a1.dat\n",
      "/Users/szhang/Dropbox/datascience/Github/datascience/python/python_basics/python_basic_notebook/c6b0.dat\n",
      "/Users/szhang/Dropbox/datascience/Github/datascience/python/python_basics/python_basic_notebook/c6c1.dat\n",
      "/Users/szhang/Dropbox/datascience/Github/datascience/python/python_basics/python_basic_notebook/c6d0.dat\n",
      "/Users/szhang/Dropbox/datascience/Github/datascience/python/python_basics/python_basic_notebook/c6e1.dat\n",
      "/Users/szhang/Dropbox/datascience/Github/datascience/python/python_basics/python_basic_notebook/c6f0.dat\n",
      "/Users/szhang/Dropbox/datascience/Github/datascience/python/python_basics/python_basic_notebook/c701.dat\n",
      "/Users/szhang/Dropbox/datascience/Github/datascience/python/python_basics/python_basic_notebook/c71.dat\n",
      "/Users/szhang/Dropbox/datascience/Github/datascience/python/python_basics/python_basic_notebook/c711.dat\n",
      "/Users/szhang/Dropbox/datascience/Github/datascience/python/python_basics/python_basic_notebook/c721.dat\n",
      "/Users/szhang/Dropbox/datascience/Github/datascience/python/python_basics/python_basic_notebook/c731.dat\n",
      "/Users/szhang/Dropbox/datascience/Github/datascience/python/python_basics/python_basic_notebook/c741.dat\n",
      "/Users/szhang/Dropbox/datascience/Github/datascience/python/python_basics/python_basic_notebook/c751.dat\n",
      "/Users/szhang/Dropbox/datascience/Github/datascience/python/python_basics/python_basic_notebook/c761.dat\n",
      "/Users/szhang/Dropbox/datascience/Github/datascience/python/python_basics/python_basic_notebook/c771.dat\n",
      "/Users/szhang/Dropbox/datascience/Github/datascience/python/python_basics/python_basic_notebook/c781.dat\n",
      "/Users/szhang/Dropbox/datascience/Github/datascience/python/python_basics/python_basic_notebook/c791.dat\n",
      "/Users/szhang/Dropbox/datascience/Github/datascience/python/python_basics/python_basic_notebook/c7a1.dat\n",
      "/Users/szhang/Dropbox/datascience/Github/datascience/python/python_basics/python_basic_notebook/c7b1.dat\n",
      "/Users/szhang/Dropbox/datascience/Github/datascience/python/python_basics/python_basic_notebook/c7c1.dat\n",
      "/Users/szhang/Dropbox/datascience/Github/datascience/python/python_basics/python_basic_notebook/c7d1.dat\n",
      "/Users/szhang/Dropbox/datascience/Github/datascience/python/python_basics/python_basic_notebook/c7e1.dat\n",
      "/Users/szhang/Dropbox/datascience/Github/datascience/python/python_basics/python_basic_notebook/c7f1.dat\n",
      "/Users/szhang/Dropbox/datascience/Github/datascience/python/python_basics/python_basic_notebook/c801.dat\n",
      "/Users/szhang/Dropbox/datascience/Github/datascience/python/python_basics/python_basic_notebook/c81.dat\n",
      "/Users/szhang/Dropbox/datascience/Github/datascience/python/python_basics/python_basic_notebook/c811.dat\n",
      "/Users/szhang/Dropbox/datascience/Github/datascience/python/python_basics/python_basic_notebook/c821.dat\n",
      "/Users/szhang/Dropbox/datascience/Github/datascience/python/python_basics/python_basic_notebook/c831.dat\n",
      "/Users/szhang/Dropbox/datascience/Github/datascience/python/python_basics/python_basic_notebook/c840.dat\n",
      "/Users/szhang/Dropbox/datascience/Github/datascience/python/python_basics/python_basic_notebook/c851.dat\n",
      "/Users/szhang/Dropbox/datascience/Github/datascience/python/python_basics/python_basic_notebook/c860.dat\n",
      "/Users/szhang/Dropbox/datascience/Github/datascience/python/python_basics/python_basic_notebook/c871.dat\n",
      "/Users/szhang/Dropbox/datascience/Github/datascience/python/python_basics/python_basic_notebook/c880.dat\n",
      "/Users/szhang/Dropbox/datascience/Github/datascience/python/python_basics/python_basic_notebook/c891.dat\n",
      "/Users/szhang/Dropbox/datascience/Github/datascience/python/python_basics/python_basic_notebook/c8a0.dat\n",
      "/Users/szhang/Dropbox/datascience/Github/datascience/python/python_basics/python_basic_notebook/c8b1.dat\n",
      "/Users/szhang/Dropbox/datascience/Github/datascience/python/python_basics/python_basic_notebook/c8c1.dat\n",
      "/Users/szhang/Dropbox/datascience/Github/datascience/python/python_basics/python_basic_notebook/c8d1.dat\n",
      "/Users/szhang/Dropbox/datascience/Github/datascience/python/python_basics/python_basic_notebook/c8e1.dat\n",
      "/Users/szhang/Dropbox/datascience/Github/datascience/python/python_basics/python_basic_notebook/c8f1.dat\n",
      "/Users/szhang/Dropbox/datascience/Github/datascience/python/python_basics/python_basic_notebook/c90.dat\n",
      "/Users/szhang/Dropbox/datascience/Github/datascience/python/python_basics/python_basic_notebook/c901.dat\n",
      "/Users/szhang/Dropbox/datascience/Github/datascience/python/python_basics/python_basic_notebook/c911.dat\n",
      "/Users/szhang/Dropbox/datascience/Github/datascience/python/python_basics/python_basic_notebook/c920.dat\n",
      "/Users/szhang/Dropbox/datascience/Github/datascience/python/python_basics/python_basic_notebook/c931.dat\n",
      "/Users/szhang/Dropbox/datascience/Github/datascience/python/python_basics/python_basic_notebook/c940.dat\n",
      "/Users/szhang/Dropbox/datascience/Github/datascience/python/python_basics/python_basic_notebook/c951.dat\n",
      "/Users/szhang/Dropbox/datascience/Github/datascience/python/python_basics/python_basic_notebook/c960.dat\n",
      "/Users/szhang/Dropbox/datascience/Github/datascience/python/python_basics/python_basic_notebook/c971.dat\n",
      "/Users/szhang/Dropbox/datascience/Github/datascience/python/python_basics/python_basic_notebook/c981.dat\n",
      "/Users/szhang/Dropbox/datascience/Github/datascience/python/python_basics/python_basic_notebook/c990.dat\n",
      "/Users/szhang/Dropbox/datascience/Github/datascience/python/python_basics/python_basic_notebook/c9a1.dat\n",
      "/Users/szhang/Dropbox/datascience/Github/datascience/python/python_basics/python_basic_notebook/c9b1.dat\n",
      "/Users/szhang/Dropbox/datascience/Github/datascience/python/python_basics/python_basic_notebook/ca1.dat\n",
      "/Users/szhang/Dropbox/datascience/Github/datascience/python/python_basics/python_basic_notebook/cb1.dat\n",
      "/Users/szhang/Dropbox/datascience/Github/datascience/python/python_basics/python_basic_notebook/cc0.dat\n",
      "/Users/szhang/Dropbox/datascience/Github/datascience/python/python_basics/python_basic_notebook/cd1.dat\n",
      "/Users/szhang/Dropbox/datascience/Github/datascience/python/python_basics/python_basic_notebook/ce1.dat\n",
      "/Users/szhang/Dropbox/datascience/Github/datascience/python/python_basics/python_basic_notebook/cf0.dat\n",
      "/Users/szhang/Dropbox/datascience/Github/datascience/python/python_basics/python_basic_notebook/README_DO_NOT_TOUCH_FILES.txt\n",
      "/Users/szhang/Dropbox/datascience/Github/datascience/python/python_basics/python_basic_notebook/list1.jpg\n",
      "/Users/szhang/Dropbox/datascience/Github/datascience/python/python_basics/python_basic_notebook/OOP-1.png\n",
      "/Users/szhang/Dropbox/datascience/Github/datascience/python/python_basics/python_basic_notebook/OOP-2.png\n",
      "/Users/szhang/Dropbox/datascience/Github/datascience/python/python_basics/python_basic_notebook/OOP-3.png\n",
      "/Users/szhang/Dropbox/datascience/Github/datascience/python/python_basics/python_basic_notebook/OOP-4.png\n",
      "/Users/szhang/Dropbox/datascience/Github/datascience/python/python_basics/python_basic_notebook/OOP-5.png\n",
      "/Users/szhang/Dropbox/datascience/Github/datascience/python/python_basics/python_basic_notebook/sorted-key.jpg\n",
      "/Users/szhang/Dropbox/datascience/Github/datascience/python/python_basics/python_basic_notebook/sorted-key.png\n"
     ]
    }
   ],
   "source": [
    "for dirpath, dirnames, filenames in os.walk(os.curdir):\n",
    "    for fp in filenames:\n",
    "        print os.path.abspath(fp)"
   ]
  },
  {
   "cell_type": "markdown",
   "metadata": {},
   "source": [
    "---"
   ]
  },
  {
   "cell_type": "markdown",
   "metadata": {},
   "source": [
    "## 1.2 `shutil`: high-level file operations"
   ]
  },
  {
   "cell_type": "markdown",
   "metadata": {},
   "source": [
    ">The shutil provides useful file operations:\n",
    "- `shutil.rmtree`: Recursively delete a directory tree.\n",
    "- `shutil.move`: Recursively move a file or directory to another location.\n",
    "- `shutil.copy`: Copy files or directories."
   ]
  },
  {
   "cell_type": "markdown",
   "metadata": {},
   "source": [
    "### #copy files"
   ]
  },
  {
   "cell_type": "code",
   "execution_count": 23,
   "metadata": {
    "collapsed": false
   },
   "outputs": [
    {
     "ename": "IOError",
     "evalue": "[Errno 2] No such file or directory: '../python_data_analysis_noteboo'",
     "output_type": "error",
     "traceback": [
      "\u001b[0;31m---------------------------------------------------------------------------\u001b[0m\n\u001b[0;31mIOError\u001b[0m                                   Traceback (most recent call last)",
      "\u001b[0;32m<ipython-input-23-c2e6c18195b4>\u001b[0m in \u001b[0;36m<module>\u001b[0;34m()\u001b[0m\n\u001b[1;32m      1\u001b[0m \u001b[0;32mimport\u001b[0m \u001b[0mshutil\u001b[0m\u001b[0;34m\u001b[0m\u001b[0m\n\u001b[0;32m----> 2\u001b[0;31m \u001b[0mshutil\u001b[0m\u001b[0;34m.\u001b[0m\u001b[0mcopy\u001b[0m\u001b[0;34m(\u001b[0m\u001b[0;34m'../python_data_analysis_noteboo'\u001b[0m\u001b[0;34m,\u001b[0m \u001b[0;34m'./python_data_analysis_notebook'\u001b[0m\u001b[0;34m)\u001b[0m\u001b[0;34m\u001b[0m\u001b[0m\n\u001b[0m",
      "\u001b[0;32m/Library/anaconda/lib/python2.7/shutil.pyc\u001b[0m in \u001b[0;36mcopy\u001b[0;34m(src, dst)\u001b[0m\n\u001b[1;32m    117\u001b[0m     \u001b[0;32mif\u001b[0m \u001b[0mos\u001b[0m\u001b[0;34m.\u001b[0m\u001b[0mpath\u001b[0m\u001b[0;34m.\u001b[0m\u001b[0misdir\u001b[0m\u001b[0;34m(\u001b[0m\u001b[0mdst\u001b[0m\u001b[0;34m)\u001b[0m\u001b[0;34m:\u001b[0m\u001b[0;34m\u001b[0m\u001b[0m\n\u001b[1;32m    118\u001b[0m         \u001b[0mdst\u001b[0m \u001b[0;34m=\u001b[0m \u001b[0mos\u001b[0m\u001b[0;34m.\u001b[0m\u001b[0mpath\u001b[0m\u001b[0;34m.\u001b[0m\u001b[0mjoin\u001b[0m\u001b[0;34m(\u001b[0m\u001b[0mdst\u001b[0m\u001b[0;34m,\u001b[0m \u001b[0mos\u001b[0m\u001b[0;34m.\u001b[0m\u001b[0mpath\u001b[0m\u001b[0;34m.\u001b[0m\u001b[0mbasename\u001b[0m\u001b[0;34m(\u001b[0m\u001b[0msrc\u001b[0m\u001b[0;34m)\u001b[0m\u001b[0;34m)\u001b[0m\u001b[0;34m\u001b[0m\u001b[0m\n\u001b[0;32m--> 119\u001b[0;31m     \u001b[0mcopyfile\u001b[0m\u001b[0;34m(\u001b[0m\u001b[0msrc\u001b[0m\u001b[0;34m,\u001b[0m \u001b[0mdst\u001b[0m\u001b[0;34m)\u001b[0m\u001b[0;34m\u001b[0m\u001b[0m\n\u001b[0m\u001b[1;32m    120\u001b[0m     \u001b[0mcopymode\u001b[0m\u001b[0;34m(\u001b[0m\u001b[0msrc\u001b[0m\u001b[0;34m,\u001b[0m \u001b[0mdst\u001b[0m\u001b[0;34m)\u001b[0m\u001b[0;34m\u001b[0m\u001b[0m\n\u001b[1;32m    121\u001b[0m \u001b[0;34m\u001b[0m\u001b[0m\n",
      "\u001b[0;32m/Library/anaconda/lib/python2.7/shutil.pyc\u001b[0m in \u001b[0;36mcopyfile\u001b[0;34m(src, dst)\u001b[0m\n\u001b[1;32m     80\u001b[0m                 \u001b[0;32mraise\u001b[0m \u001b[0mSpecialFileError\u001b[0m\u001b[0;34m(\u001b[0m\u001b[0;34m\"`%s` is a named pipe\"\u001b[0m \u001b[0;34m%\u001b[0m \u001b[0mfn\u001b[0m\u001b[0;34m)\u001b[0m\u001b[0;34m\u001b[0m\u001b[0m\n\u001b[1;32m     81\u001b[0m \u001b[0;34m\u001b[0m\u001b[0m\n\u001b[0;32m---> 82\u001b[0;31m     \u001b[0;32mwith\u001b[0m \u001b[0mopen\u001b[0m\u001b[0;34m(\u001b[0m\u001b[0msrc\u001b[0m\u001b[0;34m,\u001b[0m \u001b[0;34m'rb'\u001b[0m\u001b[0;34m)\u001b[0m \u001b[0;32mas\u001b[0m \u001b[0mfsrc\u001b[0m\u001b[0;34m:\u001b[0m\u001b[0;34m\u001b[0m\u001b[0m\n\u001b[0m\u001b[1;32m     83\u001b[0m         \u001b[0;32mwith\u001b[0m \u001b[0mopen\u001b[0m\u001b[0;34m(\u001b[0m\u001b[0mdst\u001b[0m\u001b[0;34m,\u001b[0m \u001b[0;34m'wb'\u001b[0m\u001b[0;34m)\u001b[0m \u001b[0;32mas\u001b[0m \u001b[0mfdst\u001b[0m\u001b[0;34m:\u001b[0m\u001b[0;34m\u001b[0m\u001b[0m\n\u001b[1;32m     84\u001b[0m             \u001b[0mcopyfileobj\u001b[0m\u001b[0;34m(\u001b[0m\u001b[0mfsrc\u001b[0m\u001b[0;34m,\u001b[0m \u001b[0mfdst\u001b[0m\u001b[0;34m)\u001b[0m\u001b[0;34m\u001b[0m\u001b[0m\n",
      "\u001b[0;31mIOError\u001b[0m: [Errno 2] No such file or directory: '../python_data_analysis_noteboo'"
     ]
    }
   ],
   "source": [
    "import shutil\n",
    "shutil.copy('../python_data_analysis_noteboo', './python_data_analysis_notebook')"
   ]
  },
  {
   "cell_type": "markdown",
   "metadata": {},
   "source": [
    "---"
   ]
  },
  {
   "cell_type": "markdown",
   "metadata": {},
   "source": [
    "## 1.3 `commands` module"
   ]
  },
  {
   "cell_type": "markdown",
   "metadata": {},
   "source": [
    "### #commands - running external processes"
   ]
  },
  {
   "cell_type": "markdown",
   "metadata": {},
   "source": [
    "* (status, output) = commands.getstatusoutput(cmd) -- runs the command, waits for it to exit, and returns its status int and output text as a tuple. \n",
    "* The command is run with its standard output and standard error combined into the one output text. The status will be non-zero if the command failed. Since the standard-err of the command is captured, if it fails, we need to print some indication of what happened.\n",
    "* output = commands.getoutput(cmd) -- as above, but without the status int.\n",
    "* There is a commands.getstatus() but it does something else, so don't use it -- dumbest bit of method naming ever!\n",
    "* If you want more control over the running of the sub-process, see the \"popen2\" module (http://docs.python.org/lib/module-popen2.html)\n",
    "* There is also a simple os.system(cmd) which runs the command and dumps its output onto your output and returns its error code. This works if you want to run the command but do not need to capture its output into your python data structures."
   ]
  },
  {
   "cell_type": "code",
   "execution_count": 25,
   "metadata": {
    "collapsed": false
   },
   "outputs": [
    {
     "name": "stdout",
     "output_type": "stream",
     "text": [
      "Command to run: ls -l ..\n",
      "total 0\n",
      "drwxr-xr-x@ 24 DSinmotion  staff  816 16 Feb 18:54 python_basic_notebook\n",
      "drwxr-xr-x@  4 DSinmotion  staff  136 15 Feb 22:47 python_data_analysis_notebook\n",
      "drwxr-xr-x@  5 DSinmotion  staff  170 15 Feb 11:18 training_material_original\n"
     ]
    }
   ],
   "source": [
    "import commands\n",
    "\n",
    "## Given a dir path, run an external 'ls -l' on it --\n",
    "## shows how to call an external program\n",
    "def listdir(dir):\n",
    "  cmd = 'ls -l ' + dir\n",
    "  print \"Command to run:\", cmd   ## good to debug cmd before actually running it\n",
    "  (status, output) = commands.getstatusoutput(cmd)\n",
    "  if status:    ## Error case, print the command's output to stderr and exit\n",
    "    sys.stderr.write(output)\n",
    "    sys.exit(1)\n",
    "  print output  ## Otherwise do something with the command's output\n",
    "\n",
    "listdir('..')"
   ]
  },
  {
   "cell_type": "markdown",
   "metadata": {},
   "source": [
    "---"
   ]
  },
  {
   "cell_type": "markdown",
   "metadata": {},
   "source": [
    "## 1.4 `glob`: pattern matching on files\n",
    "> The glob module provides convenient file pattern matching."
   ]
  },
  {
   "cell_type": "code",
   "execution_count": 20,
   "metadata": {
    "collapsed": false
   },
   "outputs": [
    {
     "data": {
      "text/plain": [
       "['junk.txt', 'test.txt']"
      ]
     },
     "execution_count": 20,
     "metadata": {},
     "output_type": "execute_result"
    }
   ],
   "source": [
    "# Find all files ending in .txt:\n",
    "import glob\n",
    "glob.glob('*.txt')"
   ]
  },
  {
   "cell_type": "markdown",
   "metadata": {},
   "source": [
    "---"
   ]
  },
  {
   "cell_type": "markdown",
   "metadata": {},
   "source": [
    "## 1.5 `sys` module: system-specific info\n"
   ]
  },
  {
   "cell_type": "code",
   "execution_count": 21,
   "metadata": {
    "collapsed": false
   },
   "outputs": [],
   "source": [
    "import sys"
   ]
  },
  {
   "cell_type": "markdown",
   "metadata": {},
   "source": [
    "### python versions"
   ]
  },
  {
   "cell_type": "code",
   "execution_count": 27,
   "metadata": {
    "collapsed": false
   },
   "outputs": [
    {
     "name": "stdout",
     "output_type": "stream",
     "text": [
      "darwin\n",
      "\n",
      "2.7.8 |Anaconda 2.1.0 (x86_64)| (default, Aug 21 2014, 15:21:46) \n",
      "[GCC 4.2.1 (Apple Inc. build 5577)]\n",
      "\n",
      "/Library/anaconda\n"
     ]
    }
   ],
   "source": [
    "print sys.platform\n",
    "print\n",
    "print sys.version\n",
    "print\n",
    "print sys.prefix"
   ]
  },
  {
   "cell_type": "markdown",
   "metadata": {},
   "source": [
    "### list of command line arguments passed to a python script"
   ]
  },
  {
   "cell_type": "code",
   "execution_count": 25,
   "metadata": {
    "collapsed": false
   },
   "outputs": [
    {
     "data": {
      "text/plain": [
       "['-c',\n",
       " '-f',\n",
       " '/Users/DSinmotion/.ipython/profile_default/security/kernel-d2ce44d9-e262-4188-a28c-a3d8ac84a97a.json',\n",
       " '--pylab=inline',\n",
       " \"--IPKernelApp.parent_appname='ipython-notebook'\",\n",
       " '--profile-dir',\n",
       " '/Users/DSinmotion/.ipython/profile_default',\n",
       " '--parent=1']"
      ]
     },
     "execution_count": 25,
     "metadata": {},
     "output_type": "execute_result"
    }
   ],
   "source": [
    "sys.argv"
   ]
  },
  {
   "cell_type": "markdown",
   "metadata": {},
   "source": [
    "### list of search path for modules\n",
    "> initialized from PYTHONPATH"
   ]
  },
  {
   "cell_type": "code",
   "execution_count": 28,
   "metadata": {
    "collapsed": false
   },
   "outputs": [
    {
     "data": {
      "text/plain": [
       "['',\n",
       " '/Library/anaconda/lib/python27.zip',\n",
       " '/Library/anaconda/lib/python2.7',\n",
       " '/Library/anaconda/lib/python2.7/plat-darwin',\n",
       " '/Library/anaconda/lib/python2.7/plat-mac',\n",
       " '/Library/anaconda/lib/python2.7/plat-mac/lib-scriptpackages',\n",
       " '/Library/anaconda/lib/python2.7/lib-tk',\n",
       " '/Library/anaconda/lib/python2.7/lib-old',\n",
       " '/Library/anaconda/lib/python2.7/lib-dynload',\n",
       " '/Library/anaconda/lib/python2.7/site-packages',\n",
       " '/Library/anaconda/lib/python2.7/site-packages/PIL',\n",
       " '/Library/anaconda/lib/python2.7/site-packages/Sphinx-1.2.3-py2.7.egg',\n",
       " '/Library/anaconda/lib/python2.7/site-packages/runipy-0.1.1-py2.7.egg',\n",
       " '/Library/anaconda/lib/python2.7/site-packages/setuptools-5.8-py2.7.egg',\n",
       " '/Library/anaconda/lib/python2.7/site-packages/IPython/extensions']"
      ]
     },
     "execution_count": 28,
     "metadata": {},
     "output_type": "execute_result"
    }
   ],
   "source": [
    "sys.path"
   ]
  },
  {
   "cell_type": "markdown",
   "metadata": {},
   "source": [
    "## 1.6 `pickle`: easy persistence\n",
    "> Useful to store arbitrary objects to a file. Not safe or fast!"
   ]
  },
  {
   "cell_type": "code",
   "execution_count": 32,
   "metadata": {
    "collapsed": false
   },
   "outputs": [
    {
     "data": {
      "text/plain": [
       "[1, None, 'Stan']"
      ]
     },
     "execution_count": 32,
     "metadata": {},
     "output_type": "execute_result"
    }
   ],
   "source": [
    "import pickle\n",
    "l = [1, None, 'Stan']\n",
    "pickle.dump(l, file('data/test.pkl', 'w'))\n",
    "pickle.load(file('data/test.pkl'))"
   ]
  },
  {
   "cell_type": "markdown",
   "metadata": {},
   "source": [
    "----"
   ]
  },
  {
   "cell_type": "markdown",
   "metadata": {},
   "source": [
    "# 2 - HTTP - urllib, urlparse"
   ]
  },
  {
   "cell_type": "markdown",
   "metadata": {},
   "source": [
    "## HTTP - urlib, urlparse\n",
    "* ufile = urllib.urlopen(url) -- returns a file like object for that url\n",
    "* text = ufile.read() -- can read from it, like a file (readlines() etc. also work)\n",
    "* info = ufile.info() -- the meta info for that request. info.gettype() is the mime time, e.g. 'text/html'\n",
    "* baseurl = ufile.geturl() -- gets the \"base\" url for the request, which may be different from the original because of redirects\n",
    "* urllib.urlretrieve(url, filename) -- downloads the url data to the given file path\n",
    "* urlparse.urljoin(baseurl, url) -- given a url that may or may not be full, and the baseurl of the page it comes from, return a full url. Use geturl() above to provide the base url."
   ]
  },
  {
   "cell_type": "code",
   "execution_count": 9,
   "metadata": {
    "collapsed": false
   },
   "outputs": [
    {
     "data": {
      "text/plain": [
       "u'\\r\\n\\r\\n\\r\\n\\r\\n\\r\\n\\r\\n\\r\\n\\r\\n\\r\\n\\r\\n\\r\\n\\r\\n\\r\\n\\r\\n\\r\\n\\r\\n\\r\\n\\r\\n\\r\\n\\r\\n\\r\\n\\r\\n\\r\\n\\r\\n\\r\\n<!DOCTYPE HTML>\\r\\n<html lang=\"en\">\\r\\n<head>\\r\\n<meta http-equiv=\"Content-Type\" content=\"text/html; charset=UTF-8\">\\r\\n\\r\\n\\r\\n<link rel=\"icon\" href=\"/img/mozilla.ico\" type=\"image/x-icon\" />\\r\\n<link rel=\"shortcut icon\" href=\"/img/mozilla.ico\" type=\"image/x-icon\" />\\r\\n<meta property=\"og:image\" content=\"http://www.dmoz.org/og_mozzie.gif\"/>\\r\\n<link rel=\"stylesheet\" type=\"text/css\" href=\"/css/dmoz-main.css\" />\\r\\n<title>DMOZ - Arts: Movies</title>\\r\\n\\r\\n<style>\\r\\n.remBld {float:left; font-weight:bold; margin-right:5px; font-size:17px;}\\r\\n#_alt_ctrl_ALL, #_alt_ctrl_Z {border-right:none !important;}\\r\\nul.right_align {float:left;}\\r\\ndiv.flag {  float : right ;  width : 16px ;  height : 16px ;}\\r\\nul.directory-url li {  clear : right ;}\\r\\nli.cool a.listinglink {background:url(\\'/img/star.gif\\') no-repeat right -2px; font-weight:bold; padding-right:16px; }\\r\\ndiv.flag img {  width:0px;  height:0px;  padding:8px;\\r\\n  background: url(\\'/img/flag-faint.png\\');\\r\\n}\\r\\nul.directory-url li:hover {  background-color : #e4e4e4 ;}\\r\\nul.directory-url li:hover div.flag img {  background: url(\\'/img/flag.png\\');}\\r\\nul.directory-url li:hover div.flag:hover img {  background: url(\\'/img/flag-highlight.png\\');}\\r\\n\\r\\n\\r\\n\\r\\n</style>\\r\\n</head>\\r\\n<body dir=\"LTR\"><div class=\"none\">\\r\\n<!-- SiteCatalyst code version: H.7.  Copyright 1997-2007 Omniture, Inc. More info available at http://www.omniture.com -->\\r\\n<script type=\"text/javascript\"><!--\\r\\nif(navigator.appVersion.indexOf(\\'MSIE\\')>=0)document.write(unescape(\\'%3C\\')+\\'\\\\!-\\'+\\'-\\')\\r\\n//--></script>\\r\\n<!-- End SiteCatalyst code version: H.2. -->\\r\\n</div>\\r\\n\\r\\n<div id=\"doc\"  class=\"nodViewN\">\\r\\n\\t<div id=\"hd\" style=\"border-bottom:0;\">\\r\\n    \\t<a id=\"logo\" class=\"logoN\" href=\"/\" alt=\"DMOZ logo\" title=\"DMOZ\"></a>\\r\\n\\r\\n        <div id=\"partnership\">\\r\\n                <img width=\"72\" height=\"36\" align=\"middle\" alt=\"In Partnership with AOL\" src=\"/img/public/aolpartner.png\"/>\\r\\n        </div>\\r\\n    </div>\\r\\n    <div id=\"hd-bar\">\\r\\n\\r\\n        <div class=\"float-l\" style=\"margin-left:8px;\">\\r\\n\\r\\n        <!-- Twitter follow button -->\\r\\n          <a href=\"https://twitter.com/dmoz\" class=\"twitter-follow-button\" data-show-count=\"false\" data-dnt=\"true\">Follow @dmoz</a>\\r\\n          <script>!function(d,s,id){var js,fjs=d.getElementsByTagName(s)[0],p=/^http:/.test(d.location)?\\'http\\':\\'https\\';if(!d.getElementById(id)){js=d.createElement(s);js.id=id;js.src=p+\\'://platform.twitter.com/widgets.js\\';fjs.parentNode.insertBefore(js,fjs);}}(document, \\'script\\', \\'twitter-wjs\\');</script>\\r\\n        <!-- End Twitter follow button -->\\r\\n\\r\\n        </div>\\r\\n\\r\\n        <div class=\"float-r\">\\r\\n            <a style=\"font-weight:700\" href=\"/docs/en/about.html\">about dmoz</a> | \\r\\n            <a href=\"http://blog.dmoz.org/\">dmoz blog</a> | \\r\\n            \\r\\n\\r\\n\\t\\t\\t<a href=\"/public/update?cat=Arts/Movies\">update listing</a> | \\r\\n\\t\\t\\t\\r\\n            <a href=\"/public/abuse?cat=Arts/Movies&lang=en\">report abuse/spam</a> | \\r\\n            <a href=\"/help/en/helpmain.html\">help</a>\\r\\n        </div>\\r\\n       \\r\\n    </div>\\r\\n    <div id=\"bd-cross\">\\r\\n    \\t<form class=\"center mb1em\" action=\"/search\" method=\"get\">\\r\\n            <input size=\"45\" name=\"q\" class=\"searchNod\" >\\r\\n            <input type=submit value=\"Search\" class=\"btn\" >\\r\\n            <select name=\"cat\" class=\"selectNod\" >\\r\\n\\t\\t\\t   \\r\\n               <option value=\"all\" selected id=\"all-yes\"><label for=\"all-yes\">the entire directory</label></option>\\r\\n\\t\\t\\t   \\r\\n                 <option value=\"Arts/Movies\"  id=\"all-no\"><label for=\"all-no\">only in Arts/Movies</label></option>\\r\\n                 \\r\\n            </select>\\r\\n            <input type=hidden name=all value=\"no\" >\\r\\n        </form>\\r\\n\\r\\n        <div class=\"navigate\" style=\"\">\\r\\n            <div class=\"descript\">\\r\\n\\r\\n                    <div id=\"descript\" class=\"descriptN\"><a href=\"/desc/Arts/Movies\">Description</a></div>\\r\\n\\r\\n            </div>\\r\\n            <ul class=\"navigate\">\\r\\n                <li class=\"first\">\\r\\n\\r\\n                    <a href=\"/\">Top</a></li>\\r\\n<li><b>: </b><a href=\\'/Arts/\\'>Arts</a></li>\\r\\n                        <li class=\"last\">\\r\\n                            <strong><span class=\\'remBld\\'>: </span>Movies</strong>&nbsp;<em>(26,112)</em>\\r\\n                        </li>\\r\\n\\r\\n            </ul>\\r\\n        </div>\\r\\n\\r\\n        <div class=\"clear\"></div>\\t\\t\\r\\n        \\r\\n\\t\\t\\t\\r\\n                        <div class=\"dir-1 borN\">\\r\\n                        <span><img src=\"/img/public/dividerN.gif\" style=\"height:2px;float:left;width:100%\" /></span>\\r\\n                        <ul class=\"directory dir-col\">\\r\\n\\r\\n                                <li class=\"\">\\r\\n                                <a href=\"/Arts/Movies/Genres/\">Genres</a>&nbsp;<em>(547)</em>\\r\\n                                </li>\\r\\n\\r\\n                                <li class=\"\">\\r\\n                                <a href=\"/Arts/Movies/Titles/\">Titles</a>&nbsp;<em>(21,551)</em>\\r\\n                                </li>\\r\\n\\r\\n                        </ul>\\r\\n                        <ul class=\"directory dir-col\">\\r\\n\\r\\n                    </ul>\\r\\n                    <div class=\"clear\"></div>\\r\\n                    </div>\\r\\n\\r\\n\\t\\t\\t\\r\\n                        <div class=\"dir-1 borN\">\\r\\n                        <span><img src=\"/img/public/dividerN.gif\" style=\"height:2px;float:left;width:100%\" /></span>\\r\\n                        <ul class=\"directory dir-col\">\\r\\n\\r\\n                                <li class=\"\">\\r\\n                                <a href=\"/Arts/Performing_Arts/Acting/Actors_and_Actresses/\">Actors and Actresses</a>@&nbsp;<em>(4,799)</em>\\r\\n                                </li>\\r\\n\\r\\n                                <li class=\"\">\\r\\n                                <a href=\"/Arts/Movies/Awards/\">Awards</a>&nbsp;<em>(50)</em>\\r\\n                                </li>\\r\\n\\r\\n                                <li class=\"\">\\r\\n                                <a href=\"/Arts/Movies/Characters/\">Characters</a>&nbsp;<em>(3)</em>\\r\\n                                </li>\\r\\n\\r\\n                                <li class=\"\">\\r\\n                                <a href=\"/Arts/Movies/Chats_and_Forums/\">Chats and Forums</a>&nbsp;<em>(7)</em>\\r\\n                                </li>\\r\\n\\r\\n                                <li class=\"\">\\r\\n                                <a href=\"/Arts/Movies/Contests/\">Contests</a>&nbsp;<em>(8)</em>\\r\\n                                </li>\\r\\n\\r\\n                                <li class=\"\">\\r\\n                                <a href=\"/Arts/Movies/Cultures_and_Groups/\">Cultures and Groups</a>&nbsp;<em>(172)</em>\\r\\n                                </li>\\r\\n\\r\\n                                <li class=\"\">\\r\\n                                <a href=\"/Arts/Movies/Databases/\">Databases</a>&nbsp;<em>(10)</em>\\r\\n                                </li>\\r\\n\\r\\n                                <li class=\"\">\\r\\n                                <a href=\"/Reference/Dictionaries/By_Subject/Film/\">Dictionaries</a>@&nbsp;<em>(3)</em>\\r\\n                                </li>\\r\\n\\r\\n                                <li class=\"\">\\r\\n                                <a href=\"/Arts/Movies/Directories/\">Directories</a>&nbsp;<em>(23)</em>\\r\\n                                </li>\\r\\n\\r\\n                                <li class=\"\">\\r\\n                                <a href=\"/Arts/Movies/Filmmaking/Directing/Directors/\">Directors</a>@&nbsp;<em>(911)</em>\\r\\n                                </li>\\r\\n\\r\\n                                <li class=\"\">\\r\\n                                <a href=\"/Arts/Movies/Home_Video/DVD/\">DVD</a>@&nbsp;<em>(74)</em>\\r\\n                                </li>\\r\\n\\r\\n                                <li class=\"\">\\r\\n                                <a href=\"/Arts/Movies/Education/\">Education</a>&nbsp;<em>(93)</em>\\r\\n                                </li>\\r\\n\\r\\n                                <li class=\"\">\\r\\n                                <a href=\"/Reference/Archives/Arts/Film/\">Film Archives</a>@&nbsp;<em>(24)</em>\\r\\n                                </li>\\r\\n\\r\\n                                <li class=\"\">\\r\\n                                <a href=\"/Arts/Movies/Film_Festivals/\">Film Festivals</a>&nbsp;<em>(346)</em>\\r\\n                                </li>\\r\\n\\r\\n                                <li class=\"\">\\r\\n                                <a href=\"/Arts/Movies/Education/Film_Schools/\">Film Schools</a>@&nbsp;<em>(77)</em>\\r\\n                                </li>\\r\\n\\r\\n                                <li class=\"\">\\r\\n                                <a href=\"/Arts/Movies/Filmmaking/\">Filmmaking</a>&nbsp;<em>(1,996)</em>\\r\\n                                </li>\\r\\n\\r\\n                                <li class=\"\">\\r\\n                                <a href=\"/Arts/Movies/Guides/\">Guides</a>&nbsp;<em>(23)</em>\\r\\n                                </li>\\r\\n\\r\\n                                <li class=\"\">\\r\\n                                <a href=\"/Arts/Movies/History/\">History</a>&nbsp;<em>(50)</em>\\r\\n                                </li>\\r\\n\\r\\n                                <li class=\"\">\\r\\n                                <a href=\"/Arts/Movies/Home_Video/\">Home Video</a>&nbsp;<em>(94)</em>\\r\\n                                </li>\\r\\n\\r\\n                                <li class=\"\">\\r\\n                                <a href=\"/Arts/Movies/Memorabilia/\">Memorabilia</a>&nbsp;<em>(32)</em>\\r\\n                                </li>\\r\\n\\r\\n                                <li class=\"\">\\r\\n                                <a href=\"/Arts/Movies/Multimedia/\">Multimedia</a>&nbsp;<em>(28)</em>\\r\\n                                </li>\\r\\n\\r\\n                        </ul>\\r\\n                        <ul class=\"directory dir-col\">\\r\\n\\r\\n                            <li class=\"\">\\r\\n                            <a href=\"/Reference/Museums/Arts_and_Entertainment/Film_and_Media/\">Museums</a>@&nbsp;<em>(14)</em>\\r\\n                            </li>\\r\\n\\r\\n                            <li class=\"\">\\r\\n                            <a href=\"/Arts/Music/Movies/\">Music</a>@&nbsp;<em>(45)</em>\\r\\n                            </li>\\r\\n\\r\\n                            <li class=\"\">\\r\\n                            <a href=\"/Arts/Movies/News_and_Media/\">News and Media</a>&nbsp;<em>(142)</em>\\r\\n                            </li>\\r\\n\\r\\n                            <li class=\"\">\\r\\n                            <a href=\"/Arts/Movies/Organizations/\">Organizations</a>&nbsp;<em>(151)</em>\\r\\n                            </li>\\r\\n\\r\\n                            <li class=\"\">\\r\\n                            <a href=\"/Arts/Movies/Filmmaking/People/\">People</a>@&nbsp;<em>(8)</em>\\r\\n                            </li>\\r\\n\\r\\n                            <li class=\"\">\\r\\n                            <a href=\"/Arts/Movies/Personal_Pages/\">Personal Pages</a>&nbsp;<em>(34)</em>\\r\\n                            </li>\\r\\n\\r\\n                            <li class=\"\">\\r\\n                            <a href=\"/Arts/Movies/News_and_Media/Previews/\">Previews</a>@&nbsp;<em>(16)</em>\\r\\n                            </li>\\r\\n\\r\\n                            <li class=\"\">\\r\\n                            <a href=\"/Arts/Movies/Filmmaking/Producing/Producers/\">Producers</a>@&nbsp;<em>(25)</em>\\r\\n                            </li>\\r\\n\\r\\n                            <li class=\"\">\\r\\n                            <a href=\"/Arts/Movies/Quotations/\">Quotations</a>&nbsp;<em>(10)</em>\\r\\n                            </li>\\r\\n\\r\\n                            <li class=\"\">\\r\\n                            <a href=\"/Arts/Movies/Reviews/\">Reviews</a>&nbsp;<em>(249)</em>\\r\\n                            </li>\\r\\n\\r\\n                            <li class=\"\">\\r\\n                            <a href=\"/Arts/Movies/Filmmaking/Screenwriting/Screenwriters/\">Screenwriters</a>@&nbsp;<em>(85)</em>\\r\\n                            </li>\\r\\n\\r\\n                            <li class=\"\">\\r\\n                            <a href=\"/Arts/Movies/Filmmaking/Screenwriting/Scripts/\">Scripts</a>@&nbsp;<em>(35)</em>\\r\\n                            </li>\\r\\n\\r\\n                            <li class=\"\">\\r\\n                            <a href=\"/Arts/Movies/Series/\">Series</a>&nbsp;<em>(0)</em>\\r\\n                            </li>\\r\\n\\r\\n                            <li class=\"\">\\r\\n                            <a href=\"/Shopping/Entertainment/Television_and_Movies/Movies/\">Shopping</a>@&nbsp;<em>(57)</em>\\r\\n                            </li>\\r\\n\\r\\n                            <li class=\"\">\\r\\n                            <a href=\"/Arts/Movies/Showtimes/\">Showtimes</a>&nbsp;<em>(10)</em>\\r\\n                            </li>\\r\\n\\r\\n                            <li class=\"\">\\r\\n                            <a href=\"/Arts/Movies/Soundtracks/\">Soundtracks</a>&nbsp;<em>(15)</em>\\r\\n                            </li>\\r\\n\\r\\n                            <li class=\"\">\\r\\n                            <a href=\"/Arts/Movies/Studios/\">Studios</a>&nbsp;<em>(36)</em>\\r\\n                            </li>\\r\\n\\r\\n                            <li class=\"\">\\r\\n                            <a href=\"/Arts/Movies/Theaters/\">Theaters</a>&nbsp;<em>(364)</em>\\r\\n                            </li>\\r\\n\\r\\n                            <li class=\"\">\\r\\n                            <a href=\"/Arts/Movies/Theory_and_Criticism/\">Theory and Criticism</a>&nbsp;<em>(42)</em>\\r\\n                            </li>\\r\\n\\r\\n                            <li class=\"\">\\r\\n                            <a href=\"/Arts/Movies/Trivia/\">Trivia</a>&nbsp;<em>(26)</em>\\r\\n                            </li>\\r\\n\\r\\n                    </ul>\\r\\n                    <div class=\"clear\"></div>\\r\\n                    </div>\\r\\n\\r\\n            <fieldset class=\"fieldcap\">\\r\\n                <legend>See also:</legend>\\r\\n                <ul class=\"directory\">\\r\\n                \\r\\n                \\t<li>\\r\\n                        <a href=\"/Business/Arts_and_Entertainment/Media_Production/Film/\">Business: Arts and Entertainment: Media Production: Film</a> \\r\\n                        <em>(243)</em>\\r\\n                    </li>\\r\\n                \\r\\n                \\t<li>\\r\\n                        <a href=\"/Kids_and_Teens/Entertainment/Movies/\">Kids and Teens: Entertainment: Movies</a> \\r\\n                        <em>(116)</em>\\r\\n                    </li>\\r\\n                \\r\\n                </ul>\\r\\n            </fieldset>\\r\\n\\r\\n                <fieldset class=\"fieldcap fieldcapN\">\\r\\n                <legend>This category in other languages:</legend>\\r\\n                <ul class=\"language\">\\r\\n\\r\\n                    <li>\\r\\n                    \\t<a href=\"/World/Bahasa_Indonesia/Kesenian/Film\">Bahasa Indonesia</a>\\r\\n                        <em>(4)</em>\\r\\n                    </li>\\r\\n\\r\\n                    <li>\\r\\n                    \\t<a href=\"/World/Bosanski/Umjetnost/Film\">Bosanski</a>\\r\\n                        <em>(1)</em>\\r\\n                    </li>\\r\\n\\r\\n                    <li>\\r\\n                    \\t<a href=\"/World/Catal%C3%A0/Arts/Cinema\">Catal\\xe0</a>\\r\\n                        <em>(209)</em>\\r\\n                    </li>\\r\\n\\r\\n                    <li>\\r\\n                    \\t<a href=\"/World/%C4%8Cesky/Kultura/Film\">\\u010cesky</a>\\r\\n                        <em>(113)</em>\\r\\n                    </li>\\r\\n\\r\\n                    <li>\\r\\n                    \\t<a href=\"/World/Dansk/Kultur/Film\">Dansk</a>\\r\\n                        <em>(94)</em>\\r\\n                    </li>\\r\\n\\r\\n                    <li>\\r\\n                    \\t<a href=\"/World/Deutsch/Kultur/Film\">Deutsch</a>\\r\\n                        <em>(9662)</em>\\r\\n                    </li>\\r\\n\\r\\n                    <li>\\r\\n                    \\t<a href=\"/World/Eesti/Kultuur_ja_meelelahutus/Film\">Eesti</a>\\r\\n                        <em>(7)</em>\\r\\n                    </li>\\r\\n\\r\\n                    <li>\\r\\n                    \\t<a href=\"/World/Espa%C3%B1ol/Artes/Cine\">Espa\\xf1ol</a>\\r\\n                        <em>(2177)</em>\\r\\n                    </li>\\r\\n\\r\\n                    <li>\\r\\n                    \\t<a href=\"/World/Esperanto/Kulturo/Kino\">Esperanto</a>\\r\\n                        <em>(13)</em>\\r\\n                    </li>\\r\\n\\r\\n                    <li>\\r\\n                    \\t<a href=\"/World/Euskara/Kultura/Zinema_eta_Bideoa\">Euskara</a>\\r\\n                        <em>(3)</em>\\r\\n                    </li>\\r\\n\\r\\n                    <li>\\r\\n                    \\t<a href=\"/World/Fran%C3%A7ais/Arts/Audiovisuel/Cin%C3%A9ma\">Fran\\xe7ais</a>\\r\\n                        <em>(1294)</em>\\r\\n                    </li>\\r\\n\\r\\n                    <li>\\r\\n                    \\t<a href=\"/World/Galego/Arte_e_cultura/Cine\">Galego</a>\\r\\n                        <em>(21)</em>\\r\\n                    </li>\\r\\n\\r\\n                    <li>\\r\\n                    \\t<a href=\"/World/Hrvatski/Umjetnost/Film\">Hrvatski</a>\\r\\n                        <em>(6)</em>\\r\\n                    </li>\\r\\n\\r\\n                    <li>\\r\\n                    \\t<a href=\"/World/%C3%8Dslenska/D%C3%A6gradv%C3%B6l/Kvikmyndir\">\\xcdslenska</a>\\r\\n                        <em>(15)</em>\\r\\n                    </li>\\r\\n\\r\\n                    <li>\\r\\n                    \\t<a href=\"/World/Italiano/Arte/Cinema\">Italiano</a>\\r\\n                        <em>(3129)</em>\\r\\n                    </li>\\r\\n\\r\\n                    <li>\\r\\n                    \\t<a href=\"/World/Kurd%C3%AE/%C3%87and_%C3%BB_Huner/F%C3%AElm\">Kurd\\xee</a>\\r\\n                        <em>(0)</em>\\r\\n                    </li>\\r\\n\\r\\n                    <li>\\r\\n                    \\t<a href=\"/World/Lietuvi%C5%B3/Menas/Kinas\">Lietuvi\\u0173</a>\\r\\n                        <em>(10)</em>\\r\\n                    </li>\\r\\n\\r\\n                    <li>\\r\\n                    \\t<a href=\"/World/Magyar/M%C5%B1v%C3%A9szet_%C3%A9s_kult%C3%BAra/Film\">Magyar</a>\\r\\n                        <em>(31)</em>\\r\\n                    </li>\\r\\n\\r\\n                    <li>\\r\\n                    \\t<a href=\"/World/Nederlands/Kunst/Film\">Nederlands</a>\\r\\n                        <em>(175)</em>\\r\\n                    </li>\\r\\n\\r\\n                    <li>\\r\\n                    \\t<a href=\"/World/Norsk/Kunst_og_kultur/Film\">Norsk</a>\\r\\n                        <em>(77)</em>\\r\\n                    </li>\\r\\n\\r\\n                    <li>\\r\\n                    \\t<a href=\"/World/Polski/Kultura_i_sztuka/Film\">Polski</a>\\r\\n                        <em>(294)</em>\\r\\n                    </li>\\r\\n\\r\\n                    <li>\\r\\n                    \\t<a href=\"/World/Portugu%C3%AAs/Artes/Cinema\">Portugu\\xeas</a>\\r\\n                        <em>(31)</em>\\r\\n                    </li>\\r\\n\\r\\n                    <li>\\r\\n                    \\t<a href=\"/World/Rom%C3%A2n%C4%83/Art%C4%83/Cinema\">Rom\\xe2n\\u0103</a>\\r\\n                        <em>(23)</em>\\r\\n                    </li>\\r\\n\\r\\n                    <li>\\r\\n                    \\t<a href=\"/World/Slovensky/Kult%C3%BAra/Film\">Slovensky</a>\\r\\n                        <em>(11)</em>\\r\\n                    </li>\\r\\n\\r\\n                    <li>\\r\\n                    \\t<a href=\"/World/Srpski/Umetnost/Film\">Srpski</a>\\r\\n                        <em>(10)</em>\\r\\n                    </li>\\r\\n\\r\\n                    <li>\\r\\n                    \\t<a href=\"/World/Suomi/Kulttuuri_ja_viihde/Elokuvat\">Suomi</a>\\r\\n                        <em>(33)</em>\\r\\n                    </li>\\r\\n\\r\\n                    <li>\\r\\n                    \\t<a href=\"/World/Svenska/Kultur/Film\">Svenska</a>\\r\\n                        <em>(123)</em>\\r\\n                    </li>\\r\\n\\r\\n                    <li>\\r\\n                    \\t<a href=\"/World/Tagalog/Sining/Puting-Tabing\">Tagalog</a>\\r\\n                        <em>(0)</em>\\r\\n                    </li>\\r\\n\\r\\n                    <li>\\r\\n                    \\t<a href=\"/World/Telugu/kaLalu/Chalana_Chitraalu\">Telugu</a>\\r\\n                        <em>(27)</em>\\r\\n                    </li>\\r\\n\\r\\n                    <li>\\r\\n                    \\t<a href=\"/World/Ti%E1%BA%BFng_Vi%E1%BB%87t/Ngh%E1%BB%87_thu%E1%BA%ADt/%C4%90i%E1%BB%87n_%E1%BA%A3nh\">Ti\\u1ebfng_Vi\\u1ec7t</a>\\r\\n                        <em>(3)</em>\\r\\n                    </li>\\r\\n\\r\\n                    <li>\\r\\n                    \\t<a href=\"/World/T%C3%BCrk%C3%A7e/K%C3%BClt%C3%BCr_ve_Sanat/Film_ve_Sinema\">T\\xfcrk\\xe7e</a>\\r\\n                        <em>(185)</em>\\r\\n                    </li>\\r\\n\\r\\n                    <li>\\r\\n                    \\t<a href=\"/World/Greek/%CE%A4%CE%AD%CF%87%CE%BD%CE%B5%CF%82/%CE%9A%CE%B9%CE%BD%CE%B7%CE%BC%CE%B1%CF%84%CE%BF%CE%B3%CF%81%CE%AC%CF%86%CE%BF%CF%82\">\\u0395\\u03bb\\u03bb\\u03b7\\u03bd\\u03b9\\u03ba\\u03ae</a>\\r\\n                        <em>(20)</em>\\r\\n                    </li>\\r\\n\\r\\n                    <li>\\r\\n                    \\t<a href=\"/World/Bulgarian/%D0%98%D0%B7%D0%BA%D1%83%D1%81%D1%82%D0%B2%D0%BE/K%D0%B8%D0%BD%D0%BE\">\\u0411\\u044a\\u043b\\u0433\\u0430\\u0440\\u0441\\u043a\\u0438</a>\\r\\n                        <em>(7)</em>\\r\\n                    </li>\\r\\n\\r\\n                    <li>\\r\\n                    \\t<a href=\"/World/Russian/%D0%98%D1%81%D0%BA%D1%83%D1%81%D1%81%D1%82%D0%B2%D0%BE/%D0%9A%D0%B8%D0%BD%D0%BE\">\\u0420\\u0443\\u0441\\u0441\\u043a\\u0438\\u0439</a>\\r\\n                        <em>(459)</em>\\r\\n                    </li>\\r\\n\\r\\n                    <li>\\r\\n                    \\t<a href=\"/World/Ukrainian/%D0%9C%D0%B8%D1%81%D1%82%D0%B5%D1%86%D1%82%D0%B2%D0%BE/%D0%9A%D1%96%D0%BD%D0%BE\">\\u0423\\u043a\\u0440\\u0430\\u0457\\u043d\\u0441\\u044c\\u043a\\u0430</a>\\r\\n                        <em>(16)</em>\\r\\n                    </li>\\r\\n\\r\\n                    <li>\\r\\n                    \\t<a href=\"/World/Hebrew/%D7%90%D7%9E%D7%A0%D7%95%D7%99%D7%95%D7%AA/%D7%A7%D7%95%D7%9C%D7%A0%D7%95%D7%A2\">\\u05e2\\u05d1\\u05e8\\u05d9\\u05ea</a>\\r\\n                        <span style=\"visibility:hidden\">i</span><em>(33)</em>\\r\\n                    </li>\\r\\n\\r\\n                    <li>\\r\\n                    \\t<a href=\"/World/Arabic/%D9%81%D9%86%D9%88%D9%86/%D8%B3%D9%8A%D9%86%D9%85%D8%A7\">\\u0627\\u0644\\u0639\\u0631\\u0628\\u064a\\u0629</a>\\r\\n                        <span style=\"visibility:hidden\">i</span><em>(3)</em>\\r\\n                    </li>\\r\\n\\r\\n                    <li>\\r\\n                    \\t<a href=\"/World/Persian/%D9%87%D9%86%D8%B1/%D8%B3%DB%8C%D9%86%D9%85%D8%A7\">\\u0641\\u0627\\u0631\\u0633\\u06cc</a>\\r\\n                        <span style=\"visibility:hidden\">i</span><em>(6)</em>\\r\\n                    </li>\\r\\n\\r\\n                    <li>\\r\\n                    \\t<a href=\"/World/Tamil/%E0%AE%95%E0%AE%B2%E0%AF%88/%E0%AE%A4%E0%AE%BF%E0%AE%B0%E0%AF%88%E0%AE%AA%E0%AF%8D%E0%AE%AA%E0%AE%9F%E0%AE%AE%E0%AF%8D\">\\u0ba4\\u0bae\\u0bbf\\u0bb4\\u0bcd</a>\\r\\n                        <em>(5)</em>\\r\\n                    </li>\\r\\n\\r\\n                    <li>\\r\\n                    \\t<a href=\"/World/Thai/%E0%B8%A8%E0%B8%B4%E0%B8%A5%E0%B8%9B%E0%B8%B0/%E0%B8%9A%E0%B8%B1%E0%B8%99%E0%B9%80%E0%B8%97%E0%B8%B4%E0%B8%87/%E0%B8%A0%E0%B8%B2%E0%B8%9E%E0%B8%A2%E0%B8%99%E0%B8%95%E0%B8%A3%E0%B9%8C\">\\u0e44\\u0e17\\u0e22</a>\\r\\n                        <em>(41)</em>\\r\\n                    </li>\\r\\n\\r\\n                    <li>\\r\\n                    \\t<a href=\"/World/Japanese/%E3%82%A2%E3%83%BC%E3%83%88/%E6%98%A0%E7%94%BB\">\\u65e5\\u672c\\u8a9e</a>\\r\\n                        <em>(872)</em>\\r\\n                    </li>\\r\\n\\r\\n                    <li>\\r\\n                    \\t<a href=\"/World/Chinese_Simplified/%E8%89%BA%E6%9C%AF/%E7%94%B5%E5%BD%B1\">\\u7b80\\u4f53\\u4e2d\\u6587</a>\\r\\n                        <em>(59)</em>\\r\\n                    </li>\\r\\n\\r\\n                    <li>\\r\\n                    \\t<a href=\"/World/Chinese_Traditional/%E8%97%9D%E8%A1%93/%E9%9B%BB%E5%BD%B1\">\\u7e41\\u9ad4\\u4e2d\\u6587</a>\\r\\n                        <em>(4)</em>\\r\\n                    </li>\\r\\n\\r\\n                    <li>\\r\\n                    \\t<a href=\"/World/Korean/%EC%98%88%EC%88%A0/%EC%98%81%ED%99%94\">\\ud55c\\uad6d\\uc5b4</a>\\r\\n                        <em>(14)</em>\\r\\n                    </li>\\r\\n\\r\\n                </ul>\\r\\n                </fieldset>\\r\\n\\r\\n\\r\\n\\t<span><img src=\"/img/public/dividerN.gif\" style=\"height:2px;float:left;width:100%\" /></span>\\r\\n\\t\\t\\r\\n        <fieldset class=\"fieldcap fieldcapRn\" style=\"font-size:1.2em; margin-top:11px;\">\\r\\n\\r\\n            <ul class=\"disc-large\">\\r\\n\\t    <div class=\"float-l\">\\r\\n\\r\\n                    <li>Usenet rec.arts.movies.announce \\r\\n\\t\\t\\t\\t\\t- <a href=\"news:rec.arts.movies.announce\">news: </a>\\r\\n\\t\\t\\t\\t\\t- <a href=\"http://groups.google.com/group/rec.arts.movies.announce\">Google Groups</a></li>\\r\\n\\r\\n                    <li>Usenet rec.arts.movies.current-films \\r\\n\\t\\t\\t\\t\\t- <a href=\"news:rec.arts.movies.current-films\">news: </a>\\r\\n\\t\\t\\t\\t\\t- <a href=\"http://groups.google.com/group/rec.arts.movies.current-films\">Google Groups</a></li>\\r\\n\\r\\n                    <li>Usenet rec.arts.movies.misc \\r\\n\\t\\t\\t\\t\\t- <a href=\"news:rec.arts.movies.misc\">news: </a>\\r\\n\\t\\t\\t\\t\\t- <a href=\"http://groups.google.com/group/rec.arts.movies.misc\">Google Groups</a></li>\\r\\n\\r\\n                    <li>Usenet rec.arts.movies.movie-going \\r\\n\\t\\t\\t\\t\\t- <a href=\"news:rec.arts.movies.movie-going\">news: </a>\\r\\n\\t\\t\\t\\t\\t- <a href=\"http://groups.google.com/group/rec.arts.movies.movie-going\">Google Groups</a></li>\\r\\n\\r\\n                    <li>Usenet rec.arts.movies.past-films \\r\\n\\t\\t\\t\\t\\t- <a href=\"news:rec.arts.movies.past-films\">news: </a>\\r\\n\\t\\t\\t\\t\\t- <a href=\"http://groups.google.com/group/rec.arts.movies.past-films\">Google Groups</a></li>\\r\\n\\r\\n            </div>\\r\\n            </ul>\\r\\n\\r\\n        <ul class=\"disc-large\">\\r\\n\\t<div class=\"float-l\">\\r\\n\\t\\t<li >\\r\\n\\t\\t\\t<span style=\"margin-right:140px; font-size:16px;\">\\r\\n\\t\\t\\t\"<b>Movies</b>\"&nbsp;search&nbsp;on:</span>\\r\\n\\t\\t\\t\\t\\r\\n\\t            <a href=\"http://search.aol.com/aol/search?query=movies\">AOL</a> -\\r\\n<a href=\"http://www.ask.com/web?q=movies\">Ask</a> -\\r\\n<a href=\"https://www.bing.com/search?q=movies\">Bing</a> -\\r\\n<a href=\"https://duckduckgo.com/?q=movies\">DuckDuckGo</a> -\\r\\n<a href=\"https://gigablast.com/search?q=movies\">Gigablast</a> -\\r\\n<a href=\"https://www.google.com/search?q=movies\">Google</a> -\\r\\n<a href=\"https://www.ixquick.com/do/search/?q=movies\">ixquick</a> -\\r\\n<a href=\"https://search.yahoo.com/search?p=movies\">Yahoo</a> -\\r\\n<a href=\"https://www.yandex.com/yandsearch?text=movies\">Yandex</a> -\\r\\n<a href=\"http://new2.yippy.com/search?query=movies\">Yippy</a>  \\t\\t\\t\\t\\r\\n\\t\\t\\t\\t\\r\\n\\t\\t\\t\\t</li>\\r\\n\\t            </div>\\r\\n        </ul>\\r\\n\\r\\n        </fieldset>\\r\\n\\t<span><img src=\"/img/public/dividerN.gif\" style=\"height:2px;float:left;width:100%\" /></span>\\r\\n        <fieldset class=\"fieldcap center\">\\r\\n        \\t\\r\\n        \\t<span class=\"volEditN\">\\r\\n        \\t\\r\\n\\t        Category editor:\\r\\n\\t         <a href=\"/public/profile?editor=jennyhorm\">jennyhorm</a>\\r\\n        \\t</span>\\r\\n        \\t\\r\\n        \\t\\r\\n        </fieldset>\\r\\n\\t  \\r\\n\\r\\n        <div class=\"float-r\">\\r\\n        \\t<img src=\"/img/moz/film_moz1.gif\" width=115 height=148 alt=\"&#x005B;Film_Mozilla_1]\">\\r\\n        </div>\\r\\n    </div>\\r\\n    <div id=\"ft\">\\r\\n    \\t\\r\\n        \\r\\n            <span class=\"float-l\">Copyright &copy; 1998-2015 AOL Inc.</span>\\r\\n        \\r\\n        <span class=\"float-r\"><a href=\"/docs/en/termsofuse.html\" style=\"font-size:.9em;\">Terms of Use</a></span>\\r\\n    </div>\\r\\n    <div id=\"ft-bar\" class=\"ft-barN\" style=\"color:#000; font-family:times New Roman;font-size:16px;\">\\r\\n    \\t<b>Visit our sister sites</b>&nbsp;&nbsp;<a href=\"http://www.mozilla.org/\">mozilla.org</a>&nbsp;|&nbsp;<a href=\"http://musicmoz.org/\">MusicMoz</a>&nbsp;|&nbsp;<a href=\"http://en.wikipedia.org/\">Wikipedia</a><br><br>\\r\\n    \\t<div  class=\"ft-barUpN\">Last update: \\r\\n\\t\\t\\r\\n                                September 15, 2012 at 16:08:49 UTC\\r\\n\\t\\t\\r\\n\\t\\t- <a href=\"/editors/editcat/index?cat=Arts/Movies&fwdapply=1\">edit</a></div>\\r\\n    </div>\\r\\n</div>\\r\\n<div id=\"omniture\">\\r\\n<script type=\"text/javascript\">\\r\\nfunction runOmni(){(function(){var F,t,n,v,p,q,u,o,i,f,D,d,k,c,b,x,g,E,s,z,C,m,r,a,l,B,e,w,A,y,j,h;F=location.protocol.toLowerCase();t=location.hostname.toLowerCase();n=location.port;v=location.pathname.toLowerCase();p=location.search.toLowerCase();q=document.title.toLowerCase();s_265.pfxID=\"odp\";s_265.server=t;s_265.channel=\"us.dmozodp\";s_265.charSet=\"UTF-8\";s_265.linkInternalFilters=\"aol.com,javascript:,dmoz.org\";u=t.split(\".\");o=(u.length>1)?u[u.length-2]+\".\"+u[u.length-1]:\"\";if((o===\"dmoz.org\")||(t+\":\"+n===\"dmozqa-m01.ihost.aol.com:8081\")||(t+\":\"+n===\"10.146.172.49:9099\")){s_265.prop12=F+\"//\"+t+v;i=(v.indexOf(\"/world/\")>-1)?1:0;f=v.split(\"/\");D=(i===1)?parseInt(f.length,10)-4:parseInt(f.length,10)-2;d=(f[f.length-1].length>0)?f[f.length-1].split(\".\")[0]:\" - \";k=(f[f.length-1].length>0)?f[f.length-1]:\" - \";c=(i===1)?f[3]:f[1];b=(i===1)?f[4]:f[2];if(i===0){x=\"english\"}else{if((i===1)&&(D===-1)){x=\"world top\"}else{if((i===1)&&(D>-1)){x=f[2]}}}s_265.prop16=x;j=(D>0)?\"level-\"+D:\"level-0\";switch(D){case -1:A=t+\" - world top\";y=A;h=A;break;case 0:if(d!==\" - \"){A=\"utilities\";y=\"general info\";h=t+\" - \"+d}else{A=t+\" - top\";y=A;h=A}break;case 1:A=c;y=\"top\";h=(d!==\" - \")?h=A+\" - \"+d:h=\"category main\";break;case 2:A=c;y=b;h=(d!==\" - \")?h=A+\" - \"+y+\" - \"+d:h=\"subcategory main\";break;default:A=c;y=b;h=(d!==\" - \")?h=A+\" - \"+y+\" - \"+d:h=\"level-\"+D+\" main\";break}if(t===\"search.dmoz.org\"){A=\"utilities\";y=\"search\";j=\"level-0\";h=d+\" - home\";g=((d===\"search\")&&(p.split(\"=\")[0]===\"?search\"))?1:0;if(g===1){E=s_265.getQueryParam(\"search\",\"\",p);s_265.eVar11=\"sTerms:f|\"+E;s_265.prop18=(s_265.getQueryParam(\"all\").toLowerCase()!==\"yes\")?s_265.getQueryParam(\"cat\").toLowerCase():\"\";s_265.prop18=s_265.prop18||\"all\";s=s_265.getQueryParam(\"t\").toLowerCase();z=s_265.getQueryParam(\"morecat\").toLowerCase();if(s===\"c\"||s===\"s\"||s===\"b\"){s_265.prop19=s}else{s_265.prop19=(z===1)?\"c\":\"b\"}C=(parseInt(s_265.getQueryParam(\"Kids\"),10)===1)?\"kids\":\"none\";m=(parseInt(s_265.getQueryParam(\"Teens\"),10)===1)?\"teens\":\"none\";r=(parseInt(s_265.getQueryParam(\"Mteens\"),10)===1)?\"mteens\":\"none\";s_265.prop20=C+\"|\"+m+\"|\"+r;a=((s_265.prop19!==\"c\")&&(z.length===0)&&(s_265.getQueryParam(\"co\").length===0))?((parseInt(s_265.getQueryParam(\"start\")/20,10)+1)+\"\"):(z.length===0)?((parseInt(s_265.getQueryParam(\"start\")/25,10)+1)+\"\"):((parseInt(s_265.getQueryParam(\"morecat\")/25,10)+1)+\"\");s_265.prop21=\"page \"+a;h=\"search results\";l=(((a*1)===1)&&(z.length===0)&&(s_265.getQueryParam(\"start\",\"\",document.referrer).length===0))?1:0;if(l===1){B=(s.length>0)?\"advanced search\":((s.length===0)&&(s_265.getQueryParam(\"cat\").length>0))?\"branch search\":\"standard search\";s_265.events=\"event1\";s_265.eVar1=B}}e=1}if(e!==1){switch(c){case\"help\":A=\"utilities\";y=\"help\";j=\"level-0\";h=(d!==\" - \")?\"dmoz help - \"+d:\"dmoz help - helpmain\";e=1;break;case\"profiles\":A=\"utilities\";y=\"profiles\";j=\"level-0\";h=\"dmoz - user profile\";s_265.mmxtitle=h;s_265.mmxcustom=\"http://www.dmoz.org/profiles/user.html\";e=1;break;case\"become_an_editor\":case\"user-banners\":case\"awards\":A=\"utilities\";y=\"general info\";j=\"level-0\";h=\"dmoz - general info - \"+q;e=1;break;case\"guidelines\":A=\"utilities\";y=\"editors\";j=\"level-0\";h=(D>1)?\"editors - \"+c+\" - \"+b+\" - \"+q:\"editors guidelines - \"+q;e=1;break;case\"newsletter\":j=\"level-0\";switch(D){case 1:y=\"newsletter article archive\";h=y;break;case 2:h=\"newsletter \"+y+\" - \"+q;break}e=1;break;case\"erz\":A=\"utilities\";y=\"editors\";j=\"level-0\";h=(D>1)?\"erz - \"+b+\" - \"+q:\"erz - top - \"+q;e=1;break}}if(e!==1){if((t===\"www.dmoz.org\")&&(D===0)&&(d===\"reinstate\")){A=\"utilities\";y=\"editors\";h=\"editors - \"+q;e=1}if(t===\"report-abuse.dmoz.org\"){A=\"utilities\";y=\"report abuse\";j=\"level-0\";h=((D===0)&&(d===\"faq\"))?\"dmoz report abuse system faq\":\"dmoz report abuse system\";e=1}else{if(t===\"rdf.dmoz.org\"){A=\"utilities\";y=\"rdf\";j=\"level-0\";if((D===0)&&(d===\" - \")){h=\"rdf - main\"}else{if((D===1)&&(d===\" - \")){h=\"rdf - file index\"}else{if((D===1)&&(d!==\" - \")){h=\"rdf - \"+d}}}e=1}}}if(e!==1){if((c===\"cgi-bin\")&&(t!==\"search.dmoz.org\")){A=\"utilities\";j=\"level-0\";switch(d){case\"apply\":case\"forgot\":y=\"editors\";h=(d===\"forgot\")?\"editors - password reminder form\":(s_265.getQueryParam(\"submit\").length===0)?\"editors - application info\":\"editors - application\";e=1;break;case\"add\":case\"update\":case\"update2\":case\"update3\":case\"reinstate\":y=\"editors\";if(d===\"add\"){h=\"editors - submit a site instructions\"}else{if(d===\"update\"){h=\"editors - update listing instructions\"}else{if(d===\"update2\"){h=\"editors - update listing form\"}else{if(d===\"update3\"){h=\"editors - update listing form received\"}else{if(d===\"reinstate\"){h=\"editors - account reinstatement form received\"}}}}}e=1;break;case\"send\":case\"send2\":y=\"editors\";h=(d===\"send\")?\"send editors feedback\":\"editors feedback received\";e=1;break}}}if(e!==1){if((k===\"desc.html\")||(k===\"faq.html\")){w=(k===\"desc.html\")?\"description\":\"faq\";h=(D===1)?\"branch category \":(D===2)?\"branch subcategory \":\"branch level-\"+D+\" \";h=h+w}}s_265.trackExternalLinks=false;s_265.mmxgo=true;s_265.prop1=A;s_265.prop2=y;s_265.prop17=j;s_265.pageName=h;s_265.t()}}())}var s_account=\"aoldmozodp,aolsvc\";(function(){var b=document,a=b.createElement(\"script\");a.type=\"text/javascript\";a.src=(location.protocol===\"https:\"?\"https://s\":\"http://o\")+\".aolcdn.com/omniunih.js\";b.getElementsByTagName(\"head\")[0].appendChild(a)}());\\r\\n</script>\\r\\n</div>\\r\\n</body>\\r\\n</html>\\r\\n\\r\\n'"
      ]
     },
     "execution_count": 9,
     "metadata": {},
     "output_type": "execute_result"
    }
   ],
   "source": [
    "import urllib, urlparse, requests, json, simplejson\n",
    "\n",
    "url = 'http://www.dmoz.org/Arts/Movies/'\n",
    "\n",
    "resp = requests.get(url)\n",
    "resp.text"
   ]
  },
  {
   "cell_type": "code",
   "execution_count": 2,
   "metadata": {
    "collapsed": false
   },
   "outputs": [
    {
     "name": "stdout",
     "output_type": "stream",
     "text": [
      "urlfile:  <addinfourl at 4427116344 whose fp = <socket._fileobject object at 0x107fb9d50>> \n",
      "\n",
      "Date: Sun, 03 May 2015 04:36:55 GMT\r\n",
      "Server: Apache\r\n",
      "Set-Cookie: JSESSIONID=F3F9C93859BC7C93744DF8EE47ED5BA8; Path=/\r\n",
      "Content-Language: en\r\n",
      "Content-Length: 31936\r\n",
      "Connection: close\r\n",
      "Content-Type: text/html;charset=UTF-8\r\n",
      " \n",
      "\n",
      "base url: http://www.dmoz.org/Arts/Movies/\n"
     ]
    }
   ],
   "source": [
    "## Given a url, try to retrieve it. If it's text/html,\n",
    "## print its base url and its text.\n",
    "import urllib, urlparse\n",
    "\n",
    "url = 'http://www.dmoz.org/Arts/Movies/'\n",
    "\n",
    "ufile = urllib.urlopen(url)  ## get file-like object for url\n",
    "print 'urlfile: ', ufile, '\\n'\n",
    "\n",
    "info = ufile.info()          ## meta-info about the url content\n",
    "print info, '\\n'\n",
    "\n",
    "if info.gettype() == 'text/html':\n",
    "    print 'base url: ' + ufile.geturl()\n",
    "    \n",
    "if info.gettype() == 'text/html':\n",
    "    text = ufile.read()  ## read all its text\n",
    "    #print text\n",
    "\n",
    "\n"
   ]
  },
  {
   "cell_type": "code",
   "execution_count": 4,
   "metadata": {
    "collapsed": false
   },
   "outputs": [
    {
     "name": "stdout",
     "output_type": "stream",
     "text": [
      "Date: Sun, 03 May 2015 04:38:17 GMT\r\n",
      "Server: Apache\r\n",
      "Set-Cookie: JSESSIONID=5577AD6FDADF91D06418790A23263145; Path=/\r\n",
      "Content-Length: 17601\r\n",
      "Connection: close\r\n",
      "Content-Type: text/html;charset=UTF-8\r\n",
      "\n",
      "base url:http://www.dmoz.org\n"
     ]
    }
   ],
   "source": [
    "## Given a url, try to retrieve it. If it's text/html,\n",
    "## print its base url and its text.\n",
    "import urllib, urlparse\n",
    "\n",
    "def wget(url):\n",
    "  ufile = urllib.urlopen(url)  ## get file-like object for url\n",
    "  info = ufile.info()   ## meta-info about the url content\n",
    "  print info\n",
    "  if info.gettype() == 'text/html':\n",
    "    print 'base url:' + ufile.geturl()\n",
    "    text = ufile.read()  ## read all its text\n",
    "    #print text\n",
    "\n",
    "url = 'http://www.dmoz.org'\n",
    "wget(url)"
   ]
  },
  {
   "cell_type": "code",
   "execution_count": 6,
   "metadata": {
    "collapsed": false
   },
   "outputs": [],
   "source": [
    "## Version that uses try/except to print an error message if the\n",
    "## urlopen() fails.\n",
    "import urllib, urlparse\n",
    "\n",
    "\n",
    "def wget2(url):\n",
    "  try:\n",
    "    ufile = urllib.urlopen(url)\n",
    "    if ufile.info().gettype() == 'text/html':\n",
    "      print ufile.read()\n",
    "  except IOError:\n",
    "    print 'problem reading url:', url\n",
    "\n",
    "url = 'http://www.dmoz.org'\n",
    "#wget2(url)\n",
    "    "
   ]
  },
  {
   "cell_type": "markdown",
   "metadata": {},
   "source": [
    "---"
   ]
  },
  {
   "cell_type": "markdown",
   "metadata": {},
   "source": [
    "# 3 -  Datetime Module\n"
   ]
  },
  {
   "cell_type": "code",
   "execution_count": 3,
   "metadata": {
    "collapsed": false
   },
   "outputs": [
    {
     "name": "stdout",
     "output_type": "stream",
     "text": [
      "Current date & time = 2015-04-23 14:29:12.668797\n",
      "Date and time in ISO format = 2015-04-23T14:29:12.668797\n",
      "Current year = 2015\n",
      "Current month = 4\n",
      "Current date (day) =  23\n",
      "dd/mm/yyyy format =  23/4/2015\n",
      "Current hour = 14\n",
      "Current minute = 29\n",
      "Current second =  12\n",
      "hh:mm:ss format = 14:4:12\n"
     ]
    }
   ],
   "source": [
    "import datetime\n",
    "i = datetime.datetime.now()\n",
    " \n",
    "print (\"Current date & time = %s\" % i)\n",
    "print (\"Date and time in ISO format = %s\" % i.isoformat() )\n",
    "print (\"Current year = %s\" % i.year)\n",
    "print (\"Current month = %s\" % i.month)\n",
    "print (\"Current date (day) =  %s\" % i.day)\n",
    "print (\"dd/mm/yyyy format =  %s/%s/%s\" % (i.day, i.month, i.year) )\n",
    "print (\"Current hour = %s\" %i.hour)\n",
    "print (\"Current minute = %s\" %i.minute)\n",
    "print (\"Current second =  %s\" %i.second)\n",
    "print (\"hh:mm:ss format = %s:%s:%s\" % (i.hour, i.month, i.second) )"
   ]
  },
  {
   "cell_type": "markdown",
   "metadata": {
    "collapsed": false
   },
   "source": [
    "------"
   ]
  },
  {
   "cell_type": "markdown",
   "metadata": {},
   "source": [
    "# 4 - ArgParse "
   ]
  },
  {
   "cell_type": "code",
   "execution_count": null,
   "metadata": {
    "collapsed": true
   },
   "outputs": [],
   "source": []
  }
 ],
 "metadata": {
  "kernelspec": {
   "display_name": "Python 2",
   "language": "python",
   "name": "python2"
  },
  "language_info": {
   "codemirror_mode": {
    "name": "ipython",
    "version": 2
   },
   "file_extension": ".py",
   "mimetype": "text/x-python",
   "name": "python",
   "nbconvert_exporter": "python",
   "pygments_lexer": "ipython2",
   "version": "2.7.9"
  }
 },
 "nbformat": 4,
 "nbformat_minor": 0
}
