{
 "cells": [
  {
   "cell_type": "markdown",
   "metadata": {},
   "source": [
    "#Python Regular Expression\n",
    "* In Python a regular expression search is typically written as:\n",
    "  **`match = re.search(pat, str)`**\n",
    "* The re.search() method takes a regular expression pattern and a string and searches for that pattern within the string. If the search is successful, search() returns a match object or None otherwise. Therefore, the search is usually immediately followed by an if-statement to test if the search succeeded, as shown in the following example which searches for the pattern 'word:' followed by a 3 letter word (details below):\n"
   ]
  },
  {
   "cell_type": "code",
   "execution_count": 33,
   "metadata": {
    "collapsed": false
   },
   "outputs": [
    {
     "data": {
      "text/plain": [
       "['DEBUG',\n",
       " 'DOTALL',\n",
       " 'I',\n",
       " 'IGNORECASE',\n",
       " 'L',\n",
       " 'LOCALE',\n",
       " 'M',\n",
       " 'MULTILINE',\n",
       " 'S',\n",
       " 'Scanner',\n",
       " 'T',\n",
       " 'TEMPLATE',\n",
       " 'U',\n",
       " 'UNICODE',\n",
       " 'VERBOSE',\n",
       " 'X',\n",
       " '_MAXCACHE',\n",
       " '__all__',\n",
       " '__builtins__',\n",
       " '__doc__',\n",
       " '__file__',\n",
       " '__name__',\n",
       " '__package__',\n",
       " '__version__',\n",
       " '_alphanum',\n",
       " '_cache',\n",
       " '_cache_repl',\n",
       " '_compile',\n",
       " '_compile_repl',\n",
       " '_expand',\n",
       " '_pattern_type',\n",
       " '_pickle',\n",
       " '_subx',\n",
       " 'compile',\n",
       " 'copy_reg',\n",
       " 'error',\n",
       " 'escape',\n",
       " 'findall',\n",
       " 'finditer',\n",
       " 'match',\n",
       " 'purge',\n",
       " 'search',\n",
       " 'split',\n",
       " 'sre_compile',\n",
       " 'sre_parse',\n",
       " 'sub',\n",
       " 'subn',\n",
       " 'sys',\n",
       " 'template']"
      ]
     },
     "execution_count": 33,
     "metadata": {},
     "output_type": "execute_result"
    }
   ],
   "source": [
    "import re\n",
    "\n",
    "dir(re)"
   ]
  },
  {
   "cell_type": "markdown",
   "metadata": {},
   "source": [
    "### #Basic Regex Search"
   ]
  },
  {
   "cell_type": "code",
   "execution_count": 5,
   "metadata": {
    "collapsed": false
   },
   "outputs": [
    {
     "name": "stdout",
     "output_type": "stream",
     "text": [
      "found word:cat\n"
     ]
    }
   ],
   "source": [
    "import re\n",
    "\n",
    "str = 'an example word:cat!!'\n",
    "match = re.search(r'word:\\w\\w\\w', str)\n",
    "# If-statement after search() tests if it succeeded\n",
    "if match:                      \n",
    "    print 'found', match.group() ## 'found word:cat'\n",
    "else:\n",
    "    print 'did not find'\n",
    "        "
   ]
  },
  {
   "cell_type": "markdown",
   "metadata": {},
   "source": [
    "### #Create a find(pattern,text) function"
   ]
  },
  {
   "cell_type": "code",
   "execution_count": 1,
   "metadata": {
    "collapsed": false
   },
   "outputs": [
    {
     "name": "stdout",
     "output_type": "stream",
     "text": [
      "found word:cat\n"
     ]
    }
   ],
   "source": [
    "import re\n",
    "\n",
    "str = 'an example word:cat!!'\n",
    "\n",
    "def find(pat, text):\n",
    "    match = re.search(pat, text)\n",
    "    # If-statement after search() tests if it succeeded\n",
    "    if match:                      \n",
    "        print 'found', match.group() ## 'found word:cat'\n",
    "    else:\n",
    "        print 'did not find'\n",
    "        \n",
    "def main():\n",
    "    find(r'word:\\w\\w\\w', str)\n",
    "    \n",
    "if __name__ == '__main__':\n",
    "    main()"
   ]
  },
  {
   "cell_type": "markdown",
   "metadata": {},
   "source": [
    "### #Basic Patterns"
   ]
  },
  {
   "cell_type": "raw",
   "metadata": {},
   "source": [
    "* a, X, 9, < -- ordinary characters just match themselves exactly. \n",
    "* The meta-characters which do not match themselves because they have special meanings are: . ^ '$' * + ? { [ ] \\ | ( ) (details below)\n",
    "* . (a period) -- matches any single character except newline '\\n'\n",
    "* \\w -- (lowercase w) matches a \"word\" character: a letter or digit or underbar [a-zA-Z0-9_]. Note that although \"word\" is the mnemonic for this, it only matches a single word char, not a whole word. \n",
    "* \\W (upper case W) matches any non-word character.\n",
    "* \\b -- boundary between word and non-word\n",
    "* \\s -- (lowercase s) matches a single whitespace character -- space, newline, return, tab, form [ \\n\\r\\t\\f]. \n",
    "* \\S (upper case S) matches any non-whitespace character.\n",
    "* \\t, \\n, \\r -- tab, newline, return\n",
    "* \\d -- decimal digit [0-9] (some older regex utilities do not support but \\d, but they all support \\w and \\s)\n",
    "* ^ = start, $ = end -- match the start or end of the string\n",
    "* \\ -- inhibit the \"specialness\" of a character. So, for example, use \\. to match a period or \\\\ to match a slash. If you are unsure if a character has special meaning, such as '@', you can put a slash in front of it, \\@, to make sure it is treated just as a character."
   ]
  },
  {
   "cell_type": "code",
   "execution_count": 17,
   "metadata": {
    "collapsed": false
   },
   "outputs": [
    {
     "name": "stdout",
     "output_type": "stream",
     "text": [
      "iii\n",
      "iig\n",
      "123\n",
      "abc\n"
     ]
    }
   ],
   "source": [
    "match = re.search(r'iii', 'piiig')\n",
    "print match.group()\n",
    "  \n",
    "## . = any char but \\n\n",
    "match = re.search(r'..g', 'piiig') \n",
    "print match.group()\n",
    "\n",
    "## \\d = digit char, \n",
    "match = re.search(r'\\d\\d\\d', 'p123g') \n",
    "print match.group()\n",
    "\n",
    "## \\w = word char`\n",
    "match = re.search(r'\\w\\w\\w', '@@abcd!!')\n",
    "print match.group()"
   ]
  },
  {
   "cell_type": "markdown",
   "metadata": {},
   "source": [
    "### #Repetition"
   ]
  },
  {
   "cell_type": "raw",
   "metadata": {},
   "source": [
    "+ -->  1 or more occurrences of the pattern to its left, e.g. 'i+' = one or more i's\n",
    "* -->  0 or more occurrences of the pattern to its left\n",
    "? -->  match 0 or 1 occurrences of the pattern to its left"
   ]
  },
  {
   "cell_type": "code",
   "execution_count": 22,
   "metadata": {
    "collapsed": false
   },
   "outputs": [
    {
     "name": "stdout",
     "output_type": "stream",
     "text": [
      "piii\n",
      "ii\n",
      "1 2   3\n",
      "12  3\n",
      "123\n",
      "bar\n",
      "g@hotmail\n"
     ]
    }
   ],
   "source": [
    "# Repetition Examples\n",
    "\n",
    "## i+ = one or more i's, as many as possible.\n",
    "match = re.search(r'pi+', 'piiig') \n",
    "print match.group()\n",
    "\n",
    "## Finds the first/leftmost solution, and within it drives the +\n",
    "## as far as possible (aka 'leftmost and largest').\n",
    "## In this example, note that it does not get to the second set of i's.\n",
    "match = re.search(r'i+', 'piigiiii') \n",
    "print match.group()\n",
    "\n",
    "## \\s* = zero or more whitespace chars\n",
    "## Here look for 3 digits, possibly separated by whitespace.\n",
    "match = re.search(r'\\d\\s*\\d\\s*\\d', 'xx1 2   3xx')    # \"1 2   3\"\n",
    "print match.group()\n",
    "\n",
    "match = re.search(r'\\d\\s*\\d\\s*\\d', 'xx12  3xx')      # \"12  3\"\n",
    "print match.group()\n",
    "\n",
    "match = re.search(r'\\d\\s*\\d\\s*\\d', 'xx123xx')        # \"123\"\n",
    "print match.group()\n",
    "\n",
    "## ^ = matches the start of string, so this fails:\n",
    "match = re.search(r'^b\\w+', 'foobar')                # None\n",
    "\n",
    "## but without the ^ it succeeds:\n",
    "match = re.search(r'b\\w+', 'foobar')                 # \"bar\"\n",
    "print match.group()\n",
    "\n"
   ]
  },
  {
   "cell_type": "markdown",
   "metadata": {},
   "source": [
    "### #Square Brackets - a set of characters"
   ]
  },
  {
   "cell_type": "markdown",
   "metadata": {},
   "source": [
    "* Square brackets can be used to indicate a set of chars, so [abc] matches 'a' or 'b' or 'c'. \n",
    "* The codes \\w, \\s etc. work inside square brackets too with the one exception that dot (.) just means a literal dot. \n",
    "* For the emails problem, the square brackets are an easy way to add '.' and '-' to the set of chars which can appear around the @ with the pattern r'[\\w.-]+@[\\w.-]+' to get the whole email address:"
   ]
  },
  {
   "cell_type": "code",
   "execution_count": 23,
   "metadata": {
    "collapsed": false
   },
   "outputs": [
    {
     "name": "stdout",
     "output_type": "stream",
     "text": [
      "g@hotmail\n",
      "alice-b@google.com\n"
     ]
    }
   ],
   "source": [
    "str = 'purple alice-b@google.com monkey dishwasher'\n",
    "\n",
    "# first try to extract email --> failed\n",
    "match = re.search(r'\\w+@\\w+', 'xxx.yyy.g@hotmail.com')      # \"g@hotmail\"\n",
    "print match.group()\n",
    "\n",
    "\n",
    "# Use [] for a set of characters\n",
    "match = re.search(r'[\\w.-]+@[\\w.-]+', str)                  # . (dot) inside the [] means a literal dot\n",
    "if match:\n",
    "    print match.group()  ## 'alice-b@google.com'"
   ]
  },
  {
   "cell_type": "markdown",
   "metadata": {},
   "source": [
    "### #Group Extraction"
   ]
  },
  {
   "cell_type": "markdown",
   "metadata": {},
   "source": [
    "* The \"group\" feature of a regular expression allows you to pick out parts of the matching text. \n",
    "* Suppose for the emails problem that we want to extract the username and host separately. To do this, add parenthesis ( ) around the username and host in the pattern, like this: r'([\\w.-]+)@([\\w.-]+)'. \n",
    "* In this case, the parenthesis do not change what the pattern will match, instead they establish logical \"groups\" inside of the match text. "
   ]
  },
  {
   "cell_type": "code",
   "execution_count": 18,
   "metadata": {
    "collapsed": false
   },
   "outputs": [
    {
     "name": "stdout",
     "output_type": "stream",
     "text": [
      "alice-b@google.com\n",
      "alice-b\n",
      "google.com\n"
     ]
    }
   ],
   "source": [
    "# group extraction with parenthesis\n",
    "str = 'purple alice-b@google.com monkey dishwasher'\n",
    "match = re.search('([\\w.-]+)@([\\w.-]+)', str)\n",
    "if match:\n",
    "    print match.group()   ## 'alice-b@google.com' (the whole match)\n",
    "    print match.group(1)  ## 'alice-b' (the username, group 1)\n",
    "    print match.group(2)  ## 'google.com' (the host, group 2)\n",
    "else:\n",
    "    print 'find no match!'\n"
   ]
  },
  {
   "cell_type": "markdown",
   "metadata": {},
   "source": [
    "### #Find All"
   ]
  },
  {
   "cell_type": "markdown",
   "metadata": {},
   "source": [
    "For files, you may be in the habit of writing a loop to iterate over the lines of the file, and you could then call findall() on each line. Instead, let findall() do the iteration for you -- much better! Just feed the whole file text into findall() and let it return a list of all the matches in a single step (recall that f.read() returns the whole text of a file in a single string):"
   ]
  },
  {
   "cell_type": "code",
   "execution_count": null,
   "metadata": {
    "collapsed": false
   },
   "outputs": [],
   "source": [
    "# Open file\n",
    "f = open('test.txt', 'r')\n",
    "# Feed the file text into findall(); it returns a list of all the found strings\n",
    "strings = re.findall(r'some pattern', f.read())\n",
    "    "
   ]
  },
  {
   "cell_type": "code",
   "execution_count": 31,
   "metadata": {
    "collapsed": false
   },
   "outputs": [
    {
     "name": "stdout",
     "output_type": "stream",
     "text": [
      "['alice-b@google.com', 'dishwasher@xxx.nfl']\n"
     ]
    }
   ],
   "source": [
    "# Find All example\n",
    "str = 'purple alice-b@google.com monkey dishwasher@xxx.nfl'\n",
    "\n",
    "# first try to extract email --> failed\n",
    "match = re.findall(r'[\\w.-]+@[\\w.-]+', str)      # \"g@hotmail\"\n",
    "print match"
   ]
  },
  {
   "cell_type": "markdown",
   "metadata": {},
   "source": [
    "### #FindAll and Group"
   ]
  },
  {
   "cell_type": "markdown",
   "metadata": {},
   "source": [
    "The parenthesis ( ) group mechanism can be combined with findall(). If the pattern includes 2 or more parenthesis groups, then instead of returning a list of strings, findall() returns a list of *tuples*. Each tuple represents one match of the pattern, and inside the tuple is the group(1), group(2) .. data. "
   ]
  },
  {
   "cell_type": "code",
   "execution_count": 32,
   "metadata": {
    "collapsed": false
   },
   "outputs": [
    {
     "name": "stdout",
     "output_type": "stream",
     "text": [
      "[('alice', 'google.com'), ('bob', 'abc.com')]\n",
      "alice\n",
      "google.com\n",
      "bob\n",
      "abc.com\n"
     ]
    }
   ],
   "source": [
    "str = 'purple alice@google.com, blah monkey bob@abc.com blah dishwasher'\n",
    "tuples = re.findall(r'([\\w\\.-]+)@([\\w\\.-]+)', str)\n",
    "print tuples  ## [('alice', 'google.com'), ('bob', 'abc.com')]\n",
    "for tuple in tuples:\n",
    "    print tuple[0]  ## username\n",
    "    print tuple[1]  ## host\n"
   ]
  },
  {
   "cell_type": "markdown",
   "metadata": {},
   "source": [
    "### # Regex Substitution"
   ]
  },
  {
   "cell_type": "markdown",
   "metadata": {},
   "source": [
    "The re.sub(pat, replacement, str) function searches for all the instances of pattern in the given string, and replaces them. The replacement string can include '\\1', '\\2' which refer to the text from group(1), group(2), and so on from the original matching text."
   ]
  },
  {
   "cell_type": "code",
   "execution_count": null,
   "metadata": {
    "collapsed": false
   },
   "outputs": [],
   "source": [
    "str = 'purple alice@google.com, blah monkey bob@abc.com blah dishwasher'\n",
    "## re.sub(pat, replacement, str) -- returns new string with all replacements,\n",
    "## \\1 is group(1), \\2 group(2) in the replacement\n",
    "print re.sub(r'([\\w\\.-]+)@([\\w\\.-]+)', r'\\1@yo-yo-dyne.com', str)\n",
    "  ## purple alice@yo-yo-dyne.com, blah monkey bob@yo-yo-dyne.com blah dishwasher"
   ]
  }
 ],
 "metadata": {
  "kernelspec": {
   "display_name": "Python 2",
   "language": "python",
   "name": "python2"
  },
  "language_info": {
   "codemirror_mode": {
    "name": "ipython",
    "version": 2
   },
   "file_extension": ".py",
   "mimetype": "text/x-python",
   "name": "python",
   "nbconvert_exporter": "python",
   "pygments_lexer": "ipython2",
   "version": "2.7.9"
  }
 },
 "nbformat": 4,
 "nbformat_minor": 0
}
