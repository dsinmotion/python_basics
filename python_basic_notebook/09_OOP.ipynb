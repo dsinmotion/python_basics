{
 "cells": [
  {
   "cell_type": "markdown",
   "metadata": {},
   "source": [
    "<center>\n",
    "\n",
    "<h1>Object-Oriented Programming</h1>\n",
    "</center>\n",
    "\n",
    "<left>\n",
    "> 1 - Introduction  \n",
    "> 2 - Classes, Attributes, Methods, and Instances  \n",
    "> 3 - Special Methods   \n",
    "> 4 - Subclasses and Inheritance   \n",
    "> 5 - Iterators   \n",
    "> 6 - Generators   \n",
    "> 7 - Metaclasses   \n",
    "> 8 - Decorators   \n",
    "> 9 - Referencing\n",
    "\n"
   ]
  },
  {
   "cell_type": "markdown",
   "metadata": {},
   "source": [
    "---"
   ]
  },
  {
   "cell_type": "markdown",
   "metadata": {},
   "source": [
    "# 1 - Introduction"
   ]
  },
  {
   "cell_type": "markdown",
   "metadata": {},
   "source": [
    "###What is Object-Oriented Programming?\n",
    "> Object-oriented programming (OOP) is a programming paradigm that uses **`\"objects\"`** – data structures consisting of **`data fields`** and **`methods`** together with their interactions – to design applications and computer programs. Programming techniques may include features such as data abstraction, encapsulation, modularity, polymorphism, and inheritance."
   ]
  },
  {
   "cell_type": "markdown",
   "metadata": {},
   "source": [
    "### Object Syntax in Python\n",
    ">>> <img style=\"float: left\" src=\"image/OOP-5.png\" width=\"100%\"> \n"
   ]
  },
  {
   "cell_type": "markdown",
   "metadata": {},
   "source": [
    "###Classes, Attributes, Methods and Instances\n",
    "> **`Objects`** are like animals: they know how to do stuff (like eat and sleep), they know how to interact with others (like make children), and they have characteristics (like height, weight).\n",
    "\n",
    "> An object is a programming structure that allows you to group together **`variables`** (characteristics) and **`functions`** (doing things) in one nice, tidy package. In Python, *the blueprint for an object is referred to as a **`class`***.\n",
    "\n",
    "> Within a class, the variables are referred to as **`attributes`** and the functions are referred to as **`methods`**.\n",
    "\n",
    "> **`Instances`** are specific realizations of a class"
   ]
  },
  {
   "cell_type": "markdown",
   "metadata": {},
   "source": [
    ">>> <img style=\"float: left\" src=\"image/OOP-1.png\" width=\"100%\"> "
   ]
  },
  {
   "cell_type": "markdown",
   "metadata": {},
   "source": [
    "<center> \n",
    "> > > <img style=\"float: left\" src=\"image/OOP-2.png\" width=\"100%\"> \n"
   ]
  },
  {
   "cell_type": "markdown",
   "metadata": {},
   "source": [
    "\n",
    ">>><img style=\"float: left\" src=\"image/OOP-3.png\" width=\"100%\"> \n"
   ]
  },
  {
   "cell_type": "markdown",
   "metadata": {},
   "source": [
    ">>><img style=\"float: left\" src=\"image/OOP-4.png\" width=\"100%\"> "
   ]
  },
  {
   "cell_type": "markdown",
   "metadata": {},
   "source": [
    "---"
   ]
  },
  {
   "cell_type": "markdown",
   "metadata": {},
   "source": [
    "# 2 - Classes, Attributes, Methods and Instances"
   ]
  },
  {
   "cell_type": "markdown",
   "metadata": {},
   "source": [
    "## 2.1 Simple Bear class, attributes and methods\n"
   ]
  },
  {
   "cell_type": "code",
   "execution_count": 1,
   "metadata": {
    "collapsed": false
   },
   "outputs": [
    {
     "name": "stdout",
     "output_type": "stream",
     "text": [
      "the bear class is now defined.\n"
     ]
    }
   ],
   "source": [
    "class Bear:\n",
    "    print \"the bear class is now defined.\"\n",
    "    "
   ]
  },
  {
   "cell_type": "code",
   "execution_count": 6,
   "metadata": {
    "collapsed": false
   },
   "outputs": [
    {
     "data": {
      "text/plain": [
       "__main__.Bear"
      ]
     },
     "execution_count": 6,
     "metadata": {},
     "output_type": "execute_result"
    }
   ],
   "source": [
    "a = Bear # this is not generally useful: we don't often reference the class itself\n",
    "a\n"
   ]
  },
  {
   "cell_type": "code",
   "execution_count": 5,
   "metadata": {
    "collapsed": false
   },
   "outputs": [
    {
     "data": {
      "text/plain": [
       "<__main__.Bear instance at 0x107fd4a28>"
      ]
     },
     "execution_count": 5,
     "metadata": {},
     "output_type": "execute_result"
    }
   ],
   "source": [
    "a = Bear() # that's more like it! This creates a new *instance* of the class\n",
    "a"
   ]
  },
  {
   "cell_type": "code",
   "execution_count": 7,
   "metadata": {
    "collapsed": false
   },
   "outputs": [
    {
     "name": "stdout",
     "output_type": "stream",
     "text": [
      "Oski\n"
     ]
    }
   ],
   "source": [
    "a.name = \"Oski\" # In Python, we can add attributes to the instance on-the-fly\n",
    "a.color = \"Brown\"\n",
    "print a.name # Does he know who he is?"
   ]
  },
  {
   "cell_type": "code",
   "execution_count": 8,
   "metadata": {
    "collapsed": false
   },
   "outputs": [
    {
     "name": "stdout",
     "output_type": "stream",
     "text": [
      "The bear class is now defined.\n"
     ]
    }
   ],
   "source": [
    "class Bear:\n",
    "    print \"The bear class is now defined.\"\n",
    "    def say_hello(self): #don't worry about the 'self' just yet...\n",
    "        print \"Hello, world! I am a bear.\"\n",
    "\n"
   ]
  },
  {
   "cell_type": "code",
   "execution_count": 9,
   "metadata": {
    "collapsed": false
   },
   "outputs": [
    {
     "name": "stdout",
     "output_type": "stream",
     "text": [
      "Hello, world! I am a bear.\n"
     ]
    }
   ],
   "source": [
    "a = Bear()\n",
    "a.say_hello()"
   ]
  },
  {
   "cell_type": "markdown",
   "metadata": {},
   "source": [
    "## 2.2 Attributes: Access, creation, deletion"
   ]
  },
  {
   "cell_type": "markdown",
   "metadata": {},
   "source": [
    ">Object attributes are accessed with the “.” (period) operator"
   ]
  },
  {
   "cell_type": "code",
   "execution_count": 10,
   "metadata": {
    "collapsed": false
   },
   "outputs": [
    {
     "name": "stdout",
     "output_type": "stream",
     "text": [
      "the bear class is now defined.\n"
     ]
    }
   ],
   "source": [
    "class Bear:\n",
    "    print \"the bear class is now defined.\"\n",
    "    "
   ]
  },
  {
   "cell_type": "code",
   "execution_count": 15,
   "metadata": {
    "collapsed": false
   },
   "outputs": [
    {
     "name": "stdout",
     "output_type": "stream",
     "text": [
      " class attribute name:  Oski\n",
      "class attribute color:  Brown\n"
     ]
    }
   ],
   "source": [
    "# attribute creation and access\n",
    "a = Bear()\n",
    "a.name = \"Oski\"\n",
    "a.color = \"Brown\"\n",
    "print 'class attribute name: ', a.name\n",
    "print 'class attribute color: ', a.color"
   ]
  },
  {
   "cell_type": "markdown",
   "metadata": {},
   "source": [
    "> (Instance-specific) attributes can be created and deleted outside of the class definition"
   ]
  },
  {
   "cell_type": "code",
   "execution_count": 16,
   "metadata": {
    "collapsed": false
   },
   "outputs": [
    {
     "name": "stdout",
     "output_type": "stream",
     "text": [
      "class attribute color: "
     ]
    },
    {
     "ename": "AttributeError",
     "evalue": "Bear instance has no attribute 'color'",
     "output_type": "error",
     "traceback": [
      "\u001b[0;31m---------------------------------------------------------------------------\u001b[0m\n\u001b[0;31mAttributeError\u001b[0m                            Traceback (most recent call last)",
      "\u001b[0;32m<ipython-input-16-eb1e45129dc6>\u001b[0m in \u001b[0;36m<module>\u001b[0;34m()\u001b[0m\n\u001b[1;32m      1\u001b[0m \u001b[0;31m# attribute deletion\u001b[0m\u001b[0;34m\u001b[0m\u001b[0;34m\u001b[0m\u001b[0m\n\u001b[1;32m      2\u001b[0m \u001b[0;32mdel\u001b[0m\u001b[0;34m(\u001b[0m\u001b[0ma\u001b[0m\u001b[0;34m.\u001b[0m\u001b[0mcolor\u001b[0m\u001b[0;34m)\u001b[0m\u001b[0;34m\u001b[0m\u001b[0m\n\u001b[0;32m----> 3\u001b[0;31m \u001b[0;32mprint\u001b[0m \u001b[0;34m'class attribute color: '\u001b[0m\u001b[0;34m,\u001b[0m \u001b[0ma\u001b[0m\u001b[0;34m.\u001b[0m\u001b[0mcolor\u001b[0m\u001b[0;34m\u001b[0m\u001b[0m\n\u001b[0m",
      "\u001b[0;31mAttributeError\u001b[0m: Bear instance has no attribute 'color'"
     ]
    }
   ],
   "source": [
    "# attribute deletion\n",
    "del(a.color)\n",
    "print 'class attribute color: ', a.color"
   ]
  },
  {
   "cell_type": "markdown",
   "metadata": {},
   "source": [
    "## 2.3 Methods: Access, creation, and (not) deletion"
   ]
  },
  {
   "cell_type": "markdown",
   "metadata": {},
   "source": [
    "> Methods are defined in the same way normal functions are "
   ]
  },
  {
   "cell_type": "code",
   "execution_count": 17,
   "metadata": {
    "collapsed": false
   },
   "outputs": [
    {
     "name": "stdout",
     "output_type": "stream",
     "text": [
      " The bear class is now defined.\n"
     ]
    }
   ],
   "source": [
    "class Bear:\n",
    "    print \"The bear class is now defined.\"\n",
    "    def say_hello(self):\n",
    "        print \"Hello, world! I am a bear.\"\n",
    "        "
   ]
  },
  {
   "cell_type": "markdown",
   "metadata": {},
   "source": [
    "> Like attributes, methods are also accessed via the “.” operator. Parentheses indicate the method should be executed."
   ]
  },
  {
   "cell_type": "code",
   "execution_count": 18,
   "metadata": {
    "collapsed": false
   },
   "outputs": [
    {
     "name": "stdout",
     "output_type": "stream",
     "text": [
      "Hello, world! I am a bear.\n"
     ]
    }
   ],
   "source": [
    "a = Bear()\n",
    "a.say_hello()"
   ]
  },
  {
   "cell_type": "markdown",
   "metadata": {},
   "source": [
    "### The \\_\\_init\\_\\_ method\n",
    "> **\\_\\_init\\_\\_** is a special Python method. It is always run when a **new** instance of a class is\n",
    "created. \n",
    "> It can specify necessary initialization parameters.\n",
    "\n",
    "> <code>**\"self\"**</code> is a special identifier used inside a method to refer to the particular instance of the class. <code>self</code> is not explicitly passed in when accessed through an object instance; Python takes care of that bookkeeping.\n",
    "\n",
    "- [The self variable in python explained](http://pythontips.com/2013/08/07/the-self-variable-in-python-explained/)\n",
    "- [Explaining the python 'self' variable to a beginner](http://stackoverflow.com/questions/6990099/explaining-the-python-self-variable-to-a-beginner)\n",
    "- [Stackoverflow - Python classes self.variables](http://stackoverflow.com/questions/25560537/python-classes-self-variables)\n",
    "\n"
   ]
  },
  {
   "cell_type": "code",
   "execution_count": 1,
   "metadata": {
    "collapsed": false
   },
   "outputs": [
    {
     "name": "stdout",
     "output_type": "stream",
     "text": [
      "Bear class ready\n"
     ]
    }
   ],
   "source": [
    "class Bear:\n",
    "    print \"Bear class ready\"\n",
    "    def __init__(self, name):\n",
    "        self.name = name\n",
    "        print \"A bear is born.\"\n",
    "    def say_hello(self):\n",
    "        print \"Hello, world! I am a bear.\"\n",
    "        print \"My name is %s.\" % self.name"
   ]
  },
  {
   "cell_type": "markdown",
   "metadata": {},
   "source": [
    "> Arguments specified by \\_\\_init\\_\\_ must be provided when creating a new instance of a class (else an Exception will be thrown)\n"
   ]
  },
  {
   "cell_type": "code",
   "execution_count": 2,
   "metadata": {
    "collapsed": false
   },
   "outputs": [
    {
     "ename": "TypeError",
     "evalue": "__init__() takes exactly 2 arguments (1 given)",
     "output_type": "error",
     "traceback": [
      "\u001b[0;31m---------------------------------------------------------------------------\u001b[0m",
      "\u001b[0;31mTypeError\u001b[0m                                 Traceback (most recent call last)",
      "\u001b[0;32m<ipython-input-2-7f1abb534736>\u001b[0m in \u001b[0;36m<module>\u001b[0;34m()\u001b[0m\n\u001b[0;32m----> 1\u001b[0;31m \u001b[0ma\u001b[0m\u001b[0;34m=\u001b[0m\u001b[0mBear\u001b[0m\u001b[0;34m(\u001b[0m\u001b[0;34m)\u001b[0m\u001b[0;34m\u001b[0m\u001b[0m\n\u001b[0m\u001b[1;32m      2\u001b[0m \u001b[0;32mprint\u001b[0m \u001b[0ma\u001b[0m\u001b[0;34m\u001b[0m\u001b[0m\n",
      "\u001b[0;31mTypeError\u001b[0m: __init__() takes exactly 2 arguments (1 given)"
     ]
    }
   ],
   "source": [
    "a=Bear()\n",
    "print a"
   ]
  },
  {
   "cell_type": "markdown",
   "metadata": {},
   "source": [
    "> Attributes and methods are accessed with the “.” operator. Methods require a parentheses to invoke action."
   ]
  },
  {
   "cell_type": "code",
   "execution_count": 3,
   "metadata": {
    "collapsed": false
   },
   "outputs": [
    {
     "name": "stdout",
     "output_type": "stream",
     "text": [
      "A bear is born.\n",
      "Hello, world! I am a bear.\n",
      "My name is Judge.\n"
     ]
    }
   ],
   "source": [
    "a = Bear(\"Ruby\")\n",
    "a.say_hello()"
   ]
  },
  {
   "cell_type": "code",
   "execution_count": null,
   "metadata": {
    "collapsed": true
   },
   "outputs": [],
   "source": [
    "b = Bear(\"Me"
   ]
  },
  {
   "cell_type": "markdown",
   "metadata": {},
   "source": [
    "## 2.4 *self* and \"class\" variable "
   ]
  },
  {
   "cell_type": "markdown",
   "metadata": {},
   "source": [
    "#### Global attributes\n",
    "> Class-wide (“global”) attributes can be declared. It is good style to do this before the **\\_\\_init\\_\\_** method\n",
    "\n",
    "> Global attributes are accessed in the same way as “instance-specific” attributes, but using the class name instead of the instance name.\n",
    "\n",
    "#### self variable\n",
    "> The ***self*** variable is a placeholder for the specific instance of a class. Attributes referenced to self are known as **“object” attributes**.\n",
    "\n",
    "> The ***self*** variable should be listed as a required argument in all class methods (even if it is not explicitly used by the method).\n",
    "\n",
    "> When calling a method directly from a specific instance of a class, the self variable is NOT passed (Python handles this for you)"
   ]
  },
  {
   "cell_type": "code",
   "execution_count": 35,
   "metadata": {
    "collapsed": false
   },
   "outputs": [
    {
     "name": "stdout",
     "output_type": "stream",
     "text": [
      "Hello, I am bear #1.\n",
      "There're 1 bears in total.\n",
      "My name is Yogi\n"
     ]
    }
   ],
   "source": [
    "class Bear:\n",
    "    population=0\n",
    "    def __init__(self,name):\n",
    "        self.name=name\n",
    "        Bear.population += 1 # Increment the 'global' census counter, a class attribute\n",
    "        self.number=Bear.population # Copy the current number to our own object attribute\n",
    "    def say_hello(self):\n",
    "        print 'Hello, I am bear #%d.' % (self.number)\n",
    "        print \"There're %d bears in total.\" % Bear.population # global attribute\n",
    "        print 'My name is %s' % self.name # object attributes\n",
    "\n",
    "a=Bear(\"Yogi\");\n",
    "a.say_hello()"
   ]
  },
  {
   "cell_type": "markdown",
   "metadata": {},
   "source": [
    "###### Calling a class method \"globally\", with an explicit instance\n"
   ]
  },
  {
   "cell_type": "markdown",
   "metadata": {},
   "source": [
    "> Here the population variable is incremented each time a new instance of the Bear class is created."
   ]
  },
  {
   "cell_type": "code",
   "execution_count": 39,
   "metadata": {
    "collapsed": false
   },
   "outputs": [
    {
     "name": "stdout",
     "output_type": "stream",
     "text": [
      "Hello, I am bear #4.\n",
      "There're 4 bears in total.\n",
      "My name is Winnie\n"
     ]
    }
   ],
   "source": [
    "b = Bear(\"Winnie\")\n",
    "b.say_hello() # calling the class 'directly' with an explicit reference to an object"
   ]
  },
  {
   "cell_type": "markdown",
   "metadata": {},
   "source": [
    "> ####When calling methods from a class, a specific instance DOES need to be passed."
   ]
  },
  {
   "cell_type": "code",
   "execution_count": 38,
   "metadata": {
    "collapsed": false
   },
   "outputs": [
    {
     "name": "stdout",
     "output_type": "stream",
     "text": [
      "Hello, I am bear #3.\n",
      "There're 3 bears in total.\n",
      "My name is Fozzie\n"
     ]
    }
   ],
   "source": [
    "c = Bear(\"Fozzie\")\n",
    "Bear.say_hello(c)"
   ]
  },
  {
   "cell_type": "markdown",
   "metadata": {},
   "source": [
    "## (2.5) Example - A Zookeeper’s Travails\n",
    "Suppose you are a zookeeper. You have three\n",
    "bears in your care (Yogi, Winnie, and Fozzie), and\n",
    "you need to take them to a shiny new\n",
    "habitat in a different part of the zoo. However,\n",
    "your bear truck can only support 300 lbs. Can\n",
    "you transfer the bears in just one trip?"
   ]
  },
  {
   "cell_type": "code",
   "execution_count": 44,
   "metadata": {
    "collapsed": false
   },
   "outputs": [],
   "source": [
    "class Bear:\n",
    "    def __init__(self, name, weight):\n",
    "        self.name = name\n",
    "        self.weight = weight\n",
    "    def eat(self, amount):\n",
    "        self.weight += amount\n",
    "    def hibernate(self):\n",
    "        self.weight /= 1.20\n",
    "        \n",
    "a = Bear(\"Yogi\", 80)\n",
    "b = Bear(\"Winnie\", 100)\n",
    "c = Bear(\"Fozzie\", 115)"
   ]
  },
  {
   "cell_type": "code",
   "execution_count": 45,
   "metadata": {
    "collapsed": false
   },
   "outputs": [],
   "source": [
    "#Class instances in Python can be treated like any other data type:\n",
    "#they can be assigned to other variables, put in lists, iterated over, etc.\n",
    "my_bears = [a, b, c]"
   ]
  },
  {
   "cell_type": "code",
   "execution_count": 46,
   "metadata": {
    "collapsed": false
   },
   "outputs": [
    {
     "name": "stdout",
     "output_type": "stream",
     "text": [
      "True\n"
     ]
    }
   ],
   "source": [
    "total_weight = 0\n",
    "for z in my_bears:\n",
    "    total_weight += z.weight\n",
    "print (total_weight < 300)"
   ]
  },
  {
   "cell_type": "code",
   "execution_count": 47,
   "metadata": {
    "collapsed": false
   },
   "outputs": [
    {
     "data": {
      "text/plain": [
       "295"
      ]
     },
     "execution_count": 47,
     "metadata": {},
     "output_type": "execute_result"
    }
   ],
   "source": [
    "total_weight"
   ]
  },
  {
   "cell_type": "code",
   "execution_count": 48,
   "metadata": {
    "collapsed": false
   },
   "outputs": [
    {
     "name": "stdout",
     "output_type": "stream",
     "text": [
      "100 110 95.8333333333\n"
     ]
    }
   ],
   "source": [
    "a.eat(20)\n",
    "b.eat(10)\n",
    "c.hibernate()\n",
    "\n",
    "print a.weight, b.weight, c.weight"
   ]
  },
  {
   "cell_type": "code",
   "execution_count": 50,
   "metadata": {
    "collapsed": false
   },
   "outputs": [
    {
     "name": "stdout",
     "output_type": "stream",
     "text": [
      "False\n"
     ]
    }
   ],
   "source": [
    "total_weight = 0\n",
    "for z in my_bears:\n",
    "    total_weight += z.weight\n",
    "print (total_weight < 300)"
   ]
  },
  {
   "cell_type": "markdown",
   "metadata": {},
   "source": [
    "---"
   ]
  },
  {
   "cell_type": "markdown",
   "metadata": {},
   "source": [
    "# 3 - Special Class Methods"
   ]
  },
  {
   "cell_type": "markdown",
   "metadata": {},
   "source": [
    "## 3.1 *\\_\\_del\\_\\_* method\n",
    "> the mirror of `__init__` is `__del__`\n",
    "(it is the tear down during clean up)\n",
    "\n",
    "> `__del__` is not allowed to take arguments\n",
    "\n",
    "> note: neither `__init__` or `__del__` are allowed to return anything"
   ]
  },
  {
   "cell_type": "markdown",
   "metadata": {},
   "source": [
    "#### `__del__` example 1"
   ]
  },
  {
   "cell_type": "code",
   "execution_count": 51,
   "metadata": {
    "collapsed": false
   },
   "outputs": [],
   "source": [
    "class Bear:\n",
    "    def __init__(self,name):\n",
    "        self.name = name\n",
    "        print \" made a bear called %s\" % (name)\n",
    "    def __del__(self): \n",
    "        print \"Bang! %s is no longer.\" % self.name"
   ]
  },
  {
   "cell_type": "code",
   "execution_count": 52,
   "metadata": {
    "collapsed": false
   },
   "outputs": [
    {
     "name": "stdout",
     "output_type": "stream",
     "text": [
      " made a bear called Yogi\n",
      " made a bear called Cal\n"
     ]
    }
   ],
   "source": [
    "y = Bear(\"Yogi\") ; \n",
    "c = Bear(\"Cal\")"
   ]
  },
  {
   "cell_type": "code",
   "execution_count": 53,
   "metadata": {
    "collapsed": false
   },
   "outputs": [
    {
     "name": "stdout",
     "output_type": "stream",
     "text": [
      "Bang! Yogi is no longer.\n",
      "Bang! Cal is no longer.\n"
     ]
    }
   ],
   "source": [
    "del y; del c"
   ]
  },
  {
   "cell_type": "code",
   "execution_count": 56,
   "metadata": {
    "collapsed": false
   },
   "outputs": [
    {
     "name": "stdout",
     "output_type": "stream",
     "text": [
      " made a bear called Yogi\n",
      "Bang! Cal is no longer.\n",
      " made a bear called Cal\n",
      "Bang! Yogi is no longer.\n"
     ]
    }
   ],
   "source": [
    "## note that I'm assigning y twice here\n",
    "y = Bear(\"Yogi\") \n",
    "y = Bear(\"Cal\")  "
   ]
  },
  {
   "cell_type": "markdown",
   "metadata": {},
   "source": [
    "#### `__del__` example 2"
   ]
  },
  {
   "cell_type": "code",
   "execution_count": 58,
   "metadata": {
    "collapsed": false
   },
   "outputs": [],
   "source": [
    "%load bear.py"
   ]
  },
  {
   "cell_type": "code",
   "execution_count": null,
   "metadata": {
    "collapsed": false
   },
   "outputs": [],
   "source": [
    "import datetime\n",
    "class Bear:\n",
    "    logfile_name = \"bear.log\"\n",
    "    bear_num     = 0\n",
    "    def __init__(self,name):\n",
    "        self.name = name\n",
    "        print \" made a bear called %s\" % (name)\n",
    "        self.logf  = open(Bear.logfile_name,\"a\")\n",
    "        Bear.bear_num += 1\n",
    "        self.my_num = Bear.bear_num\n",
    "        self.logf.write(\"[%s] created bear #%i named %s\\n\" % \\\n",
    "                        (datetime.datetime.now(),Bear.bear_num,self.name))\n",
    "        self.logf.flush()\n",
    "    \n",
    "    def growl(self,nbeep=5):\n",
    "        print \"\\a\"*nbeep\n",
    "\n",
    "    def __del__(self):\n",
    "        print \"Bang! %s is no longer.\" % self.name\n",
    "        self.logf.write(\"[%s] deleted bear #%i named %s\\n\" % \\\n",
    "                        (datetime.datetime.now(),self.my_num,self.name))\n",
    "        self.logf.flush()\n",
    "        # decrement the number of bears in the population\n",
    "        Bear.bear_num -= 1\n",
    "        # dont really need to close because Python will do the garbage collection\n",
    "        #  for us. but it cannot hurt to be graceful here.\n",
    "        self.logf.close()\n",
    "\n",
    "    def __str__(self):\n",
    "        return \" name = %s bear number = %i (population %i)\" % \\\n",
    "              (self.name, self.my_num,Bear.bear_num)\n",
    "        \n",
    "\"\"\"\n",
    "print Bear.__doc__\n",
    "print Bear.__name__\n",
    "print Bear.__module__\n",
    "print Bear.__bases__\n",
    "print Bear.__dict__\n",
    "\"\"\"\n"
   ]
  },
  {
   "cell_type": "code",
   "execution_count": 59,
   "metadata": {
    "collapsed": false
   },
   "outputs": [],
   "source": [
    "%run bear.py"
   ]
  },
  {
   "cell_type": "code",
   "execution_count": 60,
   "metadata": {
    "collapsed": false
   },
   "outputs": [
    {
     "name": "stdout",
     "output_type": "stream",
     "text": [
      " made a bear called Yogi\n"
     ]
    }
   ],
   "source": [
    "a = Bear(\"Yogi\")"
   ]
  },
  {
   "cell_type": "code",
   "execution_count": 61,
   "metadata": {
    "collapsed": false
   },
   "outputs": [
    {
     "name": "stdout",
     "output_type": "stream",
     "text": [
      " made a bear called Fuzzy\n"
     ]
    }
   ],
   "source": [
    "b = Bear(\"Fuzzy\")"
   ]
  },
  {
   "cell_type": "code",
   "execution_count": 62,
   "metadata": {
    "collapsed": false
   },
   "outputs": [
    {
     "data": {
      "text/plain": [
       "2"
      ]
     },
     "execution_count": 62,
     "metadata": {},
     "output_type": "execute_result"
    }
   ],
   "source": [
    "Bear.bear_num"
   ]
  },
  {
   "cell_type": "code",
   "execution_count": 63,
   "metadata": {
    "collapsed": false
   },
   "outputs": [
    {
     "name": "stdout",
     "output_type": "stream",
     "text": [
      "Bang! Yogi is no longer.\n",
      "Bang! Fuzzy is no longer.\n"
     ]
    }
   ],
   "source": [
    "del a; del b"
   ]
  },
  {
   "cell_type": "code",
   "execution_count": 64,
   "metadata": {
    "collapsed": false
   },
   "outputs": [
    {
     "data": {
      "text/plain": [
       "0"
      ]
     },
     "execution_count": 64,
     "metadata": {},
     "output_type": "execute_result"
    }
   ],
   "source": [
    "Bear.bear_num"
   ]
  },
  {
   "cell_type": "code",
   "execution_count": 65,
   "metadata": {
    "collapsed": false
   },
   "outputs": [
    {
     "name": "stdout",
     "output_type": "stream",
     "text": [
      "[2015-05-10 00:56:35.546683] created bear #1 named Yogi\r\n",
      "[2015-05-10 00:56:37.134948] created bear #2 named Fuzzy\r\n",
      "[2015-05-10 00:56:56.960582] deleted bear #1 named Yogi\r\n",
      "[2015-05-10 00:56:56.960801] deleted bear #2 named Fuzzy\r\n"
     ]
    }
   ],
   "source": [
    "!cat bear.log"
   ]
  },
  {
   "cell_type": "code",
   "execution_count": 66,
   "metadata": {
    "collapsed": false
   },
   "outputs": [],
   "source": []
  },
  {
   "cell_type": "markdown",
   "metadata": {},
   "source": [
    "## 3.2 *\\_\\_str\\_\\_* method\n",
    "\n"
   ]
  },
  {
   "cell_type": "markdown",
   "metadata": {},
   "source": [
    "`__str__` is a method that defines how a Class should represent itself as a string\n",
    "\n",
    "it takes only self as an arg, must return a string"
   ]
  },
  {
   "cell_type": "code",
   "execution_count": 77,
   "metadata": {
    "collapsed": false
   },
   "outputs": [],
   "source": [
    "%load bear.py"
   ]
  },
  {
   "cell_type": "code",
   "execution_count": null,
   "metadata": {
    "collapsed": false
   },
   "outputs": [],
   "source": [
    "import datetime\n",
    "class Bear:\n",
    "    logfile_name = \"bear.log\"\n",
    "    bear_num     = 0\n",
    "    def __init__(self,name):\n",
    "        self.name = name\n",
    "        print \" made a bear called %s\" % (name)\n",
    "        self.logf  = open(Bear.logfile_name,\"a\")\n",
    "        Bear.bear_num += 1\n",
    "        self.my_num = Bear.bear_num\n",
    "        self.logf.write(\"[%s] created bear #%i named %s\\n\" % \\\n",
    "                        (datetime.datetime.now(),Bear.bear_num,self.name))\n",
    "        self.logf.flush()\n",
    "    \n",
    "    def growl(self,nbeep=5):\n",
    "        print \"\\a\"*nbeep\n",
    "\n",
    "    def __del__(self):\n",
    "        print \"Bang! %s is no longer.\" % self.name\n",
    "        self.logf.write(\"[%s] deleted bear #%i named %s\\n\" % \\\n",
    "                        (datetime.datetime.now(),self.my_num,self.name))\n",
    "        self.logf.flush()\n",
    "        # decrement the number of bears in the population\n",
    "        Bear.bear_num -= 1\n",
    "        # dont really need to close because Python will do the garbage collection\n",
    "        #  for us. but it cannot hurt to be graceful here.\n",
    "        self.logf.close()\n",
    "\n",
    "    def __str__(self):\n",
    "        return \" name = %s bear number = %i (population %i)\" % \\\n",
    "              (self.name, self.my_num,Bear.bear_num)\n",
    "        \n",
    "\"\"\"\n",
    "print Bear.__doc__\n",
    "print Bear.__name__\n",
    "print Bear.__module__\n",
    "print Bear.__bases__\n",
    "print Bear.__dict__\n",
    "\"\"\"\n"
   ]
  },
  {
   "cell_type": "code",
   "execution_count": 67,
   "metadata": {
    "collapsed": false
   },
   "outputs": [],
   "source": [
    "run bear"
   ]
  },
  {
   "cell_type": "code",
   "execution_count": 68,
   "metadata": {
    "collapsed": false
   },
   "outputs": [
    {
     "name": "stdout",
     "output_type": "stream",
     "text": [
      " made a bear called Fuzzy\n"
     ]
    }
   ],
   "source": [
    "b = Bear(\"Fuzzy\")"
   ]
  },
  {
   "cell_type": "code",
   "execution_count": 69,
   "metadata": {
    "collapsed": false
   },
   "outputs": [
    {
     "name": "stdout",
     "output_type": "stream",
     "text": [
      " name = Fuzzy bear number = 1 (population 1)\n"
     ]
    }
   ],
   "source": [
    "print b"
   ]
  },
  {
   "cell_type": "code",
   "execution_count": 70,
   "metadata": {
    "collapsed": false
   },
   "outputs": [
    {
     "name": "stdout",
     "output_type": "stream",
     "text": [
      " made a bear called Yogi\n"
     ]
    }
   ],
   "source": [
    "a = Bear(\"Yogi\")"
   ]
  },
  {
   "cell_type": "code",
   "execution_count": 71,
   "metadata": {
    "collapsed": false
   },
   "outputs": [
    {
     "name": "stdout",
     "output_type": "stream",
     "text": [
      " name = Fuzzy bear number = 1 (population 2)\n"
     ]
    }
   ],
   "source": [
    "print b"
   ]
  },
  {
   "cell_type": "code",
   "execution_count": 78,
   "metadata": {
    "collapsed": false
   },
   "outputs": [],
   "source": [
    "%load bear2.py"
   ]
  },
  {
   "cell_type": "code",
   "execution_count": null,
   "metadata": {
    "collapsed": false
   },
   "outputs": [],
   "source": [
    "import datetime\n",
    "class Bear:\n",
    "    logfile_name = \"bear.log\"\n",
    "    bear_num     = 0\n",
    "    def __init__(self,name):\n",
    "        self.name = name\n",
    "        print \" made a bear called %s\" % (name)\n",
    "        self.logf  = open(Bear.logfile_name,\"a\")\n",
    "        Bear.bear_num += 1\n",
    "        self.created = datetime.datetime.now()\n",
    "        self.my_num = Bear.bear_num\n",
    "        self.logf.write(\"[%s] created bear #%i named %s\\n\" % \\\n",
    "                        (datetime.datetime.now(),Bear.bear_num,self.name))\n",
    "        self.logf.flush()\n",
    "    \n",
    "    def growl(self,nbeep=5):\n",
    "        print \"\\a\"*nbeep\n",
    "\n",
    "    def __del__(self):\n",
    "        print \"Bang! %s is no longer.\" % self.name\n",
    "        self.logf.write(\"[%s] deleted bear #%i named %s\\n\" % \\\n",
    "                        (datetime.datetime.now(),self.my_num,self.name))\n",
    "        self.logf.flush()\n",
    "        # decrement the number of bears in the population\n",
    "        Bear.bear_num -= 1\n",
    "        # dont really need to close because Python will do the garbage collection\n",
    "        #  for us. but it cannot hurt to be graceful here.\n",
    "        self.logf.close()\n",
    "\n",
    "    def __str__(self):\n",
    "        age = datetime.datetime.now() - self.created\n",
    "        return \" name = %s bear (age %s) number = %i (population %i)\" % \\\n",
    "                (self.name, age, self.my_num,Bear.bear_num)\n",
    "        \n",
    "\"\"\"\n",
    "print Bear.__doc__\n",
    "print Bear.__name__\n",
    "print Bear.__module__\n",
    "print Bear.__bases__\n",
    "print Bear.__dict__\n",
    "\"\"\"\n"
   ]
  },
  {
   "cell_type": "code",
   "execution_count": 72,
   "metadata": {
    "collapsed": false
   },
   "outputs": [],
   "source": [
    "# add some dynamic aging to the bears\n",
    "from bear2 import Bear as Bear2"
   ]
  },
  {
   "cell_type": "code",
   "execution_count": 73,
   "metadata": {
    "collapsed": false
   },
   "outputs": [
    {
     "name": "stdout",
     "output_type": "stream",
     "text": [
      " made a bear called Yogi\n",
      "Bang! Yogi is no longer.\n"
     ]
    }
   ],
   "source": [
    "a = Bear2(\"Yogi\")"
   ]
  },
  {
   "cell_type": "code",
   "execution_count": 74,
   "metadata": {
    "collapsed": false
   },
   "outputs": [
    {
     "name": "stdout",
     "output_type": "stream",
     "text": [
      " name = Yogi bear (age 0:00:08.848219) number = 1 (population 1)\n"
     ]
    }
   ],
   "source": [
    "print a"
   ]
  },
  {
   "cell_type": "code",
   "execution_count": 76,
   "metadata": {
    "collapsed": false
   },
   "outputs": [
    {
     "name": "stdout",
     "output_type": "stream",
     "text": [
      " name = Yogi bear (age 0:00:14.096040) number = 1 (population 1)\n"
     ]
    }
   ],
   "source": [
    "print a"
   ]
  },
  {
   "cell_type": "markdown",
   "metadata": {},
   "source": [
    "## 3.3 Emulating Numeric Operations"
   ]
  },
  {
   "cell_type": "markdown",
   "metadata": {},
   "source": [
    "you can define a whole bunch of ways that instances behave upon numerical operation (e.g., `__add__` is what gets called when you type instance_1 + instance_2)"
   ]
  },
  {
   "cell_type": "markdown",
   "metadata": {},
   "source": [
    "`\n",
    "__add__(self,other)\n",
    "__sub__(self,other)\n",
    "__mul__(self,other)\n",
    "__div__(self,other)\n",
    "__mod__(self,other)\n",
    "__divmod__(self,other)\n",
    "__pow__(self,other)\n",
    "__lshift__(self,other)\n",
    "__rshift__(self,other)\n",
    "__and__(self,other)\n",
    "__xor__(self,other)\n",
    "...\n",
    "`"
   ]
  },
  {
   "cell_type": "code",
   "execution_count": 79,
   "metadata": {
    "collapsed": false
   },
   "outputs": [],
   "source": [
    "%load bear1.py"
   ]
  },
  {
   "cell_type": "code",
   "execution_count": null,
   "metadata": {
    "collapsed": false
   },
   "outputs": [],
   "source": [
    "class Bear:\n",
    "    \"\"\"\n",
    "    class to show off addition (and multiplication)\n",
    "    \"\"\"\n",
    "    bear_num = 0\n",
    "    def __init__(self,name):\n",
    "        self.name = name\n",
    "        print \" made a bear called %s\" % (name)\n",
    "        Bear.bear_num += 1\n",
    "        self.my_num = Bear.bear_num\n",
    "\n",
    "    def __add__(self,other):\n",
    "        ## spawn a little tike\n",
    "        cub = Bear(\"progeny_of_%s_and_%s\" % (self.name,other.name))\n",
    "        cub.parents = (self,other)\n",
    "        return cub\n",
    "\n",
    "    def __mul__(self,other):\n",
    "        ## multiply (as in \"go forth and multiply\") is really the same as adding\n",
    "        self.__add__(other)\n",
    "        "
   ]
  },
  {
   "cell_type": "code",
   "execution_count": 80,
   "metadata": {
    "collapsed": false
   },
   "outputs": [],
   "source": [
    "from bear1 import Bear as Bear1"
   ]
  },
  {
   "cell_type": "code",
   "execution_count": 83,
   "metadata": {
    "collapsed": false
   },
   "outputs": [
    {
     "name": "stdout",
     "output_type": "stream",
     "text": [
      " made a bear called Yogi\n",
      " made a bear called Fuzzy\n"
     ]
    }
   ],
   "source": [
    "m = Bear1(\"Yogi\") ; n = Bear1(\"Fuzzy\")"
   ]
  },
  {
   "cell_type": "code",
   "execution_count": 84,
   "metadata": {
    "collapsed": false
   },
   "outputs": [
    {
     "name": "stdout",
     "output_type": "stream",
     "text": [
      " made a bear called progeny_of_Yogi_and_Fuzzy\n"
     ]
    }
   ],
   "source": [
    "our_kid = m + n"
   ]
  },
  {
   "cell_type": "code",
   "execution_count": 86,
   "metadata": {
    "collapsed": false
   },
   "outputs": [
    {
     "name": "stdout",
     "output_type": "stream",
     "text": [
      "(<bear1.Bear instance at 0x1085291b8>, <bear1.Bear instance at 0x10850fd88>)\n",
      "Yogi\n",
      "Fuzzy\n"
     ]
    }
   ],
   "source": [
    "print our_kid.parents\n",
    "print our_kid.parents[0].name\n",
    "print our_kid.parents[1].name"
   ]
  },
  {
   "cell_type": "code",
   "execution_count": 87,
   "metadata": {
    "collapsed": false
   },
   "outputs": [
    {
     "name": "stdout",
     "output_type": "stream",
     "text": [
      " made a bear called progeny_of_Yogi_and_Fuzzy\n"
     ]
    }
   ],
   "source": [
    "our_kid1 = m * n"
   ]
  },
  {
   "cell_type": "markdown",
   "metadata": {},
   "source": [
    "## 3.4 Other Useful Specials"
   ]
  },
  {
   "cell_type": "code",
   "execution_count": 88,
   "metadata": {
    "collapsed": false
   },
   "outputs": [
    {
     "name": "stdout",
     "output_type": "stream",
     "text": [
      "\n",
      "    class to show off addition (and multiplication)\n",
      "    \n",
      "Bear\n",
      "bear1\n",
      "()\n",
      "{'__module__': 'bear1', 'bear_num': 8, '__mul__': <function __mul__ at 0x10850ec80>, '__add__': <function __add__ at 0x10850ea28>, '__doc__': '\\n    class to show off addition (and multiplication)\\n    ', '__init__': <function __init__ at 0x10850e848>}\n"
     ]
    }
   ],
   "source": [
    "print Bear1.__doc__    # Dictionary containing the class's namespace\n",
    "print Bear1.__name__   # Class documentation string, or None if undefined\n",
    "print Bear1.__module__ # Class name\n",
    "print Bear1.__bases__  # Module name in which the class is defined. This attribute is \"__main__\" in interactive mode\n",
    "print Bear1.__dict__   # A possiby empty tuple containing the base classes, in the order of their occurrence in the base class list\n"
   ]
  },
  {
   "cell_type": "markdown",
   "metadata": {},
   "source": [
    "---"
   ]
  },
  {
   "cell_type": "markdown",
   "metadata": {},
   "source": [
    "# 4 - Inheritance"
   ]
  },
  {
   "cell_type": "markdown",
   "metadata": {},
   "source": [
    "---"
   ]
  },
  {
   "cell_type": "markdown",
   "metadata": {},
   "source": [
    "# 5 - Iterators"
   ]
  },
  {
   "cell_type": "markdown",
   "metadata": {},
   "source": [
    "---"
   ]
  },
  {
   "cell_type": "markdown",
   "metadata": {},
   "source": [
    "# 6 - Generators"
   ]
  },
  {
   "cell_type": "markdown",
   "metadata": {},
   "source": [
    "- [Stackoverflow: Generators and Yield keyword in python explained](http://stackoverflow.com/questions/231767/what-does-the-yield-keyword-do-in-python/231855#231855)\n",
    "\n",
    "To understand what yield does, you must understand what are generators. And before generators come iterables.\n",
    "\n",
    "<img style=\"float: left\" src=\"image/python_iterables_generators.png\" width=\"60%\">  \n",
    " "
   ]
  },
  {
   "cell_type": "code",
   "execution_count": null,
   "metadata": {
    "collapsed": true
   },
   "outputs": [],
   "source": []
  },
  {
   "cell_type": "code",
   "execution_count": null,
   "metadata": {
    "collapsed": true
   },
   "outputs": [],
   "source": []
  },
  {
   "cell_type": "markdown",
   "metadata": {},
   "source": [
    "---"
   ]
  },
  {
   "cell_type": "markdown",
   "metadata": {},
   "source": [
    "# 7 - Metaclasses"
   ]
  },
  {
   "cell_type": "markdown",
   "metadata": {},
   "source": [
    "- [Stackoverflow: Understanding Metaclass in Python](http://stackoverflow.com/questions/100003/what-is-a-metaclass-in-python/6581949#6581949)"
   ]
  },
  {
   "cell_type": "code",
   "execution_count": null,
   "metadata": {
    "collapsed": true
   },
   "outputs": [],
   "source": []
  },
  {
   "cell_type": "markdown",
   "metadata": {},
   "source": [
    "---"
   ]
  },
  {
   "cell_type": "markdown",
   "metadata": {},
   "source": [
    "# 8 - Referencing"
   ]
  },
  {
   "cell_type": "code",
   "execution_count": 111,
   "metadata": {
    "collapsed": false
   },
   "outputs": [],
   "source": [
    "%load bear1.py"
   ]
  },
  {
   "cell_type": "code",
   "execution_count": 1,
   "metadata": {
    "collapsed": false
   },
   "outputs": [],
   "source": [
    "class Bear:\n",
    "    \"\"\"\n",
    "    class to show off addition (and multiplication)\n",
    "    \"\"\"\n",
    "    bear_num = 0\n",
    "    def __init__(self,name):\n",
    "        self.name = name\n",
    "        print \" made a bear called %s\" % (name)\n",
    "        Bear.bear_num += 1\n",
    "        self.my_num = Bear.bear_num\n",
    "\n",
    "    def __add__(self,other):\n",
    "        ## spawn a little tike\n",
    "        cub = Bear(\"progeny_of_%s_and_%s\" % (self.name,other.name))\n",
    "        cub.parents = (self,other)\n",
    "        return cub\n",
    "\n",
    "    def __mul__(self,other):\n",
    "        ## multiply (as in \"go forth and multiply\") is really the same as adding\n",
    "        self.__add__(other)\n",
    "        "
   ]
  },
  {
   "cell_type": "code",
   "execution_count": 117,
   "metadata": {
    "collapsed": false
   },
   "outputs": [
    {
     "name": "stdout",
     "output_type": "stream",
     "text": [
      " made a bear called Yogi\n"
     ]
    }
   ],
   "source": [
    "a = Bear(\"Yogi\")"
   ]
  },
  {
   "cell_type": "code",
   "execution_count": 118,
   "metadata": {
    "collapsed": false
   },
   "outputs": [
    {
     "data": {
      "text/plain": [
       "<__main__.Bear instance at 0x108534368>"
      ]
     },
     "execution_count": 118,
     "metadata": {},
     "output_type": "execute_result"
    }
   ],
   "source": [
    "a"
   ]
  },
  {
   "cell_type": "code",
   "execution_count": 119,
   "metadata": {
    "collapsed": false
   },
   "outputs": [],
   "source": [
    "b = a   # class b points to the same instance in memory a"
   ]
  },
  {
   "cell_type": "code",
   "execution_count": 120,
   "metadata": {
    "collapsed": false
   },
   "outputs": [
    {
     "data": {
      "text/plain": [
       "<__main__.Bear instance at 0x108534368>"
      ]
     },
     "execution_count": 120,
     "metadata": {},
     "output_type": "execute_result"
    }
   ],
   "source": [
    "b"
   ]
  },
  {
   "cell_type": "code",
   "execution_count": 121,
   "metadata": {
    "collapsed": false
   },
   "outputs": [
    {
     "data": {
      "text/plain": [
       "'Fuzzy'"
      ]
     },
     "execution_count": 121,
     "metadata": {},
     "output_type": "execute_result"
    }
   ],
   "source": [
    "a.name = \"Fuzzy\"\n",
    "a.name"
   ]
  },
  {
   "cell_type": "code",
   "execution_count": 122,
   "metadata": {
    "collapsed": false
   },
   "outputs": [
    {
     "data": {
      "text/plain": [
       "'Fuzzy'"
      ]
     },
     "execution_count": 122,
     "metadata": {},
     "output_type": "execute_result"
    }
   ],
   "source": [
    "b.name    # changing instance variable of a will also change b"
   ]
  },
  {
   "cell_type": "code",
   "execution_count": 123,
   "metadata": {
    "collapsed": false
   },
   "outputs": [
    {
     "data": {
      "text/plain": [
       "1"
      ]
     },
     "execution_count": 123,
     "metadata": {},
     "output_type": "execute_result"
    }
   ],
   "source": [
    "Bear.bear_num    # global class attribute doesn't change when creating b"
   ]
  },
  {
   "cell_type": "markdown",
   "metadata": {},
   "source": [
    "#### copy and deepcopy to explain class referencing"
   ]
  },
  {
   "cell_type": "code",
   "execution_count": 124,
   "metadata": {
    "collapsed": false
   },
   "outputs": [],
   "source": [
    "import copy"
   ]
  },
  {
   "cell_type": "code",
   "execution_count": 125,
   "metadata": {
    "collapsed": false
   },
   "outputs": [],
   "source": [
    "c = copy.copy(a)    # c is a new instance created using copy.copy"
   ]
  },
  {
   "cell_type": "code",
   "execution_count": 126,
   "metadata": {
    "collapsed": false
   },
   "outputs": [
    {
     "data": {
      "text/plain": [
       "<__main__.Bear instance at 0x10852a320>"
      ]
     },
     "execution_count": 126,
     "metadata": {},
     "output_type": "execute_result"
    }
   ],
   "source": [
    "c    # pointing to different memory lcoation"
   ]
  },
  {
   "cell_type": "code",
   "execution_count": 127,
   "metadata": {
    "collapsed": false
   },
   "outputs": [
    {
     "data": {
      "text/plain": [
       "1"
      ]
     },
     "execution_count": 127,
     "metadata": {},
     "output_type": "execute_result"
    }
   ],
   "source": [
    "Bear.bear_num      # class doesn't get re-instantiated"
   ]
  },
  {
   "cell_type": "code",
   "execution_count": 128,
   "metadata": {
    "collapsed": false
   },
   "outputs": [
    {
     "data": {
      "text/plain": [
       "'Fuzzy'"
      ]
     },
     "execution_count": 128,
     "metadata": {},
     "output_type": "execute_result"
    }
   ],
   "source": [
    "c.name"
   ]
  },
  {
   "cell_type": "code",
   "execution_count": 129,
   "metadata": {
    "collapsed": false
   },
   "outputs": [],
   "source": [
    "c.name = \"Smelly\"  # changing instance variable of c doesn't impact a"
   ]
  },
  {
   "cell_type": "code",
   "execution_count": 130,
   "metadata": {
    "collapsed": false
   },
   "outputs": [
    {
     "data": {
      "text/plain": [
       "'Fuzzy'"
      ]
     },
     "execution_count": 130,
     "metadata": {},
     "output_type": "execute_result"
    }
   ],
   "source": [
    "a.name"
   ]
  },
  {
   "cell_type": "code",
   "execution_count": 131,
   "metadata": {
    "collapsed": false
   },
   "outputs": [],
   "source": [
    "a.mylist = [1,2,3]"
   ]
  },
  {
   "cell_type": "code",
   "execution_count": 132,
   "metadata": {
    "collapsed": false
   },
   "outputs": [
    {
     "ename": "AttributeError",
     "evalue": "Bear instance has no attribute 'mylist'",
     "output_type": "error",
     "traceback": [
      "\u001b[0;31m---------------------------------------------------------------------------\u001b[0m\n\u001b[0;31mAttributeError\u001b[0m                            Traceback (most recent call last)",
      "\u001b[0;32m<ipython-input-132-6220d7fafdd0>\u001b[0m in \u001b[0;36m<module>\u001b[0;34m()\u001b[0m\n\u001b[0;32m----> 1\u001b[0;31m \u001b[0mc\u001b[0m\u001b[0;34m.\u001b[0m\u001b[0mmylist\u001b[0m\u001b[0;34m\u001b[0m\u001b[0m\n\u001b[0m",
      "\u001b[0;31mAttributeError\u001b[0m: Bear instance has no attribute 'mylist'"
     ]
    }
   ],
   "source": [
    "c.mylist"
   ]
  },
  {
   "cell_type": "code",
   "execution_count": 133,
   "metadata": {
    "collapsed": false
   },
   "outputs": [],
   "source": [
    "d = copy.copy(a)"
   ]
  },
  {
   "cell_type": "code",
   "execution_count": 134,
   "metadata": {
    "collapsed": false
   },
   "outputs": [
    {
     "data": {
      "text/plain": [
       "[1, 2, 3]"
      ]
     },
     "execution_count": 134,
     "metadata": {},
     "output_type": "execute_result"
    }
   ],
   "source": [
    "d.mylist"
   ]
  },
  {
   "cell_type": "code",
   "execution_count": 135,
   "metadata": {
    "collapsed": false
   },
   "outputs": [
    {
     "data": {
      "text/plain": [
       "'Fuzzy'"
      ]
     },
     "execution_count": 135,
     "metadata": {},
     "output_type": "execute_result"
    }
   ],
   "source": [
    "d.name"
   ]
  },
  {
   "cell_type": "code",
   "execution_count": 137,
   "metadata": {
    "collapsed": false
   },
   "outputs": [],
   "source": [
    "d.name = 'Yogi'"
   ]
  },
  {
   "cell_type": "code",
   "execution_count": 138,
   "metadata": {
    "collapsed": false
   },
   "outputs": [
    {
     "data": {
      "text/plain": [
       "'Fuzzy'"
      ]
     },
     "execution_count": 138,
     "metadata": {},
     "output_type": "execute_result"
    }
   ],
   "source": [
    "a.name"
   ]
  },
  {
   "cell_type": "code",
   "execution_count": 139,
   "metadata": {
    "collapsed": false
   },
   "outputs": [],
   "source": [
    "a.mylist[0] = -1"
   ]
  },
  {
   "cell_type": "code",
   "execution_count": 144,
   "metadata": {
    "collapsed": false
   },
   "outputs": [
    {
     "data": {
      "text/plain": [
       "['a', 2, 3]"
      ]
     },
     "execution_count": 144,
     "metadata": {},
     "output_type": "execute_result"
    }
   ],
   "source": [
    "d.mylist          # d.mylist gets updated because it points to the same mylist as a"
   ]
  },
  {
   "cell_type": "code",
   "execution_count": 141,
   "metadata": {
    "collapsed": false
   },
   "outputs": [],
   "source": [
    "e = copy.deepcopy(a)    # deepcopy creates a new list"
   ]
  },
  {
   "cell_type": "code",
   "execution_count": 142,
   "metadata": {
    "collapsed": false
   },
   "outputs": [],
   "source": [
    "a.mylist[0] = \"a\""
   ]
  },
  {
   "cell_type": "code",
   "execution_count": 143,
   "metadata": {
    "collapsed": false
   },
   "outputs": [
    {
     "data": {
      "text/plain": [
       "[-1, 2, 3]"
      ]
     },
     "execution_count": 143,
     "metadata": {},
     "output_type": "execute_result"
    }
   ],
   "source": [
    "e.mylist                # changing mylist in a doens't impact e since e is a new list"
   ]
  },
  {
   "cell_type": "code",
   "execution_count": null,
   "metadata": {
    "collapsed": false
   },
   "outputs": [],
   "source": []
  }
 ],
 "metadata": {
  "kernelspec": {
   "display_name": "Python 2",
   "language": "python",
   "name": "python2"
  },
  "language_info": {
   "codemirror_mode": {
    "name": "ipython",
    "version": 2
   },
   "file_extension": ".py",
   "mimetype": "text/x-python",
   "name": "python",
   "nbconvert_exporter": "python",
   "pygments_lexer": "ipython2",
   "version": "2.7.9"
  }
 },
 "nbformat": 4,
 "nbformat_minor": 0
}
