{
 "metadata": {
  "name": "bootcamp"
 },
 "nbformat": 2,
 "nbformat_minor": 0,
 "worksheets": [
  {
   "cells": [
    {
     "cell_type": "code",
     "collapsed": false,
     "input": [
      "import numpy as np\n",
      "import tables\n",
      "import scipy.signal as sig\n",
      "from sklearn import decomposition, mixture, linear_model\n",
      "from mayavi import mlab"
     ],
     "language": "python",
     "metadata": {},
     "outputs": []
    },
    {
     "cell_type": "code",
     "collapsed": false,
     "input": [
      "h5 = tables.openFile(\"neurons.hf5\")\n",
      "print h5\n",
      "plot(h5.root.raw[:1000])"
     ],
     "language": "python",
     "metadata": {},
     "outputs": []
    },
    {
     "cell_type": "code",
     "collapsed": false,
     "input": [
      "b, a = sig.butter(3, 0.1)\n",
      "lfp = sig.filtfilt(b, a, h5.root.raw[:])\n",
      "plot(lfp[:1000])"
     ],
     "language": "python",
     "metadata": {},
     "outputs": []
    },
    {
     "cell_type": "code",
     "collapsed": false,
     "input": [
      "data = h5.root.raw[:] - lfp\n",
      "plot(data[:1000])"
     ],
     "language": "python",
     "metadata": {},
     "outputs": []
    },
    {
     "cell_type": "code",
     "collapsed": false,
     "input": [
      "binary = (data > 5).astype(int)\n",
      "plot(binary[:1000])"
     ],
     "language": "python",
     "metadata": {},
     "outputs": []
    },
    {
     "cell_type": "code",
     "collapsed": false,
     "input": [
      "leading = np.diff(binary) > 0\n",
      "times = np.nonzero(leading)[0]\n",
      "print times[:10]"
     ],
     "language": "python",
     "metadata": {},
     "outputs": []
    },
    {
     "cell_type": "code",
     "collapsed": false,
     "input": [
      "spikes = np.array([data[i-10:i+20] for i in times])\n",
      "print spikes.shape\n",
      "lines = plot(spikes[:100].T)"
     ],
     "language": "python",
     "metadata": {},
     "outputs": []
    },
    {
     "cell_type": "code",
     "collapsed": false,
     "input": [
      "pca = decomposition.PCA(3)\n",
      "pca.fit(spikes)\n",
      "proj = pca.transform(spikes)"
     ],
     "language": "python",
     "metadata": {},
     "outputs": []
    },
    {
     "cell_type": "code",
     "collapsed": false,
     "input": [
      "mlab.points3d(proj[:,0], proj[:,1], proj[:,2])\n",
      "mlab.show()"
     ],
     "language": "python",
     "metadata": {},
     "outputs": []
    },
    {
     "cell_type": "code",
     "collapsed": false,
     "input": [
      "gmm = mixture.GMM(3).fit(proj)\n",
      "labels = gmm.predict(proj)\n",
      "print labels[:10]"
     ],
     "language": "python",
     "metadata": {},
     "outputs": []
    },
    {
     "cell_type": "code",
     "collapsed": false,
     "input": [
      "psth = np.zeros((len(data) / 30., len(np.unique(labels))))\n",
      "for i in np.unique(labels):\n",
      "\tpsth[(times[labels == i] / 30).astype(int), i] = 1\n",
      "plot(psth[:1000/30])"
     ],
     "language": "python",
     "metadata": {},
     "outputs": []
    },
    {
     "cell_type": "code",
     "collapsed": false,
     "input": [
      "stim = h5.root.stim[:]\n",
      "model = linear_model.Ridge(alpha=10)\n",
      "model.fit(stim, psth)"
     ],
     "language": "python",
     "metadata": {},
     "outputs": []
    },
    {
     "cell_type": "code",
     "collapsed": false,
     "input": [
      "plot(model.coef_[0])"
     ],
     "language": "python",
     "metadata": {},
     "outputs": []
    },
    {
     "cell_type": "code",
     "collapsed": false,
     "input": [
      "plot(model.coef_[1])"
     ],
     "language": "python",
     "metadata": {},
     "outputs": []
    },
    {
     "cell_type": "code",
     "collapsed": false,
     "input": [
      "plot(model.coef_[2])"
     ],
     "language": "python",
     "metadata": {},
     "outputs": []
    },
    {
     "cell_type": "code",
     "collapsed": false,
     "input": [],
     "language": "python",
     "metadata": {},
     "outputs": []
    }
   ],
   "metadata": {}
  }
 ]
}