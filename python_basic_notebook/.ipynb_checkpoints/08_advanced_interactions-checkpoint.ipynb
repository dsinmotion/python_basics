{
 "metadata": {
  "name": "",
  "signature": "sha256:783cb1d46a0129fb253c9d962be4aa81718cd12ff3f2f6bb0c113d3f8ac17c93"
 },
 "nbformat": 3,
 "nbformat_minor": 0,
 "worksheets": [
  {
   "cells": [
    {
     "cell_type": "markdown",
     "metadata": {},
     "source": [
      "# Advanced Interactions\n",
      "\n",
      "### Table of Contents\n",
      "> * List comprehendsion\n",
      "* Lambda Functions\n",
      "* Filter (list comprehension)\n",
      "* Map/Reduce\n",
      "* Zip\n"
     ]
    },
    {
     "cell_type": "markdown",
     "metadata": {},
     "source": [
      "## 1 - List Comprehension\n"
     ]
    },
    {
     "cell_type": "markdown",
     "metadata": {},
     "source": [
      "<img src=\"./image/list1.jpg\" alt=\"Drawing\" style=\"width: 400px;\"/>"
     ]
    },
    {
     "cell_type": "code",
     "collapsed": false,
     "input": [
      "# A list comprehension is a compact way to write \n",
      "# an expression that expands to a whole list\n",
      "nums = [1, 2, 3, 4]\n",
      "\n",
      "squares = [ n * n for n in nums ]   ## [1, 4, 9, 16]\n",
      "print squares"
     ],
     "language": "python",
     "metadata": {},
     "outputs": [
      {
       "output_type": "stream",
       "stream": "stdout",
       "text": [
        "[1, 4, 9, 16]\n"
       ]
      }
     ],
     "prompt_number": 1
    },
    {
     "cell_type": "markdown",
     "metadata": {},
     "source": [
      "#### list comprehension with filtering"
     ]
    },
    {
     "cell_type": "code",
     "collapsed": false,
     "input": [
      "particles = [{\"name\":\"\u03c0+\" ,\"mass\": 139.57018}, {\"name\":\"\u03c00\" ,\"mass\": 134.9766}, {\"name\":\"\u03b75\" ,\"mass\": 47.853}, {\"name\":\"\u03b7\u2032(958)\",\"mass\": 957.78}, {\"name\":\"\u03b7c(1S)\", \"mass\": 2980.5}, {\"name\": \"\u03b7b(1S)\",\"mass\": 9388.9}, {\"name\":\"K+\", \"mass\": 493.677}, {\"name\":\"K0\" ,\"mass\": 497.614}, {\"name\":\"K0S\" ,\"mass\": 497.614}, {\"name\":\"K0L\" ,\"mass\": 497.614}, {\"name\":\"D+\" ,\"mass\": 1869.62}, {\"name\":\"D0\" ,\"mass\": 1864.84}, {\"name\":\"D+s\" ,\"mass\": 1968.49}, {\"name\":\"B+\" ,\"mass\": 5279.15}, {\"name\":\"B0\" ,\"mass\": 5279.5}, {\"name\":\"B0s\" ,\"mass\": 5366.3}, {\"name\":\"B+c\" ,\"mass\": 6277}]\n",
      "my_mesons = [ (x['name'],x['mass']) for \\\n",
      "                   x in particles if x['mass'] <= 1000.0 and x['mass'] >= 100.0]\n",
      "my_mesons"
     ],
     "language": "python",
     "metadata": {},
     "outputs": [
      {
       "metadata": {},
       "output_type": "pyout",
       "prompt_number": 2,
       "text": [
        "[('\\xcf\\x80+', 139.57018),\n",
        " ('\\xcf\\x800', 134.9766),\n",
        " ('\\xce\\xb7\\xe2\\x80\\xb2(958)', 957.78),\n",
        " ('K+', 493.677),\n",
        " ('K0', 497.614),\n",
        " ('K0S', 497.614),\n",
        " ('K0L', 497.614)]"
       ]
      }
     ],
     "prompt_number": 2
    },
    {
     "cell_type": "markdown",
     "metadata": {},
     "source": [
      "#### All consonants in a given sentence (without repetition) "
     ]
    },
    {
     "cell_type": "code",
     "collapsed": false,
     "input": [
      "import string\n",
      "punct = string.punctuation + ' '\n",
      "vowels = \"aeiou\"\n",
      "phrase = \"On second thought, let's not go to Camelot. It is a silly place.\"\n",
      "set([c for c in phrase.lower() if c not in vowels and c not in punct])"
     ],
     "language": "python",
     "metadata": {},
     "outputs": [
      {
       "metadata": {},
       "output_type": "pyout",
       "prompt_number": 3,
       "text": [
        "{'c', 'd', 'g', 'h', 'l', 'm', 'n', 'p', 's', 't', 'y'}"
       ]
      }
     ],
     "prompt_number": 3
    },
    {
     "cell_type": "markdown",
     "metadata": {},
     "source": [
      "#### First character of every word in a sentence"
     ]
    },
    {
     "cell_type": "code",
     "collapsed": false,
     "input": [
      "phrase = \"On second thought, let's not go to Camelot. It is a silly place.\"\n",
      "[w[0] for w in phrase.split()]"
     ],
     "language": "python",
     "metadata": {},
     "outputs": [
      {
       "metadata": {},
       "output_type": "pyout",
       "prompt_number": 6,
       "text": [
        "['O', 's', 't', 'l', 'n', 'g', 't', 'C', 'I', 'i', 'a', 's', 'p']"
       ]
      }
     ],
     "prompt_number": 6
    },
    {
     "cell_type": "markdown",
     "metadata": {},
     "source": [
      "#### Substritute all vowels in a sentence by the character '0'"
     ]
    },
    {
     "cell_type": "code",
     "collapsed": false,
     "input": [
      "phrase = \"On second thought, let's not go to Camelot. It is a silly place.\"\n",
      "print [c if c not in vowels else '0' for c in phrase]\n",
      "\"\".join([c if c not in vowels else '0' for c in phrase])"
     ],
     "language": "python",
     "metadata": {},
     "outputs": [
      {
       "output_type": "stream",
       "stream": "stdout",
       "text": [
        "['O', 'n', ' ', 's', '0', 'c', '0', 'n', 'd', ' ', 't', 'h', '0', '0', 'g', 'h', 't', ',', ' ', 'l', '0', 't', \"'\", 's', ' ', 'n', '0', 't', ' ', 'g', '0', ' ', 't', '0', ' ', 'C', '0', 'm', '0', 'l', '0', 't', '.', ' ', 'I', 't', ' ', '0', 's', ' ', '0', ' ', 's', '0', 'l', 'l', 'y', ' ', 'p', 'l', '0', 'c', '0', '.']\n"
       ]
      },
      {
       "metadata": {},
       "output_type": "pyout",
       "prompt_number": 8,
       "text": [
        "\"On s0c0nd th00ght, l0t's n0t g0 t0 C0m0l0t. It 0s 0 s0lly pl0c0.\""
       ]
      }
     ],
     "prompt_number": 8
    },
    {
     "cell_type": "markdown",
     "metadata": {},
     "source": [
      "#### Cartesian Join of two lists"
     ]
    },
    {
     "cell_type": "code",
     "collapsed": false,
     "input": [
      "# pair of elements drawn from different lists\n",
      "words1 = ['Lancelot', 'Robin', 'Galahad']\n",
      "words2 = ['Camelot', 'Assyria']\n",
      "[(w1,w2) for w1 in words1 for w2 in words2]"
     ],
     "language": "python",
     "metadata": {},
     "outputs": []
    },
    {
     "cell_type": "markdown",
     "metadata": {},
     "source": [
      "## 2 - Lambda Functions\n",
      "> (anonymous functions)\n",
      "\n",
      "> from Lisp & functional programming\n",
      "\n",
      "lambda functions are meant to be short, one liners. If you need more complex functions, probably better just to name them"
     ]
    },
    {
     "cell_type": "code",
     "collapsed": false,
     "input": [
      "tmp = lambda x: x**2\n",
      "print  type(tmp)"
     ],
     "language": "python",
     "metadata": {},
     "outputs": [
      {
       "output_type": "stream",
       "stream": "stdout",
       "text": [
        "<type 'function'>\n"
       ]
      }
     ],
     "prompt_number": 1
    },
    {
     "cell_type": "code",
     "collapsed": false,
     "input": [
      "tmp(2)"
     ],
     "language": "python",
     "metadata": {},
     "outputs": [
      {
       "metadata": {},
       "output_type": "pyout",
       "prompt_number": 2,
       "text": [
        "4"
       ]
      }
     ],
     "prompt_number": 2
    },
    {
     "cell_type": "code",
     "collapsed": false,
     "input": [
      "# forget about creating a new function name...just do it!\n",
      "(lambda x,y: x**2+y)(2,4.5)"
     ],
     "language": "python",
     "metadata": {},
     "outputs": [
      {
       "metadata": {},
       "output_type": "pyout",
       "prompt_number": 3,
       "text": [
        "8.5"
       ]
      }
     ],
     "prompt_number": 3
    },
    {
     "cell_type": "code",
     "collapsed": false,
     "input": [
      "## create a list of lambda functions\n",
      "lamfun = [lambda x: x**2, lambda x: x**3, \\\n",
      "           lambda y: math.sqrt(y) if y >= 0 else \"Really? I mean really? %f\" % y]"
     ],
     "language": "python",
     "metadata": {},
     "outputs": [],
     "prompt_number": 4
    },
    {
     "cell_type": "code",
     "collapsed": false,
     "input": [
      "for l in lamfun: print l(-1.3)"
     ],
     "language": "python",
     "metadata": {},
     "outputs": [
      {
       "output_type": "stream",
       "stream": "stdout",
       "text": [
        "1.69\n",
        "-2.197\n",
        "Really? I mean really? -1.300000\n"
       ]
      }
     ],
     "prompt_number": 5
    },
    {
     "cell_type": "markdown",
     "metadata": {},
     "source": [
      "---"
     ]
    },
    {
     "cell_type": "markdown",
     "metadata": {},
     "source": [
      "## 3 - Filter is a certain way to do list comprehension \n",
      "\n",
      "> filter(function, sequence)\" returns a sequence consisting of those items from the sequence for which function(item) is true"
     ]
    },
    {
     "cell_type": "code",
     "collapsed": false,
     "input": [
      "mylist=[num for num in range(101) if (num & 2) and (num & 1) and (num % 11 != 0.0)]\n",
      "print mylist"
     ],
     "language": "python",
     "metadata": {},
     "outputs": [
      {
       "output_type": "stream",
       "stream": "stdout",
       "text": [
        "[3, 7, 15, 19, 23, 27, 31, 35, 39, 43, 47, 51, 59, 63, 67, 71, 75, 79, 83, 87, 91, 95]\n"
       ]
      }
     ],
     "prompt_number": 6
    },
    {
     "cell_type": "code",
     "collapsed": false,
     "input": [
      "def f(num): return (num & 2) and (num & 1) and (num % 11 != 0.0)\n",
      "mylist = filter(f,xrange(101))\n",
      "print mylist"
     ],
     "language": "python",
     "metadata": {},
     "outputs": [
      {
       "output_type": "stream",
       "stream": "stdout",
       "text": [
        "[3, 7, 15, 19, 23, 27, 31, 35, 39, 43, 47, 51, 59, 63, 67, 71, 75, 79, 83, 87, 91, 95]\n"
       ]
      }
     ],
     "prompt_number": 7
    },
    {
     "cell_type": "code",
     "collapsed": false,
     "input": [
      "## also works on strings...try it with lambdas!\n",
      "import string\n",
      "a=\"Charlie Brown said \\\"!@!@$@!\\\"\"\n",
      "filter(lambda c: c in string.ascii_letters,a)"
     ],
     "language": "python",
     "metadata": {},
     "outputs": [
      {
       "metadata": {},
       "output_type": "pyout",
       "prompt_number": 11,
       "text": [
        "'CharlieBrownsaid'"
       ]
      }
     ],
     "prompt_number": 11
    },
    {
     "cell_type": "code",
     "collapsed": false,
     "input": [
      "(lambda num: (num & 2) and (num & 1) and (num % 11 != 0.0))(95)"
     ],
     "language": "python",
     "metadata": {},
     "outputs": [
      {
       "metadata": {},
       "output_type": "pyout",
       "prompt_number": 17,
       "text": [
        "True"
       ]
      }
     ],
     "prompt_number": 17
    },
    {
     "cell_type": "code",
     "collapsed": false,
     "input": [
      "filter(lambda num: (num & 2) and (num & 1) and (num % 11 != 0.0),xrange(101))"
     ],
     "language": "python",
     "metadata": {},
     "outputs": [
      {
       "metadata": {},
       "output_type": "pyout",
       "prompt_number": 12,
       "text": [
        "[3,\n",
        " 7,\n",
        " 15,\n",
        " 19,\n",
        " 23,\n",
        " 27,\n",
        " 31,\n",
        " 35,\n",
        " 39,\n",
        " 43,\n",
        " 47,\n",
        " 51,\n",
        " 59,\n",
        " 63,\n",
        " 67,\n",
        " 71,\n",
        " 75,\n",
        " 79,\n",
        " 83,\n",
        " 87,\n",
        " 91,\n",
        " 95]"
       ]
      }
     ],
     "prompt_number": 12
    },
    {
     "cell_type": "markdown",
     "metadata": {},
     "source": [
      "---"
     ]
    },
    {
     "cell_type": "markdown",
     "metadata": {},
     "source": [
      "## 4 - Map is just another way to do list comprehension ###"
     ]
    },
    {
     "cell_type": "code",
     "collapsed": false,
     "input": [
      "def cube_it(x): return x**3\n",
      "map(cube_it,xrange(1,10))"
     ],
     "language": "python",
     "metadata": {},
     "outputs": [
      {
       "metadata": {},
       "output_type": "pyout",
       "prompt_number": 18,
       "text": [
        "[1, 8, 27, 64, 125, 216, 343, 512, 729]"
       ]
      }
     ],
     "prompt_number": 18
    },
    {
     "cell_type": "code",
     "collapsed": false,
     "input": [
      "map(lambda x: x**3, xrange(1,10))"
     ],
     "language": "python",
     "metadata": {},
     "outputs": [
      {
       "metadata": {},
       "output_type": "pyout",
       "prompt_number": 3,
       "text": [
        "[1, 8, 27, 64, 125, 216, 343, 512, 729]"
       ]
      }
     ],
     "prompt_number": 3
    },
    {
     "cell_type": "markdown",
     "metadata": {},
     "source": [
      "---"
     ]
    },
    {
     "cell_type": "markdown",
     "metadata": {},
     "source": [
      "## 5 - Reduce returns one value ###\n",
      "\n",
      "\n",
      "reduce(function, sequence) returns a single value constructed by calling the binary function function on the first two items of the sequence, then on the result and the next item, and so on"
     ]
    },
    {
     "cell_type": "code",
     "collapsed": false,
     "input": [
      "# sum from 1 to 10\n",
      "reduce(lambda x,y: x + y, xrange(1,11))   \n",
      "%timeit -n 1000000 -r 4 reduce(lambda x,y: x + y, xrange(1,11))"
     ],
     "language": "python",
     "metadata": {},
     "outputs": [
      {
       "output_type": "stream",
       "stream": "stdout",
       "text": [
        "1000000 loops, best of 4: 1.2 \u00b5s per loop\n"
       ]
      }
     ],
     "prompt_number": 30
    },
    {
     "cell_type": "code",
     "collapsed": false,
     "input": [
      "# sum() is a built in function...it\u2019s bound to be faster\n",
      "%timeit -n 1000000 -r 4 sum(xrange(1,11))"
     ],
     "language": "python",
     "metadata": {},
     "outputs": [
      {
       "output_type": "stream",
       "stream": "stdout",
       "text": [
        "1000000 loops, best of 4: 10 \u00b5s per loop\n"
       ]
      }
     ],
     "prompt_number": 1
    },
    {
     "cell_type": "markdown",
     "metadata": {},
     "source": [
      "---"
     ]
    },
    {
     "cell_type": "markdown",
     "metadata": {},
     "source": [
      "## 6 - Zip function\n",
      "built in function to pairwise concatenate items in iterables into a list of tuples"
     ]
    },
    {
     "cell_type": "code",
     "collapsed": false,
     "input": [
      "zip([\"I\",\"you\",\"them\"],[\"=spam\",\"=eggs\",\"=dark knights\"])"
     ],
     "language": "python",
     "metadata": {},
     "outputs": [
      {
       "metadata": {},
       "output_type": "pyout",
       "prompt_number": 23,
       "text": [
        "[('I', '=spam'), ('you', '=eggs'), ('them', '=dark knights')]"
       ]
      }
     ],
     "prompt_number": 23
    },
    {
     "cell_type": "code",
     "collapsed": false,
     "input": [
      "zip([\"I\",\"you\",\"them\"],[\"=spam\",\"=eggs\",\"=dark knights\"],[\"!\",\"?\",\"#\"])"
     ],
     "language": "python",
     "metadata": {},
     "outputs": [
      {
       "metadata": {},
       "output_type": "pyout",
       "prompt_number": 24,
       "text": [
        "[('I', '=spam', '!'), ('you', '=eggs', '?'), ('them', '=dark knights', '#')]"
       ]
      }
     ],
     "prompt_number": 24
    },
    {
     "cell_type": "code",
     "collapsed": false,
     "input": [
      "zip([\"I\",\"you\",\"them\"],[\"=spam\",\"=eggs\",\"=dark knights\"],[\"!\",\"?\"])"
     ],
     "language": "python",
     "metadata": {},
     "outputs": [
      {
       "metadata": {},
       "output_type": "pyout",
       "prompt_number": 25,
       "text": [
        "[('I', '=spam', '!'), ('you', '=eggs', '?')]"
       ]
      }
     ],
     "prompt_number": 25
    },
    {
     "cell_type": "code",
     "collapsed": false,
     "input": [
      "questions = ['name', 'quest', 'favorite color']\n",
      "answers = ['lancelot', 'the holy grail', 'blue']\n",
      "for q, a in zip(questions, answers):\n",
      "  print 'What is your %s?  It is %s.' % (q, a)"
     ],
     "language": "python",
     "metadata": {},
     "outputs": [
      {
       "output_type": "stream",
       "stream": "stdout",
       "text": [
        "What is your name?  It is lancelot.\n",
        "What is your quest?  It is the holy grail.\n",
        "What is your favorite color?  It is blue.\n"
       ]
      }
     ],
     "prompt_number": 26
    },
    {
     "cell_type": "code",
     "collapsed": false,
     "input": [],
     "language": "python",
     "metadata": {},
     "outputs": []
    }
   ],
   "metadata": {}
  }
 ]
}