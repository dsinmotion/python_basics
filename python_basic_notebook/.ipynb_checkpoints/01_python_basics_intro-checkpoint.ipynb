{
 "metadata": {
  "name": "",
  "signature": "sha256:9d258bdae7474addc4aaa5a9db2343ea86c16518a8204cf05b86c38136bc8fb5"
 },
 "nbformat": 3,
 "nbformat_minor": 0,
 "worksheets": [
  {
   "cells": [
    {
     "cell_type": "heading",
     "level": 1,
     "metadata": {},
     "source": [
      "Python Introduction"
     ]
    },
    {
     "cell_type": "markdown",
     "metadata": {},
     "source": [
      "* Python is formally an **`interpreted`** (as opposed to **`\n",
      "compiled`** )language. Contrary to e.g. C or Fortran, one does not compile Python code before executing it.\n",
      "* Commands are executed through a piece of software known as the Python interpreter. The interpreter receives a command, evaluates that command, and reports the result of the command.\n",
      "* Its high-level built in data structures, combined with dynamic typing and dynamic binding, make it very attractive for Rapid Application Development, as well as for use as a scripting or glue language to connect existing components together. \n",
      "\n",
      "| interpreted       | no need for a compiling stage                                                 |\n",
      "|-------------------|-------------------------------------------------------------------------------|\n",
      "| object-oriented   | programming paradigm that uses objects (complex data structures with methods) |   \n",
      "| high-level        | abstraction from the way machine interprets @ executes                        | \n",
      "| dynamic semantics | can change meaning on the fly                                                                              | \n",
      "\n"
     ]
    },
    {
     "cell_type": "markdown",
     "metadata": {},
     "source": [
      "### Table Of Contents\n",
      "* **1 - Why Python?**\n",
      "* **2 - Scientific Python Building Blocks**\n",
      "* **3 - Ipython**\n",
      "* **4 - Python Basics**\n",
      "  * 4.1 - Python main() function\n",
      "  * 4.2 - Python sys library\n",
      "  * 4.3 - Parsing command line arguments\n",
      "  * 4.4 - Control Flow\n",
      "* **5 - Basic Operators**\n",
      "  * Arithmetic Operator\n",
      "  * Comparison Operator\n",
      "  * Assignment Operators\n",
      "  * Logical Operators\n",
      "  * Bitwise Operators\n",
      "  * Membership Operators\n",
      "  * Identity Operators"
     ]
    },
    {
     "cell_type": "markdown",
     "metadata": {},
     "source": [
      "---"
     ]
    },
    {
     "cell_type": "heading",
     "level": 1,
     "metadata": {},
     "source": [
      "1 - Why Python?"
     ]
    },
    {
     "cell_type": "markdown",
     "metadata": {},
     "source": [
      "## 1.1 The scientist's needs\n",
      "> Get data (simulation, experiment control)\n",
      "\n",
      "> Manipulate and process data\n",
      "\n",
      "> Machine Learning, image processing\n",
      "\n",
      "> Visualize results... to understand what we are doing!\n",
      "\n",
      "> Communicate results: produce figures for reports or publications, write presentations.\n"
     ]
    },
    {
     "cell_type": "markdown",
     "metadata": {},
     "source": [
      "## 1.2 Specifications\n",
      "> **Rich collection** of already existing bricks corresponding to classical numerical methods or basic actions: we don\u2019t want to re-program the plotting of a curve, a Fourier transform or a fitting algorithm. Don\u2019t reinvent the wheel!\n",
      "\n",
      "> **Easy to learn**: computer science is neither our job nor our education. We want to be able to draw a curve, smooth a signal, do a Fourier transform in a few minutes.\n",
      "\n",
      "> **Easy communication** with collaborators, students, customers, to make the code live within a lab or a company: the code should be as readable as a book. Thus, the language should contain as few syntax symbols or unneeded routines as possible that would divert the reader from the mathematical or scientific understanding of the code.\n",
      "\n",
      "> **Efficient code** that executes quickly... but needless to say that a very fast code becomes useless if we spend too much time writing it. So, we need both a quick development time and a quick execution time.\n",
      "\n",
      "> **A single environment/language for everything**, if possible, to avoid learning a new software for each new problem.\n"
     ]
    },
    {
     "cell_type": "markdown",
     "metadata": {},
     "source": [
      "## 1.3 Python vs Other Languages\n",
      "###Python\n",
      "> **Advantages**:\n",
      "Very rich scientific computing libraries (a bit less than Matlab, though)\n",
      "Well thought out language, allowing to write very readable and well structured code: we \u201ccode what we think\u201d.\n",
      "Many libraries for other tasks than scientific computing (web server management, serial port access, etc.)\n",
      "Free and open-source software, widely spread, with a vibrant community.\n",
      "\n",
      "> **Drawbacks**:\n",
      "less pleasant development environment than, for example, Matlab. (More geek-oriented).\n",
      "Not all the algorithms that can be found in more specialized software or toolboxes.\n",
      "\n",
      "### C,C++,Fortran (compiled languages)\n",
      "> **Advantages**:\n",
      "Very fast. Very optimized compilers. For heavy computations, it\u2019s difficult to outperform these languages.\n",
      "Some very optimized scientific libraries have been written for these languages. Example: BLAS (vector/matrix operations)\n",
      "\n",
      "> **Drawbacks**:\n",
      "Painful usage: no interactivity during development, mandatory compilation steps, verbose syntax (&, ::, }}, ; etc.), manual memory management (tricky in C). These are difficult languages for non computer scientists.\n",
      "\n",
      "### Matlab\n",
      "> **Advantages**:\n",
      "Very rich collection of libraries with numerous algorithms, for many different domains. Fast execution because these libraries are often written in a compiled language.\n",
      "Pleasant development environment: comprehensive and well organized help, integrated editor, etc.\n",
      "Commercial support is available.\n",
      "\n",
      "> **Drawbacks**:\n",
      "Base language is quite poor and can become restrictive for advanced users.\n",
      "Not free.\n",
      "\n",
      "### Other scripting language: Octave, R, etc.\n",
      "> **Advantages**:\n",
      "Open-source, free, or at least cheaper than Matlab.\n",
      "Some features can be very advanced (statistics in R, figures in Igor, etc.)\n",
      "\n",
      "> **Drawbacks**:\n",
      "Fewer available algorithms than in Matlab, and the language is not more advanced.\n",
      "Some software are dedicated to one domain. Ex: Gnuplot or xmgrace to draw curves. These programs are very powerful, but they are restricted to a single type of usage, such as plotting."
     ]
    },
    {
     "cell_type": "markdown",
     "metadata": {},
     "source": [
      "----"
     ]
    },
    {
     "cell_type": "markdown",
     "metadata": {},
     "source": [
      "# 2 - Scientific Python Buildig Blocks"
     ]
    },
    {
     "cell_type": "markdown",
     "metadata": {},
     "source": [
      "Unlike Matlab, Scilab or R, Python does not come with a pre-bundled set of modules for scientific computing. Below are the basic building blocks that can be combined to obtain a scientific computing environment:\n",
      "\n",
      "> **Python**, a generic and modern computing language\n",
      "- Python language: data types (string, int), flow control, data collections (lists, dictionaries), patterns, etc.\n",
      "- Modules of the standard library.\n",
      "- A large number of specialized modules or applications written in Python: web protocols, web framework, etc. ... and scientific computing.\n",
      "- Development tools (automatic testing, documentation generation)\n",
      "\n",
      "> **IPython**, an advanced Python shell http://ipython.scipy.org/moin/\n",
      "\n",
      "> **Numpy** : provides powerful numerical arrays objects, and routines to manipulate them. http://www.numpy.org/\n",
      "\n",
      "> **Scipy** : high-level data processing routines. Optimization, regression, interpolation, etc http://www.scipy.org/\n",
      "\n",
      "> **Panda** : Python has long been great for data munging and preparation, but less so for data analysis and modeling. pandas helps fill this gap, enabling you to carry out your entire data analysis workflow in Python without having to switch to a more domain specific language like R.\n",
      "\n",
      "> **Matplotlib** : 2-D visualization, \u201cpublication-ready\u201d plots http://matplotlib.sourceforge.net/\n",
      "\n",
      "> **Mayavi** : 3-D visualization"
     ]
    },
    {
     "cell_type": "markdown",
     "metadata": {},
     "source": [
      "----"
     ]
    },
    {
     "cell_type": "markdown",
     "metadata": {},
     "source": [
      "# 3 - IPython"
     ]
    },
    {
     "cell_type": "markdown",
     "metadata": {},
     "source": [
      "----"
     ]
    },
    {
     "cell_type": "code",
     "collapsed": false,
     "input": [],
     "language": "python",
     "metadata": {},
     "outputs": []
    },
    {
     "cell_type": "markdown",
     "metadata": {},
     "source": [
      "# 4 - Python Basics"
     ]
    },
    {
     "cell_type": "heading",
     "level": 2,
     "metadata": {},
     "source": [
      "## 4.1 - `main()` function and arguments"
     ]
    },
    {
     "cell_type": "code",
     "collapsed": false,
     "input": [
      "#!/usr/bin/env python\n",
      "\n",
      "import sys\n",
      "\n",
      "# Gather our code in a main() function\n",
      "def main():\n",
      "    print sys.argv # print all command line arguments\n",
      "    print sys.argv[0]\n",
      "    print sys.argv[1]\n",
      "    print len(sys.argv)\n",
      "    print 'Hello there', sys.argv[1]\n",
      "    # Command line args are in sys.argv[1], sys.argv[2] ...\n",
      "    # sys.argv[0] is the script name itself and can be ignored\n",
      "\n",
      "# Standard boilerplate to call the main() function to begin the program.\n",
      "if __name__ == '__main__':\n",
      "    main()"
     ],
     "language": "python",
     "metadata": {},
     "outputs": [
      {
       "output_type": "stream",
       "stream": "stdout",
       "text": [
        "['-c', '-f', '/Users/DSinmotion/.ipython/profile_default/security/kernel-d819a2bc-62a2-4cef-b4e6-701a8075623a.json', \"--IPKernelApp.parent_appname='ipython-notebook'\", '--profile-dir', '/Users/DSinmotion/.ipython/profile_default', '--parent=1']\n",
        "-c\n",
        "-f\n",
        "7\n",
        "Hello there -f\n"
       ]
      }
     ],
     "prompt_number": 1
    },
    {
     "cell_type": "markdown",
     "metadata": {},
     "source": [
      "## 4.2 - `sys` library"
     ]
    },
    {
     "cell_type": "code",
     "collapsed": false,
     "input": [
      "# import modules used here -- sys is a very standard one\n",
      "import sys\n",
      "\n",
      "# display all functions in the sys module\n",
      "print dir(sys)\n",
      "#print help(sys)\n",
      "print help(sys.exit)"
     ],
     "language": "python",
     "metadata": {},
     "outputs": [
      {
       "output_type": "stream",
       "stream": "stdout",
       "text": [
        "['__displayhook__', '__doc__', '__excepthook__', '__name__', '__package__', '__stderr__', '__stdin__', '__stdout__', '_clear_type_cache', '_current_frames', '_getframe', '_mercurial', 'api_version', 'argv', 'builtin_module_names', 'byteorder', 'call_tracing', 'callstats', 'copyright', 'displayhook', 'dont_write_bytecode', 'exc_clear', 'exc_info', 'exc_type', 'excepthook', 'exec_prefix', 'executable', 'exit', 'exitfunc', 'flags', 'float_info', 'float_repr_style', 'getcheckinterval', 'getdefaultencoding', 'getdlopenflags', 'getfilesystemencoding', 'getprofile', 'getrecursionlimit', 'getrefcount', 'getsizeof', 'gettrace', 'hexversion', 'long_info', 'maxint', 'maxsize', 'maxunicode', 'meta_path', 'modules', 'path', 'path_hooks', 'path_importer_cache', 'platform', 'prefix', 'ps1', 'ps2', 'ps3', 'py3kwarning', 'setcheckinterval', 'setdlopenflags', 'setprofile', 'setrecursionlimit', 'settrace', 'stderr', 'stdin', 'stdout', 'subversion', 'version', 'version_info', 'warnoptions']\n",
        "Help on built-in function exit in module sys:\n",
        "\n",
        "exit(...)\n",
        "    exit([status])\n",
        "    \n",
        "    Exit the interpreter by raising SystemExit(status).\n",
        "    If the status is omitted or None, it defaults to zero (i.e., success).\n",
        "    If the status is an integer, it will be used as the system exit status.\n",
        "    If it is another kind of object, it will be printed and the system\n",
        "    exit status will be one (i.e., failure).\n",
        "\n",
        "None\n"
       ]
      }
     ],
     "prompt_number": 7
    },
    {
     "cell_type": "markdown",
     "metadata": {},
     "source": [
      "## 4.3 - Parsing the Command Line Arguments"
     ]
    },
    {
     "cell_type": "code",
     "collapsed": false,
     "input": [
      "%%file test_1.py\n",
      "import sys\n",
      "def main():\n",
      "  if len(sys.argv) != 3:          # check if number of arguments meet requirements\n",
      "    print 'usage: ./wordcount.py {--count | --topcount} file'\n",
      "    sys.exit(1)\n",
      "\n",
      "  option = sys.argv[1]            # assignment arguments\n",
      "  filename = sys.argv[2]\n",
      "  if option == '--count':\n",
      "    print_words(filename)\n",
      "  elif option == '--topcount':\n",
      "    print_top(filename)\n",
      "  else:\n",
      "    print 'unknown option: ' + option\n",
      "    sys.exit(1)\n",
      "\n",
      "# Standard boilerplate to call the main() function to begin the program.\n",
      "if __name__ == '__main__':\n",
      "    main()"
     ],
     "language": "python",
     "metadata": {},
     "outputs": [
      {
       "output_type": "stream",
       "stream": "stdout",
       "text": [
        "Overwriting test_1.py\n"
       ]
      }
     ],
     "prompt_number": 16
    },
    {
     "cell_type": "code",
     "collapsed": false,
     "input": [
      "%run test_1.py"
     ],
     "language": "python",
     "metadata": {},
     "outputs": [
      {
       "output_type": "stream",
       "stream": "stdout",
       "text": [
        "usage: ./wordcount.py {--count | --topcount} file\n"
       ]
      },
      {
       "ename": "SystemExit",
       "evalue": "1",
       "output_type": "pyerr",
       "traceback": [
        "An exception has occurred, use %tb to see the full traceback.\n",
        "\u001b[0;31mSystemExit\u001b[0m\u001b[0;31m:\u001b[0m 1\n"
       ]
      }
     ],
     "prompt_number": 17
    },
    {
     "cell_type": "markdown",
     "metadata": {},
     "source": [
      "## 4.4 - Control Flow**"
     ]
    },
    {
     "cell_type": "markdown",
     "metadata": {},
     "source": [
      "### 4.4.1 if/elif/else"
     ]
    },
    {
     "cell_type": "code",
     "collapsed": false,
     "input": [
      "a = 10\n",
      "if a == 1:\n",
      "    print (1)\n",
      "elif a == 2:\n",
      "    print (2)\n",
      "else: \n",
      "    print('A lot')"
     ],
     "language": "python",
     "metadata": {},
     "outputs": [
      {
       "output_type": "stream",
       "stream": "stdout",
       "text": [
        "A lot\n"
       ]
      }
     ],
     "prompt_number": 2
    },
    {
     "cell_type": "markdown",
     "metadata": {},
     "source": [
      "### 4.4.2 for/range"
     ]
    },
    {
     "cell_type": "markdown",
     "metadata": {},
     "source": [
      "Iterating with an index"
     ]
    },
    {
     "cell_type": "code",
     "collapsed": false,
     "input": [
      "for i in range(4):\n",
      "    print (i)"
     ],
     "language": "python",
     "metadata": {},
     "outputs": [
      {
       "output_type": "stream",
       "stream": "stdout",
       "text": [
        "0\n",
        "1\n",
        "2\n",
        "3\n"
       ]
      }
     ],
     "prompt_number": 3
    },
    {
     "cell_type": "markdown",
     "metadata": {},
     "source": [
      "But most often, it is more readable to iterate over values"
     ]
    },
    {
     "cell_type": "code",
     "collapsed": false,
     "input": [
      "for word in ('cool', 'powerful', 'readable'):\n",
      "    print('Python is %s' % word)"
     ],
     "language": "python",
     "metadata": {},
     "outputs": [
      {
       "output_type": "stream",
       "stream": "stdout",
       "text": [
        "Python is cool\n",
        "Python is powerful\n",
        "Python is readable\n"
       ]
      }
     ],
     "prompt_number": 4
    },
    {
     "cell_type": "markdown",
     "metadata": {},
     "source": [
      "### 4.4.3 while/break/continue"
     ]
    },
    {
     "cell_type": "code",
     "collapsed": false,
     "input": [
      "# typical C-style while loop\n",
      "z = 1 + 1j\n",
      "while abs(z) < 100:\n",
      "    z = z**2 + 1\n",
      "z\n"
     ],
     "language": "python",
     "metadata": {},
     "outputs": [
      {
       "metadata": {},
       "output_type": "pyout",
       "prompt_number": 5,
       "text": [
        "(-134+352j)"
       ]
      }
     ],
     "prompt_number": 5
    },
    {
     "cell_type": "code",
     "collapsed": false,
     "input": [
      "# break out of enclosing for/while loop:\n",
      "z = 1 + 1j\n",
      "\n",
      "while abs(z) < 100:\n",
      "    if z.imag == 0:\n",
      "        break\n",
      "    z = z**2 + 1\n",
      "z"
     ],
     "language": "python",
     "metadata": {},
     "outputs": [
      {
       "metadata": {},
       "output_type": "pyout",
       "prompt_number": 7,
       "text": [
        "(-134+352j)"
       ]
      }
     ],
     "prompt_number": 7
    },
    {
     "cell_type": "code",
     "collapsed": false,
     "input": [
      "# continue the next iteration of a loop\n",
      "a = [1, 0, 2, 4]\n",
      "for element in a:\n",
      "    if element == 0:\n",
      "        continue\n",
      "    print 1. / element\n"
     ],
     "language": "python",
     "metadata": {},
     "outputs": [
      {
       "output_type": "stream",
       "stream": "stdout",
       "text": [
        "1.0\n",
        "0.5\n",
        "0.25\n"
       ]
      }
     ],
     "prompt_number": 8
    },
    {
     "cell_type": "markdown",
     "metadata": {},
     "source": [
      "### 4.4.4 Conditional Expressions"
     ]
    },
    {
     "cell_type": "code",
     "collapsed": false,
     "input": [
      "# a == b  test equality with logics\n",
      "1 == 1 "
     ],
     "language": "python",
     "metadata": {},
     "outputs": [
      {
       "metadata": {},
       "output_type": "pyout",
       "prompt_number": 9,
       "text": [
        "True"
       ]
      }
     ],
     "prompt_number": 9
    },
    {
     "cell_type": "code",
     "collapsed": false,
     "input": [
      "# Tests identity\n",
      "1 is 1"
     ],
     "language": "python",
     "metadata": {},
     "outputs": [
      {
       "metadata": {},
       "output_type": "pyout",
       "prompt_number": 10,
       "text": [
        "True"
       ]
      }
     ],
     "prompt_number": 10
    },
    {
     "cell_type": "code",
     "collapsed": false,
     "input": [
      "a =1; b=1\n",
      "a is b"
     ],
     "language": "python",
     "metadata": {},
     "outputs": [
      {
       "metadata": {},
       "output_type": "pyout",
       "prompt_number": 11,
       "text": [
        "True"
       ]
      }
     ],
     "prompt_number": 11
    },
    {
     "cell_type": "code",
     "collapsed": false,
     "input": [
      "# membership\n",
      "b = [1,2,3]\n",
      "2 in b"
     ],
     "language": "python",
     "metadata": {},
     "outputs": [
      {
       "metadata": {},
       "output_type": "pyout",
       "prompt_number": 12,
       "text": [
        "True"
       ]
      }
     ],
     "prompt_number": 12
    },
    {
     "cell_type": "markdown",
     "metadata": {},
     "source": [
      "### 4.4.5 Advanced Iteration"
     ]
    },
    {
     "cell_type": "markdown",
     "metadata": {},
     "source": [
      "You can iterate over any sequence:\n",
      "> string\n",
      "\n",
      "> list\n",
      "\n",
      "> keys in a dict\n",
      "\n",
      "> lines in a file, ..."
     ]
    },
    {
     "cell_type": "code",
     "collapsed": false,
     "input": [
      "vowels = 'aeiouy'\n",
      "\n",
      "for i in 'powerful':\n",
      "    if i in vowels:\n",
      "        print(i),\n"
     ],
     "language": "python",
     "metadata": {},
     "outputs": [
      {
       "output_type": "stream",
       "stream": "stdout",
       "text": [
        "o e u\n"
       ]
      }
     ],
     "prompt_number": 13
    },
    {
     "cell_type": "code",
     "collapsed": false,
     "input": [
      "message = \"Hello how are you?\"\n",
      "message.split() # returns a list\n",
      "\n",
      "for word in message.split():\n",
      "    print word"
     ],
     "language": "python",
     "metadata": {},
     "outputs": [
      {
       "output_type": "stream",
       "stream": "stdout",
       "text": [
        "Hello\n",
        "how\n",
        "are\n",
        "you?\n"
       ]
      }
     ],
     "prompt_number": 14
    },
    {
     "cell_type": "markdown",
     "metadata": {},
     "source": [
      "### 4.4.6 Keeping track of enumeration number\n",
      "Common task is to iterate over a sequence while keeping track of the item number.\n"
     ]
    },
    {
     "cell_type": "code",
     "collapsed": false,
     "input": [
      "# approach 1 - Could use while loop with a counter as above.\n",
      "words = ('cool', 'powerful', 'readable')\n",
      "for i in range(0, len(words)):\n",
      "    print i, words[i]"
     ],
     "language": "python",
     "metadata": {},
     "outputs": [
      {
       "output_type": "stream",
       "stream": "stdout",
       "text": [
        "0 cool\n",
        "1 powerful\n",
        "2 readable\n"
       ]
      }
     ],
     "prompt_number": 15
    },
    {
     "cell_type": "code",
     "collapsed": false,
     "input": [
      "# Use python's enumerate keyword \n",
      "for index, item in enumerate(words):\n",
      "    print index, item"
     ],
     "language": "python",
     "metadata": {},
     "outputs": [
      {
       "output_type": "stream",
       "stream": "stdout",
       "text": [
        "0 cool\n",
        "1 powerful\n",
        "2 readable\n"
       ]
      }
     ],
     "prompt_number": 16
    },
    {
     "cell_type": "markdown",
     "metadata": {},
     "source": [
      "### 4.4.7 Looping over a dictionary"
     ]
    },
    {
     "cell_type": "markdown",
     "metadata": {},
     "source": [
      "`1`. Use dict.keys()"
     ]
    },
    {
     "cell_type": "code",
     "collapsed": false,
     "input": [
      "d = {'a': 1, 'b':1.2, 'c':1j}\n",
      "for key in d.keys():\n",
      "    print 'key: %s has values: %s' % (key, d[key])"
     ],
     "language": "python",
     "metadata": {},
     "outputs": [
      {
       "output_type": "stream",
       "stream": "stdout",
       "text": [
        "key: a has values: 1\n",
        "key: c has values: 1j\n",
        "key: b has values: 1.2\n"
       ]
      }
     ],
     "prompt_number": 17
    },
    {
     "cell_type": "markdown",
     "metadata": {},
     "source": [
      "`2`. Use iteritems"
     ]
    },
    {
     "cell_type": "code",
     "collapsed": false,
     "input": [
      "d = {'a': 1, 'b':1.2, 'c':1j}\n",
      "\n",
      "for key, val in d.iteritems():\n",
      "    print('Key: %s has value: %s' % (key, val))"
     ],
     "language": "python",
     "metadata": {},
     "outputs": [
      {
       "output_type": "stream",
       "stream": "stdout",
       "text": [
        "Key: a has value: 1\n",
        "Key: c has value: 1j\n",
        "Key: b has value: 1.2\n"
       ]
      }
     ],
     "prompt_number": 18
    },
    {
     "cell_type": "markdown",
     "metadata": {},
     "source": [
      "----"
     ]
    },
    {
     "cell_type": "heading",
     "level": 1,
     "metadata": {},
     "source": [
      "# 5 - Python Basic Operators +++"
     ]
    },
    {
     "cell_type": "markdown",
     "metadata": {},
     "source": [
      "* Arithmetic Operator\n",
      "* Comparison Operator\n",
      "* Assignment Operators\n",
      "* Logical Operators\n",
      "* Bitwise Operators\n",
      "* Membership Operators\n",
      "* Identity Operators"
     ]
    },
    {
     "cell_type": "heading",
     "level": 3,
     "metadata": {},
     "source": [
      "### 5.1 - Arithmetic Operators"
     ]
    },
    {
     "cell_type": "code",
     "collapsed": false,
     "input": [
      "\n",
      "## Longs \n",
      "\n",
      "print 2L, type(2L)\n",
      "print 2L + 2, type(2L+2)\n",
      "print 4L/3, type(4L/3)         # divide long by int gives you long\n",
      "print 4L/3.0, type(2L/3)       # divide long by float gives you float\n",
      "print 2.5/2, type(2.5/2)       # divide float by int gives you float\n",
      "print 2L/2.0, type(2L/2.0)     # divide long by float gives you float"
     ],
     "language": "python",
     "metadata": {},
     "outputs": [
      {
       "output_type": "stream",
       "stream": "stdout",
       "text": [
        "2 <type 'long'>\n",
        "4 <type 'long'>\n",
        "1 <type 'long'>\n",
        "1.33333333333 <type 'long'>\n",
        "1.25 <type 'float'>\n",
        "1.0 <type 'float'>\n"
       ]
      }
     ],
     "prompt_number": 20
    },
    {
     "cell_type": "code",
     "collapsed": false,
     "input": [
      "## arithmetic operators\n",
      "\n",
      "print (3.0*10.0 - 25.0)/5.0\n",
      "print 3085e18*1e6\n",
      "\n",
      "# pow\n",
      "dist1 = 9.8 * (1.0**2)/2\n",
      "dist2 = 9.8 * pow(1.0,2) * 0.5  # same as above\n",
      "print dist1, dist2\n",
      "\n",
      "# mod operator\n",
      "print 6 % 5\n",
      "\n"
     ],
     "language": "python",
     "metadata": {},
     "outputs": [
      {
       "output_type": "stream",
       "stream": "stdout",
       "text": [
        "1.0\n",
        "3.085e+27\n",
        "4.9 4.9\n",
        "1\n"
       ]
      }
     ],
     "prompt_number": 21
    },
    {
     "cell_type": "heading",
     "level": 3,
     "metadata": {},
     "source": [
      "### 5.2 - Comparison Operators"
     ]
    },
    {
     "cell_type": "code",
     "collapsed": false,
     "input": [
      "a = 21\n",
      "b = 10\n",
      "c = 0\n",
      "\n",
      "if ( a == b ):\n",
      "   print \"Line 1 - a is equal to b\"\n",
      "else:\n",
      "   print \"Line 1 - a is not equal to b\"\n",
      "\n",
      "if ( a != b ):\n",
      "   print \"Line 2 - a is not equal to b\"\n",
      "else:\n",
      "   print \"Line 2 - a is equal to b\"\n",
      "\n",
      "if ( a <> b ):\n",
      "   print \"Line 3 - a is not equal to b\"\n",
      "else:\n",
      "   print \"Line 3 - a is equal to b\"\n",
      "\n",
      "if ( a < b ):\n",
      "   print \"Line 4 - a is less than b\" \n",
      "else:\n",
      "   print \"Line 4 - a is not less than b\"\n",
      "\n",
      "if ( a > b ):\n",
      "   print \"Line 5 - a is greater than b\"\n",
      "else:\n",
      "   print \"Line 5 - a is not greater than b\"\n",
      "\n",
      "a = 5;\n",
      "b = 20;\n",
      "if ( a <= b ):\n",
      "   print \"Line 6 - a is either less than or equal to  b\"\n",
      "else:\n",
      "   print \"Line 6 - a is neither less than nor equal to  b\"\n",
      "\n",
      "if ( b >= a ):\n",
      "   print \"Line 7 - b is either greater than  or equal to b\"\n",
      "else:\n",
      "   print \"Line 7 - b is neither greater than  nor equal to b\"\n",
      " "
     ],
     "language": "python",
     "metadata": {},
     "outputs": [
      {
       "output_type": "stream",
       "stream": "stdout",
       "text": [
        "Line 1 - a is not equal to b\n",
        "Line 2 - a is not equal to b\n",
        "Line 3 - a is not equal to b\n",
        "Line 4 - a is not less than b\n",
        "Line 5 - a is greater than b\n",
        "Line 6 - a is either less than or equal to  b\n",
        "Line 7 - b is either greater than  or equal to b\n"
       ]
      }
     ],
     "prompt_number": 22
    },
    {
     "cell_type": "heading",
     "level": 3,
     "metadata": {},
     "source": [
      "### 5.3 - Assignment Operators"
     ]
    },
    {
     "cell_type": "markdown",
     "metadata": {},
     "source": [
      "* +\n",
      "* +=\n",
      "* *=\n",
      "* /=\n",
      "* %=\n",
      "* **=\n",
      "* //="
     ]
    },
    {
     "cell_type": "code",
     "collapsed": false,
     "input": [
      "a = 21\n",
      "b = 10\n",
      "c = 0\n",
      "\n",
      "c = a + b\n",
      "print \"Line 1 - Value of c is \", c\n",
      "\n",
      "c += a\n",
      "print \"Line 2 - Value of c is \", c \n",
      "\n",
      "c *= a\n",
      "print \"Line 3 - Value of c is \", c \n",
      "\n",
      "c /= a \n",
      "print \"Line 4 - Value of c is \", c \n",
      "\n",
      "c  = 2\n",
      "c %= a\n",
      "print \"Line 5 - Value of c is \", c\n",
      "\n",
      "c **= a\n",
      "print \"Line 6 - Value of c is \", c\n",
      "\n",
      "c //= a\n",
      "print \"Line 7 - Value of c is \", c"
     ],
     "language": "python",
     "metadata": {},
     "outputs": [
      {
       "output_type": "stream",
       "stream": "stdout",
       "text": [
        "Line 1 - Value of c is  31\n",
        "Line 2 - Value of c is  52\n",
        "Line 3 - Value of c is  1092\n",
        "Line 4 - Value of c is  52\n",
        "Line 5 - Value of c is  2\n",
        "Line 6 - Value of c is  2097152\n",
        "Line 7 - Value of c is  99864\n"
       ]
      }
     ],
     "prompt_number": 23
    },
    {
     "cell_type": "heading",
     "level": 3,
     "metadata": {},
     "source": [
      "### 5.4 - Logical Operators"
     ]
    },
    {
     "cell_type": "markdown",
     "metadata": {},
     "source": [
      "* and\n",
      "* or\n",
      "* not"
     ]
    },
    {
     "cell_type": "code",
     "collapsed": false,
     "input": [
      "a = 10\n",
      "b = 20\n",
      "c = 0\n",
      "\n",
      "if ( a and b ):\n",
      "   print \"Line 1 - a and b are true\"\n",
      "else:\n",
      "   print \"Line 1 - Either a is not true or b is not true\"\n",
      "\n",
      "if ( a or b ):\n",
      "   print \"Line 2 - Either a is true or b is true or both are true\"\n",
      "else:\n",
      "   print \"Line 2 - Neither a is true nor b is true\"\n",
      "\n",
      "\n",
      "a = 0\n",
      "if ( a and b ):\n",
      "   print \"Line 3 - a and b are true\"\n",
      "else:\n",
      "   print \"Line 3 - Either a is not true or b is not true\"\n",
      "\n",
      "if ( a or b ):\n",
      "   print \"Line 4 - Either a is true or b is true or both are true\"\n",
      "else:\n",
      "   print \"Line 4 - Neither a is true nor b is true\"\n",
      "\n",
      "if not( a and b ):\n",
      "   print \"Line 5 - Either a is not true or b is not true\"\n",
      "else:\n",
      "   print \"Line 5 - a and b are true\""
     ],
     "language": "python",
     "metadata": {},
     "outputs": [
      {
       "output_type": "stream",
       "stream": "stdout",
       "text": [
        "Line 1 - a and b are true\n",
        "Line 2 - Either a is true or b is true or both are true\n",
        "Line 3 - Either a is not true or b is not true\n",
        "Line 4 - Either a is true or b is true or both are true\n",
        "Line 5 - Either a is not true or b is not true\n"
       ]
      }
     ],
     "prompt_number": 5
    },
    {
     "cell_type": "heading",
     "level": 3,
     "metadata": {},
     "source": [
      "### 5.5 - Bitwise Operators"
     ]
    },
    {
     "cell_type": "markdown",
     "metadata": {},
     "source": [
      "Two's Complement binary for Positive Integers:\n",
      "\n",
      "* 0 is written as \"0\"\n",
      "* 1 is written as \"1\"\n",
      "* 2 is written as \"10\"\n",
      "* 3 is \"11\"\n",
      "* 4 is \"100\"\n",
      "* 5 is \"101\"\n",
      "* .\n",
      "* .\n",
      "* 1029 is \"10000000101\" == 2**10 + 2**2 + 2**0 == 1024 + 4 + 1"
     ]
    },
    {
     "cell_type": "markdown",
     "metadata": {},
     "source": [
      "the operators:\n",
      "* x << y     binary left shift operator\n",
      "* x >> y     binary right shift operator\n",
      "* x & y      binary AND operator\n",
      "* x | y      binary OR operator\n",
      "* ~x         binary ones complement operator --> flipping bits\n",
      "* x ^ y      binary XOR operator"
     ]
    },
    {
     "cell_type": "code",
     "collapsed": false,
     "input": [
      "a = 60            # 60 = 0011 1100 \n",
      "b = 13            # 13 = 0000 1101 \n",
      "c = 0\n",
      "\n",
      "c = a & b;        # 12 = 0000 1100\n",
      "print \"Line 1 - Value of c is \", c\n",
      "\n",
      "c = a | b;        # 61 = 0011 1101 \n",
      "print \"Line 2 - Value of c is \", c\n",
      "\n",
      "c = a ^ b;        # 49 = 0011 0001\n",
      "print \"Line 3 - Value of c is \", c\n",
      "\n",
      "c = ~a;           # -61 = 1100 0011\n",
      "print \"Line 4 - Value of c is \", c\n",
      "\n",
      "c = a << 2;       # 240 = 1111 0000\n",
      "print \"Line 5 - Value of c is \", c\n",
      "\n",
      "c = a >> 2;       # 15 = 0000 1111\n",
      "print \"Line 6 - Value of c is \", c"
     ],
     "language": "python",
     "metadata": {},
     "outputs": [
      {
       "output_type": "stream",
       "stream": "stdout",
       "text": [
        "Line 1 - Value of c is  12\n",
        "Line 2 - Value of c is  61\n",
        "Line 3 - Value of c is  49\n",
        "Line 4 - Value of c is  -61\n",
        "Line 5 - Value of c is  240\n",
        "Line 6 - Value of c is  15\n"
       ]
      }
     ],
     "prompt_number": 6
    },
    {
     "cell_type": "heading",
     "level": 3,
     "metadata": {},
     "source": [
      "### 5.6 - Membership Operators"
     ]
    },
    {
     "cell_type": "markdown",
     "metadata": {},
     "source": [
      "* in\n",
      "* not in"
     ]
    },
    {
     "cell_type": "code",
     "collapsed": false,
     "input": [
      "a = 10\n",
      "b = 20\n",
      "list = [1, 2, 3, 4, 5 ];\n",
      "\n",
      "if ( a in list ):\n",
      "   print \"Line 1 - a is available in the given list\"\n",
      "else:\n",
      "   print \"Line 1 - a is not available in the given list\"\n",
      "\n",
      "if ( b not in list ):\n",
      "   print \"Line 2 - b is not available in the given list\"\n",
      "else:\n",
      "   print \"Line 2 - b is available in the given list\"\n",
      "\n",
      "a = 2\n",
      "if ( a in list ):\n",
      "   print \"Line 3 - a is available in the given list\"\n",
      "else:\n",
      "   print \"Line 3 - a is not available in the given list\""
     ],
     "language": "python",
     "metadata": {},
     "outputs": [
      {
       "output_type": "stream",
       "stream": "stdout",
       "text": [
        "Line 1 - a is not available in the given list\n",
        "Line 2 - b is not available in the given list\n",
        "Line 3 - a is available in the given list\n"
       ]
      }
     ],
     "prompt_number": 27
    },
    {
     "cell_type": "heading",
     "level": 3,
     "metadata": {},
     "source": [
      "### 5.7 - Identity Operators"
     ]
    },
    {
     "cell_type": "markdown",
     "metadata": {},
     "source": [
      "* is\n",
      "* is not"
     ]
    },
    {
     "cell_type": "code",
     "collapsed": false,
     "input": [
      "a = 20\n",
      "b = 20\n",
      "\n",
      "if ( a is b ):\n",
      "   print \"Line 1 - a and b have same identity\"\n",
      "else:\n",
      "   print \"Line 1 - a and b do not have same identity\"\n",
      "\n",
      "if ( id(a) == id(b) ):\n",
      "   print \"Line 2 - a and b have same identity\"\n",
      "else:\n",
      "   print \"Line 2 - a and b do not have same identity\"\n",
      "\n",
      "b = 30\n",
      "if ( a is b ):\n",
      "   print \"Line 3 - a and b have same identity\"\n",
      "else:\n",
      "   print \"Line 3 - a and b do not have same identity\"\n",
      "\n",
      "if ( a is not b ):\n",
      "   print \"Line 4 - a and b do not have same identity\"\n",
      "else:\n",
      "   print \"Line 4 - a and b have same identity\""
     ],
     "language": "python",
     "metadata": {},
     "outputs": [
      {
       "output_type": "stream",
       "stream": "stdout",
       "text": [
        "Line 1 - a and b have same identity\n",
        "Line 2 - a and b have same identity\n",
        "Line 3 - a and b do not have same identity\n",
        "Line 4 - a and b do not have same identity\n"
       ]
      }
     ],
     "prompt_number": 8
    },
    {
     "cell_type": "code",
     "collapsed": false,
     "input": [],
     "language": "python",
     "metadata": {},
     "outputs": []
    }
   ],
   "metadata": {}
  }
 ]
}