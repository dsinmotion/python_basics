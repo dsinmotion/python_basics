{
 "cells": [
  {
   "cell_type": "markdown",
   "metadata": {},
   "source": [
    "### This notebook introduces python data types\n",
    "* string\n",
    "* list (& sorting)\n",
    "* tuple\n",
    "* dict\n",
    "* sets"
   ]
  },
  {
   "cell_type": "markdown",
   "metadata": {},
   "source": [
    "# +++ Python Data Types +++"
   ]
  },
  {
   "cell_type": "code",
   "execution_count": 6,
   "metadata": {
    "collapsed": false
   },
   "outputs": [
    {
     "name": "stdout",
     "output_type": "stream",
     "text": [
      "<type 'int'>\n",
      "<type 'int'>\n",
      "True\n",
      "<type 'bool'>\n",
      "<type 'builtin_function_or_method'>\n",
      "True\n",
      "True\n",
      "False\n"
     ]
    }
   ],
   "source": [
    "print type(1)\n",
    "x = 2; print type(x)          # int\n",
    "print type(2) == type(1) \n",
    "print type(True)              # boolean\n",
    "print type(pow)               # function or method\n",
    "\n",
    "# isinstance\n",
    "print isinstance(1,int)       # test whether something is a certain type\n",
    "print isinstance(\"spam\", str)\n",
    "print isinstance(1.212, int)"
   ]
  },
  {
   "cell_type": "markdown",
   "metadata": {},
   "source": [
    "***"
   ]
  },
  {
   "cell_type": "markdown",
   "metadata": {},
   "source": [
    "#  +++ Python String +++"
   ]
  },
  {
   "cell_type": "markdown",
   "metadata": {},
   "source": [
    "### Special characters\n",
    "* \\n = newline\n",
    "* \\r = return\n",
    "* \\t = tab\n",
    "* \\a = bell\n"
   ]
  },
  {
   "cell_type": "code",
   "execution_count": 8,
   "metadata": {
    "collapsed": false
   },
   "outputs": [
    {
     "name": "stdout",
     "output_type": "stream",
     "text": [
      "<type 'str'>\n",
      "hello!\n",
      "...my sire.\n",
      "'wah!' said the student\n",
      "\"wah!\" said the student\n"
     ]
    }
   ],
   "source": [
    "x = \"spam\"; \n",
    "\n",
    "print type(x)\n",
    "print \"hello!\\n...my sire.\"      # special characters \\n (newline)\n",
    "print \"'wah!' said the student\"  # single quote inside double quote\n",
    "print \"\\\"wah!\\\" said the student\"  # double quote inside double quote using special character\n"
   ]
  },
  {
   "cell_type": "markdown",
   "metadata": {},
   "source": [
    "### #triple quotes, raw quotes, unicode "
   ]
  },
  {
   "cell_type": "code",
   "execution_count": 10,
   "metadata": {
    "collapsed": false
   },
   "outputs": [
    {
     "name": "stdout",
     "output_type": "stream",
     "text": [
      "For score and seven minutes ago, \n",
      "    you folks all learned some basic mathy stuff with Python\n",
      "    and boy were you blown away!\n",
      "This is a raw string...newlines \\r\\n are ignored.\n",
      "A unicode Ǝ string ñ\n"
     ]
    }
   ],
   "source": [
    "# Triple quotes are real useful for multiple line strings\n",
    "y = '''For score and seven minutes ago, \n",
    "    you folks all learned some basic mathy stuff with Python\n",
    "    and boy were you blown away!'''\n",
    "print y\n",
    "\n",
    "# raw strings\n",
    "# raw strings don't escape characters\n",
    "print r'This is a raw string...newlines \\r\\n are ignored.'\n",
    "\n",
    "# prepending u makes that string \"unicode\"\n",
    "ustring = u'A unicode \\u018e string \\xf1'\n",
    "print ustring"
   ]
  },
  {
   "cell_type": "markdown",
   "metadata": {},
   "source": [
    "### #String Object is immutable. Only new object is created!"
   ]
  },
  {
   "cell_type": "code",
   "execution_count": 12,
   "metadata": {
    "collapsed": false
   },
   "outputs": [],
   "source": [
    "# set variable - single quote\n",
    "a = 'hello world'    "
   ]
  },
  {
   "cell_type": "code",
   "execution_count": 4,
   "metadata": {
    "collapsed": false
   },
   "outputs": [
    {
     "data": {
      "text/plain": [
       "\"hello it's a nice day!\""
      ]
     },
     "execution_count": 4,
     "metadata": {},
     "output_type": "execute_result"
    }
   ],
   "source": [
    "# set variable - double quote\n",
    "b = \"hello it's a nice day!\"    \n",
    "b"
   ]
  },
  {
   "cell_type": "code",
   "execution_count": 13,
   "metadata": {
    "collapsed": false
   },
   "outputs": [
    {
     "data": {
      "text/plain": [
       "11"
      ]
     },
     "execution_count": 13,
     "metadata": {},
     "output_type": "execute_result"
    }
   ],
   "source": [
    "# length of string\n",
    "len(a)    "
   ]
  },
  {
   "cell_type": "code",
   "execution_count": 14,
   "metadata": {
    "collapsed": false
   },
   "outputs": [
    {
     "ename": "TypeError",
     "evalue": "cannot concatenate 'str' and 'int' objects",
     "output_type": "error",
     "traceback": [
      "\u001b[0;31m---------------------------------------------------------------------------\u001b[0m\n\u001b[0;31mTypeError\u001b[0m                                 Traceback (most recent call last)",
      "\u001b[0;32m<ipython-input-14-0428d444ba68>\u001b[0m in \u001b[0;36m<module>\u001b[0;34m()\u001b[0m\n\u001b[1;32m      1\u001b[0m \u001b[0;31m# string concatenation\u001b[0m\u001b[0;34m\u001b[0m\u001b[0;34m\u001b[0m\u001b[0m\n\u001b[0;32m----> 2\u001b[0;31m \u001b[0ma\u001b[0m \u001b[0;34m+\u001b[0m \u001b[0;34m' '\u001b[0m \u001b[0;34m+\u001b[0m \u001b[0mlen\u001b[0m\u001b[0;34m(\u001b[0m\u001b[0ma\u001b[0m\u001b[0;34m)\u001b[0m  \u001b[0;31m# need to cast int to string\u001b[0m\u001b[0;34m\u001b[0m\u001b[0m\n\u001b[0m",
      "\u001b[0;31mTypeError\u001b[0m: cannot concatenate 'str' and 'int' objects"
     ]
    }
   ],
   "source": [
    "# string concatenation\n",
    "a + ' ' + len(a)  # need to cast int to string"
   ]
  },
  {
   "cell_type": "markdown",
   "metadata": {},
   "source": [
    "### #String Concatenation"
   ]
  },
  {
   "cell_type": "code",
   "execution_count": 15,
   "metadata": {
    "collapsed": false
   },
   "outputs": [
    {
     "data": {
      "text/plain": [
       "'hello world 11'"
      ]
     },
     "execution_count": 15,
     "metadata": {},
     "output_type": "execute_result"
    }
   ],
   "source": [
    "# string concatenation\n",
    "a + ' ' + str(len(a))"
   ]
  },
  {
   "cell_type": "code",
   "execution_count": 16,
   "metadata": {
    "collapsed": false
   },
   "outputs": [
    {
     "name": "stdout",
     "output_type": "stream",
     "text": [
      "helloworld\n"
     ]
    }
   ],
   "source": [
    "# value assignment\n",
    "a = 'hello'\n",
    "# a = a + 'world'  # a new string object is created\n",
    "a += 'world'\n",
    "print a"
   ]
  },
  {
   "cell_type": "code",
   "execution_count": 20,
   "metadata": {
    "collapsed": false
   },
   "outputs": [
    {
     "data": {
      "text/plain": [
       "'hlo'"
      ]
     },
     "execution_count": 20,
     "metadata": {},
     "output_type": "execute_result"
    }
   ],
   "source": [
    "# string is a sequence in Python\n",
    "a = 'hello'\n",
    "b = a[0] + a[2] + a[4]\n",
    "b"
   ]
  },
  {
   "cell_type": "markdown",
   "metadata": {},
   "source": [
    "### #String Multiplication"
   ]
  },
  {
   "cell_type": "code",
   "execution_count": 21,
   "metadata": {
    "collapsed": false
   },
   "outputs": [
    {
     "name": "stdout",
     "output_type": "stream",
     "text": [
      "spamspamspamegg\n",
      "**************************************************\n"
     ]
    }
   ],
   "source": [
    "s = \"spam\"\n",
    "e = \"egg\"\n",
    "\n",
    "print s*3 + e\n",
    "\n",
    "print \"*\"*50"
   ]
  },
  {
   "cell_type": "markdown",
   "metadata": {},
   "source": [
    "### #String Formatting \n",
    "> Old way --> `%` Operator\n",
    "\n",
    "> New way `string.format(value0, value1, ...)`"
   ]
  },
  {
   "cell_type": "markdown",
   "metadata": {},
   "source": [
    "#### # % Operator"
   ]
  },
  {
   "cell_type": "code",
   "execution_count": 22,
   "metadata": {
    "collapsed": false
   },
   "outputs": [
    {
     "data": {
      "text/plain": [
       "\"3 little pigs come out or I'll huff and puff and blow down\""
      ]
     },
     "execution_count": 22,
     "metadata": {},
     "output_type": "execute_result"
    }
   ],
   "source": [
    "# The % operator takes a printf-type format string on the left \n",
    "# %d int, %s string, %f/%g floating point,\n",
    "# and the matching values in a tuple on the right\n",
    "text = (\"%d little pigs come out or I'll %s and %s and %s\" % (3, 'huff', 'puff', 'blow down'))\n",
    "text"
   ]
  },
  {
   "cell_type": "markdown",
   "metadata": {},
   "source": [
    "#### # string.format()"
   ]
  },
  {
   "cell_type": "code",
   "execution_count": 23,
   "metadata": {
    "collapsed": false
   },
   "outputs": [
    {
     "name": "stdout",
     "output_type": "stream",
     "text": [
      "on saturday, I feel groovy\n",
      "on saturday, I feel groovy\n"
     ]
    }
   ],
   "source": [
    "print 'on {0}, I feel {1}'.format(\"saturday\",\"groovy\")\n",
    "\n",
    "print 'on {}, I feel {}'.format(\"saturday\",\"groovy\")"
   ]
  },
  {
   "cell_type": "code",
   "execution_count": 18,
   "metadata": {
    "collapsed": false
   },
   "outputs": [
    {
     "ename": "IndexError",
     "evalue": "tuple index out of range",
     "output_type": "error",
     "traceback": [
      "\u001b[0;31m---------------------------------------------------------------------------\u001b[0m\n\u001b[0;31mIndexError\u001b[0m                                Traceback (most recent call last)",
      "\u001b[0;32m<ipython-input-18-5faad8378da6>\u001b[0m in \u001b[0;36m<module>\u001b[0;34m()\u001b[0m\n\u001b[0;32m----> 1\u001b[0;31m \u001b[0;32mprint\u001b[0m \u001b[0;34m'on {0}, I feel {1}'\u001b[0m\u001b[0;34m.\u001b[0m\u001b[0mformat\u001b[0m\u001b[0;34m(\u001b[0m\u001b[0;34m[\u001b[0m\u001b[0;34m\"saturday\"\u001b[0m\u001b[0;34m,\u001b[0m\u001b[0;34m\"groovy\"\u001b[0m\u001b[0;34m]\u001b[0m\u001b[0;34m)\u001b[0m\u001b[0;34m\u001b[0m\u001b[0m\n\u001b[0m",
      "\u001b[0;31mIndexError\u001b[0m: tuple index out of range"
     ]
    }
   ],
   "source": [
    "print 'on {0}, I feel {1}'.format([\"saturday\",\"groovy\"])"
   ]
  },
  {
   "cell_type": "code",
   "execution_count": 19,
   "metadata": {
    "collapsed": false
   },
   "outputs": [
    {
     "data": {
      "text/plain": [
       "\"on ['saturday', 'groovy'], I feel ['saturday', 'groovy']\""
      ]
     },
     "execution_count": 19,
     "metadata": {},
     "output_type": "execute_result"
    }
   ],
   "source": [
    "'on {0}, I feel {0}'.format([\"saturday\",\"groovy\"])"
   ]
  },
  {
   "cell_type": "code",
   "execution_count": 20,
   "metadata": {
    "collapsed": false
   },
   "outputs": [
    {
     "data": {
      "text/plain": [
       "'on saturday, I feel saturday'"
      ]
     },
     "execution_count": 20,
     "metadata": {},
     "output_type": "execute_result"
    }
   ],
   "source": [
    "'on {0}, I feel {0}'.format(\"saturday\",\"groovy\")"
   ]
  },
  {
   "cell_type": "code",
   "execution_count": 24,
   "metadata": {
    "collapsed": false
   },
   "outputs": [
    {
     "data": {
      "text/plain": [
       "'Fly me to The Moon'"
      ]
     },
     "execution_count": 24,
     "metadata": {},
     "output_type": "execute_result"
    }
   ],
   "source": [
    "'{desire} to {place}'.format(desire='Fly me',\\\n",
    "                             place='The Moon')"
   ]
  },
  {
   "cell_type": "code",
   "execution_count": 22,
   "metadata": {
    "collapsed": false
   },
   "outputs": [
    {
     "data": {
      "text/plain": [
       "'Fly me to The Moon or else I wont visit The Moon.'"
      ]
     },
     "execution_count": 22,
     "metadata": {},
     "output_type": "execute_result"
    }
   ],
   "source": [
    "'{desire} to {place} or else I wont visit {place}.'.format( \\\n",
    "                 desire='Fly me',place='The Moon')"
   ]
  },
  {
   "cell_type": "code",
   "execution_count": 2,
   "metadata": {
    "collapsed": false
   },
   "outputs": [
    {
     "name": "stdout",
     "output_type": "stream",
     "text": [
      "I want to take you to funky town\n"
     ]
    }
   ],
   "source": [
    "f = {\"desire\": \"I want to take you\", \"place\": \"funky town\"}\n",
    "print '{desire} to {place}'.format(**f)"
   ]
  },
  {
   "cell_type": "markdown",
   "metadata": {},
   "source": []
  },
  {
   "cell_type": "markdown",
   "metadata": {},
   "source": [
    "### #String Slice"
   ]
  },
  {
   "cell_type": "code",
   "execution_count": 25,
   "metadata": {
    "collapsed": false
   },
   "outputs": [
    {
     "name": "stdout",
     "output_type": "stream",
     "text": [
      "llo \n",
      "hello world\n",
      "lo world\n",
      "hello wo\n",
      "hello worl\n",
      "worl\n",
      "hello\n",
      "hello\n"
     ]
    }
   ],
   "source": [
    "# string slice\n",
    "a = 'hello world'\n",
    "print a[2:6]\n",
    "print a[:]\n",
    "print a[3:]\n",
    "print a[:8]\n",
    "\n",
    "print a[:-1]\n",
    "print a[-5:-1]\n",
    "print a[:-6]\n",
    "print a[0:-6]\n",
    "\n"
   ]
  },
  {
   "cell_type": "markdown",
   "metadata": {},
   "source": [
    "### #Unicode String"
   ]
  },
  {
   "cell_type": "code",
   "execution_count": 15,
   "metadata": {
    "collapsed": false
   },
   "outputs": [
    {
     "name": "stdout",
     "output_type": "stream",
     "text": [
      "A unicode Ǝ string ñ\n",
      "A unicode Ǝ string ñ\n",
      "True\n"
     ]
    }
   ],
   "source": [
    "# Regular Python strings are *not* unicode, they are just plain bytes. \n",
    "# To create a unicode string, use the 'u' prefix on the string literal\n",
    "ustring = u'A unicode \\u018e string \\xf1'\n",
    "print ustring\n",
    "\n",
    "# convert a unicode string to bytes with an encoding such as 'utf-8'\n",
    "## (ustring from above contains a unicode string)\n",
    "s = ustring.encode('utf-8')\n",
    "print s\n",
    "\n",
    "t = unicode(s, 'utf-8')             ## Convert bytes back to a unicode string\n",
    "print t == ustring                      ## It's the same as the original, yay!"
   ]
  },
  {
   "cell_type": "markdown",
   "metadata": {},
   "source": [
    "### #String Methods"
   ]
  },
  {
   "cell_type": "code",
   "execution_count": 28,
   "metadata": {
    "collapsed": false
   },
   "outputs": [
    {
     "name": "stdout",
     "output_type": "stream",
     "text": [
      "today is a nice day!\n",
      "TODAY IS A NICE DAY!\n",
      "Today is a nice day!\n",
      "Today IS a Nice day!\n",
      "False\n",
      "False\n",
      "False\n",
      "False\n",
      "String \"Today IS a Nice day! \" starts with Today is: True\n",
      "True\n",
      "-1\n",
      "Find 2nd day string in s:  16\n",
      "IS a Nice day!\n",
      "Tod---y IS --- Nice d---y!\n",
      "['Today', 'IS', 'a', 'Nice', 'day!']\n",
      "['aaa', 'bbb', 'ccc']\n",
      "['Funky', 'town']\n",
      "['I want to take yo', ' to, f', 'nKY tOwn']\n",
      "aaa,bbb,ccc\n",
      "aaaToday IS a Nice day!bbbToday IS a Nice day!ccc\n"
     ]
    }
   ],
   "source": [
    "s = 'Today IS a Nice day!'\n",
    "\n",
    "# lowercase/uppercase\n",
    "print s.lower()\n",
    "print s.upper() \n",
    "print s.capitalize()       # Today is a nice day!\n",
    "\n",
    "# removing whitespace\n",
    "print s.strip() \n",
    "\n",
    "# \n",
    "print s.isalpha()\n",
    "print s.isdigit()\n",
    "print s.isspace()\n",
    "\n",
    "# startswith/endswith\n",
    "print s.startswith('today')    # returns True/False\n",
    "print (\"String \\\"%s \\\" starts with %s is: %s\" % (s, 'Today', s.startswith('Today') ))\n",
    "print s.endswith('day!') \n",
    "\n",
    "# find \n",
    "print s.find('nice') # searches for the given other string \n",
    "                     #(not a regular expression) within s, and returns \n",
    "                     #the first index where it begins or -1 if not found\n",
    "        \n",
    "print 'Find 2nd day string in s: ', s.find(\"day\",3)\n",
    "\n",
    "#s = 'Today IS a Nice day!'\n",
    "print s[s.find(\"IS\"):]   # string slice and using find()\n",
    "\n",
    "# replace\n",
    "print s.replace('a', '---') \n",
    "\n",
    "\n",
    "# string split --> returns a list\n",
    "print s.split() # returns a LIST of substrings separated by the given delimiter. \n",
    "                # The delimiter is NOT a regular expression, it's just text. \n",
    "\n",
    "print 'aaa,bbb,ccc'.split(',') \n",
    "print \"funKY tOwn\".capitalize().split()      # ['Funky', 'town']\n",
    "\n",
    "print \"I want to take you to, funKY tOwn\".split(\"u\")\n",
    "\n",
    "\n",
    "# join list as strings\n",
    "list = ['aaa','bbb','ccc']\n",
    "print ','.join(list)   # joins the elements in the given list together using the string as the delimiter.\n",
    "print s.join(list)"
   ]
  },
  {
   "cell_type": "markdown",
   "metadata": {},
   "source": [
    "### # Python String Module"
   ]
  },
  {
   "cell_type": "code",
   "execution_count": 19,
   "metadata": {
    "collapsed": false
   },
   "outputs": [
    {
     "name": "stdout",
     "output_type": "stream",
     "text": [
      "Funky Town\n",
      "Funky Town\n",
      "2\n",
      "2\n",
      "ascii_letters:  abcdefghijklmnopqrstuvwxyzABCDEFGHIJKLMNOPQRSTUVWXYZ\n",
      "digits:  0123456789\n",
      "letters:  ABCDEFGHIJKLMNOPQRSTUVWXYZabcdefghijklmnopqrstuvwxyz\n",
      "hexdigits:  0123456789abcdefABCDEF\n",
      "printable:  0123456789abcdefghijklmnopqrstuvwxyzABCDEFGHIJKLMNOPQRSTUVWXYZ!\"#$%&'()*+,-./:;<=>?@[\\]^_`{|}~ \t\n",
      "\r",
      "\u000b",
      "\f",
      "\n",
      "lowercase:  abcdefghijklmnopqrstuvwxyz\n",
      "uppercase:  ABCDEFGHIJKLMNOPQRSTUVWXYZ\n",
      "punctuations:  !\"#$%&'()*+,-./:;<=>?@[\\]^_`{|}~\n",
      "whitespaces:  \t\n",
      "\u000b",
      "\f",
      "\r",
      " \n"
     ]
    }
   ],
   "source": [
    "'''\n",
    "python string module methods\n",
    "'''\n",
    "\n",
    "import string\n",
    "\n",
    "# swapcase\n",
    "s = \"fUNKY tOWN\"\n",
    "print s.swapcase()\n",
    "print string.swapcase(\"fUNKY tOWN\")\n",
    "\n",
    "# count\n",
    "print string.count(s, \"N\")\n",
    "print s.count(\"N\")\n",
    "\n",
    "# ascii_letters\n",
    "print 'ascii_letters: ', string.ascii_letters\n",
    "print 'digits: ', string.digits\n",
    "print 'letters: ', string.letters\n",
    "print 'hexdigits: ', string.hexdigits\n",
    "print 'printable: ', string.printable\n",
    "print 'lowercase: ', string.lowercase\n",
    "print 'uppercase: ', string.uppercase\n",
    "\n",
    "# punctuations\n",
    "print 'punctuations: ', string.punctuation\n",
    "\n",
    "print 'whitespaces: ', string.whitespace\n",
    "\n",
    "string?"
   ]
  },
  {
   "cell_type": "code",
   "execution_count": 29,
   "metadata": {
    "collapsed": false
   },
   "outputs": [
    {
     "name": "stdout",
     "output_type": "stream",
     "text": [
      "Enter your full email address: xxxx@@@yyy.com\n",
      "missing @ sign or too many @ signs\n",
      "Enter your full email address: xxx@yyy.com\n",
      "valid email. Thank you.\n"
     ]
    }
   ],
   "source": [
    "\"\"\"\n",
    "  String Module Example - Check If Email is Valid or Not\n",
    "\"\"\"\n",
    "import string\n",
    "\n",
    "## let's only allow .com, .edu, and .org email domains\n",
    "allowed_domains = [\"com\",\"edu\",\"org\"]\n",
    "\n",
    "## let's nix all the possible bad characters\n",
    "disallowed = string.punctuation.replace(\".\",\"\")\n",
    "\n",
    "while True:\n",
    "    res = raw_input(\"Enter your full email address: \")\n",
    "    res = res.strip()   # get rid of extra spaces from a key-happy user\n",
    "    if res.count(\"@\") != 1:\n",
    "        print \"missing @ sign or too many @ signs\"\n",
    "        continue\n",
    "    username,domain = res.split(\"@\")\n",
    "\n",
    "    ## let's look at the domain\n",
    "    if domain.find(\".\") == -1:\n",
    "        print \"invalid domain name\"\n",
    "        continue\n",
    "    if domain.split(\".\")[-1] not in allowed_domains:\n",
    "        ## does this end as it should?\n",
    "        print \"invalid top-level domain...must be in \" + \",\".join(allowed_domains)\n",
    "        continue\n",
    "    goodtogo = True\n",
    "    for s in domain:\n",
    "        if s in disallowed:\n",
    "            print \"invalid character \" + s\n",
    "            ## cannot use continue here because then we only continue the for loop, not the while loop \n",
    "            goodtogo = False\n",
    "\n",
    "        \n",
    "    ## if we're here then we're good on domain. Make sure that \n",
    "    for s in username:\n",
    "        if s in disallowed:\n",
    "            print \"invalid character \" + s\n",
    "            goodtogo = False\n",
    "\n",
    "    if goodtogo:\n",
    "        print \"valid email. Thank you.\"\n",
    "        break\n"
   ]
  },
  {
   "cell_type": "markdown",
   "metadata": {},
   "source": [
    "  \n",
    "    \n",
    "      "
   ]
  },
  {
   "cell_type": "markdown",
   "metadata": {},
   "source": [
    "***"
   ]
  },
  {
   "cell_type": "markdown",
   "metadata": {},
   "source": [
    "#   +++ Python Lists +++"
   ]
  },
  {
   "cell_type": "markdown",
   "metadata": {},
   "source": [
    "### list is mutable.\n",
    "* it can be extended and appended!\n",
    "* element of a list can be changed/updated\n",
    "* list is object and it has methods"
   ]
  },
  {
   "cell_type": "markdown",
   "metadata": {},
   "source": [
    "### #List basic"
   ]
  },
  {
   "cell_type": "code",
   "execution_count": 33,
   "metadata": {
    "collapsed": false
   },
   "outputs": [
    {
     "name": "stdout",
     "output_type": "stream",
     "text": [
      "red\n",
      "green\n",
      "3\n",
      "5\n"
     ]
    },
    {
     "data": {
      "text/plain": [
       "['eggs', 'spam, love it', -1, ('monty', 'python'), [-1.2, -2.5]]"
      ]
     },
     "execution_count": 33,
     "metadata": {},
     "output_type": "execute_result"
    }
   ],
   "source": [
    "# List - most string functions work with list\n",
    "colors = ['red', 'blue', 'green']\n",
    "print colors[0]    ## red\n",
    "print colors[2]    ## green\n",
    "print len(colors)  ## 3\n",
    "\n",
    "# List can have tuple and list as elements\n",
    "v = [\"eggs\", \"spam\", -1, (\"monty\", \"python\"), [-1.2, -2.5]]\n",
    "print len(v)\n",
    "v[1] += \", love it\"\n",
    "print v"
   ]
  },
  {
   "cell_type": "markdown",
   "metadata": {},
   "source": [
    "### #List is mutable"
   ]
  },
  {
   "cell_type": "code",
   "execution_count": 23,
   "metadata": {
    "collapsed": false
   },
   "outputs": [
    {
     "name": "stdout",
     "output_type": "stream",
     "text": [
      "[12, 3, 55] [12, 3, 55]\n",
      "['xxx', 3, 55] ['xxx', 3, 55]\n"
     ]
    }
   ],
   "source": [
    "# Proof that list is mutable\n",
    "a = [12, 3, 55]\n",
    "b = a        # Assignment with an = on lists does not make a copy. \n",
    "             # Instead, assignment makes the two variables point to the one list in memory.\n",
    "print a, b\n",
    "\n",
    "a[0] = 'xxx'\n",
    "print a, b"
   ]
  },
  {
   "cell_type": "markdown",
   "metadata": {},
   "source": [
    "### #Update element value of a list"
   ]
  },
  {
   "cell_type": "code",
   "execution_count": 35,
   "metadata": {
    "collapsed": false
   },
   "outputs": [
    {
     "name": "stdout",
     "output_type": "stream",
     "text": [
      "['eggs', 'spam, love it', -1, ('monty', 'python'), [-1.2, -2.5]]\n",
      "['eggs', 'spam, love it', -1, ('monty', 'python'), [-1.2, None]]\n"
     ]
    }
   ],
   "source": [
    "v = [\"eggs\", \"spam\", -1, (\"monty\", \"python\"), [-1.2, -2.5]]\n",
    "v[1] += \", love it\"\n",
    "print v\n",
    "\n",
    "v[-1][1] = None  \n",
    "print v\n",
    "\n",
    "v = v[2:]\n",
    "#print v"
   ]
  },
  {
   "cell_type": "markdown",
   "metadata": {},
   "source": [
    "### #Nested List and arrays"
   ]
  },
  {
   "cell_type": "code",
   "execution_count": 42,
   "metadata": {
    "collapsed": false
   },
   "outputs": [
    {
     "name": "stdout",
     "output_type": "stream",
     "text": [
      "2\n",
      "-2\n"
     ]
    }
   ],
   "source": [
    "vv = np.array([ [1,2], [3,4] ])\n",
    "print len(vv)\n",
    "\n",
    "determinant = vv[0][0]*vv[1][1] - vv[0][1]*vv[1][0]\n",
    "print determinant"
   ]
  },
  {
   "cell_type": "markdown",
   "metadata": {},
   "source": [
    "### #List Slices"
   ]
  },
  {
   "cell_type": "code",
   "execution_count": 39,
   "metadata": {
    "collapsed": false
   },
   "outputs": [
    {
     "name": "stdout",
     "output_type": "stream",
     "text": [
      "['aaa', 'bbb']\n",
      "[12, 'aaa', 'bbb']\n",
      "['z', 'bbb', 22, 55]\n"
     ]
    }
   ],
   "source": [
    "a = [12, 'aaa', 'bbb', 22, 55]\n",
    "print a[1:3]\n",
    "print a[:-2]\n",
    "\n",
    "a[0:2] = 'z'    ## replace [12, 'aaa'] with ['z']\n",
    "print a         ## ['z', 'bbb', 22, 55]"
   ]
  },
  {
   "cell_type": "markdown",
   "metadata": {},
   "source": [
    "### #*for* constructs - list iteration"
   ]
  },
  {
   "cell_type": "raw",
   "metadata": {},
   "source": [
    "The syntax for iteration is...\n",
    "\n",
    "for variable_name in iterable:\n",
    "    do something with variable_name"
   ]
  },
  {
   "cell_type": "code",
   "execution_count": 34,
   "metadata": {
    "collapsed": false
   },
   "outputs": [
    {
     "name": "stdout",
     "output_type": "stream",
     "text": [
      "30\n"
     ]
    }
   ],
   "source": [
    "# The *for* construct -- for var in list -- is an easy way to look at each element in a list (or other collection).\n",
    "squares = [1, 4, 9, 16]\n",
    "sum = 0\n",
    "for num in squares:\n",
    "    sum += num\n",
    "print sum  "
   ]
  },
  {
   "cell_type": "markdown",
   "metadata": {},
   "source": [
    "### #*in* constructs "
   ]
  },
  {
   "cell_type": "code",
   "execution_count": 35,
   "metadata": {
    "collapsed": false
   },
   "outputs": [
    {
     "name": "stdout",
     "output_type": "stream",
     "text": [
      "yay\n"
     ]
    }
   ],
   "source": [
    "# *in* construct\n",
    "list = ['larry', 'curly', 'moe']\n",
    "if 'curly' in list:\n",
    "    print 'yay'"
   ]
  },
  {
   "cell_type": "markdown",
   "metadata": {},
   "source": [
    "### #Range Function"
   ]
  },
  {
   "cell_type": "markdown",
   "metadata": {},
   "source": [
    "range syntax: range([start,] stop[, step]) → list of integers"
   ]
  },
  {
   "cell_type": "code",
   "execution_count": 11,
   "metadata": {
    "collapsed": false
   },
   "outputs": [
    {
     "name": "stdout",
     "output_type": "stream",
     "text": [
      "0\n",
      "1\n",
      "2\n",
      "3\n",
      " \n",
      "10\n",
      "11\n",
      "12\n"
     ]
    }
   ],
   "source": [
    "## print the numbers from 0 through 99\n",
    "for i in range(4):   # The range(n) function yields the numbers 0, 1, ... n-1\n",
    "    print i\n",
    "\n",
    "print ' '\n",
    "for i in range(10,13): # range(a, b) returns a, a+1, ... b-1 -- up to but not including the last number. \n",
    "    print i"
   ]
  },
  {
   "cell_type": "code",
   "execution_count": 46,
   "metadata": {
    "collapsed": false
   },
   "outputs": [
    {
     "name": "stdout",
     "output_type": "stream",
     "text": [
      "By adding 1 the total is now 1\n",
      "By adding 3 the total is now 4\n",
      "By adding 5 the total is now 9\n",
      "By adding 7 the total is now 16\n",
      "By adding 9 the total is now 25\n"
     ]
    }
   ],
   "source": [
    "# Range with steps\n",
    "total = 0\n",
    "for val in range(1,10,2):\n",
    "    total += val\n",
    "    print \"By adding \" + str(val) + \\\n",
    "          \" the total is now \" + str(total)"
   ]
  },
  {
   "cell_type": "code",
   "execution_count": 47,
   "metadata": {
    "collapsed": false
   },
   "outputs": [
    {
     "name": "stdout",
     "output_type": "stream",
     "text": [
      "0 Mary\n",
      "1 had\n",
      "2 a\n",
      "3 little\n",
      "4 lamb\n"
     ]
    }
   ],
   "source": [
    "# Use Range and Len to iterate through a list\n",
    "a = ['Mary', 'had', 'a', 'little', 'lamb']\n",
    "for i in range(len(a)):\n",
    "    print i, a[i]"
   ]
  },
  {
   "cell_type": "markdown",
   "metadata": {},
   "source": [
    "### #Numeric For Loop with Range and For"
   ]
  },
  {
   "cell_type": "code",
   "execution_count": 47,
   "metadata": {
    "collapsed": false
   },
   "outputs": [
    {
     "name": "stdout",
     "output_type": "stream",
     "text": [
      "150\n"
     ]
    }
   ],
   "source": [
    "# The combination of the for-loop and the range() function \n",
    "# allow you to build a traditional numeric for loop\n",
    "\n",
    "for i in range(16):\n",
    "    sum += i\n",
    "print sum"
   ]
  },
  {
   "cell_type": "markdown",
   "metadata": {},
   "source": [
    "### #While Loop"
   ]
  },
  {
   "cell_type": "code",
   "execution_count": 16,
   "metadata": {
    "collapsed": false
   },
   "outputs": [
    {
     "name": "stdout",
     "output_type": "stream",
     "text": [
      "1\n",
      "4\n",
      "7\n",
      "10\n",
      "13\n",
      "24\n"
     ]
    }
   ],
   "source": [
    "## Access every 3rd element in a list\n",
    "\n",
    "a = [1,2,3,4,5,6,7,8,9,10,11,12,13,14,15]\n",
    "i = 0\n",
    "while i < len(a):\n",
    "    print a[i]\n",
    "    i = i + 3\n",
    "    "
   ]
  },
  {
   "cell_type": "markdown",
   "metadata": {},
   "source": [
    "### #List Methods"
   ]
  },
  {
   "cell_type": "code",
   "execution_count": 12,
   "metadata": {
    "collapsed": false
   },
   "outputs": [
    {
     "name": "stdout",
     "output_type": "stream",
     "text": [
      "Help on list object:\n",
      "\n",
      "class list(object)\n",
      " |  list() -> new empty list\n",
      " |  list(iterable) -> new list initialized from iterable's items\n",
      " |  \n",
      " |  Methods defined here:\n",
      " |  \n",
      " |  __add__(...)\n",
      " |      x.__add__(y) <==> x+y\n",
      " |  \n",
      " |  __contains__(...)\n",
      " |      x.__contains__(y) <==> y in x\n",
      " |  \n",
      " |  __delitem__(...)\n",
      " |      x.__delitem__(y) <==> del x[y]\n",
      " |  \n",
      " |  __delslice__(...)\n",
      " |      x.__delslice__(i, j) <==> del x[i:j]\n",
      " |      \n",
      " |      Use of negative indices is not supported.\n",
      " |  \n",
      " |  __eq__(...)\n",
      " |      x.__eq__(y) <==> x==y\n",
      " |  \n",
      " |  __ge__(...)\n",
      " |      x.__ge__(y) <==> x>=y\n",
      " |  \n",
      " |  __getattribute__(...)\n",
      " |      x.__getattribute__('name') <==> x.name\n",
      " |  \n",
      " |  __getitem__(...)\n",
      " |      x.__getitem__(y) <==> x[y]\n",
      " |  \n",
      " |  __getslice__(...)\n",
      " |      x.__getslice__(i, j) <==> x[i:j]\n",
      " |      \n",
      " |      Use of negative indices is not supported.\n",
      " |  \n",
      " |  __gt__(...)\n",
      " |      x.__gt__(y) <==> x>y\n",
      " |  \n",
      " |  __iadd__(...)\n",
      " |      x.__iadd__(y) <==> x+=y\n",
      " |  \n",
      " |  __imul__(...)\n",
      " |      x.__imul__(y) <==> x*=y\n",
      " |  \n",
      " |  __init__(...)\n",
      " |      x.__init__(...) initializes x; see help(type(x)) for signature\n",
      " |  \n",
      " |  __iter__(...)\n",
      " |      x.__iter__() <==> iter(x)\n",
      " |  \n",
      " |  __le__(...)\n",
      " |      x.__le__(y) <==> x<=y\n",
      " |  \n",
      " |  __len__(...)\n",
      " |      x.__len__() <==> len(x)\n",
      " |  \n",
      " |  __lt__(...)\n",
      " |      x.__lt__(y) <==> x<y\n",
      " |  \n",
      " |  __mul__(...)\n",
      " |      x.__mul__(n) <==> x*n\n",
      " |  \n",
      " |  __ne__(...)\n",
      " |      x.__ne__(y) <==> x!=y\n",
      " |  \n",
      " |  __repr__(...)\n",
      " |      x.__repr__() <==> repr(x)\n",
      " |  \n",
      " |  __reversed__(...)\n",
      " |      L.__reversed__() -- return a reverse iterator over the list\n",
      " |  \n",
      " |  __rmul__(...)\n",
      " |      x.__rmul__(n) <==> n*x\n",
      " |  \n",
      " |  __setitem__(...)\n",
      " |      x.__setitem__(i, y) <==> x[i]=y\n",
      " |  \n",
      " |  __setslice__(...)\n",
      " |      x.__setslice__(i, j, y) <==> x[i:j]=y\n",
      " |      \n",
      " |      Use  of negative indices is not supported.\n",
      " |  \n",
      " |  __sizeof__(...)\n",
      " |      L.__sizeof__() -- size of L in memory, in bytes\n",
      " |  \n",
      " |  append(...)\n",
      " |      L.append(object) -- append object to end\n",
      " |  \n",
      " |  count(...)\n",
      " |      L.count(value) -> integer -- return number of occurrences of value\n",
      " |  \n",
      " |  extend(...)\n",
      " |      L.extend(iterable) -- extend list by appending elements from the iterable\n",
      " |  \n",
      " |  index(...)\n",
      " |      L.index(value, [start, [stop]]) -> integer -- return first index of value.\n",
      " |      Raises ValueError if the value is not present.\n",
      " |  \n",
      " |  insert(...)\n",
      " |      L.insert(index, object) -- insert object before index\n",
      " |  \n",
      " |  pop(...)\n",
      " |      L.pop([index]) -> item -- remove and return item at index (default last).\n",
      " |      Raises IndexError if list is empty or index is out of range.\n",
      " |  \n",
      " |  remove(...)\n",
      " |      L.remove(value) -- remove first occurrence of value.\n",
      " |      Raises ValueError if the value is not present.\n",
      " |  \n",
      " |  reverse(...)\n",
      " |      L.reverse() -- reverse *IN PLACE*\n",
      " |  \n",
      " |  sort(...)\n",
      " |      L.sort(cmp=None, key=None, reverse=False) -- stable sort *IN PLACE*;\n",
      " |      cmp(x, y) -> -1, 0, 1\n",
      " |  \n",
      " |  ----------------------------------------------------------------------\n",
      " |  Data and other attributes defined here:\n",
      " |  \n",
      " |  __hash__ = None\n",
      " |  \n",
      " |  __new__ = <built-in method __new__ of type object>\n",
      " |      T.__new__(S, ...) -> a new object with type S, a subtype of T\n",
      "\n"
     ]
    }
   ],
   "source": [
    "v = [1,2]\n",
    "help(v)"
   ]
  },
  {
   "cell_type": "code",
   "execution_count": 8,
   "metadata": {
    "collapsed": false
   },
   "outputs": [
    {
     "data": {
      "text/plain": [
       "['__add__',\n",
       " '__class__',\n",
       " '__contains__',\n",
       " '__delattr__',\n",
       " '__delitem__',\n",
       " '__delslice__',\n",
       " '__doc__',\n",
       " '__eq__',\n",
       " '__format__',\n",
       " '__ge__',\n",
       " '__getattribute__',\n",
       " '__getitem__',\n",
       " '__getslice__',\n",
       " '__gt__',\n",
       " '__hash__',\n",
       " '__iadd__',\n",
       " '__imul__',\n",
       " '__init__',\n",
       " '__iter__',\n",
       " '__le__',\n",
       " '__len__',\n",
       " '__lt__',\n",
       " '__mul__',\n",
       " '__ne__',\n",
       " '__new__',\n",
       " '__reduce__',\n",
       " '__reduce_ex__',\n",
       " '__repr__',\n",
       " '__reversed__',\n",
       " '__rmul__',\n",
       " '__setattr__',\n",
       " '__setitem__',\n",
       " '__setslice__',\n",
       " '__sizeof__',\n",
       " '__str__',\n",
       " '__subclasshook__',\n",
       " 'append',\n",
       " 'count',\n",
       " 'extend',\n",
       " 'index',\n",
       " 'insert',\n",
       " 'pop',\n",
       " 'remove',\n",
       " 'reverse',\n",
       " 'sort']"
      ]
     },
     "execution_count": 8,
     "metadata": {},
     "output_type": "execute_result"
    }
   ],
   "source": [
    "v = [1,2,'t']\n",
    "dir(v)  # list of methods"
   ]
  },
  {
   "cell_type": "code",
   "execution_count": 18,
   "metadata": {
    "collapsed": false
   },
   "outputs": [
    {
     "name": "stdout",
     "output_type": "stream",
     "text": [
      "['larry', 'curly', 'moe', 'moe', 'shemp']\n",
      "2\n",
      "['xxx', 'larry', 'curly', 'moe', 'moe', 'shemp']\n",
      "['xxx', 'larry', 'curly', 'moe', 'moe', 'shemp', 'yyy', 'zzz']\n",
      "2\n",
      "['xxx', 'larry', 'moe', 'moe', 'shemp', 'yyy', 'zzz']\n",
      "['larry', 'moe', 'moe', 'shemp', 'yyy', 'zzz']\n",
      "['larry', 'moe', 'moe', 'shemp', 'yyy']\n",
      "sorted list: ['yyy', 'shemp', 'moe', 'moe', 'larry']\n",
      "['yyy', 'shemp', 'moe', 'moe', 'larry']\n",
      "List after sort():  ['d', 'c', 'b', 'a']\n",
      "['a', 'b', 'c', 'd']\n",
      "List after sorted():  ['d', 'c', 'b', 'a']\n",
      "reversed list: ['a', 'b', 'c', 'd']\n"
     ]
    }
   ],
   "source": [
    "list = ['larry', 'curly', 'moe', 'moe']\n",
    "\n",
    "# append element\n",
    "list.append('shemp')         ## append elem at end\n",
    "print list\n",
    "\n",
    "# count occurrence of an element\n",
    "print list.count('moe')      ## 2\n",
    "\n",
    "# insert element\n",
    "list.insert(0, 'xxx')        ## insert elem at index 0, shifting elements to the right\n",
    "print list\n",
    "\n",
    "# extend list\n",
    "list.extend(['yyy', 'zzz'])  ## adds the elements in list2 to the end of the list, similar to + and +=\n",
    "print list                   ## ['xxx', 'larry', 'curly', 'moe', 'shemp', 'yyy', 'zzz']\n",
    "  \n",
    "# return index\n",
    "print list.index('curly')    ## 2\n",
    "\n",
    "# search and remove an element\n",
    "list.remove('curly')         ## search and remove that element\n",
    "print list\n",
    "\n",
    "# \n",
    "list.pop(0)                  ## removes and returns the element at the given index. \n",
    "print list  \n",
    "\n",
    "list.pop()                   ## removes the rightmost element\n",
    "print list\n",
    "\n",
    "# sort a list - sort()\n",
    "list.sort(reverse=True)                  ## sorts the list in place (does not return it)\n",
    "print 'sorted list: ' + str(list)\n",
    "\n",
    "# sort a list - sorted()\n",
    "print sorted(list, reverse=True)   ## sorted() DOES NOT sort in place (will return it)\n",
    "\n",
    "# sort() vs. sorted \n",
    "list = ['a','b','c','d']\n",
    "list.sort(reverse=True)\n",
    "print 'List after sort(): ', list\n",
    "\n",
    "print sorted(list)\n",
    "print 'List after sorted(): ',list    # sorted does not change the order in the list, it returns a new list with sorted order\n",
    "\n",
    "# reverse a list\n",
    "list.reverse()               ## reverses the list in place (does not return it)\n",
    "print \"reversed list: \" + str(list)"
   ]
  },
  {
   "cell_type": "markdown",
   "metadata": {},
   "source": [
    "### #List Build Up"
   ]
  },
  {
   "cell_type": "code",
   "execution_count": null,
   "metadata": {
    "collapsed": false
   },
   "outputs": [],
   "source": [
    "# One common pattern is to start a list a the empty list [], \n",
    "# then use append() or extend() to add elements to it:\n",
    "\n",
    "list = []          ## Start as the empty list\n",
    "list.append('a')   ## Use append() to add elements\n",
    "list.append('b')"
   ]
  },
  {
   "cell_type": "markdown",
   "metadata": {},
   "source": [
    "### #List Comprehension"
   ]
  },
  {
   "cell_type": "code",
   "execution_count": 65,
   "metadata": {
    "collapsed": false
   },
   "outputs": [
    {
     "name": "stdout",
     "output_type": "stream",
     "text": [
      "[1, 4, 9, 16]\n"
     ]
    }
   ],
   "source": [
    "# A list comprehension is a compact way to write \n",
    "# an expression that expands to a whole list\n",
    "nums = [1, 2, 3, 4]\n",
    "\n",
    "squares = [ n * n for n in nums ]   ## [1, 4, 9, 16]\n",
    "print squares"
   ]
  },
  {
   "cell_type": "code",
   "execution_count": 66,
   "metadata": {
    "collapsed": false
   },
   "outputs": [
    {
     "name": "stdout",
     "output_type": "stream",
     "text": [
      "['HELLO!!!', 'AND!!!', 'GOODBYE!!!']\n"
     ]
    }
   ],
   "source": [
    "strs = ['hello', 'and', 'goodbye']\n",
    "\n",
    "shouting = [ s.upper() + '!!!' for s in strs ]\n",
    "print shouting "
   ]
  },
  {
   "cell_type": "code",
   "execution_count": 19,
   "metadata": {
    "collapsed": false
   },
   "outputs": [
    {
     "name": "stdout",
     "output_type": "stream",
     "text": [
      "[2, 1]\n",
      "[2, 1]\n",
      "['APPLE', 'BANNANA']\n"
     ]
    }
   ],
   "source": [
    "# add an if test to the right of the for-loop to narrow the result\n",
    "## Select values <= 2\n",
    "nums = [2, 8, 1, 6]\n",
    "small = [ n for n in nums if n <= 2 ]  ## [2, 1]\n",
    "print small\n",
    "\n",
    "# old way of doing the above list comprehension\n",
    "nums = [2, 8, 1, 6]\n",
    "small = []\n",
    "for n in nums:\n",
    "    if n <=2:\n",
    "        small.append(n)\n",
    "print small        \n",
    "\n",
    "\n",
    "## Select fruits containing 'a', change to upper case\n",
    "fruits = ['apple', 'cherry', 'bannana', 'lemon']\n",
    "afruits = [ s.upper() for s in fruits if 'a' in s ]\n",
    "print afruits"
   ]
  },
  {
   "cell_type": "code",
   "execution_count": 26,
   "metadata": {
    "collapsed": false
   },
   "outputs": [
    {
     "data": {
      "text/plain": [
       "[('\\xcf\\x80+', 139.57018),\n",
       " ('\\xcf\\x800', 134.9766),\n",
       " ('\\xce\\xb7\\xe2\\x80\\xb2(958)', 957.78),\n",
       " ('K+', 493.677),\n",
       " ('K0', 497.614),\n",
       " ('K0S', 497.614),\n",
       " ('K0L', 497.614)]"
      ]
     },
     "execution_count": 26,
     "metadata": {},
     "output_type": "execute_result"
    }
   ],
   "source": [
    "# list comprehension with filtering\n",
    "particles = [{\"name\":\"π+\" ,\"mass\": 139.57018}, {\"name\":\"π0\" ,\"mass\": 134.9766}, {\"name\":\"η5\" ,\"mass\": 47.853}, {\"name\":\"η′(958)\",\"mass\": 957.78}, {\"name\":\"ηc(1S)\", \"mass\": 2980.5}, {\"name\": \"ηb(1S)\",\"mass\": 9388.9}, {\"name\":\"K+\", \"mass\": 493.677}, {\"name\":\"K0\" ,\"mass\": 497.614}, {\"name\":\"K0S\" ,\"mass\": 497.614}, {\"name\":\"K0L\" ,\"mass\": 497.614}, {\"name\":\"D+\" ,\"mass\": 1869.62}, {\"name\":\"D0\" ,\"mass\": 1864.84}, {\"name\":\"D+s\" ,\"mass\": 1968.49}, {\"name\":\"B+\" ,\"mass\": 5279.15}, {\"name\":\"B0\" ,\"mass\": 5279.5}, {\"name\":\"B0s\" ,\"mass\": 5366.3}, {\"name\":\"B+c\" ,\"mass\": 6277}]\n",
    "my_mesons = [ (x['name'],x['mass']) for \\\n",
    "                   x in particles if x['mass'] <= 1000.0 and x['mass'] >= 100.0]\n",
    "my_mesons"
   ]
  },
  {
   "cell_type": "markdown",
   "metadata": {},
   "source": [
    "***\n"
   ]
  },
  {
   "cell_type": "markdown",
   "metadata": {},
   "source": [
    "#  +++ Python List Sorting +++"
   ]
  },
  {
   "cell_type": "markdown",
   "metadata": {},
   "source": [
    "![alt text](https://developers.google.com/edu/python/images/sorted-key.png \"sorted-key\")"
   ]
  },
  {
   "cell_type": "markdown",
   "metadata": {},
   "source": [
    "### #sorted(list) vs list.sort()"
   ]
  },
  {
   "cell_type": "code",
   "execution_count": 61,
   "metadata": {
    "collapsed": false
   },
   "outputs": [
    {
     "name": "stdout",
     "output_type": "stream",
     "text": [
      "[1, 3, 4, 5]\n",
      "[5, 1, 4, 3]\n"
     ]
    }
   ],
   "source": [
    "# sorted vs list.sort()\n",
    "a = [5, 1, 4, 3]\n",
    "print sorted(a)  #  sorted() can take as input any sort of iterable collection\n",
    "print a  ## [5, 1, 4, 3]"
   ]
  },
  {
   "cell_type": "code",
   "execution_count": 62,
   "metadata": {
    "collapsed": false
   },
   "outputs": [
    {
     "name": "stdout",
     "output_type": "stream",
     "text": [
      "['BB', 'CC', 'aa', 'zz']\n",
      "['zz', 'aa', 'CC', 'BB']\n"
     ]
    }
   ],
   "source": [
    "# sorted with optional arguments\n",
    "strs = ['aa', 'BB', 'zz', 'CC']\n",
    "print sorted(strs)  \n",
    "print sorted(strs, reverse=True)   # reverse order"
   ]
  },
  {
   "cell_type": "markdown",
   "metadata": {},
   "source": [
    "### #sorting list with tuple as elements"
   ]
  },
  {
   "cell_type": "code",
   "execution_count": 72,
   "metadata": {
    "collapsed": false
   },
   "outputs": [
    {
     "name": "stdout",
     "output_type": "stream",
     "text": [
      "[(1, 'a'), (1, 'b'), (2, 'a')]\n"
     ]
    }
   ],
   "source": [
    "l = [(1,'b'), (2,'a'), (1,'a')]\n",
    "print sorted(l)"
   ]
  },
  {
   "cell_type": "markdown",
   "metadata": {},
   "source": [
    "### #Custom Sorting with key= and custom function"
   ]
  },
  {
   "cell_type": "code",
   "execution_count": 64,
   "metadata": {
    "collapsed": false
   },
   "outputs": [
    {
     "name": "stdout",
     "output_type": "stream",
     "text": [
      "['d', 'BB', 'ccc', 'AAA']\n",
      "['AAA', 'BB', 'ccc', 'd']\n"
     ]
    }
   ],
   "source": [
    "# custom sorting by length of string\n",
    "strs = ['ccc', 'AAA', 'd', 'BB']\n",
    "print sorted(strs, key=len)  ## ['d', 'bb', 'ccc', 'aaaa']\n",
    "\n",
    "# custome sorting by lowercase\n",
    "## \"key\" argument specifying str.lower function to use for sorting\n",
    "print sorted(strs, key=str.lower)  "
   ]
  },
  {
   "cell_type": "code",
   "execution_count": null,
   "metadata": {
    "collapsed": false
   },
   "outputs": [],
   "source": [
    "## sorting using custom function - by last letter\n",
    "\n",
    "## Say we have a list of strings we want to sort by the last letter of the string.\n",
    "strs = ['xc', 'zb', 'yd' ,'wa']\n",
    "\n",
    "## Write a little function that takes a string, and returns its last letter.\n",
    "## This will be the key function (takes in 1 value, returns 1 value).\n",
    "def MyFn(s):\n",
    "    return s[-1]\n",
    "\n",
    "## Now pass key=MyFn to sorted() to sort by the last letter:\n",
    "print sorted(strs, key=MyFn)  ## ['wa', 'zb', 'xc', 'yd']"
   ]
  },
  {
   "cell_type": "markdown",
   "metadata": {},
   "source": [
    "  \n",
    "    \n",
    "      "
   ]
  },
  {
   "cell_type": "markdown",
   "metadata": {},
   "source": [
    "***"
   ]
  },
  {
   "cell_type": "markdown",
   "metadata": {},
   "source": [
    "***"
   ]
  },
  {
   "cell_type": "markdown",
   "metadata": {},
   "source": [
    "#  +++ Python Tuple +++"
   ]
  },
  {
   "cell_type": "markdown",
   "metadata": {},
   "source": [
    "### Tuple is immutable\n",
    "* A tuple is a fixed size grouping of elements, such as an (x, y) co-ordinate. \n",
    "* Tuples are like lists, except they are immutable and do not change size (tuples are not strictly immutable since one of the contained elements could be mutable). \n",
    "* Tuples play a sort of \"struct\" role in Python -- a convenient way to pass around a little logical, fixed size bundle of values. \n",
    "  * A function that needs to return multiple values can just return a tuple of the values."
   ]
  },
  {
   "cell_type": "code",
   "execution_count": 20,
   "metadata": {
    "collapsed": false
   },
   "outputs": [
    {
     "name": "stdout",
     "output_type": "stream",
     "text": [
      "True\n",
      "3\n",
      "hi\n",
      "bye\n",
      "(2, 'bye')\n"
     ]
    }
   ],
   "source": [
    "t = (1, 2, 'hi')\n",
    "print isinstance(t,tuple)\n",
    "print len(t)  ## 3\n",
    "print t[2]    ## hi\n",
    "t = (1, 2, 'bye')  ## this works\n",
    "print t[-1]\n",
    "print t[-2:]  ## get the last two elements, return as a tuple\n"
   ]
  },
  {
   "cell_type": "code",
   "execution_count": 70,
   "metadata": {
    "collapsed": false
   },
   "outputs": [
    {
     "name": "stdout",
     "output_type": "stream",
     "text": [
      "1\n",
      "2\n"
     ]
    }
   ],
   "source": [
    "# parallel assignment\n",
    "(x,y) = (1,2)\n",
    "print x\n",
    "print y"
   ]
  },
  {
   "cell_type": "code",
   "execution_count": 26,
   "metadata": {
    "collapsed": false
   },
   "outputs": [
    {
     "name": "stdout",
     "output_type": "stream",
     "text": [
      "<type 'bool'>\n",
      "<type 'tuple'>\n"
     ]
    }
   ],
   "source": [
    "x = (True); print type(x)\n",
    "x = (True, ); print type(x)\n",
    "    "
   ]
  },
  {
   "cell_type": "markdown",
   "metadata": {},
   "source": [
    "### #Tuple is immutable, therefore does not support item assignment"
   ]
  },
  {
   "cell_type": "code",
   "execution_count": 28,
   "metadata": {
    "collapsed": false
   },
   "outputs": [
    {
     "ename": "TypeError",
     "evalue": "'tuple' object does not support item assignment",
     "output_type": "error",
     "traceback": [
      "\u001b[0;31m---------------------------------------------------------------------------\u001b[0m\n\u001b[0;31mTypeError\u001b[0m                                 Traceback (most recent call last)",
      "\u001b[0;32m<ipython-input-28-2cfb7c96d0ae>\u001b[0m in \u001b[0;36m<module>\u001b[0;34m()\u001b[0m\n\u001b[1;32m      1\u001b[0m \u001b[0;31m# tuple is immutable, so it cannot be changed (unlike list which is mutable)\u001b[0m\u001b[0;34m\u001b[0m\u001b[0;34m\u001b[0m\u001b[0m\n\u001b[1;32m      2\u001b[0m \u001b[0mtuple\u001b[0m \u001b[0;34m=\u001b[0m \u001b[0;34m(\u001b[0m\u001b[0;34m'hello'\u001b[0m\u001b[0;34m,\u001b[0m \u001b[0;34m'nice'\u001b[0m\u001b[0;34m,\u001b[0m \u001b[0;34m'world'\u001b[0m\u001b[0;34m)\u001b[0m\u001b[0;34m\u001b[0m\u001b[0m\n\u001b[0;32m----> 3\u001b[0;31m \u001b[0mtuple\u001b[0m\u001b[0;34m[\u001b[0m\u001b[0;36m2\u001b[0m\u001b[0;34m]\u001b[0m \u001b[0;34m=\u001b[0m \u001b[0;34m'bye'\u001b[0m  \u001b[0;31m## NO, tuples cannot be changed\u001b[0m\u001b[0;34m\u001b[0m\u001b[0m\n\u001b[0m",
      "\u001b[0;31mTypeError\u001b[0m: 'tuple' object does not support item assignment"
     ]
    }
   ],
   "source": [
    "# tuple is immutable, so it cannot be changed (unlike list which is mutable)\n",
    "tuple = ('hello', 'nice', 'world')\n",
    "tuple[2] = 'bye'  ## NO, tuples cannot be changed\n"
   ]
  },
  {
   "cell_type": "markdown",
   "metadata": {},
   "source": [
    "### #However, you can create new tuples using concatenation"
   ]
  },
  {
   "cell_type": "code",
   "execution_count": 36,
   "metadata": {
    "collapsed": false
   },
   "outputs": [
    {
     "name": "stdout",
     "output_type": "stream",
     "text": [
      "(12, 'monty', True, -1230000.0)\n",
      "(12, 'monty', False, -1230000.0)\n"
     ]
    },
    {
     "ename": "TypeError",
     "evalue": "can only concatenate tuple (not \"bool\") to tuple",
     "output_type": "error",
     "traceback": [
      "\u001b[0;31m---------------------------------------------------------------------------\u001b[0m\n\u001b[0;31mTypeError\u001b[0m                                 Traceback (most recent call last)",
      "\u001b[0;32m<ipython-input-36-5c6f99b96b3a>\u001b[0m in \u001b[0;36m<module>\u001b[0;34m()\u001b[0m\n\u001b[1;32m      6\u001b[0m \u001b[0;32mprint\u001b[0m \u001b[0mt2\u001b[0m\u001b[0;34m\u001b[0m\u001b[0m\n\u001b[1;32m      7\u001b[0m \u001b[0;34m\u001b[0m\u001b[0m\n\u001b[0;32m----> 8\u001b[0;31m \u001b[0mt3\u001b[0m \u001b[0;34m=\u001b[0m \u001b[0mt1\u001b[0m\u001b[0;34m[\u001b[0m\u001b[0;36m0\u001b[0m\u001b[0;34m:\u001b[0m\u001b[0;36m2\u001b[0m\u001b[0;34m]\u001b[0m \u001b[0;34m+\u001b[0m \u001b[0;34m(\u001b[0m\u001b[0mFalse\u001b[0m\u001b[0;34m)\u001b[0m \u001b[0;34m+\u001b[0m \u001b[0mt1\u001b[0m\u001b[0;34m[\u001b[0m\u001b[0;36m3\u001b[0m\u001b[0;34m:\u001b[0m\u001b[0;34m]\u001b[0m   \u001b[0;31m# note (False) is boolean type\u001b[0m\u001b[0;34m\u001b[0m\u001b[0m\n\u001b[0m",
      "\u001b[0;31mTypeError\u001b[0m: can only concatenate tuple (not \"bool\") to tuple"
     ]
    }
   ],
   "source": [
    "# change element of a tuple by creating a new tuple \n",
    "t1 = (12,\"monty\",True,-1.23e6)\n",
    "print t1\n",
    "\n",
    "t2 = t1[0:2] + (False, ) + t1[3:]\n",
    "print t2\n",
    "\n",
    "t3 = t1[0:2] + (False) + t1[3:]   # note (False) is boolean type"
   ]
  },
  {
   "cell_type": "markdown",
   "metadata": {},
   "source": [
    "### # Tuple multiplication"
   ]
  },
  {
   "cell_type": "code",
   "execution_count": 35,
   "metadata": {
    "collapsed": false
   },
   "outputs": [
    {
     "name": "stdout",
     "output_type": "stream",
     "text": [
      "(12, 'monty', True, -1230000.0, 12, 'monty', True, -1230000.0)\n"
     ]
    }
   ],
   "source": [
    "# multiplication\n",
    "t1 = (12,\"monty\",True,-1.23e6)\n",
    "\n",
    "print t1*2"
   ]
  },
  {
   "cell_type": "markdown",
   "metadata": {},
   "source": [
    "***"
   ]
  },
  {
   "cell_type": "markdown",
   "metadata": {},
   "source": [
    "***"
   ]
  },
  {
   "cell_type": "markdown",
   "metadata": {},
   "source": [
    "# +++ Python Dictionary +++"
   ]
  },
  {
   "cell_type": "markdown",
   "metadata": {},
   "source": [
    "* Python's efficient key/value hash table structure is called a \"dict\". The contents of a dict can be written as a series of key:value pairs within braces { }, e.g. dict = {key1:value1, key2:value2, ... }. The \"empty dict\" is just an empty pair of curly braces {}.\n",
    "* Dictionaries are UNORDERED!\n",
    "* Looking up or setting a value in a dict uses square brackets, e.g. dict['foo'] looks up the value under the key 'foo'. Strings, numbers, and tuples work as keys, and any type can be a value. \n",
    "* You can cast between tuples and lists\n",
    "  * casting only affects top-level structure, not the elements\n",
    "***"
   ]
  },
  {
   "cell_type": "markdown",
   "metadata": {},
   "source": [
    "\n",
    "![alt text](https://developers.google.com/edu/python/images/dict.png \"python dict\")"
   ]
  },
  {
   "cell_type": "markdown",
   "metadata": {},
   "source": [
    "### #Dict Hash Table"
   ]
  },
  {
   "cell_type": "code",
   "execution_count": 41,
   "metadata": {
    "collapsed": false
   },
   "outputs": [
    {
     "name": "stdout",
     "output_type": "stream",
     "text": [
      "{'a': 'alpha', 'o': 'omega', 'g': 'gamma'}\n",
      "alpha\n",
      "{'a': 6, 'o': 'omega', 'g': 'gamma'}\n",
      "None\n"
     ]
    }
   ],
   "source": [
    "## Can build up a dict by starting with the the empty dict {}\n",
    "## and storing key/value pairs into the dict like this:\n",
    "## dict[key] = value-for-that-key\n",
    "\n",
    "# creat a dict hash table and add key-values\n",
    "dict = {}\n",
    "dict['a'] = 'alpha'\n",
    "dict['g'] = 'gamma'\n",
    "dict['o'] = 'omega'\n",
    "\n",
    "print dict  ## {'a': 'alpha', 'o': 'omega', 'g': 'gamma'}\n",
    "\n",
    "print dict['a']     ## Simple lookup, returns 'alpha'\n",
    "\n",
    "\n",
    "# modify value associated with a key\n",
    "dict['a'] = 6       ## Put new key/value into dict\n",
    "print dict\n",
    "\n",
    "# decide if a key exist in dict               \n",
    "if 'z' in dict: \n",
    "    print dict['z']     ## Avoid KeyError\n",
    "    \n",
    "\n",
    "# retrieve a key-value from dict    \n",
    "print dict.get('z')  ## None (instead of KeyError)\n"
   ]
  },
  {
   "cell_type": "markdown",
   "metadata": {},
   "source": [
    "### # 4 ways to make a dictionary"
   ]
  },
  {
   "cell_type": "code",
   "execution_count": 44,
   "metadata": {
    "collapsed": false
   },
   "outputs": [
    {
     "ename": "TypeError",
     "evalue": "'dict' object is not callable",
     "output_type": "error",
     "traceback": [
      "\u001b[0;31m---------------------------------------------------------------------------\u001b[0m\n\u001b[0;31mTypeError\u001b[0m                                 Traceback (most recent call last)",
      "\u001b[0;32m<ipython-input-44-779697b20dad>\u001b[0m in \u001b[0;36m<module>\u001b[0;34m()\u001b[0m\n\u001b[0;32m----> 1\u001b[0;31m \u001b[0md\u001b[0m \u001b[0;34m=\u001b[0m \u001b[0mdict\u001b[0m\u001b[0;34m(\u001b[0m\u001b[0mone\u001b[0m\u001b[0;34m=\u001b[0m\u001b[0;36m1\u001b[0m\u001b[0;34m,\u001b[0m \u001b[0mtwo\u001b[0m\u001b[0;34m=\u001b[0m\u001b[0;36m2\u001b[0m\u001b[0;34m,\u001b[0m \u001b[0mcat\u001b[0m\u001b[0;34m=\u001b[0m\u001b[0;34m'dog'\u001b[0m\u001b[0;34m)\u001b[0m\u001b[0;34m\u001b[0m\u001b[0m\n\u001b[0m",
      "\u001b[0;31mTypeError\u001b[0m: 'dict' object is not callable"
     ]
    }
   ],
   "source": [
    "d = dict(one=1, two=2, cat='dog')"
   ]
  },
  {
   "cell_type": "code",
   "execution_count": 42,
   "metadata": {
    "collapsed": false
   },
   "outputs": [
    {
     "ename": "TypeError",
     "evalue": "'dict' object is not callable",
     "output_type": "error",
     "traceback": [
      "\u001b[0;31m---------------------------------------------------------------------------\u001b[0m\n\u001b[0;31mTypeError\u001b[0m                                 Traceback (most recent call last)",
      "\u001b[0;32m<ipython-input-42-70416b9ab500>\u001b[0m in \u001b[0;36m<module>\u001b[0;34m()\u001b[0m\n\u001b[1;32m      3\u001b[0m \u001b[0;34m\u001b[0m\u001b[0m\n\u001b[1;32m      4\u001b[0m \u001b[0;31m# number 2 - using dict() constructor\u001b[0m\u001b[0;34m\u001b[0m\u001b[0;34m\u001b[0m\u001b[0m\n\u001b[0;32m----> 5\u001b[0;31m \u001b[0md\u001b[0m \u001b[0;34m=\u001b[0m \u001b[0mdict\u001b[0m\u001b[0;34m(\u001b[0m\u001b[0mone\u001b[0m\u001b[0;34m=\u001b[0m\u001b[0;36m1\u001b[0m\u001b[0;34m,\u001b[0m \u001b[0mtwo\u001b[0m\u001b[0;34m=\u001b[0m\u001b[0;36m2\u001b[0m\u001b[0;34m,\u001b[0m \u001b[0mcat\u001b[0m\u001b[0;34m=\u001b[0m\u001b[0;34m'dog'\u001b[0m\u001b[0;34m)\u001b[0m\u001b[0;34m;\u001b[0m\u001b[0;34m\u001b[0m\u001b[0m\n\u001b[0m\u001b[1;32m      6\u001b[0m \u001b[0;32mprint\u001b[0m \u001b[0md\u001b[0m\u001b[0;34m\u001b[0m\u001b[0m\n\u001b[1;32m      7\u001b[0m \u001b[0;34m\u001b[0m\u001b[0m\n",
      "\u001b[0;31mTypeError\u001b[0m: 'dict' object is not callable"
     ]
    }
   ],
   "source": [
    "# number 1...you've seen this\n",
    "d = {\"favorite cat\": None, \"favorite spam\": \"all\"}\n",
    "\n",
    "# number 2 - using dict() constructor\n",
    "d = dict(one=1, two=2, cat='dog');\n",
    "print d\n",
    "\n",
    "# number 3 ... just start filling in items/keys\n",
    "d = {}  # empty dictionary\n",
    "d['cat'] = 'dog'\n",
    "d['one'] = 1\n",
    "d['two'] = 2\n",
    "d\n",
    "# number 4... start with a list of tuples\n",
    "mylist = [(\"cat\",\"dog\"), (\"one\",1),(\"two\",2)]\n",
    "print dict(mylist)\n"
   ]
  },
  {
   "cell_type": "markdown",
   "metadata": {},
   "source": [
    "### # Dictionary with complex values"
   ]
  },
  {
   "cell_type": "code",
   "execution_count": 4,
   "metadata": {
    "collapsed": false
   },
   "outputs": [
    {
     "name": "stdout",
     "output_type": "stream",
     "text": [
      "{'friends': [('Billy', '652-2212')], 'family': [('mom', '642-2322'), ('dad', '534-2311')]}\n",
      "['friends', 'family']\n",
      "[[('Billy', '652-2212')], [('mom', '642-2322'), ('dad', '534-2311')]]\n",
      "all\n",
      "Group friends:\n",
      "  Billy 652-2212\n",
      "Group family:\n",
      "  mom 642-2322\n",
      "  dad 534-2311\n",
      "Group friends:\n",
      "  Billy 652-2212\n",
      "Group family:\n",
      "  mom 642-2322\n",
      "  dad 534-2311\n"
     ]
    }
   ],
   "source": [
    "# List as complex value of a dictionary\n",
    "phone_numbers = {'family': [('mom','642-2322'),('dad','534-2311')],\\\n",
    "                     'friends': [('Billy','652-2212')]}\n",
    "print phone_numbers\n",
    "print phone_numbers.keys()\n",
    "print phone_numbers.values()\n",
    "\n",
    "\n",
    "# Dict as complex value of a dictionary\n",
    "d = {'favorites': {'cat': None, 'spam': 'all'}, \\\n",
    "     'least favorite': {'cat': 'all', 'spam': None}}\n",
    "print d['least favorite']['cat']\n",
    "\n",
    "for group_type in ['friends','family']:\n",
    "        print \"Group \" + group_type + \":\"\n",
    "        for info in phone_numbers[group_type]:\n",
    "             print \" \",info[0], info[1]\n",
    "                \n",
    "                \n",
    "for group_type in phone_numbers.keys():\n",
    "        print \"Group \" + group_type + \":\"\n",
    "        for info in phone_numbers[group_type]:\n",
    "             print \" \",info[0], info[1]"
   ]
  },
  {
   "cell_type": "markdown",
   "metadata": {},
   "source": [
    "### Dictionary Methods\n",
    "\n",
    "- dict.get\n",
    "- dict.has_key\n",
    "- dict.keys\n",
    "- dict.values\n",
    "- dict.clear\n",
    "- dict.copy  (shallow copy)\n",
    "- dict.fromkeys\n",
    "- dict.iterkeys\n",
    "- dict.itervalues\n",
    "- dict.iteritems\n",
    "- dict.pop\n",
    "- dict.popitem\n",
    "- dict.update"
   ]
  },
  {
   "cell_type": "code",
   "execution_count": 32,
   "metadata": {
    "collapsed": false
   },
   "outputs": [
    {
     "name": "stdout",
     "output_type": "stream",
     "text": [
      "{'friends': [('Billy', '652-2212')], 'family': [('mom', '642-2322'), ('dad', '534-2311')]}\n",
      "method dict.keys():  ['friends', 'family']\n",
      "method dict.values():  [[('Billy', '652-2212')], [('mom', '642-2322'), ('dad', '534-2311')]]\n",
      "--- method dict.get() ---\n",
      "method dict.get():  [('Billy', '652-2212')]\n",
      "True\n",
      "--- method dict.has_key() ---\n",
      "method dict.has_key():  False\n",
      "--- method dict.copy() ---\n",
      "method dict.copy():  {'friends': [('Billy', '652-2212')], 'family': [('mom', '642-2322'), ('dad', '534-2311')]}\n",
      "method dict.clear():  {}\n",
      "after dict.clear(), dictionary has no key-values:  {}\n",
      "{'friends': [('Billy', '652-2212')], 'family': [('mom', '642-2322'), ('dad', '534-2311')]}\n",
      "--- method iterkeys() ---\n",
      "friends\n",
      "family\n"
     ]
    }
   ],
   "source": [
    "phone_numbers = {'family': [('mom','642-2322'),('dad','534-2311')],\\\n",
    "                     'friends': [('Billy','652-2212')]}\n",
    "print phone_numbers\n",
    "print 'method dict.keys(): ', phone_numbers.keys()\n",
    "print 'method dict.values(): ', phone_numbers.values()\n",
    "\n",
    "# .get()\n",
    "print '--- method dict.get() ---'\n",
    "print 'method dict.get(): ', phone_numbers.get('friends')\n",
    "print phone_numbers.get('friends') == phone_numbers['friends']\n",
    "\n",
    "# .has_key()\n",
    "print '--- method dict.has_key() ---'\n",
    "print 'method dict.has_key(): ', phone_numbers.has_key('colleagues')\n",
    "\n",
    "# shallow copy\n",
    "print '--- method dict.copy() ---'\n",
    "phone_numbers_2 = phone_numbers.copy()\n",
    "print 'method dict.copy(): ', phone_numbers_2\n",
    "\n",
    "# clear\n",
    "phone_numbers.clear()\n",
    "print 'method dict.clear(): ', phone_numbers\n",
    "print 'after dict.clear(), dictionary has no key-values: ' , phone_numbers\n",
    "print phone_numbers_2\n",
    "\n",
    "\n",
    "# iterkeys()\n",
    "print '--- method iterkeys() ---'\n",
    "for key in phone_numbers_2.iterkeys():\n",
    "    print key\n"
   ]
  },
  {
   "cell_type": "markdown",
   "metadata": {},
   "source": [
    "### #Iterating through a dict"
   ]
  },
  {
   "cell_type": "markdown",
   "metadata": {},
   "source": [
    "####Working with Python dict\n",
    "* A for loop on a dictionary iterates over its keys by default. The keys will appear in an arbitrary order. \n",
    "* The methods dict.keys() and dict.values() return lists of the keys or values explicitly. \n",
    "* There's also an items() which returns a list of (key, value) tuples, which is the most efficient way to examine all the key * value data in the dictionary. \n",
    "* All of these lists can be passed to the sorted() function."
   ]
  },
  {
   "cell_type": "code",
   "execution_count": 5,
   "metadata": {
    "collapsed": false
   },
   "outputs": [
    {
     "name": "stdout",
     "output_type": "stream",
     "text": [
      "--- iterator 1 ---\n",
      "a\n",
      "o\n",
      "g\n",
      "--- iterator 2 ---\n",
      "a\n",
      "o\n",
      "g\n",
      "--- iterator 3 ---\n",
      "a\n",
      "o\n",
      "g\n",
      "--- iterator 4 ---\n",
      "a\n",
      "o\n",
      "g\n",
      "--- iterator 5 ---\n",
      "Key: a has value: 1\n",
      "Key: c has value: 1j\n",
      "Key: b has value: 1.2\n",
      "\n",
      "\n",
      "['a', 'o', 'g']\n",
      "['alpha', 'omega', 'gamma']\n",
      "a alpha\n",
      "g gamma\n",
      "o omega\n",
      "[('a', 'alpha'), ('o', 'omega'), ('g', 'gamma')]\n",
      "a > alpha\n",
      "o > omega\n",
      "g > gamma\n"
     ]
    }
   ],
   "source": [
    "  dict = {}\n",
    "  dict['a'] = 'alpha'\n",
    "  dict['g'] = 'gamma'\n",
    "  dict['o'] = 'omega'\n",
    "\n",
    "  ## By default, iterating over a dict iterates over its keys.\n",
    "  ## Note that the keys are in a random order.\n",
    "    \n",
    "  ## Dict iterator 1\n",
    "  print '--- iterator 1 ---'\n",
    "  for key in dict: \n",
    "        print key\n",
    "  \n",
    "  ## Dict iterator 2\n",
    "  print '--- iterator 2 ---'\n",
    "  for key in dict.keys():     # .keys() method create implicit iterator\n",
    "        print key\n",
    "        \n",
    "  ## Dict iterator 3\n",
    "  print '--- iterator 3 ---'\n",
    "  for key in iter(dict.keys()):\n",
    "        print key\n",
    "        \n",
    "  ## Dict iterator 4\n",
    "  print '--- iterator 4 ---'\n",
    "  for key in dict.iterkeys():\n",
    "        print key\n",
    "\n",
    "  ## Dict iterator 5 - using iteritems\n",
    "  print '--- iterator 5 ---'\n",
    "  d = {'a': 1, 'b':1.2, 'c':1j}\n",
    "  for key, val in d.iteritems():\n",
    "    print('Key: %s has value: %s' % (key, val))\n",
    "  \n",
    "  print\n",
    "  print\n",
    "  ## Get the .keys() list:\n",
    "  print dict.keys()  ## ['a', 'o', 'g']\n",
    "\n",
    "  ## Likewise, there's a .values() list of values\n",
    "  print dict.values()  ## ['alpha', 'omega', 'gamma']\n",
    "\n",
    "  ## Common case -- loop over the keys in sorted order,\n",
    "  ## accessing each key/value\n",
    "  for key in sorted(dict.keys()):\n",
    "    print key, dict[key]\n",
    "  \n",
    "  ## .items() is the dict expressed as (key, value) tuples\n",
    "  print dict.items()  ##  [('a', 'alpha'), ('o', 'omega'), ('g', 'gamma')]\n",
    "\n",
    "  ## This loop syntax accesses the whole dict by looping\n",
    "  ## over the .items() tuple list, accessing one (key, value)\n",
    "  ## pair on each iteration.\n",
    "  for k, v in dict.items(): \n",
    "        print k, '>', v\n",
    "  ## a > alpha    o > omega     g > gamma"
   ]
  },
  {
   "cell_type": "markdown",
   "metadata": {},
   "source": [
    "### # Dictionary looping examples"
   ]
  },
  {
   "cell_type": "code",
   "execution_count": 8,
   "metadata": {
    "collapsed": false
   },
   "outputs": [
    {
     "name": "stdout",
     "output_type": "stream",
     "text": [
      "{'friends': [('Billy', '652-2212')], 'family': [('mom', '642-2322'), ('dad', '534-2311')]}\n",
      "['friends', 'family']\n",
      "[[('Billy', '652-2212')], [('mom', '642-2322'), ('dad', '534-2311')]]\n",
      "\n",
      "------ Dict looping example 1 ------\n",
      "Group friends:\n",
      "  Billy 652-2212\n",
      "Group family:\n",
      "  mom 642-2322\n",
      "  dad 534-2311\n",
      "\n",
      "------ Dict looping example 2 ------\n",
      "Group family:\n",
      "  mom 642-2322\n",
      "  dad 534-2311\n",
      "Group friends:\n",
      "  Billy 652-2212\n",
      "\n",
      "------ Dict looping example 3 ------\n",
      "Group friends:\n",
      "  Billy 652-2212\n",
      "Group family:\n",
      "  mom 642-2322\n",
      "  dad 534-2311\n"
     ]
    }
   ],
   "source": [
    "# Dict looping example \n",
    "phone_numbers = {'family': [('mom','642-2322'),('dad','534-2311')],\\\n",
    "                     'friends': [('Billy','652-2212')]}\n",
    "print phone_numbers\n",
    "print phone_numbers.keys()\n",
    "print phone_numbers.values()\n",
    "\n",
    "# Dict looping example 1\n",
    "print \"\\n------ Dict looping example 1 ------\"\n",
    "for group_type in phone_numbers.keys():\n",
    "        print \"Group \" + group_type + \":\"\n",
    "        for info in phone_numbers[group_type]:\n",
    "             print \" \",info[0], info[1]\n",
    "  \n",
    "# Dict looping example 2\n",
    "print \"\\n------ Dict looping example 2 ------\"\n",
    "\n",
    "groups = phone_numbers.keys()\n",
    "groups.sort()\n",
    "for group_type in groups:\n",
    "        print \"Group \" + group_type + \":\"\n",
    "        for info in phone_numbers[group_type]:\n",
    "             print \" \",info[0], info[1]\n",
    "                \n",
    "# Dict looping example 3 - using .iteritem()\n",
    "print \"\\n------ Dict looping example 3 ------\"\n",
    "for group_type, vals in phone_numbers.iteritems():\n",
    "        print \"Group \" + group_type + \":\"\n",
    "        for info in vals:\n",
    "             print \" \",info[0], info[1]\n",
    "\n"
   ]
  },
  {
   "cell_type": "markdown",
   "metadata": {},
   "source": [
    "### #Dict Formatting"
   ]
  },
  {
   "cell_type": "markdown",
   "metadata": {},
   "source": [
    "The % operator works conveniently to substitute values from a dict into a string by name:"
   ]
  },
  {
   "cell_type": "code",
   "execution_count": 2,
   "metadata": {
    "collapsed": false
   },
   "outputs": [
    {
     "name": "stdout",
     "output_type": "stream",
     "text": [
      "I want 42 copies of garfield\n"
     ]
    }
   ],
   "source": [
    "  hash = {}\n",
    "  hash['word'] = 'garfield'\n",
    "  hash['count'] = 42\n",
    "  s = 'I want %(count)d copies of %(word)s' % hash  # %d for int, %s for string\n",
    "  print s      # 'I want 42 copies of garfield'"
   ]
  },
  {
   "cell_type": "markdown",
   "metadata": {},
   "source": [
    "### #Dict Set & Delete Values"
   ]
  },
  {
   "cell_type": "markdown",
   "metadata": {},
   "source": [
    "The \"del\" operator does deletions. In the simplest case, it can remove the definition of a variable, as if that variable had not been defined. Del can also be used on list elements or slices to delete that part of the list and to delete entries from a dictionary."
   ]
  },
  {
   "cell_type": "code",
   "execution_count": 33,
   "metadata": {
    "collapsed": false
   },
   "outputs": [
    {
     "name": "stdout",
     "output_type": "stream",
     "text": [
      "{'friends': [('Billy', '652-2212'), ('Marsha', '232-1121')], 'family': [('mom', '642-2322'), ('dad', '534-2311')]}\n"
     ]
    },
    {
     "ename": "TypeError",
     "evalue": "'tuple' object does not support item assignment",
     "output_type": "error",
     "traceback": [
      "\u001b[0;31m---------------------------------------------------------------------------\u001b[0m\n\u001b[0;31mTypeError\u001b[0m                                 Traceback (most recent call last)",
      "\u001b[0;32m<ipython-input-33-6cf8e49a6bb3>\u001b[0m in \u001b[0;36m<module>\u001b[0;34m()\u001b[0m\n\u001b[1;32m      8\u001b[0m \u001b[0;34m\u001b[0m\u001b[0m\n\u001b[1;32m      9\u001b[0m \u001b[0;31m# modify the value a dict associated with a key\u001b[0m\u001b[0;34m\u001b[0m\u001b[0;34m\u001b[0m\u001b[0m\n\u001b[0;32m---> 10\u001b[0;31m \u001b[0mphone_numbers\u001b[0m\u001b[0;34m[\u001b[0m\u001b[0;34m'friends'\u001b[0m\u001b[0;34m]\u001b[0m\u001b[0;34m[\u001b[0m\u001b[0;36m0\u001b[0m\u001b[0;34m]\u001b[0m\u001b[0;34m[\u001b[0m\u001b[0;36m1\u001b[0m\u001b[0;34m]\u001b[0m \u001b[0;34m=\u001b[0m \u001b[0;34m\"532-1521\"\u001b[0m\u001b[0;34m\u001b[0m\u001b[0m\n\u001b[0m\u001b[1;32m     11\u001b[0m \u001b[0mphone_numbers\u001b[0m\u001b[0;34m[\u001b[0m\u001b[0;34m'friends'\u001b[0m\u001b[0;34m]\u001b[0m\u001b[0;34m[\u001b[0m\u001b[0;36m0\u001b[0m\u001b[0;34m]\u001b[0m \u001b[0;34m=\u001b[0m \u001b[0;34m(\u001b[0m\u001b[0;34m\"Billy\"\u001b[0m\u001b[0;34m,\u001b[0m\u001b[0;34m\"532-1521\"\u001b[0m\u001b[0;34m)\u001b[0m\u001b[0;34m\u001b[0m\u001b[0m\n\u001b[1;32m     12\u001b[0m \u001b[0;34m\u001b[0m\u001b[0m\n",
      "\u001b[0;31mTypeError\u001b[0m: 'tuple' object does not support item assignment"
     ]
    }
   ],
   "source": [
    "## Set & change dict values\n",
    "phone_numbers = {'family': [('mom','642-2322'),('dad','534-2311')],\\\n",
    "                     'friends': [('Billy','652-2212')]}\n",
    "\n",
    "# append new element to a list as the value of a dictionary\n",
    "phone_numbers['friends'].append((\"Marsha\",\"232-1121\"))\n",
    "print phone_numbers\n",
    "\n",
    "\n",
    "# modify the value a dict associated with a key\n",
    "# phone_numbers['friends'][0][1] = \"532-1521\"       # wrong way\n",
    "phone_numbers['friends'][0] = (\"Billy\",\"532-1521\") # correct way\n",
    "\n",
    "\n",
    "\n",
    "\n",
    "#######################\n",
    "## delete dict values\n",
    "var = 6\n",
    "del var  # var no more!\n",
    "  \n",
    "list = ['a', 'b', 'c', 'd']\n",
    "del list[0]     ## Delete first element\n",
    "del list[-2:]   ## Delete last two elements\n",
    "print list      ## ['b']\n",
    "\n",
    "dict = {'a':1, 'b':2, 'c':3}\n",
    "del dict['b']   ## Delete 'b' entry\n",
    "print dict      ## {'a':1, 'c':3}"
   ]
  },
  {
   "cell_type": "markdown",
   "metadata": {},
   "source": [
    "***"
   ]
  },
  {
   "cell_type": "markdown",
   "metadata": {},
   "source": [
    "***"
   ]
  },
  {
   "cell_type": "markdown",
   "metadata": {},
   "source": [
    "# +++ Python Sets +++"
   ]
  },
  {
   "cell_type": "markdown",
   "metadata": {},
   "source": [
    "* enclosed in `{}  --> {'Monday', 'Tuesday', 'Wednesday'}`\n",
    "* Python sets is UNORDERed collections of unique elements\n",
    "* Common uses include:\n",
    "  * membership testing\n",
    "  * removing duplicates from a sequence\n",
    "  * computing standard math operations on sets such as intersection, union, difference, and symmetric difference."
   ]
  },
  {
   "cell_type": "markdown",
   "metadata": {},
   "source": [
    "### # Creating Sets"
   ]
  },
  {
   "cell_type": "code",
   "execution_count": 2,
   "metadata": {
    "collapsed": false
   },
   "outputs": [
    {
     "name": "stdout",
     "output_type": "stream",
     "text": [
      "<type 'set'>\n",
      "set(['A', ' ', 'i', 'h', 'l', 'o', 'n', 'P', 'r', 'u', 't', 'a', 'y', 'T'])\n",
      "set(['Python', 'Java', 'Perl'])\n"
     ]
    },
    {
     "data": {
      "text/plain": [
       "{'Java', 'Perl', 'Python'}"
      ]
     },
     "execution_count": 2,
     "metadata": {},
     "output_type": "execute_result"
    }
   ],
   "source": [
    "# from a string - will singularize the string into its characters\n",
    "\n",
    "x = set(\"A Python Tutorial\")\n",
    "print type(x)\n",
    "print x\n",
    "\n",
    "# from a list\n",
    "x = set([\"Perl\", \"Python\", \"Java\"])\n",
    "print x\n",
    "x"
   ]
  },
  {
   "cell_type": "markdown",
   "metadata": {},
   "source": [
    "### # Set is a collection of UNIQUE elements"
   ]
  },
  {
   "cell_type": "code",
   "execution_count": 58,
   "metadata": {
    "collapsed": false
   },
   "outputs": [
    {
     "name": "stdout",
     "output_type": "stream",
     "text": [
      "set(['a', 'c', 'b', 'd'])\n"
     ]
    }
   ],
   "source": [
    "s = set(['a','b','c','d','a','b'])\n",
    "print s"
   ]
  },
  {
   "cell_type": "markdown",
   "metadata": {},
   "source": [
    "### # Immutable Sets"
   ]
  },
  {
   "cell_type": "code",
   "execution_count": 65,
   "metadata": {
    "collapsed": false
   },
   "outputs": [
    {
     "name": "stdout",
     "output_type": "stream",
     "text": [
      "set([('a', 'b'), ('c', 'd')])\n"
     ]
    },
    {
     "ename": "TypeError",
     "evalue": "unhashable type: 'list'",
     "output_type": "error",
     "traceback": [
      "\u001b[0;31m---------------------------------------------------------------------------\u001b[0m\n\u001b[0;31mTypeError\u001b[0m                                 Traceback (most recent call last)",
      "\u001b[0;32m<ipython-input-65-00635897ae4b>\u001b[0m in \u001b[0;36m<module>\u001b[0;34m()\u001b[0m\n\u001b[1;32m      6\u001b[0m \u001b[0;34m\u001b[0m\u001b[0m\n\u001b[1;32m      7\u001b[0m \u001b[0;34m\u001b[0m\u001b[0m\n\u001b[0;32m----> 8\u001b[0;31m \u001b[0ms2\u001b[0m \u001b[0;34m=\u001b[0m \u001b[0mset\u001b[0m\u001b[0;34m(\u001b[0m\u001b[0;34m(\u001b[0m\u001b[0;34m[\u001b[0m\u001b[0;34m'a'\u001b[0m\u001b[0;34m,\u001b[0m\u001b[0;34m'b'\u001b[0m\u001b[0;34m]\u001b[0m\u001b[0;34m,\u001b[0m \u001b[0;34m[\u001b[0m\u001b[0;34m'c'\u001b[0m\u001b[0;34m,\u001b[0m\u001b[0;34m'd'\u001b[0m\u001b[0;34m]\u001b[0m\u001b[0;34m)\u001b[0m\u001b[0;34m)\u001b[0m\u001b[0;34m\u001b[0m\u001b[0m\n\u001b[0m\u001b[1;32m      9\u001b[0m \u001b[0;32mprint\u001b[0m \u001b[0ms2\u001b[0m\u001b[0;34m\u001b[0m\u001b[0m\n",
      "\u001b[0;31mTypeError\u001b[0m: unhashable type: 'list'"
     ]
    }
   ],
   "source": [
    "# Sets are implemented in a way, which doesn't allow mutable objects. \n",
    "# Therefore, we can not include lists as elements of sets\n",
    "\n",
    "s1 = set([('a','b'),('c','d')]);  # element can be tuple since tuple is immutable\n",
    "print s1\n",
    "\n",
    "\n",
    "s2 = set((['a','b'], ['c','d']))\n",
    "print s2"
   ]
  },
  {
   "cell_type": "markdown",
   "metadata": {},
   "source": [
    "### Frozen Sets\n",
    "* Though sets can't contain mutable objects, sets are mutable"
   ]
  },
  {
   "cell_type": "code",
   "execution_count": 66,
   "metadata": {
    "collapsed": false
   },
   "outputs": [
    {
     "name": "stdout",
     "output_type": "stream",
     "text": [
      "set(['Freiburg', 'Basel', 'Frankfurt', 'Strasbourg'])\n"
     ]
    }
   ],
   "source": [
    "cities = set([\"Frankfurt\", \"Basel\",\"Freiburg\"])\n",
    "cities.add(\"Strasbourg\")\n",
    "print cities"
   ]
  },
  {
   "cell_type": "markdown",
   "metadata": {},
   "source": [
    "### # Set Operations"
   ]
  },
  {
   "cell_type": "code",
   "execution_count": 83,
   "metadata": {
    "collapsed": false
   },
   "outputs": [
    {
     "name": "stdout",
     "output_type": "stream",
     "text": [
      "set add:  set(['green', 'yellow', 'red'])\n",
      "set clear:  set([])\n",
      "set copy:  set(['St. Gallen', 'Winterthur', 'Schaffhausen'])\n",
      "set difference:  set(['a', 'e', 'd'])\n",
      "set difference:  set(['a', 'e'])\n",
      "set(['a', 'p', 's', 'm'])\n",
      "set discard - existing element:  set(['c', 'b', 'e', 'd'])\n",
      "set discard - non-existing element:  set(['c', 'b', 'e', 'd'])\n",
      "set remove - existing element:  set(['c', 'b', 'e', 'd'])\n",
      "set intersection:  set(['c', 'e', 'd'])\n",
      "x is subset of y?  False\n",
      "y is subset of x?  True\n"
     ]
    }
   ],
   "source": [
    "# add element\n",
    "colours = {\"red\",\"green\"}\n",
    "colours.add(\"yellow\")\n",
    "print \"set add: \", colours\n",
    "\n",
    "\n",
    "# clear - all elements will removed from a set\n",
    "cities = {\"Stuttgart\", \"Konstanz\", \"Freiburg\"};\n",
    "cities.clear()\n",
    "print \"set clear: \", cities\n",
    "\n",
    "# copy \n",
    "more_cities = {\"Winterthur\",\"Schaffhausen\",\"St. Gallen\"}\n",
    "cities_backup = more_cities.copy()\n",
    "more_cities.clear()\n",
    "print \"set copy: \", cities_backup        #set(['St. Gallen', 'Winterthur', 'Schaffhausen'])\n",
    "\n",
    "# difference\n",
    "x = {\"a\",\"b\",\"c\",\"d\",\"e\"}\n",
    "y = {\"b\",\"c\"}\n",
    "z = {\"c\",\"d\"}\n",
    "x.difference(y)\n",
    "x.difference(y).difference(z)\n",
    "print \"set difference: \", x.difference(y)\n",
    "print \"set difference: \", x.difference(y).difference(z)\n",
    "\n",
    "# OR, AND, Difference\n",
    "\n",
    "a = set(\"sp\"); \n",
    "b = set(\"am\");\n",
    "q = set(\"spamIam\")\n",
    "print a | b\n",
    "print q - (a | b)\n",
    "\n",
    "# discard\n",
    "x = {\"a\",\"b\",\"c\",\"d\",\"e\"}\n",
    "x.discard(\"a\")\n",
    "print \"set discard - existing element: \" , x\n",
    "\n",
    "x.discard(\"z\")\n",
    "print \"set discard - non-existing element: \" , x\n",
    "\n",
    "# remove \n",
    "x = {\"a\",\"b\",\"c\",\"d\",\"e\"}\n",
    "x.remove(\"a\")     # works like discard(), but if el is not a member \n",
    "                  # of the set, a KeyError will be raised\n",
    "print \"set remove - existing element: \" , x\n",
    "\n",
    "#x.remove(\"z\")\n",
    "#print \"set remove - non-existing element: \" , x\n",
    "\n",
    "# intersections (&)\n",
    "x = {\"a\",\"b\",\"c\",\"d\",\"e\"}\n",
    "y = {\"c\",\"d\",\"e\",\"f\",\"g\"}\n",
    "print 'set intersection: ', x.intersection(y)\n",
    "\n",
    "# isdisjoint \n",
    "# This method returns True if two sets have a null intersection.\n",
    "\n",
    "# issubset()\n",
    "x = {\"a\",\"b\",\"c\",\"d\",\"e\"}\n",
    "y = {\"c\",\"d\"}\n",
    "print \"x is subset of y? \" , x.issubset(y)\n",
    "\n",
    "print \"y is subset of x? \" , y.issubset(x)\n",
    "\n",
    "\n",
    "# issuperset()\n",
    "\n",
    "# pop\n"
   ]
  },
  {
   "cell_type": "markdown",
   "metadata": {},
   "source": [
    "### # Set Examples"
   ]
  },
  {
   "cell_type": "code",
   "execution_count": 2,
   "metadata": {
    "collapsed": false
   },
   "outputs": [
    {
     "name": "stdout",
     "output_type": "stream",
     "text": [
      "set(['Jane', 'Janice', 'John', 'Jack']) <type 'set'>\n",
      "set(['Jane', 'Janice', 'John', 'Jack']) <type 'set'>\n",
      "set(['Jane', 'Marvin', 'Janice', 'John', 'Jack'])\n",
      "False\n",
      "set(['Jane', 'Marvin', 'Janice', 'John', 'Jack'])\n",
      "set(['Janice', 'Jack', 'Sam'])\n",
      "set(['Jane', 'Zack', 'Jack'])\n",
      "set(['Zack', 'Sam', 'Marvin', 'Jack', 'Jane', 'Janice', 'John'])\n"
     ]
    }
   ],
   "source": [
    "### Set example\n",
    "\n",
    "engineers = {'John', 'Jane', 'Jack', 'Janice'}          # create set using curly braces\n",
    "engineers_1 = set(['John', 'Jane', 'Jack', 'Janice'])   # convert set from a list\n",
    "print engineers, type(engineers)\n",
    "print engineers_1, type(engineers_1)\n",
    "\n",
    "\n",
    "programmers = set(['Jack', 'Sam', 'Susan', 'Janice'])\n",
    "managers = set(['Jane', 'Jack', 'Susan', 'Zack'])\n",
    "\n",
    "employees = engineers | programmers | managers           # union\n",
    "engineering_management = engineers & managers            # intersection\n",
    "fulltime_management = managers - engineers - programmers # difference\n",
    "engineers.add('Marvin')                                  # add element\n",
    "print engineers \n",
    "print employees.issuperset(engineers)     # superset test\n",
    "\n",
    "employees.update(engineers)         # update from another set\n",
    "employees.issuperset(engineers)\n",
    "\n",
    "for group in [engineers, programmers, managers, employees]: \n",
    "    group.discard('Susan')          # unconditionally remove element\n",
    "    print group"
   ]
  },
  {
   "cell_type": "code",
   "execution_count": null,
   "metadata": {
    "collapsed": false
   },
   "outputs": [],
   "source": []
  }
 ],
 "metadata": {
  "celltoolbar": "Raw Cell Format",
  "kernelspec": {
   "display_name": "Python 2",
   "language": "python",
   "name": "python2"
  },
  "language_info": {
   "codemirror_mode": {
    "name": "ipython",
    "version": 2
   },
   "file_extension": ".py",
   "mimetype": "text/x-python",
   "name": "python",
   "nbconvert_exporter": "python",
   "pygments_lexer": "ipython2",
   "version": "2.7.9"
  }
 },
 "nbformat": 4,
 "nbformat_minor": 0
}
