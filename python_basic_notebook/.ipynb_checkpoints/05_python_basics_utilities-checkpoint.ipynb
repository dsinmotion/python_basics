{
 "cells": [
  {
   "cell_type": "markdown",
   "metadata": {},
   "source": [
    "# Python Popular Utilities Modules"
   ]
  },
  {
   "cell_type": "markdown",
   "metadata": {},
   "source": [
    "### 1 - File System - os, os.path, shutil, commands\n",
    "* 1.1 **os**\n",
    "  * filenames = os.listdir(dir) -- list of filenames in that directory path (not including . and ..). The filenames are just the names in the directory, not their absolute paths.\n",
    "  * os.path.join(dir, filename) -- given a filename from the above list, use this to put the dir and filename together to make a path\n",
    "  * os.path.abspath(path) -- given a path, return an absolute form, e.g. /home/nick/foo/bar.html\n",
    "  * os.path.dirname(path), os.path.basename(path) -- given dir/foo/bar.html, return the dirname \"dir/foo\" and basename \"bar.html\"\n",
    "  * os.path.exists(path) -- true if it exists\n",
    "  * os.mkdir(dir_path) -- makes one dir, os.makedirs(dir_path) makes all the needed dirs in this path\n",
    "* 1.2 **shutil.copy**(source-path, dest-path) -- copy a file (dest path directories should exist)\n",
    "* 1.3 **commands** -- runs shell commands\n",
    "* 1.4 **glob**\n",
    "* 1.5 **sys**\n",
    "* 1.6 **pickle**\n",
    "\n",
    "### 2 -  HTTP - urlib, urlparse\n",
    "* ufile = urllib.urlopen(url) -- returns a file like object for that url\n",
    "* text = ufile.read() -- can read from it, like a file (readlines() etc. also work)\n",
    "* info = ufile.info() -- the meta info for that request. info.gettype() is the mime time, e.g. 'text/html'\n",
    "* baseurl = ufile.geturl() -- gets the \"base\" url for the request, which may be different from the original because of redirects\n",
    "* urllib.urlretrieve(url, filename) -- downloads the url data to the given file path\n",
    "* urlparse.urljoin(baseurl, url) -- given a url that may or may not be full, and the baseurl of the page it comes from, return a full url. Use geturl() above to provide the base url.\n",
    "\n",
    "### 3 -  DATETIME - datetime module\n",
    "* get system datetime\n",
    "\n",
    "### 4 - argparse\n"
   ]
  },
  {
   "cell_type": "markdown",
   "metadata": {},
   "source": [
    "----"
   ]
  },
  {
   "cell_type": "markdown",
   "metadata": {},
   "source": [
    "# 1 - File System - Standard Library\n",
    "> **`os`** module\n",
    "\n",
    "> **`shutil`**: high-level file operations\n",
    "\n",
    "> **`commands`** module\n",
    "\n",
    "> **`glob`**: pattern matching on files\n",
    "\n",
    "> **`sys`** module: system-specific information\n",
    "\n",
    "> **`pickle`**: easy persistence"
   ]
  },
  {
   "cell_type": "markdown",
   "metadata": {},
   "source": [
    "## 1.1 - `os` module"
   ]
  },
  {
   "cell_type": "code",
   "execution_count": 1,
   "metadata": {
    "collapsed": false
   },
   "outputs": [],
   "source": [
    "import os\n",
    "# dir(os)"
   ]
  },
  {
   "cell_type": "markdown",
   "metadata": {},
   "source": [
    "### # 1.1.1 directory and file manipulation"
   ]
  },
  {
   "cell_type": "code",
   "execution_count": 9,
   "metadata": {
    "collapsed": false
   },
   "outputs": [
    {
     "data": {
      "text/plain": [
       "['.DS_Store', 'python_basic_notebook', 'python_data_analysis_notebook']"
      ]
     },
     "execution_count": 9,
     "metadata": {},
     "output_type": "execute_result"
    }
   ],
   "source": [
    "# list directory\n",
    "os.listdir('../')"
   ]
  },
  {
   "cell_type": "code",
   "execution_count": 2,
   "metadata": {
    "collapsed": false
   },
   "outputs": [
    {
     "data": {
      "text/plain": [
       "'/Users/DSinmotion/Dropbox/DataScience/Github/datascience/python/python_basics/python_basic_notebook'"
      ]
     },
     "execution_count": 2,
     "metadata": {},
     "output_type": "execute_result"
    }
   ],
   "source": [
    "# current working directory\n",
    "os.getcwd()"
   ]
  },
  {
   "cell_type": "code",
   "execution_count": 3,
   "metadata": {
    "collapsed": false
   },
   "outputs": [
    {
     "data": {
      "text/plain": [
       "True"
      ]
     },
     "execution_count": 3,
     "metadata": {},
     "output_type": "execute_result"
    }
   ],
   "source": [
    "# make a directory\n",
    "os.mkdir('tmpdir')\n",
    "'tmpdir' in os.listdir(os.curdir)"
   ]
  },
  {
   "cell_type": "code",
   "execution_count": 4,
   "metadata": {
    "collapsed": false
   },
   "outputs": [
    {
     "data": {
      "text/plain": [
       "True"
      ]
     },
     "execution_count": 4,
     "metadata": {},
     "output_type": "execute_result"
    }
   ],
   "source": [
    "# rename the directory\n",
    "os.rename('tmpdir', 'tmpdir1')\n",
    "'tmpdir1' in os.listdir(os.curdir)"
   ]
  },
  {
   "cell_type": "code",
   "execution_count": 5,
   "metadata": {
    "collapsed": false
   },
   "outputs": [
    {
     "data": {
      "text/plain": [
       "False"
      ]
     },
     "execution_count": 5,
     "metadata": {},
     "output_type": "execute_result"
    }
   ],
   "source": [
    "# delete a file/dir\n",
    "os.rmdir('tmpdir1')\n",
    "'tmpdir' in os.listdir(os.curdir)"
   ]
  },
  {
   "cell_type": "code",
   "execution_count": 7,
   "metadata": {
    "collapsed": false
   },
   "outputs": [
    {
     "name": "stdout",
     "output_type": "stream",
     "text": [
      "True\n",
      "False\n"
     ]
    }
   ],
   "source": [
    "# delete a file\n",
    "fp = open('junk.txt', 'w')\n",
    "fp.close()\n",
    "print 'junk.txt' in os.listdir(os.curdir)\n",
    "\n",
    "os.remove('junk.txt')\n",
    "print 'junk.txt' in os.listdir(os.curdir)"
   ]
  },
  {
   "cell_type": "code",
   "execution_count": 15,
   "metadata": {
    "collapsed": false
   },
   "outputs": [
    {
     "name": "stdout",
     "output_type": "stream",
     "text": [
      "['.DS_Store', 'python_basic_notebook', 'python_data_analysis_notebook', 'training_material_original']\n"
     ]
    }
   ],
   "source": [
    "# list directory as a list\n",
    "import os\n",
    "\n",
    "def List(dir):\n",
    "    files = os.listdir(dir)\n",
    "    print files\n",
    "    \n",
    "def main():\n",
    "    List('../')\n",
    "    \n",
    "if __name__ == '__main__':\n",
    "    main()"
   ]
  },
  {
   "cell_type": "markdown",
   "metadata": {},
   "source": [
    "### # 1.1.2 `os.path` Path Manipulations"
   ]
  },
  {
   "cell_type": "code",
   "execution_count": 8,
   "metadata": {
    "collapsed": false
   },
   "outputs": [
    {
     "data": {
      "text/plain": [
       "'/Users/DSinmotion/Dropbox/DataScience/Github/datascience/python/python_basics/python_basic_notebook/junk.txt'"
      ]
     },
     "execution_count": 8,
     "metadata": {},
     "output_type": "execute_result"
    }
   ],
   "source": [
    "fp = open('junk.txt', 'w')\n",
    "fp.close()\n",
    "\n",
    "a = os.path.abspath('junk.txt')\n",
    "a"
   ]
  },
  {
   "cell_type": "code",
   "execution_count": 9,
   "metadata": {
    "collapsed": false
   },
   "outputs": [
    {
     "data": {
      "text/plain": [
       "('/Users/DSinmotion/Dropbox/DataScience/Github/datascience/python/python_basics/python_basic_notebook',\n",
       " 'junk.txt')"
      ]
     },
     "execution_count": 9,
     "metadata": {},
     "output_type": "execute_result"
    }
   ],
   "source": [
    "os.path.split(a)"
   ]
  },
  {
   "cell_type": "code",
   "execution_count": 10,
   "metadata": {
    "collapsed": false
   },
   "outputs": [
    {
     "data": {
      "text/plain": [
       "'/Users/DSinmotion/Dropbox/DataScience/Github/datascience/python/python_basics/python_basic_notebook'"
      ]
     },
     "execution_count": 10,
     "metadata": {},
     "output_type": "execute_result"
    }
   ],
   "source": [
    "os.path.dirname(a)"
   ]
  },
  {
   "cell_type": "code",
   "execution_count": 11,
   "metadata": {
    "collapsed": false
   },
   "outputs": [
    {
     "data": {
      "text/plain": [
       "'junk.txt'"
      ]
     },
     "execution_count": 11,
     "metadata": {},
     "output_type": "execute_result"
    }
   ],
   "source": [
    "os.path.basename(a)"
   ]
  },
  {
   "cell_type": "code",
   "execution_count": 12,
   "metadata": {
    "collapsed": false
   },
   "outputs": [
    {
     "data": {
      "text/plain": [
       "('junk', '.txt')"
      ]
     },
     "execution_count": 12,
     "metadata": {},
     "output_type": "execute_result"
    }
   ],
   "source": [
    "os.path.splitext(os.path.basename(a))"
   ]
  },
  {
   "cell_type": "code",
   "execution_count": 13,
   "metadata": {
    "collapsed": false
   },
   "outputs": [
    {
     "data": {
      "text/plain": [
       "True"
      ]
     },
     "execution_count": 13,
     "metadata": {},
     "output_type": "execute_result"
    }
   ],
   "source": [
    "os.path.exists('junk.txt')"
   ]
  },
  {
   "cell_type": "code",
   "execution_count": 14,
   "metadata": {
    "collapsed": false
   },
   "outputs": [
    {
     "data": {
      "text/plain": [
       "True"
      ]
     },
     "execution_count": 14,
     "metadata": {},
     "output_type": "execute_result"
    }
   ],
   "source": [
    "os.path.isfile('junk.txt')"
   ]
  },
  {
   "cell_type": "code",
   "execution_count": 15,
   "metadata": {
    "collapsed": false
   },
   "outputs": [
    {
     "data": {
      "text/plain": [
       "False"
      ]
     },
     "execution_count": 15,
     "metadata": {},
     "output_type": "execute_result"
    }
   ],
   "source": [
    "os.path.isdir('junk.txt')"
   ]
  },
  {
   "cell_type": "code",
   "execution_count": 17,
   "metadata": {
    "collapsed": false
   },
   "outputs": [
    {
     "data": {
      "text/plain": [
       "'/Users/DSinmotion/Dropbox/DataScience/Github/datascience/python/python_basics/python_basic_notebook/ttt/kkk'"
      ]
     },
     "execution_count": 17,
     "metadata": {},
     "output_type": "execute_result"
    }
   ],
   "source": [
    "os.path.join(os.path.dirname(a), 'ttt','kkk')"
   ]
  },
  {
   "cell_type": "markdown",
   "metadata": {},
   "source": [
    "#### filenames, absolute path, relative path "
   ]
  },
  {
   "cell_type": "code",
   "execution_count": 18,
   "metadata": {
    "collapsed": false
   },
   "outputs": [
    {
     "name": "stdout",
     "output_type": "stream",
     "text": [
      ".DS_Store\n",
      "../.DS_Store\n",
      "/Users/DSinmotion/Dropbox/DataScience/Github/datascience/python/python_basics/.DS_Store\n",
      "python_basic_notebook\n",
      "../python_basic_notebook\n",
      "/Users/DSinmotion/Dropbox/DataScience/Github/datascience/python/python_basics/python_basic_notebook\n",
      "python_data_analysis_notebook\n",
      "../python_data_analysis_notebook\n",
      "/Users/DSinmotion/Dropbox/DataScience/Github/datascience/python/python_basics/python_data_analysis_notebook\n",
      "training_material_original\n",
      "../training_material_original\n",
      "/Users/DSinmotion/Dropbox/DataScience/Github/datascience/python/python_basics/training_material_original\n"
     ]
    }
   ],
   "source": [
    "## Example pulls filenames from a dir, prints their relative and absolute paths\n",
    "def printdir(dir):\n",
    "  filenames = os.listdir(dir)\n",
    "  for filename in filenames:\n",
    "    print filename  ## foo.txt\n",
    "    print os.path.join(dir, filename) ## dir/foo.txt (relative to current dir)\n",
    "    print os.path.abspath(os.path.join(dir, filename)) ## /home/nick/dir/foo.txt\n",
    "    \n",
    "def main():\n",
    "    printdir('../')\n",
    "    \n",
    "if __name__ == '__main__':\n",
    "    main()"
   ]
  },
  {
   "cell_type": "markdown",
   "metadata": {},
   "source": [
    "####check file existence"
   ]
  },
  {
   "cell_type": "code",
   "execution_count": 2,
   "metadata": {
    "collapsed": false
   },
   "outputs": [
    {
     "data": {
      "text/plain": [
       "True"
      ]
     },
     "execution_count": 2,
     "metadata": {},
     "output_type": "execute_result"
    }
   ],
   "source": [
    "import os\n",
    "os.path.exists('../python_data_analysis_notebook')"
   ]
  },
  {
   "cell_type": "markdown",
   "metadata": {},
   "source": [
    "#### Walking a directory"
   ]
  },
  {
   "cell_type": "code",
   "execution_count": 5,
   "metadata": {
    "collapsed": false
   },
   "outputs": [
    {
     "name": "stdout",
     "output_type": "stream",
     "text": [
      "/Users/szhang/Dropbox/datascience/Github/datascience/python/python_basics/python_basic_notebook/.project\n",
      "/Users/szhang/Dropbox/datascience/Github/datascience/python/python_basics/python_basic_notebook/.pydevproject\n",
      "/Users/szhang/Dropbox/datascience/Github/datascience/python/python_basics/python_basic_notebook/00_python_basics_ipython_tutorial.ipynb\n",
      "/Users/szhang/Dropbox/datascience/Github/datascience/python/python_basics/python_basic_notebook/01_python_basics_intro.ipynb\n",
      "/Users/szhang/Dropbox/datascience/Github/datascience/python/python_basics/python_basic_notebook/02_python_basics_data_structure.ipynb\n",
      "/Users/szhang/Dropbox/datascience/Github/datascience/python/python_basics/python_basic_notebook/03_python_basics_exception.ipynb\n",
      "/Users/szhang/Dropbox/datascience/Github/datascience/python/python_basics/python_basic_notebook/04_python_basics_files_io.ipynb\n",
      "/Users/szhang/Dropbox/datascience/Github/datascience/python/python_basics/python_basic_notebook/05_python_basics_utilities.ipynb\n",
      "/Users/szhang/Dropbox/datascience/Github/datascience/python/python_basics/python_basic_notebook/06_python_basics_regex.ipynb\n",
      "/Users/szhang/Dropbox/datascience/Github/datascience/python/python_basics/python_basic_notebook/07_python_basics_functions_modules.ipynb\n",
      "/Users/szhang/Dropbox/datascience/Github/datascience/python/python_basics/python_basic_notebook/08_advanced_interactions.ipynb\n",
      "/Users/szhang/Dropbox/datascience/Github/datascience/python/python_basics/python_basic_notebook/09_OOP.ipynb\n",
      "/Users/szhang/Dropbox/datascience/Github/datascience/python/python_basics/python_basic_notebook/10_python_speed_and_performance_tips.ipynb\n",
      "/Users/szhang/Dropbox/datascience/Github/datascience/python/python_basics/python_basic_notebook/bear.log\n",
      "/Users/szhang/Dropbox/datascience/Github/datascience/python/python_basics/python_basic_notebook/bear.py\n",
      "/Users/szhang/Dropbox/datascience/Github/datascience/python/python_basics/python_basic_notebook/bear1.py\n",
      "/Users/szhang/Dropbox/datascience/Github/datascience/python/python_basics/python_basic_notebook/bear1.pyc\n",
      "/Users/szhang/Dropbox/datascience/Github/datascience/python/python_basics/python_basic_notebook/bear2.py\n",
      "/Users/szhang/Dropbox/datascience/Github/datascience/python/python_basics/python_basic_notebook/bear2.pyc\n",
      "/Users/szhang/Dropbox/datascience/Github/datascience/python/python_basics/python_basic_notebook/catcherr.py\n",
      "/Users/szhang/Dropbox/datascience/Github/datascience/python/python_basics/python_basic_notebook/downgradenb.py\n",
      "/Users/szhang/Dropbox/datascience/Github/datascience/python/python_basics/python_basic_notebook/hello.py\n",
      "/Users/szhang/Dropbox/datascience/Github/datascience/python/python_basics/python_basic_notebook/junk.txt\n",
      "/Users/szhang/Dropbox/datascience/Github/datascience/python/python_basics/python_basic_notebook/mod.py\n",
      "/Users/szhang/Dropbox/datascience/Github/datascience/python/python_basics/python_basic_notebook/mod.pyc\n",
      "/Users/szhang/Dropbox/datascience/Github/datascience/python/python_basics/python_basic_notebook/moduledemo.py\n",
      "/Users/szhang/Dropbox/datascience/Github/datascience/python/python_basics/python_basic_notebook/Python_Environment_README\n",
      "/Users/szhang/Dropbox/datascience/Github/datascience/python/python_basics/python_basic_notebook/scicomp2.ipynb\n",
      "/Users/szhang/Dropbox/datascience/Github/datascience/python/python_basics/python_basic_notebook/subclass.py\n",
      "/Users/szhang/Dropbox/datascience/Github/datascience/python/python_basics/python_basic_notebook/test.txt\n",
      "/Users/szhang/Dropbox/datascience/Github/datascience/python/python_basics/python_basic_notebook/test_1.py\n",
      "/Users/szhang/Dropbox/datascience/Github/datascience/python/python_basics/python_basic_notebook/00_python_basics_ipython_tutorial-checkpoint.ipynb\n",
      "/Users/szhang/Dropbox/datascience/Github/datascience/python/python_basics/python_basic_notebook/01_python_basics_intro-checkpoint.ipynb\n",
      "/Users/szhang/Dropbox/datascience/Github/datascience/python/python_basics/python_basic_notebook/02_python_basics_data_structure-checkpoint.ipynb\n",
      "/Users/szhang/Dropbox/datascience/Github/datascience/python/python_basics/python_basic_notebook/03_python_basics_exception-checkpoint.ipynb\n",
      "/Users/szhang/Dropbox/datascience/Github/datascience/python/python_basics/python_basic_notebook/04_python_basics_files_io-checkpoint.ipynb\n",
      "/Users/szhang/Dropbox/datascience/Github/datascience/python/python_basics/python_basic_notebook/05_python_basics_utilities-checkpoint.ipynb\n",
      "/Users/szhang/Dropbox/datascience/Github/datascience/python/python_basics/python_basic_notebook/06_python_basics_regex-checkpoint.ipynb\n",
      "/Users/szhang/Dropbox/datascience/Github/datascience/python/python_basics/python_basic_notebook/07_python_basics_functions_modules-checkpoint.ipynb\n",
      "/Users/szhang/Dropbox/datascience/Github/datascience/python/python_basics/python_basic_notebook/08_advanced_interactions-checkpoint.ipynb\n",
      "/Users/szhang/Dropbox/datascience/Github/datascience/python/python_basics/python_basic_notebook/09_OOP-checkpoint.ipynb\n",
      "/Users/szhang/Dropbox/datascience/Github/datascience/python/python_basics/python_basic_notebook/10_python_speed_and_performance_tips-checkpoint.ipynb\n",
      "/Users/szhang/Dropbox/datascience/Github/datascience/python/python_basics/python_basic_notebook/C.mat\n",
      "/Users/szhang/Dropbox/datascience/Github/datascience/python/python_basics/python_basic_notebook/derby.log\n",
      "/Users/szhang/Dropbox/datascience/Github/datascience/python/python_basics/python_basic_notebook/example.f90\n",
      "/Users/szhang/Dropbox/datascience/Github/datascience/python/python_basics/python_basic_notebook/SP1_P2_data.txt\n",
      "/Users/szhang/Dropbox/datascience/Github/datascience/python/python_basics/python_basic_notebook/SP1_P3_data.txt\n",
      "/Users/szhang/Dropbox/datascience/Github/datascience/python/python_basics/python_basic_notebook/test.pkl\n",
      "/Users/szhang/Dropbox/datascience/Github/datascience/python/python_basics/python_basic_notebook/testbox.mat\n",
      "/Users/szhang/Dropbox/datascience/Github/datascience/python/python_basics/python_basic_notebook/text.txt\n",
      "/Users/szhang/Dropbox/datascience/Github/datascience/python/python_basics/python_basic_notebook/wiggleZ_DR1_z.dat\n",
      "/Users/szhang/Dropbox/datascience/Github/datascience/python/python_basics/python_basic_notebook/db.lck\n",
      "/Users/szhang/Dropbox/datascience/Github/datascience/python/python_basics/python_basic_notebook/dbex.lck\n",
      "/Users/szhang/Dropbox/datascience/Github/datascience/python/python_basics/python_basic_notebook/README_DO_NOT_TOUCH_FILES.txt\n",
      "/Users/szhang/Dropbox/datascience/Github/datascience/python/python_basics/python_basic_notebook/service.properties\n",
      "/Users/szhang/Dropbox/datascience/Github/datascience/python/python_basics/python_basic_notebook/log.ctrl\n",
      "/Users/szhang/Dropbox/datascience/Github/datascience/python/python_basics/python_basic_notebook/log1.dat\n",
      "/Users/szhang/Dropbox/datascience/Github/datascience/python/python_basics/python_basic_notebook/logmirror.ctrl\n",
      "/Users/szhang/Dropbox/datascience/Github/datascience/python/python_basics/python_basic_notebook/README_DO_NOT_TOUCH_FILES.txt\n",
      "/Users/szhang/Dropbox/datascience/Github/datascience/python/python_basics/python_basic_notebook/c10.dat\n",
      "/Users/szhang/Dropbox/datascience/Github/datascience/python/python_basics/python_basic_notebook/c101.dat\n",
      "/Users/szhang/Dropbox/datascience/Github/datascience/python/python_basics/python_basic_notebook/c111.dat\n",
      "/Users/szhang/Dropbox/datascience/Github/datascience/python/python_basics/python_basic_notebook/c121.dat\n",
      "/Users/szhang/Dropbox/datascience/Github/datascience/python/python_basics/python_basic_notebook/c130.dat\n",
      "/Users/szhang/Dropbox/datascience/Github/datascience/python/python_basics/python_basic_notebook/c141.dat\n",
      "/Users/szhang/Dropbox/datascience/Github/datascience/python/python_basics/python_basic_notebook/c150.dat\n",
      "/Users/szhang/Dropbox/datascience/Github/datascience/python/python_basics/python_basic_notebook/c161.dat\n",
      "/Users/szhang/Dropbox/datascience/Github/datascience/python/python_basics/python_basic_notebook/c171.dat\n",
      "/Users/szhang/Dropbox/datascience/Github/datascience/python/python_basics/python_basic_notebook/c180.dat\n",
      "/Users/szhang/Dropbox/datascience/Github/datascience/python/python_basics/python_basic_notebook/c191.dat\n",
      "/Users/szhang/Dropbox/datascience/Github/datascience/python/python_basics/python_basic_notebook/c1a1.dat\n",
      "/Users/szhang/Dropbox/datascience/Github/datascience/python/python_basics/python_basic_notebook/c1b1.dat\n",
      "/Users/szhang/Dropbox/datascience/Github/datascience/python/python_basics/python_basic_notebook/c1c0.dat\n",
      "/Users/szhang/Dropbox/datascience/Github/datascience/python/python_basics/python_basic_notebook/c1d1.dat\n",
      "/Users/szhang/Dropbox/datascience/Github/datascience/python/python_basics/python_basic_notebook/c1e0.dat\n",
      "/Users/szhang/Dropbox/datascience/Github/datascience/python/python_basics/python_basic_notebook/c1f1.dat\n",
      "/Users/szhang/Dropbox/datascience/Github/datascience/python/python_basics/python_basic_notebook/c20.dat\n",
      "/Users/szhang/Dropbox/datascience/Github/datascience/python/python_basics/python_basic_notebook/c200.dat\n",
      "/Users/szhang/Dropbox/datascience/Github/datascience/python/python_basics/python_basic_notebook/c211.dat\n",
      "/Users/szhang/Dropbox/datascience/Github/datascience/python/python_basics/python_basic_notebook/c221.dat\n",
      "/Users/szhang/Dropbox/datascience/Github/datascience/python/python_basics/python_basic_notebook/c230.dat\n",
      "/Users/szhang/Dropbox/datascience/Github/datascience/python/python_basics/python_basic_notebook/c241.dat\n",
      "/Users/szhang/Dropbox/datascience/Github/datascience/python/python_basics/python_basic_notebook/c251.dat\n",
      "/Users/szhang/Dropbox/datascience/Github/datascience/python/python_basics/python_basic_notebook/c260.dat\n",
      "/Users/szhang/Dropbox/datascience/Github/datascience/python/python_basics/python_basic_notebook/c271.dat\n",
      "/Users/szhang/Dropbox/datascience/Github/datascience/python/python_basics/python_basic_notebook/c281.dat\n",
      "/Users/szhang/Dropbox/datascience/Github/datascience/python/python_basics/python_basic_notebook/c290.dat\n",
      "/Users/szhang/Dropbox/datascience/Github/datascience/python/python_basics/python_basic_notebook/c2a1.dat\n",
      "/Users/szhang/Dropbox/datascience/Github/datascience/python/python_basics/python_basic_notebook/c2b1.dat\n",
      "/Users/szhang/Dropbox/datascience/Github/datascience/python/python_basics/python_basic_notebook/c2c1.dat\n",
      "/Users/szhang/Dropbox/datascience/Github/datascience/python/python_basics/python_basic_notebook/c2d0.dat\n",
      "/Users/szhang/Dropbox/datascience/Github/datascience/python/python_basics/python_basic_notebook/c2e1.dat\n",
      "/Users/szhang/Dropbox/datascience/Github/datascience/python/python_basics/python_basic_notebook/c2f0.dat\n",
      "/Users/szhang/Dropbox/datascience/Github/datascience/python/python_basics/python_basic_notebook/c300.dat\n",
      "/Users/szhang/Dropbox/datascience/Github/datascience/python/python_basics/python_basic_notebook/c31.dat\n",
      "/Users/szhang/Dropbox/datascience/Github/datascience/python/python_basics/python_basic_notebook/c311.dat\n",
      "/Users/szhang/Dropbox/datascience/Github/datascience/python/python_basics/python_basic_notebook/c321.dat\n",
      "/Users/szhang/Dropbox/datascience/Github/datascience/python/python_basics/python_basic_notebook/c331.dat\n",
      "/Users/szhang/Dropbox/datascience/Github/datascience/python/python_basics/python_basic_notebook/c340.dat\n",
      "/Users/szhang/Dropbox/datascience/Github/datascience/python/python_basics/python_basic_notebook/c351.dat\n",
      "/Users/szhang/Dropbox/datascience/Github/datascience/python/python_basics/python_basic_notebook/c361.dat\n",
      "/Users/szhang/Dropbox/datascience/Github/datascience/python/python_basics/python_basic_notebook/c371.dat\n",
      "/Users/szhang/Dropbox/datascience/Github/datascience/python/python_basics/python_basic_notebook/c380.dat\n",
      "/Users/szhang/Dropbox/datascience/Github/datascience/python/python_basics/python_basic_notebook/c391.dat\n",
      "/Users/szhang/Dropbox/datascience/Github/datascience/python/python_basics/python_basic_notebook/c3a1.dat\n",
      "/Users/szhang/Dropbox/datascience/Github/datascience/python/python_basics/python_basic_notebook/c3b1.dat\n",
      "/Users/szhang/Dropbox/datascience/Github/datascience/python/python_basics/python_basic_notebook/c3c0.dat\n",
      "/Users/szhang/Dropbox/datascience/Github/datascience/python/python_basics/python_basic_notebook/c3d1.dat\n",
      "/Users/szhang/Dropbox/datascience/Github/datascience/python/python_basics/python_basic_notebook/c3e1.dat\n",
      "/Users/szhang/Dropbox/datascience/Github/datascience/python/python_basics/python_basic_notebook/c3f1.dat\n",
      "/Users/szhang/Dropbox/datascience/Github/datascience/python/python_basics/python_basic_notebook/c400.dat\n",
      "/Users/szhang/Dropbox/datascience/Github/datascience/python/python_basics/python_basic_notebook/c41.dat\n",
      "/Users/szhang/Dropbox/datascience/Github/datascience/python/python_basics/python_basic_notebook/c411.dat\n",
      "/Users/szhang/Dropbox/datascience/Github/datascience/python/python_basics/python_basic_notebook/c421.dat\n",
      "/Users/szhang/Dropbox/datascience/Github/datascience/python/python_basics/python_basic_notebook/c430.dat\n",
      "/Users/szhang/Dropbox/datascience/Github/datascience/python/python_basics/python_basic_notebook/c441.dat\n",
      "/Users/szhang/Dropbox/datascience/Github/datascience/python/python_basics/python_basic_notebook/c451.dat\n",
      "/Users/szhang/Dropbox/datascience/Github/datascience/python/python_basics/python_basic_notebook/c461.dat\n",
      "/Users/szhang/Dropbox/datascience/Github/datascience/python/python_basics/python_basic_notebook/c470.dat\n",
      "/Users/szhang/Dropbox/datascience/Github/datascience/python/python_basics/python_basic_notebook/c481.dat\n",
      "/Users/szhang/Dropbox/datascience/Github/datascience/python/python_basics/python_basic_notebook/c490.dat\n",
      "/Users/szhang/Dropbox/datascience/Github/datascience/python/python_basics/python_basic_notebook/c4a1.dat\n",
      "/Users/szhang/Dropbox/datascience/Github/datascience/python/python_basics/python_basic_notebook/c4b0.dat\n",
      "/Users/szhang/Dropbox/datascience/Github/datascience/python/python_basics/python_basic_notebook/c4c1.dat\n",
      "/Users/szhang/Dropbox/datascience/Github/datascience/python/python_basics/python_basic_notebook/c4d1.dat\n",
      "/Users/szhang/Dropbox/datascience/Github/datascience/python/python_basics/python_basic_notebook/c4e1.dat\n",
      "/Users/szhang/Dropbox/datascience/Github/datascience/python/python_basics/python_basic_notebook/c4f0.dat\n",
      "/Users/szhang/Dropbox/datascience/Github/datascience/python/python_basics/python_basic_notebook/c501.dat\n",
      "/Users/szhang/Dropbox/datascience/Github/datascience/python/python_basics/python_basic_notebook/c51.dat\n",
      "/Users/szhang/Dropbox/datascience/Github/datascience/python/python_basics/python_basic_notebook/c510.dat\n",
      "/Users/szhang/Dropbox/datascience/Github/datascience/python/python_basics/python_basic_notebook/c521.dat\n",
      "/Users/szhang/Dropbox/datascience/Github/datascience/python/python_basics/python_basic_notebook/c530.dat\n",
      "/Users/szhang/Dropbox/datascience/Github/datascience/python/python_basics/python_basic_notebook/c541.dat\n",
      "/Users/szhang/Dropbox/datascience/Github/datascience/python/python_basics/python_basic_notebook/c550.dat\n",
      "/Users/szhang/Dropbox/datascience/Github/datascience/python/python_basics/python_basic_notebook/c561.dat\n",
      "/Users/szhang/Dropbox/datascience/Github/datascience/python/python_basics/python_basic_notebook/c570.dat\n",
      "/Users/szhang/Dropbox/datascience/Github/datascience/python/python_basics/python_basic_notebook/c581.dat\n",
      "/Users/szhang/Dropbox/datascience/Github/datascience/python/python_basics/python_basic_notebook/c590.dat\n",
      "/Users/szhang/Dropbox/datascience/Github/datascience/python/python_basics/python_basic_notebook/c5a1.dat\n",
      "/Users/szhang/Dropbox/datascience/Github/datascience/python/python_basics/python_basic_notebook/c5b0.dat\n",
      "/Users/szhang/Dropbox/datascience/Github/datascience/python/python_basics/python_basic_notebook/c5c1.dat\n",
      "/Users/szhang/Dropbox/datascience/Github/datascience/python/python_basics/python_basic_notebook/c5d0.dat\n",
      "/Users/szhang/Dropbox/datascience/Github/datascience/python/python_basics/python_basic_notebook/c5e1.dat\n",
      "/Users/szhang/Dropbox/datascience/Github/datascience/python/python_basics/python_basic_notebook/c5f0.dat\n",
      "/Users/szhang/Dropbox/datascience/Github/datascience/python/python_basics/python_basic_notebook/c60.dat\n",
      "/Users/szhang/Dropbox/datascience/Github/datascience/python/python_basics/python_basic_notebook/c601.dat\n",
      "/Users/szhang/Dropbox/datascience/Github/datascience/python/python_basics/python_basic_notebook/c610.dat\n",
      "/Users/szhang/Dropbox/datascience/Github/datascience/python/python_basics/python_basic_notebook/c621.dat\n",
      "/Users/szhang/Dropbox/datascience/Github/datascience/python/python_basics/python_basic_notebook/c630.dat\n",
      "/Users/szhang/Dropbox/datascience/Github/datascience/python/python_basics/python_basic_notebook/c641.dat\n",
      "/Users/szhang/Dropbox/datascience/Github/datascience/python/python_basics/python_basic_notebook/c650.dat\n",
      "/Users/szhang/Dropbox/datascience/Github/datascience/python/python_basics/python_basic_notebook/c661.dat\n",
      "/Users/szhang/Dropbox/datascience/Github/datascience/python/python_basics/python_basic_notebook/c670.dat\n",
      "/Users/szhang/Dropbox/datascience/Github/datascience/python/python_basics/python_basic_notebook/c681.dat\n",
      "/Users/szhang/Dropbox/datascience/Github/datascience/python/python_basics/python_basic_notebook/c690.dat\n",
      "/Users/szhang/Dropbox/datascience/Github/datascience/python/python_basics/python_basic_notebook/c6a1.dat\n",
      "/Users/szhang/Dropbox/datascience/Github/datascience/python/python_basics/python_basic_notebook/c6b0.dat\n",
      "/Users/szhang/Dropbox/datascience/Github/datascience/python/python_basics/python_basic_notebook/c6c1.dat\n",
      "/Users/szhang/Dropbox/datascience/Github/datascience/python/python_basics/python_basic_notebook/c6d0.dat\n",
      "/Users/szhang/Dropbox/datascience/Github/datascience/python/python_basics/python_basic_notebook/c6e1.dat\n",
      "/Users/szhang/Dropbox/datascience/Github/datascience/python/python_basics/python_basic_notebook/c6f0.dat\n",
      "/Users/szhang/Dropbox/datascience/Github/datascience/python/python_basics/python_basic_notebook/c701.dat\n",
      "/Users/szhang/Dropbox/datascience/Github/datascience/python/python_basics/python_basic_notebook/c71.dat\n",
      "/Users/szhang/Dropbox/datascience/Github/datascience/python/python_basics/python_basic_notebook/c711.dat\n",
      "/Users/szhang/Dropbox/datascience/Github/datascience/python/python_basics/python_basic_notebook/c721.dat\n",
      "/Users/szhang/Dropbox/datascience/Github/datascience/python/python_basics/python_basic_notebook/c731.dat\n",
      "/Users/szhang/Dropbox/datascience/Github/datascience/python/python_basics/python_basic_notebook/c741.dat\n",
      "/Users/szhang/Dropbox/datascience/Github/datascience/python/python_basics/python_basic_notebook/c751.dat\n",
      "/Users/szhang/Dropbox/datascience/Github/datascience/python/python_basics/python_basic_notebook/c761.dat\n",
      "/Users/szhang/Dropbox/datascience/Github/datascience/python/python_basics/python_basic_notebook/c771.dat\n",
      "/Users/szhang/Dropbox/datascience/Github/datascience/python/python_basics/python_basic_notebook/c781.dat\n",
      "/Users/szhang/Dropbox/datascience/Github/datascience/python/python_basics/python_basic_notebook/c791.dat\n",
      "/Users/szhang/Dropbox/datascience/Github/datascience/python/python_basics/python_basic_notebook/c7a1.dat\n",
      "/Users/szhang/Dropbox/datascience/Github/datascience/python/python_basics/python_basic_notebook/c7b1.dat\n",
      "/Users/szhang/Dropbox/datascience/Github/datascience/python/python_basics/python_basic_notebook/c7c1.dat\n",
      "/Users/szhang/Dropbox/datascience/Github/datascience/python/python_basics/python_basic_notebook/c7d1.dat\n",
      "/Users/szhang/Dropbox/datascience/Github/datascience/python/python_basics/python_basic_notebook/c7e1.dat\n",
      "/Users/szhang/Dropbox/datascience/Github/datascience/python/python_basics/python_basic_notebook/c7f1.dat\n",
      "/Users/szhang/Dropbox/datascience/Github/datascience/python/python_basics/python_basic_notebook/c801.dat\n",
      "/Users/szhang/Dropbox/datascience/Github/datascience/python/python_basics/python_basic_notebook/c81.dat\n",
      "/Users/szhang/Dropbox/datascience/Github/datascience/python/python_basics/python_basic_notebook/c811.dat\n",
      "/Users/szhang/Dropbox/datascience/Github/datascience/python/python_basics/python_basic_notebook/c821.dat\n",
      "/Users/szhang/Dropbox/datascience/Github/datascience/python/python_basics/python_basic_notebook/c831.dat\n",
      "/Users/szhang/Dropbox/datascience/Github/datascience/python/python_basics/python_basic_notebook/c840.dat\n",
      "/Users/szhang/Dropbox/datascience/Github/datascience/python/python_basics/python_basic_notebook/c851.dat\n",
      "/Users/szhang/Dropbox/datascience/Github/datascience/python/python_basics/python_basic_notebook/c860.dat\n",
      "/Users/szhang/Dropbox/datascience/Github/datascience/python/python_basics/python_basic_notebook/c871.dat\n",
      "/Users/szhang/Dropbox/datascience/Github/datascience/python/python_basics/python_basic_notebook/c880.dat\n",
      "/Users/szhang/Dropbox/datascience/Github/datascience/python/python_basics/python_basic_notebook/c891.dat\n",
      "/Users/szhang/Dropbox/datascience/Github/datascience/python/python_basics/python_basic_notebook/c8a0.dat\n",
      "/Users/szhang/Dropbox/datascience/Github/datascience/python/python_basics/python_basic_notebook/c8b1.dat\n",
      "/Users/szhang/Dropbox/datascience/Github/datascience/python/python_basics/python_basic_notebook/c8c1.dat\n",
      "/Users/szhang/Dropbox/datascience/Github/datascience/python/python_basics/python_basic_notebook/c8d1.dat\n",
      "/Users/szhang/Dropbox/datascience/Github/datascience/python/python_basics/python_basic_notebook/c8e1.dat\n",
      "/Users/szhang/Dropbox/datascience/Github/datascience/python/python_basics/python_basic_notebook/c8f1.dat\n",
      "/Users/szhang/Dropbox/datascience/Github/datascience/python/python_basics/python_basic_notebook/c90.dat\n",
      "/Users/szhang/Dropbox/datascience/Github/datascience/python/python_basics/python_basic_notebook/c901.dat\n",
      "/Users/szhang/Dropbox/datascience/Github/datascience/python/python_basics/python_basic_notebook/c911.dat\n",
      "/Users/szhang/Dropbox/datascience/Github/datascience/python/python_basics/python_basic_notebook/c920.dat\n",
      "/Users/szhang/Dropbox/datascience/Github/datascience/python/python_basics/python_basic_notebook/c931.dat\n",
      "/Users/szhang/Dropbox/datascience/Github/datascience/python/python_basics/python_basic_notebook/c940.dat\n",
      "/Users/szhang/Dropbox/datascience/Github/datascience/python/python_basics/python_basic_notebook/c951.dat\n",
      "/Users/szhang/Dropbox/datascience/Github/datascience/python/python_basics/python_basic_notebook/c960.dat\n",
      "/Users/szhang/Dropbox/datascience/Github/datascience/python/python_basics/python_basic_notebook/c971.dat\n",
      "/Users/szhang/Dropbox/datascience/Github/datascience/python/python_basics/python_basic_notebook/c981.dat\n",
      "/Users/szhang/Dropbox/datascience/Github/datascience/python/python_basics/python_basic_notebook/c990.dat\n",
      "/Users/szhang/Dropbox/datascience/Github/datascience/python/python_basics/python_basic_notebook/c9a1.dat\n",
      "/Users/szhang/Dropbox/datascience/Github/datascience/python/python_basics/python_basic_notebook/c9b1.dat\n",
      "/Users/szhang/Dropbox/datascience/Github/datascience/python/python_basics/python_basic_notebook/ca1.dat\n",
      "/Users/szhang/Dropbox/datascience/Github/datascience/python/python_basics/python_basic_notebook/cb1.dat\n",
      "/Users/szhang/Dropbox/datascience/Github/datascience/python/python_basics/python_basic_notebook/cc0.dat\n",
      "/Users/szhang/Dropbox/datascience/Github/datascience/python/python_basics/python_basic_notebook/cd1.dat\n",
      "/Users/szhang/Dropbox/datascience/Github/datascience/python/python_basics/python_basic_notebook/ce1.dat\n",
      "/Users/szhang/Dropbox/datascience/Github/datascience/python/python_basics/python_basic_notebook/cf0.dat\n",
      "/Users/szhang/Dropbox/datascience/Github/datascience/python/python_basics/python_basic_notebook/README_DO_NOT_TOUCH_FILES.txt\n",
      "/Users/szhang/Dropbox/datascience/Github/datascience/python/python_basics/python_basic_notebook/list1.jpg\n",
      "/Users/szhang/Dropbox/datascience/Github/datascience/python/python_basics/python_basic_notebook/OOP-1.png\n",
      "/Users/szhang/Dropbox/datascience/Github/datascience/python/python_basics/python_basic_notebook/OOP-2.png\n",
      "/Users/szhang/Dropbox/datascience/Github/datascience/python/python_basics/python_basic_notebook/OOP-3.png\n",
      "/Users/szhang/Dropbox/datascience/Github/datascience/python/python_basics/python_basic_notebook/OOP-4.png\n",
      "/Users/szhang/Dropbox/datascience/Github/datascience/python/python_basics/python_basic_notebook/OOP-5.png\n",
      "/Users/szhang/Dropbox/datascience/Github/datascience/python/python_basics/python_basic_notebook/sorted-key.jpg\n",
      "/Users/szhang/Dropbox/datascience/Github/datascience/python/python_basics/python_basic_notebook/sorted-key.png\n"
     ]
    }
   ],
   "source": [
    "for dirpath, dirnames, filenames in os.walk(os.curdir):\n",
    "    for fp in filenames:\n",
    "        print os.path.abspath(fp)"
   ]
  },
  {
   "cell_type": "markdown",
   "metadata": {},
   "source": [
    "---"
   ]
  },
  {
   "cell_type": "markdown",
   "metadata": {},
   "source": [
    "## 1.2 `shutil`: high-level file operations"
   ]
  },
  {
   "cell_type": "markdown",
   "metadata": {},
   "source": [
    ">The shutil provides useful file operations:\n",
    "- `shutil.rmtree`: Recursively delete a directory tree.\n",
    "- `shutil.move`: Recursively move a file or directory to another location.\n",
    "- `shutil.copy`: Copy files or directories."
   ]
  },
  {
   "cell_type": "markdown",
   "metadata": {},
   "source": [
    "### #copy files"
   ]
  },
  {
   "cell_type": "code",
   "execution_count": 23,
   "metadata": {
    "collapsed": false
   },
   "outputs": [
    {
     "ename": "IOError",
     "evalue": "[Errno 2] No such file or directory: '../python_data_analysis_noteboo'",
     "output_type": "error",
     "traceback": [
      "\u001b[0;31m---------------------------------------------------------------------------\u001b[0m\n\u001b[0;31mIOError\u001b[0m                                   Traceback (most recent call last)",
      "\u001b[0;32m<ipython-input-23-c2e6c18195b4>\u001b[0m in \u001b[0;36m<module>\u001b[0;34m()\u001b[0m\n\u001b[1;32m      1\u001b[0m \u001b[0;32mimport\u001b[0m \u001b[0mshutil\u001b[0m\u001b[0;34m\u001b[0m\u001b[0m\n\u001b[0;32m----> 2\u001b[0;31m \u001b[0mshutil\u001b[0m\u001b[0;34m.\u001b[0m\u001b[0mcopy\u001b[0m\u001b[0;34m(\u001b[0m\u001b[0;34m'../python_data_analysis_noteboo'\u001b[0m\u001b[0;34m,\u001b[0m \u001b[0;34m'./python_data_analysis_notebook'\u001b[0m\u001b[0;34m)\u001b[0m\u001b[0;34m\u001b[0m\u001b[0m\n\u001b[0m",
      "\u001b[0;32m/Library/anaconda/lib/python2.7/shutil.pyc\u001b[0m in \u001b[0;36mcopy\u001b[0;34m(src, dst)\u001b[0m\n\u001b[1;32m    117\u001b[0m     \u001b[0;32mif\u001b[0m \u001b[0mos\u001b[0m\u001b[0;34m.\u001b[0m\u001b[0mpath\u001b[0m\u001b[0;34m.\u001b[0m\u001b[0misdir\u001b[0m\u001b[0;34m(\u001b[0m\u001b[0mdst\u001b[0m\u001b[0;34m)\u001b[0m\u001b[0;34m:\u001b[0m\u001b[0;34m\u001b[0m\u001b[0m\n\u001b[1;32m    118\u001b[0m         \u001b[0mdst\u001b[0m \u001b[0;34m=\u001b[0m \u001b[0mos\u001b[0m\u001b[0;34m.\u001b[0m\u001b[0mpath\u001b[0m\u001b[0;34m.\u001b[0m\u001b[0mjoin\u001b[0m\u001b[0;34m(\u001b[0m\u001b[0mdst\u001b[0m\u001b[0;34m,\u001b[0m \u001b[0mos\u001b[0m\u001b[0;34m.\u001b[0m\u001b[0mpath\u001b[0m\u001b[0;34m.\u001b[0m\u001b[0mbasename\u001b[0m\u001b[0;34m(\u001b[0m\u001b[0msrc\u001b[0m\u001b[0;34m)\u001b[0m\u001b[0;34m)\u001b[0m\u001b[0;34m\u001b[0m\u001b[0m\n\u001b[0;32m--> 119\u001b[0;31m     \u001b[0mcopyfile\u001b[0m\u001b[0;34m(\u001b[0m\u001b[0msrc\u001b[0m\u001b[0;34m,\u001b[0m \u001b[0mdst\u001b[0m\u001b[0;34m)\u001b[0m\u001b[0;34m\u001b[0m\u001b[0m\n\u001b[0m\u001b[1;32m    120\u001b[0m     \u001b[0mcopymode\u001b[0m\u001b[0;34m(\u001b[0m\u001b[0msrc\u001b[0m\u001b[0;34m,\u001b[0m \u001b[0mdst\u001b[0m\u001b[0;34m)\u001b[0m\u001b[0;34m\u001b[0m\u001b[0m\n\u001b[1;32m    121\u001b[0m \u001b[0;34m\u001b[0m\u001b[0m\n",
      "\u001b[0;32m/Library/anaconda/lib/python2.7/shutil.pyc\u001b[0m in \u001b[0;36mcopyfile\u001b[0;34m(src, dst)\u001b[0m\n\u001b[1;32m     80\u001b[0m                 \u001b[0;32mraise\u001b[0m \u001b[0mSpecialFileError\u001b[0m\u001b[0;34m(\u001b[0m\u001b[0;34m\"`%s` is a named pipe\"\u001b[0m \u001b[0;34m%\u001b[0m \u001b[0mfn\u001b[0m\u001b[0;34m)\u001b[0m\u001b[0;34m\u001b[0m\u001b[0m\n\u001b[1;32m     81\u001b[0m \u001b[0;34m\u001b[0m\u001b[0m\n\u001b[0;32m---> 82\u001b[0;31m     \u001b[0;32mwith\u001b[0m \u001b[0mopen\u001b[0m\u001b[0;34m(\u001b[0m\u001b[0msrc\u001b[0m\u001b[0;34m,\u001b[0m \u001b[0;34m'rb'\u001b[0m\u001b[0;34m)\u001b[0m \u001b[0;32mas\u001b[0m \u001b[0mfsrc\u001b[0m\u001b[0;34m:\u001b[0m\u001b[0;34m\u001b[0m\u001b[0m\n\u001b[0m\u001b[1;32m     83\u001b[0m         \u001b[0;32mwith\u001b[0m \u001b[0mopen\u001b[0m\u001b[0;34m(\u001b[0m\u001b[0mdst\u001b[0m\u001b[0;34m,\u001b[0m \u001b[0;34m'wb'\u001b[0m\u001b[0;34m)\u001b[0m \u001b[0;32mas\u001b[0m \u001b[0mfdst\u001b[0m\u001b[0;34m:\u001b[0m\u001b[0;34m\u001b[0m\u001b[0m\n\u001b[1;32m     84\u001b[0m             \u001b[0mcopyfileobj\u001b[0m\u001b[0;34m(\u001b[0m\u001b[0mfsrc\u001b[0m\u001b[0;34m,\u001b[0m \u001b[0mfdst\u001b[0m\u001b[0;34m)\u001b[0m\u001b[0;34m\u001b[0m\u001b[0m\n",
      "\u001b[0;31mIOError\u001b[0m: [Errno 2] No such file or directory: '../python_data_analysis_noteboo'"
     ]
    }
   ],
   "source": [
    "import shutil\n",
    "shutil.copy('../python_data_analysis_noteboo', './python_data_analysis_notebook')"
   ]
  },
  {
   "cell_type": "markdown",
   "metadata": {},
   "source": [
    "---"
   ]
  },
  {
   "cell_type": "markdown",
   "metadata": {},
   "source": [
    "## 1.3 `commands` module"
   ]
  },
  {
   "cell_type": "markdown",
   "metadata": {},
   "source": [
    "### #commands - running external processes"
   ]
  },
  {
   "cell_type": "markdown",
   "metadata": {},
   "source": [
    "* (status, output) = commands.getstatusoutput(cmd) -- runs the command, waits for it to exit, and returns its status int and output text as a tuple. \n",
    "* The command is run with its standard output and standard error combined into the one output text. The status will be non-zero if the command failed. Since the standard-err of the command is captured, if it fails, we need to print some indication of what happened.\n",
    "* output = commands.getoutput(cmd) -- as above, but without the status int.\n",
    "* There is a commands.getstatus() but it does something else, so don't use it -- dumbest bit of method naming ever!\n",
    "* If you want more control over the running of the sub-process, see the \"popen2\" module (http://docs.python.org/lib/module-popen2.html)\n",
    "* There is also a simple os.system(cmd) which runs the command and dumps its output onto your output and returns its error code. This works if you want to run the command but do not need to capture its output into your python data structures."
   ]
  },
  {
   "cell_type": "code",
   "execution_count": 25,
   "metadata": {
    "collapsed": false
   },
   "outputs": [
    {
     "name": "stdout",
     "output_type": "stream",
     "text": [
      "Command to run: ls -l ..\n",
      "total 0\n",
      "drwxr-xr-x@ 24 DSinmotion  staff  816 16 Feb 18:54 python_basic_notebook\n",
      "drwxr-xr-x@  4 DSinmotion  staff  136 15 Feb 22:47 python_data_analysis_notebook\n",
      "drwxr-xr-x@  5 DSinmotion  staff  170 15 Feb 11:18 training_material_original\n"
     ]
    }
   ],
   "source": [
    "import commands\n",
    "\n",
    "## Given a dir path, run an external 'ls -l' on it --\n",
    "## shows how to call an external program\n",
    "def listdir(dir):\n",
    "  cmd = 'ls -l ' + dir\n",
    "  print \"Command to run:\", cmd   ## good to debug cmd before actually running it\n",
    "  (status, output) = commands.getstatusoutput(cmd)\n",
    "  if status:    ## Error case, print the command's output to stderr and exit\n",
    "    sys.stderr.write(output)\n",
    "    sys.exit(1)\n",
    "  print output  ## Otherwise do something with the command's output\n",
    "\n",
    "listdir('..')"
   ]
  },
  {
   "cell_type": "markdown",
   "metadata": {},
   "source": [
    "---"
   ]
  },
  {
   "cell_type": "markdown",
   "metadata": {},
   "source": [
    "## 1.4 `glob`: pattern matching on files\n",
    "> The glob module provides convenient file pattern matching."
   ]
  },
  {
   "cell_type": "code",
   "execution_count": 20,
   "metadata": {
    "collapsed": false
   },
   "outputs": [
    {
     "data": {
      "text/plain": [
       "['junk.txt', 'test.txt']"
      ]
     },
     "execution_count": 20,
     "metadata": {},
     "output_type": "execute_result"
    }
   ],
   "source": [
    "# Find all files ending in .txt:\n",
    "import glob\n",
    "glob.glob('*.txt')"
   ]
  },
  {
   "cell_type": "markdown",
   "metadata": {},
   "source": [
    "---"
   ]
  },
  {
   "cell_type": "markdown",
   "metadata": {},
   "source": [
    "## 1.5 `sys` module: system-specific info\n"
   ]
  },
  {
   "cell_type": "code",
   "execution_count": 21,
   "metadata": {
    "collapsed": false
   },
   "outputs": [],
   "source": [
    "import sys"
   ]
  },
  {
   "cell_type": "markdown",
   "metadata": {},
   "source": [
    "### python versions"
   ]
  },
  {
   "cell_type": "code",
   "execution_count": 27,
   "metadata": {
    "collapsed": false
   },
   "outputs": [
    {
     "name": "stdout",
     "output_type": "stream",
     "text": [
      "darwin\n",
      "\n",
      "2.7.8 |Anaconda 2.1.0 (x86_64)| (default, Aug 21 2014, 15:21:46) \n",
      "[GCC 4.2.1 (Apple Inc. build 5577)]\n",
      "\n",
      "/Library/anaconda\n"
     ]
    }
   ],
   "source": [
    "print sys.platform\n",
    "print\n",
    "print sys.version\n",
    "print\n",
    "print sys.prefix"
   ]
  },
  {
   "cell_type": "markdown",
   "metadata": {},
   "source": [
    "### list of command line arguments passed to a python script"
   ]
  },
  {
   "cell_type": "code",
   "execution_count": 25,
   "metadata": {
    "collapsed": false
   },
   "outputs": [
    {
     "data": {
      "text/plain": [
       "['-c',\n",
       " '-f',\n",
       " '/Users/DSinmotion/.ipython/profile_default/security/kernel-d2ce44d9-e262-4188-a28c-a3d8ac84a97a.json',\n",
       " '--pylab=inline',\n",
       " \"--IPKernelApp.parent_appname='ipython-notebook'\",\n",
       " '--profile-dir',\n",
       " '/Users/DSinmotion/.ipython/profile_default',\n",
       " '--parent=1']"
      ]
     },
     "execution_count": 25,
     "metadata": {},
     "output_type": "execute_result"
    }
   ],
   "source": [
    "sys.argv"
   ]
  },
  {
   "cell_type": "markdown",
   "metadata": {},
   "source": [
    "### list of search path for modules\n",
    "> initialized from PYTHONPATH"
   ]
  },
  {
   "cell_type": "code",
   "execution_count": 28,
   "metadata": {
    "collapsed": false
   },
   "outputs": [
    {
     "data": {
      "text/plain": [
       "['',\n",
       " '/Library/anaconda/lib/python27.zip',\n",
       " '/Library/anaconda/lib/python2.7',\n",
       " '/Library/anaconda/lib/python2.7/plat-darwin',\n",
       " '/Library/anaconda/lib/python2.7/plat-mac',\n",
       " '/Library/anaconda/lib/python2.7/plat-mac/lib-scriptpackages',\n",
       " '/Library/anaconda/lib/python2.7/lib-tk',\n",
       " '/Library/anaconda/lib/python2.7/lib-old',\n",
       " '/Library/anaconda/lib/python2.7/lib-dynload',\n",
       " '/Library/anaconda/lib/python2.7/site-packages',\n",
       " '/Library/anaconda/lib/python2.7/site-packages/PIL',\n",
       " '/Library/anaconda/lib/python2.7/site-packages/Sphinx-1.2.3-py2.7.egg',\n",
       " '/Library/anaconda/lib/python2.7/site-packages/runipy-0.1.1-py2.7.egg',\n",
       " '/Library/anaconda/lib/python2.7/site-packages/setuptools-5.8-py2.7.egg',\n",
       " '/Library/anaconda/lib/python2.7/site-packages/IPython/extensions']"
      ]
     },
     "execution_count": 28,
     "metadata": {},
     "output_type": "execute_result"
    }
   ],
   "source": [
    "sys.path"
   ]
  },
  {
   "cell_type": "markdown",
   "metadata": {},
   "source": [
    "## 1.6 `pickle`: easy persistence\n",
    "> Useful to store arbitrary objects to a file. Not safe or fast!"
   ]
  },
  {
   "cell_type": "code",
   "execution_count": 32,
   "metadata": {
    "collapsed": false
   },
   "outputs": [
    {
     "data": {
      "text/plain": [
       "[1, None, 'Stan']"
      ]
     },
     "execution_count": 32,
     "metadata": {},
     "output_type": "execute_result"
    }
   ],
   "source": [
    "import pickle\n",
    "l = [1, None, 'Stan']\n",
    "pickle.dump(l, file('data/test.pkl', 'w'))\n",
    "pickle.load(file('data/test.pkl'))"
   ]
  },
  {
   "cell_type": "markdown",
   "metadata": {},
   "source": [
    "----"
   ]
  },
  {
   "cell_type": "markdown",
   "metadata": {},
   "source": [
    "# 2 - HTTP - urllib, urlparse"
   ]
  },
  {
   "cell_type": "markdown",
   "metadata": {},
   "source": [
    "## HTTP - urlib, urlparse\n",
    "* ufile = urllib.urlopen(url) -- returns a file like object for that url\n",
    "* text = ufile.read() -- can read from it, like a file (readlines() etc. also work)\n",
    "* info = ufile.info() -- the meta info for that request. info.gettype() is the mime time, e.g. 'text/html'\n",
    "* baseurl = ufile.geturl() -- gets the \"base\" url for the request, which may be different from the original because of redirects\n",
    "* urllib.urlretrieve(url, filename) -- downloads the url data to the given file path\n",
    "* urlparse.urljoin(baseurl, url) -- given a url that may or may not be full, and the baseurl of the page it comes from, return a full url. Use geturl() above to provide the base url."
   ]
  },
  {
   "cell_type": "code",
   "execution_count": 2,
   "metadata": {
    "collapsed": false
   },
   "outputs": [
    {
     "name": "stdout",
     "output_type": "stream",
     "text": [
      "urlfile:  <addinfourl at 4427116344 whose fp = <socket._fileobject object at 0x107fb9d50>> \n",
      "\n",
      "Date: Sun, 03 May 2015 04:36:55 GMT\r\n",
      "Server: Apache\r\n",
      "Set-Cookie: JSESSIONID=F3F9C93859BC7C93744DF8EE47ED5BA8; Path=/\r\n",
      "Content-Language: en\r\n",
      "Content-Length: 31936\r\n",
      "Connection: close\r\n",
      "Content-Type: text/html;charset=UTF-8\r\n",
      " \n",
      "\n",
      "base url: http://www.dmoz.org/Arts/Movies/\n"
     ]
    }
   ],
   "source": [
    "## Given a url, try to retrieve it. If it's text/html,\n",
    "## print its base url and its text.\n",
    "import urllib, urlparse\n",
    "\n",
    "url = 'http://www.dmoz.org/Arts/Movies/'\n",
    "\n",
    "ufile = urllib.urlopen(url)  ## get file-like object for url\n",
    "print 'urlfile: ', ufile, '\\n'\n",
    "\n",
    "info = ufile.info()          ## meta-info about the url content\n",
    "print info, '\\n'\n",
    "\n",
    "if info.gettype() == 'text/html':\n",
    "    print 'base url: ' + ufile.geturl()\n",
    "    \n",
    "if info.gettype() == 'text/html':\n",
    "    text = ufile.read()  ## read all its text\n",
    "    #print text\n",
    "\n",
    "\n"
   ]
  },
  {
   "cell_type": "code",
   "execution_count": 4,
   "metadata": {
    "collapsed": false
   },
   "outputs": [
    {
     "name": "stdout",
     "output_type": "stream",
     "text": [
      "Date: Sun, 03 May 2015 04:38:17 GMT\r\n",
      "Server: Apache\r\n",
      "Set-Cookie: JSESSIONID=5577AD6FDADF91D06418790A23263145; Path=/\r\n",
      "Content-Length: 17601\r\n",
      "Connection: close\r\n",
      "Content-Type: text/html;charset=UTF-8\r\n",
      "\n",
      "base url:http://www.dmoz.org\n"
     ]
    }
   ],
   "source": [
    "## Given a url, try to retrieve it. If it's text/html,\n",
    "## print its base url and its text.\n",
    "import urllib, urlparse\n",
    "\n",
    "def wget(url):\n",
    "  ufile = urllib.urlopen(url)  ## get file-like object for url\n",
    "  info = ufile.info()   ## meta-info about the url content\n",
    "  print info\n",
    "  if info.gettype() == 'text/html':\n",
    "    print 'base url:' + ufile.geturl()\n",
    "    text = ufile.read()  ## read all its text\n",
    "    #print text\n",
    "\n",
    "url = 'http://www.dmoz.org'\n",
    "wget(url)"
   ]
  },
  {
   "cell_type": "code",
   "execution_count": 6,
   "metadata": {
    "collapsed": false
   },
   "outputs": [],
   "source": [
    "## Version that uses try/except to print an error message if the\n",
    "## urlopen() fails.\n",
    "import urllib, urlparse\n",
    "\n",
    "\n",
    "def wget2(url):\n",
    "  try:\n",
    "    ufile = urllib.urlopen(url)\n",
    "    if ufile.info().gettype() == 'text/html':\n",
    "      print ufile.read()\n",
    "  except IOError:\n",
    "    print 'problem reading url:', url\n",
    "\n",
    "url = 'http://www.dmoz.org'\n",
    "#wget2(url)\n",
    "    "
   ]
  },
  {
   "cell_type": "markdown",
   "metadata": {},
   "source": [
    "---"
   ]
  },
  {
   "cell_type": "markdown",
   "metadata": {},
   "source": [
    "# 3 -  Datetime Module\n"
   ]
  },
  {
   "cell_type": "code",
   "execution_count": 3,
   "metadata": {
    "collapsed": false
   },
   "outputs": [
    {
     "name": "stdout",
     "output_type": "stream",
     "text": [
      "Current date & time = 2015-04-23 14:29:12.668797\n",
      "Date and time in ISO format = 2015-04-23T14:29:12.668797\n",
      "Current year = 2015\n",
      "Current month = 4\n",
      "Current date (day) =  23\n",
      "dd/mm/yyyy format =  23/4/2015\n",
      "Current hour = 14\n",
      "Current minute = 29\n",
      "Current second =  12\n",
      "hh:mm:ss format = 14:4:12\n"
     ]
    }
   ],
   "source": [
    "import datetime\n",
    "i = datetime.datetime.now()\n",
    " \n",
    "print (\"Current date & time = %s\" % i)\n",
    "print (\"Date and time in ISO format = %s\" % i.isoformat() )\n",
    "print (\"Current year = %s\" % i.year)\n",
    "print (\"Current month = %s\" % i.month)\n",
    "print (\"Current date (day) =  %s\" % i.day)\n",
    "print (\"dd/mm/yyyy format =  %s/%s/%s\" % (i.day, i.month, i.year) )\n",
    "print (\"Current hour = %s\" %i.hour)\n",
    "print (\"Current minute = %s\" %i.minute)\n",
    "print (\"Current second =  %s\" %i.second)\n",
    "print (\"hh:mm:ss format = %s:%s:%s\" % (i.hour, i.month, i.second) )"
   ]
  },
  {
   "cell_type": "markdown",
   "metadata": {
    "collapsed": false
   },
   "source": [
    "------"
   ]
  },
  {
   "cell_type": "markdown",
   "metadata": {},
   "source": [
    "# 4 - ArgParse "
   ]
  },
  {
   "cell_type": "code",
   "execution_count": null,
   "metadata": {
    "collapsed": true
   },
   "outputs": [],
   "source": []
  }
 ],
 "metadata": {
  "kernelspec": {
   "display_name": "Python 2",
   "language": "python",
   "name": "python2"
  },
  "language_info": {
   "codemirror_mode": {
    "name": "ipython",
    "version": 2
   },
   "file_extension": ".py",
   "mimetype": "text/x-python",
   "name": "python",
   "nbconvert_exporter": "python",
   "pygments_lexer": "ipython2",
   "version": "2.7.9"
  }
 },
 "nbformat": 4,
 "nbformat_minor": 0
}
