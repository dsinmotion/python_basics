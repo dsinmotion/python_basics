{
 "metadata": {
  "name": "",
  "signature": "sha256:791887b609363fe5bec2f78ff14733f84841e509297afaade84a4b51b1b56b4f"
 },
 "nbformat": 3,
 "nbformat_minor": 0,
 "worksheets": [
  {
   "cells": [
    {
     "cell_type": "heading",
     "level": 1,
     "metadata": {},
     "source": [
      "+++ Python Functions and Modules +++"
     ]
    },
    {
     "cell_type": "markdown",
     "metadata": {},
     "source": [
      "* Python can be both `procedural` (using functions) and `object oriented` (using classes)"
     ]
    },
    {
     "cell_type": "markdown",
     "metadata": {},
     "source": [
      "***"
     ]
    },
    {
     "cell_type": "heading",
     "level": 1,
     "metadata": {},
     "source": [
      "1. Python Functions"
     ]
    },
    {
     "cell_type": "markdown",
     "metadata": {},
     "source": [
      "- you can name a function anything you want as long as it:\n",
      "  * contains only numbers, letters, underscore\n",
      "  * does not start with a number\n",
      "  * is not the same name as a `buit-in` function (like print)\n",
      " \n",
      "- Function looks like\n",
      "> `def function_name(arg1,arg2,...,kw1=v1,kw2=v2,kw3=v3...)`\n",
      "  * argx is required\n",
      "  * kwx is optional"
     ]
    },
    {
     "cell_type": "heading",
     "level": 2,
     "metadata": {},
     "source": [
      "# 1.1 Function example"
     ]
    },
    {
     "cell_type": "code",
     "collapsed": false,
     "input": [
      "# simple function example\n",
      "def addnums(x,y):\n",
      "    return x + y\n",
      "\n",
      "print addnums(2,3)\n",
      "print addnums(0x1f, 3.3)\n",
      "print addnums('aaa','bbb')\n",
      "print addnums('aaa',str(222333))\n",
      "\n",
      "addnums   # returns memory address of the function\n",
      "\n",
      "print type(addnums)"
     ],
     "language": "python",
     "metadata": {},
     "outputs": [
      {
       "output_type": "stream",
       "stream": "stdout",
       "text": [
        "5\n",
        "34.3\n",
        "aaabbb\n",
        "aaa222333\n",
        "<type 'function'>\n"
       ]
      }
     ],
     "prompt_number": 10
    },
    {
     "cell_type": "heading",
     "level": 2,
     "metadata": {},
     "source": [
      "# 1.2 Python function doesn't allow declaration of variable types"
     ]
    },
    {
     "cell_type": "code",
     "collapsed": false,
     "input": [
      "# Unlike in C, we cannot declare what type of variables are required by the function. \n",
      "# If you really want to just add numbers, no strings...\n",
      "\n",
      "def addnums(x,y):\n",
      "    if (not (isinstance(x,float) or isinstance(x,int) or isinstance(x,long))) or \\\n",
      "        (not (isinstance(y,float) or isinstance(y,int) or isinstance(y,long))):\n",
      "        print \"I cannot add these types (\" + str(type(x)) + \",\" + str(type(y)) + \")\"\n",
      "        return\n",
      "    return x + y\n",
      "\n",
      "print addnums(2,3.0)\n",
      "print addnums(1,\"a\")"
     ],
     "language": "python",
     "metadata": {},
     "outputs": [
      {
       "output_type": "stream",
       "stream": "stdout",
       "text": [
        "5.0\n",
        "I cannot add these types (<type 'int'>,<type 'str'>)\n",
        "None\n"
       ]
      }
     ],
     "prompt_number": 8
    },
    {
     "cell_type": "markdown",
     "metadata": {},
     "source": [
      "## # 1.3 Scope \n",
      "### Global vs Local Variables"
     ]
    },
    {
     "cell_type": "markdown",
     "metadata": {},
     "source": [
      "Python has it's own local variables list. x is not modified globally"
     ]
    },
    {
     "cell_type": "code",
     "collapsed": false,
     "input": [
      "def numop(x,y):\n",
      "    x *= 3.14\n",
      "    return x + y   # local x  \n",
      "x = 1              # global x\n",
      "print numop(x,3)   # local\n",
      "print x            # global"
     ],
     "language": "python",
     "metadata": {},
     "outputs": [
      {
       "output_type": "stream",
       "stream": "stdout",
       "text": [
        "6.14\n",
        "1\n"
       ]
      }
     ],
     "prompt_number": 11
    },
    {
     "cell_type": "code",
     "collapsed": false,
     "input": [
      "# specify global variable in function\n",
      "def numop(x,y):\n",
      "    x *= 3.14\n",
      "    global a\n",
      "    a += 1\n",
      "    return x + y, a\n",
      "a = 1\n",
      "print numop(1,1)\n",
      "print numop(1,1)"
     ],
     "language": "python",
     "metadata": {},
     "outputs": [
      {
       "output_type": "stream",
       "stream": "stdout",
       "text": [
        "(4.140000000000001, 2)\n",
        "(4.140000000000001, 3)\n"
       ]
      }
     ],
     "prompt_number": 12
    },
    {
     "cell_type": "markdown",
     "metadata": {},
     "source": [
      "## # 1.4 Keyword Arguments"
     ]
    },
    {
     "cell_type": "markdown",
     "metadata": {},
     "source": [
      "> keywords are a natural way to grow new functionality without \"breaking\" old code"
     ]
    },
    {
     "cell_type": "code",
     "collapsed": false,
     "input": [
      "def numop1(x,y,multiplier=1.0,greetings=\"Thank you for your inquiry.\"):\n",
      "    if greetings is not None:\n",
      "        print greetings\n",
      "    return (x+y)*multiplier\n",
      "\n",
      "print numop1(1,1)\n",
      "print numop1(1,1, multiplier=-0.5, greetings=None)\n",
      "\n"
     ],
     "language": "python",
     "metadata": {},
     "outputs": [
      {
       "output_type": "stream",
       "stream": "stdout",
       "text": [
        "Thank you for your inquiry.\n",
        "2.0\n",
        "-1.0\n"
       ]
      }
     ],
     "prompt_number": 14
    },
    {
     "cell_type": "markdown",
     "metadata": {},
     "source": [
      "### 1.4.1 Using an mutable type in a keyword argument (and modifying it inside the function body)"
     ]
    },
    {
     "cell_type": "code",
     "collapsed": false,
     "input": [
      "def add_to_dict(args={'a': 1, 'b': 2}):\n",
      "    for i in args.keys():\n",
      "        args[i] += 1\n",
      "    print args"
     ],
     "language": "python",
     "metadata": {},
     "outputs": [],
     "prompt_number": 1
    },
    {
     "cell_type": "code",
     "collapsed": false,
     "input": [
      "add_to_dict"
     ],
     "language": "python",
     "metadata": {},
     "outputs": [
      {
       "metadata": {},
       "output_type": "pyout",
       "prompt_number": 2,
       "text": [
        "<function __main__.add_to_dict>"
       ]
      }
     ],
     "prompt_number": 2
    },
    {
     "cell_type": "code",
     "collapsed": false,
     "input": [
      "print add_to_dict()\n",
      "print add_to_dict()\n",
      "print add_to_dict()\n",
      "print add_to_dict()"
     ],
     "language": "python",
     "metadata": {},
     "outputs": [
      {
       "output_type": "stream",
       "stream": "stdout",
       "text": [
        "{'a': 3, 'b': 4}\n",
        "None\n",
        "{'a': 4, 'b': 5}\n",
        "None\n",
        "{'a': 5, 'b': 6}\n",
        "None\n",
        "{'a': 6, 'b': 7}\n",
        "None\n"
       ]
      }
     ],
     "prompt_number": 4
    },
    {
     "cell_type": "markdown",
     "metadata": {},
     "source": [
      "## # 1.5 Unspecified args and keywords\n",
      "http://docs.python.org/tutorial/controlflow.html#keyword-arguments\n",
      "> The ***args** and ****kwargs** is a common idiom to allow arbitrary number of arguments to functions as described in the section more on defining functions in the Python documentation.\n",
      "\n",
      "> - The **args* will give you all function parameters as a tuple:\n",
      "> - The ***kwargs* will give you all keyword arguments as a dictionary."
     ]
    },
    {
     "cell_type": "code",
     "collapsed": false,
     "input": [
      "def cheeseshop(kind, *arguments, **keywords): \n",
      "    print \"-- Do you have any\", kind, \"?\"\n",
      "    print \"-- I'm sorry, we're all out of\", kind \n",
      "    for arg in arguments: \n",
      "        print arg\n",
      "    print \"-\" * 40\n",
      "    keys = keywords.keys()\n",
      "    keys.sort()\n",
      "    for kw in keys: \n",
      "        print kw, \":\", keywords[kw]"
     ],
     "language": "python",
     "metadata": {},
     "outputs": [],
     "prompt_number": 3
    },
    {
     "cell_type": "code",
     "collapsed": false,
     "input": [
      "cheeseshop(\"Limburger\", \"It's very runny, sir.\", \"It's really very, VERY runny, sir.\",\n",
      "           shopkeeper='Michael Palin',\n",
      "           client=\"John Cleese\",\n",
      "           sketch=\"Cheese Shop Sketch\")"
     ],
     "language": "python",
     "metadata": {},
     "outputs": [
      {
       "output_type": "stream",
       "stream": "stdout",
       "text": [
        "-- Do you have any Limburger ?\n",
        "-- I'm sorry, we're all out of Limburger\n",
        "It's very runny, sir.\n",
        "----------------------------------------\n",
        "client : John Cleese\n",
        "hello : It's really very, VERY runny, sir.\n",
        "shopkeeper : Michael Palin\n",
        "sketch : Cheese Shop Sketch\n"
       ]
      }
     ],
     "prompt_number": 4
    },
    {
     "cell_type": "markdown",
     "metadata": {},
     "source": [
      "## # 1.6 Dicstrings - Function Documentation\n",
      "> Just the right thing to do!"
     ]
    },
    {
     "cell_type": "code",
     "collapsed": false,
     "input": [
      "def numop1(x,y,multiplier=1.0,greetings=\"Thank you for your inquiry.\"): \n",
      "    \"\"\" numop1 -- this does a simple operation on two numbers.\n",
      "     We expect x,y are numbers and return x + y times the multiplier\n",
      "     multiplier is also a number (a float is preferred) and is optional.\n",
      "    It defaults to 1.0.\n",
      "     You can also specify a small greeting as a string. \n",
      "     \"\"\"\n",
      "\n",
      "    if greetings is not None: \n",
      "        print greetings \n",
      "    return (x + y)*multiplier\n",
      "\n"
     ],
     "language": "python",
     "metadata": {},
     "outputs": [],
     "prompt_number": 20
    },
    {
     "cell_type": "code",
     "collapsed": false,
     "input": [
      "help(numop1)"
     ],
     "language": "python",
     "metadata": {},
     "outputs": [
      {
       "output_type": "stream",
       "stream": "stdout",
       "text": [
        "Help on function numop1 in module __main__:\n",
        "\n",
        "numop1(x, y, multiplier=1.0, greetings='Thank you for your inquiry.')\n",
        "    numop1 -- this does a simple operation on two numbers.\n",
        "     We expect x,y are numbers and return x + y times the multiplier\n",
        "     multiplier is also a number (a float is preferred) and is optional.\n",
        "    It defaults to 1.0.\n",
        "     You can also specify a small greeting as a string.\n",
        "\n"
       ]
      }
     ],
     "prompt_number": 21
    },
    {
     "cell_type": "code",
     "collapsed": false,
     "input": [
      "numop1?"
     ],
     "language": "python",
     "metadata": {},
     "outputs": [],
     "prompt_number": 25
    },
    {
     "cell_type": "heading",
     "level": 3,
     "metadata": {},
     "source": [
      "# 1.6.1 - Create HTML version of documentation"
     ]
    },
    {
     "cell_type": "code",
     "collapsed": false,
     "input": [
      "%%file numop1.py\n",
      "def numop1(x,y,multiplier=1.0,greetings=\"Thank you for your inquiry.\"): \n",
      "    \"\"\" numop1 -- this does a simple operation on two numbers.\n",
      "     We expect x,y are numbers and return x + y times the multiplier\n",
      "     multiplier is also a number (a float is preferred) and is optional.\n",
      "    It defaults to 1.0.\n",
      "     You can also specify a small greeting as a string. \n",
      "     \"\"\"\n",
      "\n",
      "    if greetings is not None: \n",
      "        print greetings \n",
      "    return (x + y)*multiplier"
     ],
     "language": "python",
     "metadata": {},
     "outputs": [
      {
       "output_type": "stream",
       "stream": "stdout",
       "text": [
        "Writing numop1.py\n"
       ]
      }
     ],
     "prompt_number": 27
    },
    {
     "cell_type": "code",
     "collapsed": false,
     "input": [
      "%%bash\n",
      "pydoc -w numop1"
     ],
     "language": "python",
     "metadata": {},
     "outputs": [
      {
       "output_type": "stream",
       "stream": "stdout",
       "text": [
        "wrote numop1.html\n"
       ]
      }
     ],
     "prompt_number": 29
    },
    {
     "cell_type": "code",
     "collapsed": false,
     "input": [
      "from IPython.core.display import HTML\n",
      "\n",
      "HTML('<iframe src=./numop1.html width=700 height=350>')"
     ],
     "language": "python",
     "metadata": {},
     "outputs": [
      {
       "html": [
        "<iframe src=./numop1.html width=700 height=350>"
       ],
       "metadata": {},
       "output_type": "pyout",
       "prompt_number": 1,
       "text": [
        "<IPython.core.display.HTML at 0x1081a6650>"
       ]
      }
     ],
     "prompt_number": 1
    },
    {
     "cell_type": "code",
     "collapsed": false,
     "input": [
      "%rm numop1.*"
     ],
     "language": "python",
     "metadata": {},
     "outputs": [],
     "prompt_number": 33
    },
    {
     "cell_type": "markdown",
     "metadata": {},
     "source": [
      "***\n",
      "***"
     ]
    },
    {
     "cell_type": "heading",
     "level": 1,
     "metadata": {},
     "source": [
      "2. Python Modules"
     ]
    },
    {
     "cell_type": "markdown",
     "metadata": {},
     "source": [
      "> **`Modules`** are organized unites (written as files) which contain functions, statements and other definitions\n",
      "- Any file ending in .py is treated as a module\n",
      "\n",
      "> If we want to write larger and better organized programs (compared to simple scripts), where some objects are defined, (variables, functions, classes) and that we want to reuse several times, we have to create our own modules.\n",
      "\n",
      "\n",
      "### Scripts or Modules? \n",
      "> Sets of instructions that are called several times should be written inside functions for better code reusability.\n",
      "\n",
      "> Functions (or other bits of code) that are called from several scripts should be written inside a module, so that only the module is imported in the different scripts (do not copy-and-paste your functions in the different scripts!).\n",
      "\n"
     ]
    },
    {
     "cell_type": "heading",
     "level": 2,
     "metadata": {},
     "source": [
      "# 2.1 Module Demo"
     ]
    },
    {
     "cell_type": "code",
     "collapsed": false,
     "input": [
      "%%file moduledemo.py\n",
      "\n",
      "\"\"\"\n",
      "small demo of modules\n",
      "\"\"\"\n",
      "\n",
      "print \"numfun2 in the house\" \n",
      "x=2\n",
      "s = \"spamm\"\n",
      "\n",
      "def numop1(x,y,multiplier=1.0,greetings=\"Thank you for your inquiry.\"): \n",
      "    \"\"\"\n",
      "Purpose: does a simple operation on two numbers.\n",
      "Input: We expect x,y are numbers\n",
      "       multiplier is also a number (a float is preferred) and is optional.\n",
      "       It defaults to 1.0. You can also specify a small greeting as a string.\n",
      "Output: return x + y times the multiplier\n",
      "    \"\"\"\n",
      "    if greetings is not None:\n",
      "        print greetings\n",
      "    return (x + y)*multiplier"
     ],
     "language": "python",
     "metadata": {},
     "outputs": [
      {
       "output_type": "stream",
       "stream": "stdout",
       "text": [
        "Writing moduledemo.py\n"
       ]
      }
     ],
     "prompt_number": 6
    },
    {
     "cell_type": "code",
     "collapsed": false,
     "input": [
      "import moduledemo\n",
      "\n",
      "numop1(1,1)\n",
      "\n",
      "print moduledemo.x, moduledemo.s\n",
      "s = \"eggs\";\n",
      "print s, moduledemo.s\n",
      "\n",
      "moduledemo.s = s\n",
      "print s, moduledemo.s\n",
      "\n",
      "#exit()  \n",
      "#%rm moduledemo*\n",
      "#%rm numop*"
     ],
     "language": "python",
     "metadata": {},
     "outputs": [
      {
       "output_type": "stream",
       "stream": "stdout",
       "text": [
        "Thank you for your inquiry.\n",
        "2 spamm\n",
        "eggs spamm\n",
        "eggs eggs\n"
       ]
      }
     ],
     "prompt_number": 7
    },
    {
     "cell_type": "code",
     "collapsed": false,
     "input": [
      "reload(moduledemo)"
     ],
     "language": "python",
     "metadata": {},
     "outputs": [
      {
       "output_type": "stream",
       "stream": "stdout",
       "text": [
        "numfun2 in the house\n"
       ]
      },
      {
       "metadata": {},
       "output_type": "pyout",
       "prompt_number": 8,
       "text": [
        "<module 'moduledemo' from 'moduledemo.py'>"
       ]
      }
     ],
     "prompt_number": 8
    },
    {
     "cell_type": "markdown",
     "metadata": {},
     "source": [
      "## # 2.2 Import a module's functions"
     ]
    },
    {
     "cell_type": "markdown",
     "metadata": {},
     "source": [
      "> from module_name import `function_name`\n",
      "\n",
      "> from module_name import `variable`"
     ]
    },
    {
     "cell_type": "code",
     "collapsed": false,
     "input": [
      "from moduledemo import x, numop1\n",
      "\n",
      "print x\n",
      "numop1(2,3,2,greetings=None)\n",
      "\n"
     ],
     "language": "python",
     "metadata": {},
     "outputs": [
      {
       "output_type": "stream",
       "stream": "stdout",
       "text": [
        "2\n"
       ]
      },
      {
       "metadata": {},
       "output_type": "pyout",
       "prompt_number": 9,
       "text": [
        "10"
       ]
      }
     ],
     "prompt_number": 9
    },
    {
     "cell_type": "code",
     "collapsed": false,
     "input": [
      "reload(moduledemo)"
     ],
     "language": "python",
     "metadata": {},
     "outputs": [
      {
       "output_type": "stream",
       "stream": "stdout",
       "text": [
        "numfun2 in the house\n"
       ]
      },
      {
       "metadata": {},
       "output_type": "pyout",
       "prompt_number": 10,
       "text": [
        "<module 'moduledemo' from 'moduledemo.pyc'>"
       ]
      }
     ],
     "prompt_number": 10
    },
    {
     "cell_type": "code",
     "collapsed": false,
     "input": [
      "from moduledemo import x as y, numop1 as myfunction\n",
      "\n",
      "print y\n",
      "myfunction(2,3,2,greetings=None)"
     ],
     "language": "python",
     "metadata": {},
     "outputs": [
      {
       "output_type": "stream",
       "stream": "stdout",
       "text": [
        "2\n"
       ]
      },
      {
       "metadata": {},
       "output_type": "pyout",
       "prompt_number": 11,
       "text": [
        "10"
       ]
      }
     ],
     "prompt_number": 11
    },
    {
     "cell_type": "markdown",
     "metadata": {},
     "source": [
      "## # 2.3 Built-in Functions\n",
      "\n",
      "http://www.python.org/doc/2.7.3/lib/module-sys.html"
     ]
    },
    {
     "cell_type": "markdown",
     "metadata": {},
     "source": [
      "***\n",
      "***"
     ]
    },
    {
     "cell_type": "markdown",
     "metadata": {},
     "source": [
      "\n",
      "## # 3.3 Making Script/Module Executable\n",
      "> When a script/module is run from the command line, a special variable called `__name__` is set to `\"__main__\"`\n",
      "\n",
      "> On the first line of a script, say what to run the script with (as with Perl):"
     ]
    },
    {
     "cell_type": "code",
     "collapsed": false,
     "input": [
      "%%file moduledemo.py\n",
      "\n",
      "#!/usr/bin/env python\n",
      "\n",
      "\"\"\"\n",
      "small demo of modules\n",
      "\"\"\"\n",
      "\n",
      "print \"numfun2 in the house\" \n",
      "\n",
      "def numop1(x,y,multiplier=1.0,greetings=\"Thank you for your inquiry.\"): \n",
      "    \"\"\"\n",
      "Purpose: does a simple operation on two numbers.\n",
      "Input: We expect x,y are numbers\n",
      "       multiplier is also a number (a float is preferred) and is optional.\n",
      "       It defaults to 1.0. You can also specify a small greeting as a string.\n",
      "Output: return x + y times the multiplier\n",
      "    \"\"\"\n",
      "    if greetings is not None:\n",
      "        print greetings\n",
      "    return (x + y)*multiplier\n",
      "\n",
      "if __name__ == \"__main__\":\n",
      "    \"\"\"only executed if this module is called from the command line\"\"\"\n",
      "    print \"I was called from the command line!\"\n",
      "    print numop1(2,3)"
     ],
     "language": "python",
     "metadata": {},
     "outputs": [
      {
       "output_type": "stream",
       "stream": "stdout",
       "text": [
        "Writing moduledemo.py\n"
       ]
      }
     ],
     "prompt_number": 12
    },
    {
     "cell_type": "code",
     "collapsed": false,
     "input": [
      "%load moduledemo.py"
     ],
     "language": "python",
     "metadata": {},
     "outputs": [],
     "prompt_number": 13
    },
    {
     "cell_type": "code",
     "collapsed": false,
     "input": [
      "\n",
      "#!/usr/bin/env python\n",
      "\n",
      "\"\"\"\n",
      "small demo of modules\n",
      "\"\"\"\n",
      "\n",
      "print \"numfun2 in the house\" \n",
      "\n",
      "def numop1(x,y,multiplier=1.0,greetings=\"Thank you for your inquiry.\"): \n",
      "    \"\"\"\n",
      "Purpose: does a simple operation on two numbers.\n",
      "Input: We expect x,y are numbers\n",
      "       multiplier is also a number (a float is preferred) and is optional.\n",
      "       It defaults to 1.0. You can also specify a small greeting as a string.\n",
      "Output: return x + y times the multiplier\n",
      "    \"\"\"\n",
      "    if greetings is not None:\n",
      "        print greetings\n",
      "    return (x + y)*multiplier\n",
      "\n",
      "if __name__ == \"__main__\":\n",
      "    \"\"\"only executed if this module is called from the command line\"\"\"\n",
      "    print \"I was called from the command line!\"\n",
      "    print numop1(2,3)"
     ],
     "language": "python",
     "metadata": {},
     "outputs": []
    },
    {
     "cell_type": "code",
     "collapsed": false,
     "input": [
      "\n",
      "#!/usr/bin/env python\n",
      "\n",
      "\"\"\"\n",
      "small demo of modules\n",
      "\"\"\"\n",
      "\n",
      "print \"numfun2 in the house\" \n",
      "\n",
      "def numop1(x,y,multiplier=1.0,greetings=\"Thank you for your inquiry.\"): \n",
      "    \"\"\"\n",
      "Purpose: does a simple operation on two numbers.\n",
      "Input: We expect x,y are numbers\n",
      "       multiplier is also a number (a float is preferred) and is optional.\n",
      "       It defaults to 1.0. You can also specify a small greeting as a string.\n",
      "Output: return x + y times the multiplier\n",
      "    \"\"\"\n",
      "    if greetings is not None:\n",
      "        print greetings\n",
      "    return 'Your answer is: ' + str((x + y)*multiplier)\n",
      "\n",
      "if __name__ == \"__main__\":\n",
      "    \"\"\"only executed if this module is called from the command line\"\"\"\n",
      "    print \"I was called from the command line!\"\n",
      "    print numop1(2,3)"
     ],
     "language": "python",
     "metadata": {},
     "outputs": [
      {
       "output_type": "stream",
       "stream": "stdout",
       "text": [
        "numfun2 in the house\n",
        "I was called from the command line!\n",
        "Thank you for your inquiry.\n",
        "Your answer is: 5.0\n"
       ]
      }
     ],
     "prompt_number": 14
    },
    {
     "cell_type": "code",
     "collapsed": false,
     "input": [
      "run moduledemo.py"
     ],
     "language": "python",
     "metadata": {},
     "outputs": [
      {
       "output_type": "stream",
       "stream": "stdout",
       "text": [
        "numfun2 in the house\n",
        "I was called from the command line!\n",
        "Thank you for your inquiry.\n",
        "5.0\n"
       ]
      }
     ],
     "prompt_number": 15
    },
    {
     "cell_type": "code",
     "collapsed": false,
     "input": [
      "%rm moduledemo*"
     ],
     "language": "python",
     "metadata": {},
     "outputs": [],
     "prompt_number": 16
    },
    {
     "cell_type": "markdown",
     "metadata": {},
     "source": [
      "----"
     ]
    },
    {
     "cell_type": "heading",
     "level": 1,
     "metadata": {},
     "source": [
      "3. Python Packages"
     ]
    },
    {
     "cell_type": "markdown",
     "metadata": {},
     "source": [
      "> A directory that contains many modules is called a package. A package is a module with submodules (which can have submodules themselves, etc.). A special file called `__init__`.py (which may be empty) tells Python that the directory is a Python package, from which modules can be imported."
     ]
    },
    {
     "cell_type": "code",
     "collapsed": false,
     "input": [
      "import scipy"
     ],
     "language": "python",
     "metadata": {},
     "outputs": [],
     "prompt_number": 10
    },
    {
     "cell_type": "code",
     "collapsed": false,
     "input": [
      "scipy.__file__"
     ],
     "language": "python",
     "metadata": {},
     "outputs": [
      {
       "metadata": {},
       "output_type": "pyout",
       "prompt_number": 11,
       "text": [
        "'/Library/anaconda/lib/python2.7/site-packages/scipy/__init__.pyc'"
       ]
      }
     ],
     "prompt_number": 11
    },
    {
     "cell_type": "code",
     "collapsed": false,
     "input": [
      "import scipy.version"
     ],
     "language": "python",
     "metadata": {},
     "outputs": [],
     "prompt_number": 12
    },
    {
     "cell_type": "code",
     "collapsed": false,
     "input": [
      "scipy.version.version"
     ],
     "language": "python",
     "metadata": {},
     "outputs": [
      {
       "metadata": {},
       "output_type": "pyout",
       "prompt_number": 13,
       "text": [
        "'0.14.0'"
       ]
      }
     ],
     "prompt_number": 13
    },
    {
     "cell_type": "code",
     "collapsed": false,
     "input": [
      "import scipy.ndimage.morphology"
     ],
     "language": "python",
     "metadata": {},
     "outputs": [],
     "prompt_number": 14
    },
    {
     "cell_type": "code",
     "collapsed": false,
     "input": [
      "from scipy.ndimage import morphology\n"
     ],
     "language": "python",
     "metadata": {},
     "outputs": [],
     "prompt_number": 15
    },
    {
     "cell_type": "code",
     "collapsed": false,
     "input": [],
     "language": "python",
     "metadata": {},
     "outputs": []
    }
   ],
   "metadata": {}
  }
 ]
}